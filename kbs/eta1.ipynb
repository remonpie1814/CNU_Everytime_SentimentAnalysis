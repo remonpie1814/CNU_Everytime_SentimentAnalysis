{
 "cells": [
  {
   "cell_type": "code",
   "execution_count": 33,
   "id": "cb7c1574",
   "metadata": {},
   "outputs": [],
   "source": [
    "import time\n",
    "import konlpy\n",
    "import openpyxl\n",
    "from konlpy.tag import Kkma\n",
    "from selenium import webdriver\n",
    "from selenium.webdriver import ActionChains\n",
    "from webdriver_manager.chrome import ChromeDriverManager\n",
    "from selenium.webdriver.common.actions.action_builder import ActionBuilder\n",
    "from selenium.webdriver import Keys, ActionChains\n",
    "from selenium.webdriver.chrome.service import Service\n",
    "from selenium.webdriver.common.by import By\n",
    "from bs4 import BeautifulSoup"
   ]
  },
  {
   "cell_type": "code",
   "execution_count": 62,
   "id": "58ec0351",
   "metadata": {},
   "outputs": [],
   "source": [
    "kma = Kkma()"
   ]
  },
  {
   "cell_type": "code",
   "execution_count": 63,
   "id": "3068cdc4",
   "metadata": {},
   "outputs": [],
   "source": [
    "wb = openpyxl.Workbook()\n",
    "sheet = wb.active\n"
   ]
  },
  {
   "cell_type": "code",
   "execution_count": 89,
   "id": "5e796f35",
   "metadata": {},
   "outputs": [],
   "source": [
    "driver = webdriver.Chrome(service=Service(ChromeDriverManager().install()))\n",
    "driver.get('https://everytime.kr')\n",
    "#크롤링 할 홈페이지 가져오기\n",
    "\n",
    "button = (driver.find_element(By.XPATH,'/html/body/aside/div[1]/a[2]'))\n",
    "ActionChains(driver).click(button).perform()\n",
    "time.sleep(1)\n",
    "\n",
    "# id_input = (driver.find_element_by.XPATH(\"//*[@id=\"container\"]/form/p[1]/input\")  #기존 \n",
    "\n",
    "id_input = (driver.find_element(By.XPATH,'//*[@id=\"container\"]/form/p[1]/input')) #새롭게 입력한 안되는 코드 (둘다안됨)\n",
    "ActionChains(driver).send_keys_to_element(id_input, \"aaa4\").perform() \n",
    "time.sleep(1)\n",
    "\n",
    "pw_input = (driver.find_element(By.XPATH,'//*[@id=\"container\"]/form/p[2]/input')) #새롭게 입력한 안되는 코드 (둘다안됨)\n",
    "ActionChains(driver).send_keys_to_element(pw_input, \"1234\").perform()\n",
    "time.sleep(1)\n",
    "\n",
    "button = (driver.find_element(By.XPATH,'//*[@id=\"container\"]/form/p[3]/input'))\n",
    "ActionChains(driver).click(button).perform()\n",
    "\n"
   ]
  },
  {
   "cell_type": "code",
   "execution_count": null,
   "id": "d650bd18",
   "metadata": {},
   "outputs": [],
   "source": [
    "# def next_page():\n",
    "#     driver.find_element_by_css_selector('#container > div.wrap.articles > div.pagination > a.next').click()\n",
    "#     time.sleep(0.5)\n",
    "    \n",
    "#     res = driver.page_source\n",
    "#     soup = BeautifulSoup(res,\"html.parser\")\n",
    "#     data_name = soup.select('#container > div.wrap.articles > article > a > h2')\n",
    "#     data_num = soup.select('.vote')\n",
    "#     data_text = soup.select('#container > div.wrap.articles > article > a > p')\n",
    "#     data_url = soup.select('#container > div.wrap.articles > article > a')\n",
    "# #함수 next_page 생성, 핫 게시판에서 (공감수, 제목, 내용, url) 찾고 저장할 준비\n",
    "    \n",
    "#     for num,name,text,url in zip(data_num,data_name,data_text,data_url):\n",
    "#         excel_sheet.append([int(num.get_text()),name.get_text(),text.get_text(),'https://everytime.kr'+url.get('href')])       \n",
    "# #num,name,text,url 이라는 폴더에 (공감수, 제목, 내용, url) 각각 넣고 튜플로 저장\n",
    " \n",
    "      \n",
    "# driver.find_element_by_xpath('//*[@id=\"sheet\"]/ul/li[3]/a').click()\n",
    "# # 2페이지에 뜨는 광고창 1번 끄기\n",
    " \n",
    "# time.sleep(0.5)\n",
    "# for page_roof in range(30):\n",
    "#     next_page()\n",
    "# # next_page를 page_roof라는 폴더에 넣고 30번 반복\n",
    " \n",
    "# excel_file.save('everytime crawing.xlsx')\n",
    "# # everytime crawing 라는 엑셀 파일에 저장 \n",
    "# excel_file.close()\n",
    "    \n",
    "# driver.quit()"
   ]
  }
 ],
 "metadata": {
  "kernelspec": {
   "display_name": "ML",
   "language": "python",
   "name": "pytorch"
  },
  "language_info": {
   "codemirror_mode": {
    "name": "ipython",
    "version": 3
   },
   "file_extension": ".py",
   "mimetype": "text/x-python",
   "name": "python",
   "nbconvert_exporter": "python",
   "pygments_lexer": "ipython3",
   "version": "3.7.13"
  }
 },
 "nbformat": 4,
 "nbformat_minor": 5
}
