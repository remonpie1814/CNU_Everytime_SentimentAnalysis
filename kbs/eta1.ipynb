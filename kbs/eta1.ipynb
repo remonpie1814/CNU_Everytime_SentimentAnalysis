{
 "cells": [
  {
   "cell_type": "code",
   "execution_count": 33,
   "id": "ffbcae0c",
   "metadata": {},
   "outputs": [],
   "source": [
    "import time\n",
    "import konlpy\n",
    "import openpyxl\n",
    "from konlpy.tag import Kkma\n",
    "from selenium import webdriver\n",
    "from selenium.webdriver import ActionChains\n",
    "from webdriver_manager.chrome import ChromeDriverManager\n",
    "from selenium.webdriver.common.actions.action_builder import ActionBuilder\n",
    "from selenium.webdriver import Keys, ActionChains\n",
    "from selenium.webdriver.chrome.service import Service\n",
    "from selenium.webdriver.common.by import By\n",
    "from bs4 import BeautifulSoup"
   ]
  },
  {
   "cell_type": "code",
   "execution_count": 62,
   "id": "69271cc8",
   "metadata": {},
   "outputs": [],
   "source": [
    "kma = Kkma()"
   ]
  },
  {
   "cell_type": "code",
   "execution_count": 63,
   "id": "3068cdc4",
   "metadata": {},
   "outputs": [],
   "source": [
    "wb = openpyxl.Workbook()\n",
    "sheet = wb.active\n"
   ]
  },
  {
   "cell_type": "markdown",
   "id": "286e919a",
   "metadata": {},
   "source": [
    "# 자동화테스트소프트웨어제어 코드 제거"
   ]
  },
  {
   "cell_type": "code",
   "execution_count": 93,
   "id": "d566ffac",
   "metadata": {},
   "outputs": [
    {
     "name": "stderr",
     "output_type": "stream",
     "text": [
      "/Users/KBS/opt/anaconda3/envs/pytorch/lib/python3.7/site-packages/ipykernel_launcher.py:9: DeprecationWarning: executable_path has been deprecated, please pass in a Service object\n",
      "  if __name__ == \"__main__\":\n"
     ]
    },
    {
     "ename": "WebDriverException",
     "evalue": "Message: 'Google Chrome.app' executable may have wrong permissions. Please see https://chromedriver.chromium.org/home\n",
     "output_type": "error",
     "traceback": [
      "\u001b[0;31m---------------------------------------------------------------------------\u001b[0m",
      "\u001b[0;31mPermissionError\u001b[0m                           Traceback (most recent call last)",
      "\u001b[0;32m~/opt/anaconda3/envs/pytorch/lib/python3.7/site-packages/selenium/webdriver/common/service.py\u001b[0m in \u001b[0;36mstart\u001b[0;34m(self)\u001b[0m\n\u001b[1;32m     75\u001b[0m                                             \u001b[0mstdin\u001b[0m\u001b[0;34m=\u001b[0m\u001b[0mPIPE\u001b[0m\u001b[0;34m,\u001b[0m\u001b[0;34m\u001b[0m\u001b[0;34m\u001b[0m\u001b[0m\n\u001b[0;32m---> 76\u001b[0;31m                                             creationflags=self.creationflags)\n\u001b[0m\u001b[1;32m     77\u001b[0m         \u001b[0;32mexcept\u001b[0m \u001b[0mTypeError\u001b[0m\u001b[0;34m:\u001b[0m\u001b[0;34m\u001b[0m\u001b[0;34m\u001b[0m\u001b[0m\n",
      "\u001b[0;32m~/opt/anaconda3/envs/pytorch/lib/python3.7/subprocess.py\u001b[0m in \u001b[0;36m__init__\u001b[0;34m(self, args, bufsize, executable, stdin, stdout, stderr, preexec_fn, close_fds, shell, cwd, env, universal_newlines, startupinfo, creationflags, restore_signals, start_new_session, pass_fds, encoding, errors, text)\u001b[0m\n\u001b[1;32m    799\u001b[0m                                 \u001b[0merrread\u001b[0m\u001b[0;34m,\u001b[0m \u001b[0merrwrite\u001b[0m\u001b[0;34m,\u001b[0m\u001b[0;34m\u001b[0m\u001b[0;34m\u001b[0m\u001b[0m\n\u001b[0;32m--> 800\u001b[0;31m                                 restore_signals, start_new_session)\n\u001b[0m\u001b[1;32m    801\u001b[0m         \u001b[0;32mexcept\u001b[0m\u001b[0;34m:\u001b[0m\u001b[0;34m\u001b[0m\u001b[0;34m\u001b[0m\u001b[0m\n",
      "\u001b[0;32m~/opt/anaconda3/envs/pytorch/lib/python3.7/subprocess.py\u001b[0m in \u001b[0;36m_execute_child\u001b[0;34m(self, args, executable, preexec_fn, close_fds, pass_fds, cwd, env, startupinfo, creationflags, shell, p2cread, p2cwrite, c2pread, c2pwrite, errread, errwrite, restore_signals, start_new_session)\u001b[0m\n\u001b[1;32m   1550\u001b[0m                             \u001b[0merr_msg\u001b[0m \u001b[0;34m+=\u001b[0m \u001b[0;34m': '\u001b[0m \u001b[0;34m+\u001b[0m \u001b[0mrepr\u001b[0m\u001b[0;34m(\u001b[0m\u001b[0merr_filename\u001b[0m\u001b[0;34m)\u001b[0m\u001b[0;34m\u001b[0m\u001b[0;34m\u001b[0m\u001b[0m\n\u001b[0;32m-> 1551\u001b[0;31m                     \u001b[0;32mraise\u001b[0m \u001b[0mchild_exception_type\u001b[0m\u001b[0;34m(\u001b[0m\u001b[0merrno_num\u001b[0m\u001b[0;34m,\u001b[0m \u001b[0merr_msg\u001b[0m\u001b[0;34m,\u001b[0m \u001b[0merr_filename\u001b[0m\u001b[0;34m)\u001b[0m\u001b[0;34m\u001b[0m\u001b[0;34m\u001b[0m\u001b[0m\n\u001b[0m\u001b[1;32m   1552\u001b[0m                 \u001b[0;32mraise\u001b[0m \u001b[0mchild_exception_type\u001b[0m\u001b[0;34m(\u001b[0m\u001b[0merr_msg\u001b[0m\u001b[0;34m)\u001b[0m\u001b[0;34m\u001b[0m\u001b[0;34m\u001b[0m\u001b[0m\n",
      "\u001b[0;31mPermissionError\u001b[0m: [Errno 13] Permission denied: '/Applications/Google Chrome.app'",
      "\nDuring handling of the above exception, another exception occurred:\n",
      "\u001b[0;31mWebDriverException\u001b[0m                        Traceback (most recent call last)",
      "\u001b[0;32m/var/folders/r8/hnw1hjlx54z7_g14njp906m00000gp/T/ipykernel_3021/1242054555.py\u001b[0m in \u001b[0;36m<module>\u001b[0;34m\u001b[0m\n\u001b[1;32m      7\u001b[0m \u001b[0mchrome_options\u001b[0m\u001b[0;34m.\u001b[0m\u001b[0madd_experimental_option\u001b[0m\u001b[0;34m(\u001b[0m\u001b[0;34m\"debuggerAddress\"\u001b[0m\u001b[0;34m,\u001b[0m \u001b[0;34m\"0.0.0.0\"\u001b[0m\u001b[0;34m)\u001b[0m\u001b[0;34m\u001b[0m\u001b[0;34m\u001b[0m\u001b[0m\n\u001b[1;32m      8\u001b[0m \u001b[0mchrome_driver\u001b[0m \u001b[0;34m=\u001b[0m \u001b[0;34m\"/Applications/Google Chrome.app\"\u001b[0m \u001b[0;31m# Your Chrome Driver path\u001b[0m\u001b[0;34m\u001b[0m\u001b[0;34m\u001b[0m\u001b[0m\n\u001b[0;32m----> 9\u001b[0;31m \u001b[0mbrowser\u001b[0m \u001b[0;34m=\u001b[0m \u001b[0mwebdriver\u001b[0m\u001b[0;34m.\u001b[0m\u001b[0mChrome\u001b[0m\u001b[0;34m(\u001b[0m\u001b[0mchrome_driver\u001b[0m\u001b[0;34m,\u001b[0m \u001b[0moptions\u001b[0m\u001b[0;34m=\u001b[0m\u001b[0mchrome_options\u001b[0m\u001b[0;34m)\u001b[0m\u001b[0;34m\u001b[0m\u001b[0;34m\u001b[0m\u001b[0m\n\u001b[0m\u001b[1;32m     10\u001b[0m \u001b[0;34m\u001b[0m\u001b[0m\n\u001b[1;32m     11\u001b[0m \u001b[0mbrowser\u001b[0m\u001b[0;34m.\u001b[0m\u001b[0mget\u001b[0m\u001b[0;34m(\u001b[0m\u001b[0mevery_url\u001b[0m\u001b[0;34m)\u001b[0m\u001b[0;34m\u001b[0m\u001b[0;34m\u001b[0m\u001b[0m\n",
      "\u001b[0;32m~/opt/anaconda3/envs/pytorch/lib/python3.7/site-packages/selenium/webdriver/chrome/webdriver.py\u001b[0m in \u001b[0;36m__init__\u001b[0;34m(self, executable_path, port, options, service_args, desired_capabilities, service_log_path, chrome_options, service, keep_alive)\u001b[0m\n\u001b[1;32m     70\u001b[0m                          \u001b[0mport\u001b[0m\u001b[0;34m,\u001b[0m \u001b[0moptions\u001b[0m\u001b[0;34m,\u001b[0m\u001b[0;34m\u001b[0m\u001b[0;34m\u001b[0m\u001b[0m\n\u001b[1;32m     71\u001b[0m                          \u001b[0mservice_args\u001b[0m\u001b[0;34m,\u001b[0m \u001b[0mdesired_capabilities\u001b[0m\u001b[0;34m,\u001b[0m\u001b[0;34m\u001b[0m\u001b[0;34m\u001b[0m\u001b[0m\n\u001b[0;32m---> 72\u001b[0;31m                          service_log_path, service, keep_alive)\n\u001b[0m",
      "\u001b[0;32m~/opt/anaconda3/envs/pytorch/lib/python3.7/site-packages/selenium/webdriver/chromium/webdriver.py\u001b[0m in \u001b[0;36m__init__\u001b[0;34m(self, browser_name, vendor_prefix, port, options, service_args, desired_capabilities, service_log_path, service, keep_alive)\u001b[0m\n\u001b[1;32m     87\u001b[0m \u001b[0;34m\u001b[0m\u001b[0m\n\u001b[1;32m     88\u001b[0m         \u001b[0mself\u001b[0m\u001b[0;34m.\u001b[0m\u001b[0mservice\u001b[0m \u001b[0;34m=\u001b[0m \u001b[0mservice\u001b[0m\u001b[0;34m\u001b[0m\u001b[0;34m\u001b[0m\u001b[0m\n\u001b[0;32m---> 89\u001b[0;31m         \u001b[0mself\u001b[0m\u001b[0;34m.\u001b[0m\u001b[0mservice\u001b[0m\u001b[0;34m.\u001b[0m\u001b[0mstart\u001b[0m\u001b[0;34m(\u001b[0m\u001b[0;34m)\u001b[0m\u001b[0;34m\u001b[0m\u001b[0;34m\u001b[0m\u001b[0m\n\u001b[0m\u001b[1;32m     90\u001b[0m \u001b[0;34m\u001b[0m\u001b[0m\n\u001b[1;32m     91\u001b[0m         \u001b[0;32mtry\u001b[0m\u001b[0;34m:\u001b[0m\u001b[0;34m\u001b[0m\u001b[0;34m\u001b[0m\u001b[0m\n",
      "\u001b[0;32m~/opt/anaconda3/envs/pytorch/lib/python3.7/site-packages/selenium/webdriver/common/service.py\u001b[0m in \u001b[0;36mstart\u001b[0;34m(self)\u001b[0m\n\u001b[1;32m     86\u001b[0m                 raise WebDriverException(\n\u001b[1;32m     87\u001b[0m                     \"'{}' executable may have wrong permissions. {}\".format(\n\u001b[0;32m---> 88\u001b[0;31m                         os.path.basename(self.path), self.start_error_message)\n\u001b[0m\u001b[1;32m     89\u001b[0m                 )\n\u001b[1;32m     90\u001b[0m             \u001b[0;32melse\u001b[0m\u001b[0;34m:\u001b[0m\u001b[0;34m\u001b[0m\u001b[0;34m\u001b[0m\u001b[0m\n",
      "\u001b[0;31mWebDriverException\u001b[0m: Message: 'Google Chrome.app' executable may have wrong permissions. Please see https://chromedriver.chromium.org/home\n"
     ]
    }
   ],
   "source": [
    "from selenium.webdriver.chrome.options import Options\n",
    "import time\n",
    "\n",
    "every_url = 'https://everytime.kr'\n",
    "\n",
    "chrome_options = Options()\n",
    "chrome_options.add_experimental_option(\"debuggerAddress\", \"0.0.0.0\")\n",
    "chrome_driver = \"/Applications/Google Chrome.app\" # Your Chrome Driver path\n",
    "browser = webdriver.Chrome(chrome_driver, options=chrome_options)\n",
    "\n",
    "browser.get(every_url)"
   ]
  },
  {
   "cell_type": "code",
   "execution_count": null,
   "id": "c6e3f578",
   "metadata": {},
   "outputs": [],
   "source": []
  },
  {
   "cell_type": "code",
   "execution_count": 91,
   "id": "f3e4d6fa",
   "metadata": {},
   "outputs": [
    {
     "ename": "AttributeError",
     "evalue": "'WebDriver' object has no attribute 'find_element_by_class_name'",
     "output_type": "error",
     "traceback": [
      "\u001b[0;31m---------------------------------------------------------------------------\u001b[0m",
      "\u001b[0;31mAttributeError\u001b[0m                            Traceback (most recent call last)",
      "\u001b[0;32m/var/folders/r8/hnw1hjlx54z7_g14njp906m00000gp/T/ipykernel_3021/1620511327.py\u001b[0m in \u001b[0;36m<module>\u001b[0;34m\u001b[0m\n\u001b[1;32m     26\u001b[0m \u001b[0;34m\u001b[0m\u001b[0m\n\u001b[1;32m     27\u001b[0m \u001b[0;34m\u001b[0m\u001b[0m\n\u001b[0;32m---> 28\u001b[0;31m \u001b[0mbutton\u001b[0m \u001b[0;34m=\u001b[0m \u001b[0;34m(\u001b[0m\u001b[0mdriver\u001b[0m\u001b[0;34m.\u001b[0m\u001b[0mfind_element_by_class_name\u001b[0m\u001b[0;34m(\u001b[0m\u001b[0;34m\"next\"\u001b[0m\u001b[0;34m)\u001b[0m\u001b[0;34m)\u001b[0m\u001b[0;34m\u001b[0m\u001b[0;34m\u001b[0m\u001b[0m\n\u001b[0m\u001b[1;32m     29\u001b[0m \u001b[0mActionChains\u001b[0m\u001b[0;34m(\u001b[0m\u001b[0mdriver\u001b[0m\u001b[0;34m)\u001b[0m\u001b[0;34m.\u001b[0m\u001b[0mclick\u001b[0m\u001b[0;34m(\u001b[0m\u001b[0mbutton\u001b[0m\u001b[0;34m)\u001b[0m\u001b[0;34m.\u001b[0m\u001b[0mperform\u001b[0m\u001b[0;34m(\u001b[0m\u001b[0;34m)\u001b[0m\u001b[0;34m\u001b[0m\u001b[0;34m\u001b[0m\u001b[0m\n\u001b[1;32m     30\u001b[0m \u001b[0;34m\u001b[0m\u001b[0m\n",
      "\u001b[0;31mAttributeError\u001b[0m: 'WebDriver' object has no attribute 'find_element_by_class_name'"
     ]
    }
   ],
   "source": [
    "driver = webdriver.Chrome(service=Service(ChromeDriverManager().install()))\n",
    "driver.get('https://everytime.kr')\n",
    "#크롤링 할 홈페이지 가져오기\n",
    "\n",
    "button = (driver.find_element(By.XPATH,'/html/body/aside/div[1]/a[2]'))\n",
    "ActionChains(driver).click(button).perform()\n",
    "time.sleep(2)\n",
    "\n",
    "# id_input = (driver.find_element_by.XPATH(\"//*[@id=\"container\"]/form/p[1]/input\")  #기존 에러코드\n",
    "\n",
    "id_input = (driver.find_element(By.XPATH,'//*[@id=\"container\"]/form/p[1]/input')) #아이디\n",
    "ActionChains(driver).send_keys_to_element(id_input, \"aaa4\").perform() \n",
    "time.sleep(2)\n",
    "\n",
    "pw_input = (driver.find_element(By.XPATH,'//*[@id=\"container\"]/form/p[2]/input')) #비번\n",
    "ActionChains(driver).send_keys_to_element(pw_input, \"1234\").perform()\n",
    "time.sleep(2)\n",
    "\n",
    "button = (driver.find_element(By.XPATH,'//*[@id=\"container\"]/form/p[3]/input')) # 로그인버튼\n",
    "ActionChains(driver).click(button).perform()\n",
    "time.sleep(3)\n",
    "\n",
    "button = (driver.find_element(By.XPATH,'//*[@id=\"submenu\"]/div/div[2]/ul/li[1]/a')) # 자유게시판 이동\n",
    "ActionChains(driver).click(button).perform()\n",
    "time.sleep(3)\n",
    "\n",
    "\n",
    "button = (driver.find_element_by_class_name(\"next\"))\n",
    "ActionChains(driver).click(button).perform()\n",
    "\n",
    "\n",
    "\n",
    "\n"
   ]
  },
  {
   "cell_type": "code",
   "execution_count": null,
   "id": "71b8f705",
   "metadata": {},
   "outputs": [],
   "source": [
    "#원하는 태그 긁어오는 함수 선언\n",
    "\n",
    "def crawling(pg):\n",
    "\n",
    "    soup = BeautifulSoup(pg,\"html.parser\")\n",
    "\n",
    "    to_body = soup.find(class_=\"wrap articles\")\n",
    "\n",
    "    title = to_body.find_all(\"h2\")\n",
    "\n",
    "    content = to_body.find_all(\"p\")\n",
    "\n",
    "    vote = to_body.find_all(class_=\"vote\")\n",
    "\n",
    "    comment = to_body.find_all(class_=\"comment\")\n",
    "\n",
    "\n",
    "\n",
    "    for i in range(0,len(title)):\n",
    "\n",
    "        title_data.append(title[i].text)\n",
    "\n",
    "        content_data.append(content[i].text)\n",
    "\n",
    "        vote_data.append(vote[i].text)\n",
    "\n",
    "        comment_data.append(comment[i].text)\n",
    "\n",
    "\n",
    "\n",
    "    return title_data, content_data, vote_data, comment_data\n",
    "\n",
    "\n",
    "\n",
    "#자게로 이동 및 첫 페이지 크롤링\n",
    "\n",
    "driver.find_element_by_xpath('//*[@id=\"submenu\"]/div/div[2]/ul/li[1]/a').click()\n",
    "\n",
    "time.sleep(5)\n",
    "\n",
    "driver.find_element_by_xpath('//*[@id=\"sheet\"]/ul/li[3]/a').click()\n",
    "\n",
    "pg = driver.page_source\n",
    "\n",
    "title, content, vote, comment = crawling(pg)\n",
    "\n",
    "print(\"1번째 페이지~\")\n",
    "\n",
    "\n",
    "\n",
    "#두 번째 이후 페이지 크롤링\n",
    "\n",
    "i = 0                                                                        \n",
    "\n",
    "while True:\n",
    "\n",
    "    i += 1\n",
    "\n",
    "    try:   \n",
    "\n",
    "        driver.find_element_by_class_name(\"next\").click()\n",
    "\n",
    "        time.sleep(0.5)\n",
    "\n",
    "        pg = driver.page_source\n",
    "\n",
    "        title, content, vote, comment = crawling(pg)\n",
    "\n",
    "        print(\"%d번째 페이지~\"%(i))\n",
    "\n",
    "   except:\n",
    "\n",
    "        if driver.find_element_by_class_name(\"next\") != None:            \n",
    "\n",
    "            time.sleep(5)                           \n",
    "\n",
    "            pg = driver.page_source         \n",
    "\n",
    "            title, content, vote, comment = crawling(pg)\n",
    "\n",
    "            print(\"%d번째 페이지~(오류가 있었지만 해결!)\"%(i))\n",
    "\n",
    "        else:\n",
    "\n",
    "            print(\"%d번째 페이지는 없습니다~ 끝!\"%(i))\n",
    "\n",
    "            break\n",
    "\n",
    "\n",
    "\n",
    "#데이터 프레임 생성 및 확인하기\n",
    "\n",
    "my_dict = {\"title\": title, \"content\": content, \"vote\": vote, \"comment\": comment}\n",
    "\n",
    "df = pd.DataFrame(my_dict)\n",
    "\n",
    "display(df)\n",
    "\n",
    "\n",
    "\n",
    "#csv로 저장하기\n",
    "\n",
    "df.to_csv(r'C:\\Users\\iwin1\\Desktop\\cs_portfolio\\everytime_corpus\\SNU_everytime_data.csv', index=False, header = True)"
   ]
  },
  {
   "cell_type": "code",
   "execution_count": null,
   "id": "6734242a",
   "metadata": {},
   "outputs": [],
   "source": []
  }
 ],
 "metadata": {
  "kernelspec": {
   "display_name": "ML",
   "language": "python",
   "name": "pytorch"
  },
  "language_info": {
   "codemirror_mode": {
    "name": "ipython",
    "version": 3
   },
   "file_extension": ".py",
   "mimetype": "text/x-python",
   "name": "python",
   "nbconvert_exporter": "python",
   "pygments_lexer": "ipython3",
   "version": "3.7.13"
  }
 },
 "nbformat": 4,
 "nbformat_minor": 5
}
