{
 "cells": [
  {
   "cell_type": "code",
   "execution_count": 21,
   "id": "48fcb023",
   "metadata": {},
   "outputs": [],
   "source": [
    "import pandas as pd"
   ]
  },
  {
   "cell_type": "code",
   "execution_count": 31,
   "id": "df8c19ad",
   "metadata": {},
   "outputs": [],
   "source": [
    "c= pd.read_csv(\"/Users/KBS/Documents/CNU_Everytime_SentimentAnalysis/chosun/chosun_senti.csv\",sep=\"\\t\",encoding=\"utf-8\")\n",
    "d= pd.read_csv(\"/Users/KBS/Documents/CNU_Everytime_SentimentAnalysis/donga/donga_senti.csv\",sep=\"\\t\",encoding=\"utf-8\")\n",
    "j= pd.read_csv(\"/Users/KBS/Documents/CNU_Everytime_SentimentAnalysis/joogang/joongang_senti.csv\",sep=\"\\t\",encoding=\"utf-8\")"
   ]
  },
  {
   "cell_type": "code",
   "execution_count": 32,
   "id": "3186761c",
   "metadata": {
    "scrolled": false
   },
   "outputs": [
    {
     "data": {
      "text/html": [
       "<div>\n",
       "<style scoped>\n",
       "    .dataframe tbody tr th:only-of-type {\n",
       "        vertical-align: middle;\n",
       "    }\n",
       "\n",
       "    .dataframe tbody tr th {\n",
       "        vertical-align: top;\n",
       "    }\n",
       "\n",
       "    .dataframe thead th {\n",
       "        text-align: right;\n",
       "    }\n",
       "</style>\n",
       "<table border=\"1\" class=\"dataframe\">\n",
       "  <thead>\n",
       "    <tr style=\"text-align: right;\">\n",
       "      <th></th>\n",
       "      <th>title</th>\n",
       "      <th>content</th>\n",
       "      <th>date</th>\n",
       "      <th>section</th>\n",
       "      <th>url</th>\n",
       "      <th>title_senti</th>\n",
       "    </tr>\n",
       "  </thead>\n",
       "  <tbody>\n",
       "    <tr>\n",
       "      <th>0</th>\n",
       "      <td>신한금융, 3분기 순익 1.6조… 역대 최대 실적</td>\n",
       "      <td>조용병 신한금융지주 회장이 고객 중심 경영을 강조하고 있다.신한금융이 올해 3분기(...</td>\n",
       "      <td>2022.10.25 13:52</td>\n",
       "      <td>경제</td>\n",
       "      <td>https://www.chosun.com/economy/economy_general...</td>\n",
       "      <td>0.934428</td>\n",
       "    </tr>\n",
       "    <tr>\n",
       "      <th>1</th>\n",
       "      <td>자금시장 경색에… 한은 ‘베이비스텝’ 전망 나와</td>\n",
       "      <td>‘레고랜드 사태’가 뇌관이 된 자금 시장 경색이 쉽게 풀릴 기미를 보이지 않으면서 ...</td>\n",
       "      <td>2022.10.25 04:16</td>\n",
       "      <td>경제</td>\n",
       "      <td>https://www.chosun.com/economy/economy_general...</td>\n",
       "      <td>0.269128</td>\n",
       "    </tr>\n",
       "    <tr>\n",
       "      <th>2</th>\n",
       "      <td>일본은행 두번째 복면개입?  엔·달러 환율 149엔대에서 갑자기 4엔 하락</td>\n",
       "      <td>지난 20일 스즈키 슌이치 일본 재무상이 취재진과 만나는 모습. /로이터 연합뉴스달...</td>\n",
       "      <td>2022.10.25 03:00</td>\n",
       "      <td>경제</td>\n",
       "      <td>https://www.chosun.com/economy/economy_general...</td>\n",
       "      <td>0.004256</td>\n",
       "    </tr>\n",
       "    <tr>\n",
       "      <th>3</th>\n",
       "      <td>매달 10만원씩 6년 부었는데 이자 12만원? 낮아도 너무 낮은 금리에 ‘저축보험’...</td>\n",
       "      <td>은행 수신금리가 나날이 오르자 오래 전 저축보험을 가입했다가 중도해지에 나서는 사람...</td>\n",
       "      <td>2022.10.25 03:00</td>\n",
       "      <td>경제</td>\n",
       "      <td>https://www.chosun.com/economy/economy_general...</td>\n",
       "      <td>0.952862</td>\n",
       "    </tr>\n",
       "    <tr>\n",
       "      <th>4</th>\n",
       "      <td>작년 종부세 수정 요구 1481건, 1년새 80% 폭증… 절반이 받아들여졌다</td>\n",
       "      <td>지난해 납세자들이 종합부동산세(종부세)를 과도하게 냈다며 수정을 요구한 경정 청구가...</td>\n",
       "      <td>2022.10.25 03:00</td>\n",
       "      <td>경제</td>\n",
       "      <td>https://www.chosun.com/economy/economy_general...</td>\n",
       "      <td>0.012476</td>\n",
       "    </tr>\n",
       "  </tbody>\n",
       "</table>\n",
       "</div>"
      ],
      "text/plain": [
       "                                               title  \\\n",
       "0                        신한금융, 3분기 순익 1.6조… 역대 최대 실적   \n",
       "1                         자금시장 경색에… 한은 ‘베이비스텝’ 전망 나와   \n",
       "2          일본은행 두번째 복면개입?  엔·달러 환율 149엔대에서 갑자기 4엔 하락   \n",
       "3  매달 10만원씩 6년 부었는데 이자 12만원? 낮아도 너무 낮은 금리에 ‘저축보험’...   \n",
       "4         작년 종부세 수정 요구 1481건, 1년새 80% 폭증… 절반이 받아들여졌다   \n",
       "\n",
       "                                             content               date  \\\n",
       "0  조용병 신한금융지주 회장이 고객 중심 경영을 강조하고 있다.신한금융이 올해 3분기(...   2022.10.25 13:52   \n",
       "1  ‘레고랜드 사태’가 뇌관이 된 자금 시장 경색이 쉽게 풀릴 기미를 보이지 않으면서 ...   2022.10.25 04:16   \n",
       "2  지난 20일 스즈키 슌이치 일본 재무상이 취재진과 만나는 모습. /로이터 연합뉴스달...   2022.10.25 03:00   \n",
       "3  은행 수신금리가 나날이 오르자 오래 전 저축보험을 가입했다가 중도해지에 나서는 사람...   2022.10.25 03:00   \n",
       "4  지난해 납세자들이 종합부동산세(종부세)를 과도하게 냈다며 수정을 요구한 경정 청구가...   2022.10.25 03:00   \n",
       "\n",
       "  section                                                url  title_senti  \n",
       "0      경제  https://www.chosun.com/economy/economy_general...     0.934428  \n",
       "1      경제  https://www.chosun.com/economy/economy_general...     0.269128  \n",
       "2      경제  https://www.chosun.com/economy/economy_general...     0.004256  \n",
       "3      경제  https://www.chosun.com/economy/economy_general...     0.952862  \n",
       "4      경제  https://www.chosun.com/economy/economy_general...     0.012476  "
      ]
     },
     "execution_count": 32,
     "metadata": {},
     "output_type": "execute_result"
    }
   ],
   "source": [
    "c.head()"
   ]
  },
  {
   "cell_type": "code",
   "execution_count": 33,
   "id": "3dc9185d",
   "metadata": {},
   "outputs": [],
   "source": [
    "c = c.dropna(axis=0)"
   ]
  },
  {
   "cell_type": "code",
   "execution_count": 34,
   "id": "be45a62f",
   "metadata": {},
   "outputs": [
    {
     "name": "stdout",
     "output_type": "stream",
     "text": [
      "<class 'pandas.core.frame.DataFrame'>\n",
      "Int64Index: 24768 entries, 0 to 24829\n",
      "Data columns (total 6 columns):\n",
      " #   Column       Non-Null Count  Dtype  \n",
      "---  ------       --------------  -----  \n",
      " 0   title        24768 non-null  object \n",
      " 1   content      24768 non-null  object \n",
      " 2   date         24768 non-null  object \n",
      " 3   section      24768 non-null  object \n",
      " 4   url          24768 non-null  object \n",
      " 5   title_senti  24768 non-null  float64\n",
      "dtypes: float64(1), object(5)\n",
      "memory usage: 1.3+ MB\n"
     ]
    }
   ],
   "source": [
    "c.info()"
   ]
  },
  {
   "cell_type": "markdown",
   "id": "3773e9de",
   "metadata": {},
   "source": [
    "# 조선일보 주식, 주가 들어간 기사 감성분석 평균내기"
   ]
  },
  {
   "cell_type": "markdown",
   "id": "f568aa71",
   "metadata": {},
   "source": [
    "# 전체 평균 = 0.39"
   ]
  },
  {
   "cell_type": "code",
   "execution_count": 35,
   "id": "6675374c",
   "metadata": {},
   "outputs": [
    {
     "data": {
      "text/plain": [
       "0.39367139279157687"
      ]
     },
     "execution_count": 35,
     "metadata": {},
     "output_type": "execute_result"
    }
   ],
   "source": [
    "c['title_senti'].mean()"
   ]
  },
  {
   "cell_type": "code",
   "execution_count": 28,
   "id": "5cdb0b52",
   "metadata": {},
   "outputs": [],
   "source": [
    "c = c.query('title.str.contains(\"주가|주식\")', engine='python')\n"
   ]
  },
  {
   "cell_type": "code",
   "execution_count": 37,
   "id": "44b10870",
   "metadata": {},
   "outputs": [
    {
     "data": {
      "text/html": [
       "<div>\n",
       "<style scoped>\n",
       "    .dataframe tbody tr th:only-of-type {\n",
       "        vertical-align: middle;\n",
       "    }\n",
       "\n",
       "    .dataframe tbody tr th {\n",
       "        vertical-align: top;\n",
       "    }\n",
       "\n",
       "    .dataframe thead th {\n",
       "        text-align: right;\n",
       "    }\n",
       "</style>\n",
       "<table border=\"1\" class=\"dataframe\">\n",
       "  <thead>\n",
       "    <tr style=\"text-align: right;\">\n",
       "      <th></th>\n",
       "      <th>title</th>\n",
       "      <th>content</th>\n",
       "      <th>date</th>\n",
       "      <th>section</th>\n",
       "      <th>url</th>\n",
       "      <th>title_senti</th>\n",
       "    </tr>\n",
       "  </thead>\n",
       "  <tbody>\n",
       "  </tbody>\n",
       "</table>\n",
       "</div>"
      ],
      "text/plain": [
       "Empty DataFrame\n",
       "Columns: [title, content, date, section, url, title_senti]\n",
       "Index: []"
      ]
     },
     "execution_count": 37,
     "metadata": {},
     "output_type": "execute_result"
    }
   ],
   "source": [
    "words = ['호황', '최대','역대', '최고가','신고가', '상승', '실적', '순이익','순익','호조','수출','증가']\n",
    "c[c['title'].map(lambda x: all(word in x for word in words))]"
   ]
  },
  {
   "cell_type": "code",
   "execution_count": 38,
   "id": "6306497f",
   "metadata": {},
   "outputs": [
    {
     "data": {
      "text/html": [
       "<div>\n",
       "<style scoped>\n",
       "    .dataframe tbody tr th:only-of-type {\n",
       "        vertical-align: middle;\n",
       "    }\n",
       "\n",
       "    .dataframe tbody tr th {\n",
       "        vertical-align: top;\n",
       "    }\n",
       "\n",
       "    .dataframe thead th {\n",
       "        text-align: right;\n",
       "    }\n",
       "</style>\n",
       "<table border=\"1\" class=\"dataframe\">\n",
       "  <thead>\n",
       "    <tr style=\"text-align: right;\">\n",
       "      <th></th>\n",
       "      <th>title</th>\n",
       "      <th>content</th>\n",
       "      <th>date</th>\n",
       "      <th>section</th>\n",
       "      <th>url</th>\n",
       "      <th>title_senti</th>\n",
       "    </tr>\n",
       "  </thead>\n",
       "  <tbody>\n",
       "    <tr>\n",
       "      <th>0</th>\n",
       "      <td>신한금융, 3분기 순익 1.6조… 역대 최대 실적</td>\n",
       "      <td>조용병 신한금융지주 회장이 고객 중심 경영을 강조하고 있다.신한금융이 올해 3분기(...</td>\n",
       "      <td>2022.10.25 13:52</td>\n",
       "      <td>경제</td>\n",
       "      <td>https://www.chosun.com/economy/economy_general...</td>\n",
       "      <td>0.934428</td>\n",
       "    </tr>\n",
       "    <tr>\n",
       "      <th>1</th>\n",
       "      <td>자금시장 경색에… 한은 ‘베이비스텝’ 전망 나와</td>\n",
       "      <td>‘레고랜드 사태’가 뇌관이 된 자금 시장 경색이 쉽게 풀릴 기미를 보이지 않으면서 ...</td>\n",
       "      <td>2022.10.25 04:16</td>\n",
       "      <td>경제</td>\n",
       "      <td>https://www.chosun.com/economy/economy_general...</td>\n",
       "      <td>0.269128</td>\n",
       "    </tr>\n",
       "    <tr>\n",
       "      <th>2</th>\n",
       "      <td>일본은행 두번째 복면개입?  엔·달러 환율 149엔대에서 갑자기 4엔 하락</td>\n",
       "      <td>지난 20일 스즈키 슌이치 일본 재무상이 취재진과 만나는 모습. /로이터 연합뉴스달...</td>\n",
       "      <td>2022.10.25 03:00</td>\n",
       "      <td>경제</td>\n",
       "      <td>https://www.chosun.com/economy/economy_general...</td>\n",
       "      <td>0.004256</td>\n",
       "    </tr>\n",
       "    <tr>\n",
       "      <th>3</th>\n",
       "      <td>매달 10만원씩 6년 부었는데 이자 12만원? 낮아도 너무 낮은 금리에 ‘저축보험’...</td>\n",
       "      <td>은행 수신금리가 나날이 오르자 오래 전 저축보험을 가입했다가 중도해지에 나서는 사람...</td>\n",
       "      <td>2022.10.25 03:00</td>\n",
       "      <td>경제</td>\n",
       "      <td>https://www.chosun.com/economy/economy_general...</td>\n",
       "      <td>0.952862</td>\n",
       "    </tr>\n",
       "    <tr>\n",
       "      <th>4</th>\n",
       "      <td>작년 종부세 수정 요구 1481건, 1년새 80% 폭증… 절반이 받아들여졌다</td>\n",
       "      <td>지난해 납세자들이 종합부동산세(종부세)를 과도하게 냈다며 수정을 요구한 경정 청구가...</td>\n",
       "      <td>2022.10.25 03:00</td>\n",
       "      <td>경제</td>\n",
       "      <td>https://www.chosun.com/economy/economy_general...</td>\n",
       "      <td>0.012476</td>\n",
       "    </tr>\n",
       "    <tr>\n",
       "      <th>...</th>\n",
       "      <td>...</td>\n",
       "      <td>...</td>\n",
       "      <td>...</td>\n",
       "      <td>...</td>\n",
       "      <td>...</td>\n",
       "      <td>...</td>\n",
       "    </tr>\n",
       "    <tr>\n",
       "      <th>24825</th>\n",
       "      <td>‘교보 손글씨 2020 박도연’ 교보문고, 서체 무료 배포</td>\n",
       "      <td>/교보문고교보문고는 이달 홈페이지를 통해 ‘교보 손글씨 2020 박도연’ 서체를 무...</td>\n",
       "      <td>2021.04.05 03:00</td>\n",
       "      <td>문화</td>\n",
       "      <td>https://www.chosun.com/culture-life/culture_ge...</td>\n",
       "      <td>0.441391</td>\n",
       "    </tr>\n",
       "    <tr>\n",
       "      <th>24826</th>\n",
       "      <td>통영서도 “범 내려온다”</td>\n",
       "      <td>/통영국제음악재단“범 내려 온다/ 범이 내려 온다.”지난 2일 ‘통영국제음악제’가 ...</td>\n",
       "      <td>2021.04.05 03:00</td>\n",
       "      <td>culture-life</td>\n",
       "      <td>https://www.chosun.com/culture-life/2021/04/05...</td>\n",
       "      <td>0.315204</td>\n",
       "    </tr>\n",
       "    <tr>\n",
       "      <th>24827</th>\n",
       "      <td>뉴욕 한국계 모델 박진이씨 “증오범죄 침묵에 충격, 목소리냈다”</td>\n",
       "      <td>\\n\\n\\n\\n\\n\\n\\n\\n\\n\\n\\n\\n\\n\\n뉴욕에서 모델겸 사회운동가로 활동...</td>\n",
       "      <td>2021.04.04 07:37</td>\n",
       "      <td>문화</td>\n",
       "      <td>https://www.chosun.com/culture-life/culture_ge...</td>\n",
       "      <td>0.950366</td>\n",
       "    </tr>\n",
       "    <tr>\n",
       "      <th>24828</th>\n",
       "      <td>두 대의 피아노, 네 명의 피아니스트...통영 봄바다를 홀린 재즈</td>\n",
       "      <td>/통영국제음악재단두 대의 피아노, 네 명의 피아니스트.‘자라섬재즈페스티벌’의 인기 ...</td>\n",
       "      <td>2021.04.03 18:02</td>\n",
       "      <td>culture-life</td>\n",
       "      <td>https://www.chosun.com/culture-life/2021/04/03...</td>\n",
       "      <td>0.904738</td>\n",
       "    </tr>\n",
       "    <tr>\n",
       "      <th>24829</th>\n",
       "      <td>웨이브에서 ‘겨울왕국' ‘어벤져스' 못본다... 디즈니플러스 한국 진출 본격화</td>\n",
       "      <td>영화 '겨울왕국' 포스터4월 말부터 온라인 동영상 서비스(OTT) 웨이브에서 디즈니...</td>\n",
       "      <td>2021.04.03 17:44</td>\n",
       "      <td>문화</td>\n",
       "      <td>https://www.chosun.com/culture-life/culture_ge...</td>\n",
       "      <td>0.156261</td>\n",
       "    </tr>\n",
       "  </tbody>\n",
       "</table>\n",
       "<p>24768 rows × 6 columns</p>\n",
       "</div>"
      ],
      "text/plain": [
       "                                                   title  \\\n",
       "0                            신한금융, 3분기 순익 1.6조… 역대 최대 실적   \n",
       "1                             자금시장 경색에… 한은 ‘베이비스텝’ 전망 나와   \n",
       "2              일본은행 두번째 복면개입?  엔·달러 환율 149엔대에서 갑자기 4엔 하락   \n",
       "3      매달 10만원씩 6년 부었는데 이자 12만원? 낮아도 너무 낮은 금리에 ‘저축보험’...   \n",
       "4             작년 종부세 수정 요구 1481건, 1년새 80% 폭증… 절반이 받아들여졌다   \n",
       "...                                                  ...   \n",
       "24825                   ‘교보 손글씨 2020 박도연’ 교보문고, 서체 무료 배포   \n",
       "24826                                      통영서도 “범 내려온다”   \n",
       "24827               뉴욕 한국계 모델 박진이씨 “증오범죄 침묵에 충격, 목소리냈다”    \n",
       "24828               두 대의 피아노, 네 명의 피아니스트...통영 봄바다를 홀린 재즈   \n",
       "24829        웨이브에서 ‘겨울왕국' ‘어벤져스' 못본다... 디즈니플러스 한국 진출 본격화   \n",
       "\n",
       "                                                 content               date  \\\n",
       "0      조용병 신한금융지주 회장이 고객 중심 경영을 강조하고 있다.신한금융이 올해 3분기(...   2022.10.25 13:52   \n",
       "1      ‘레고랜드 사태’가 뇌관이 된 자금 시장 경색이 쉽게 풀릴 기미를 보이지 않으면서 ...   2022.10.25 04:16   \n",
       "2      지난 20일 스즈키 슌이치 일본 재무상이 취재진과 만나는 모습. /로이터 연합뉴스달...   2022.10.25 03:00   \n",
       "3      은행 수신금리가 나날이 오르자 오래 전 저축보험을 가입했다가 중도해지에 나서는 사람...   2022.10.25 03:00   \n",
       "4      지난해 납세자들이 종합부동산세(종부세)를 과도하게 냈다며 수정을 요구한 경정 청구가...   2022.10.25 03:00   \n",
       "...                                                  ...                ...   \n",
       "24825  /교보문고교보문고는 이달 홈페이지를 통해 ‘교보 손글씨 2020 박도연’ 서체를 무...   2021.04.05 03:00   \n",
       "24826  /통영국제음악재단“범 내려 온다/ 범이 내려 온다.”지난 2일 ‘통영국제음악제’가 ...   2021.04.05 03:00   \n",
       "24827  \\n\\n\\n\\n\\n\\n\\n\\n\\n\\n\\n\\n\\n\\n뉴욕에서 모델겸 사회운동가로 활동...   2021.04.04 07:37   \n",
       "24828  /통영국제음악재단두 대의 피아노, 네 명의 피아니스트.‘자라섬재즈페스티벌’의 인기 ...   2021.04.03 18:02   \n",
       "24829  영화 '겨울왕국' 포스터4월 말부터 온라인 동영상 서비스(OTT) 웨이브에서 디즈니...   2021.04.03 17:44   \n",
       "\n",
       "            section                                                url  \\\n",
       "0                경제  https://www.chosun.com/economy/economy_general...   \n",
       "1                경제  https://www.chosun.com/economy/economy_general...   \n",
       "2                경제  https://www.chosun.com/economy/economy_general...   \n",
       "3                경제  https://www.chosun.com/economy/economy_general...   \n",
       "4                경제  https://www.chosun.com/economy/economy_general...   \n",
       "...             ...                                                ...   \n",
       "24825            문화  https://www.chosun.com/culture-life/culture_ge...   \n",
       "24826  culture-life  https://www.chosun.com/culture-life/2021/04/05...   \n",
       "24827            문화  https://www.chosun.com/culture-life/culture_ge...   \n",
       "24828  culture-life  https://www.chosun.com/culture-life/2021/04/03...   \n",
       "24829            문화  https://www.chosun.com/culture-life/culture_ge...   \n",
       "\n",
       "       title_senti  \n",
       "0         0.934428  \n",
       "1         0.269128  \n",
       "2         0.004256  \n",
       "3         0.952862  \n",
       "4         0.012476  \n",
       "...            ...  \n",
       "24825     0.441391  \n",
       "24826     0.315204  \n",
       "24827     0.950366  \n",
       "24828     0.904738  \n",
       "24829     0.156261  \n",
       "\n",
       "[24768 rows x 6 columns]"
      ]
     },
     "execution_count": 38,
     "metadata": {},
     "output_type": "execute_result"
    }
   ],
   "source": [
    "c"
   ]
  }
 ],
 "metadata": {
  "kernelspec": {
   "display_name": "Python 3 (ipykernel)",
   "language": "python",
   "name": "python3"
  },
  "language_info": {
   "codemirror_mode": {
    "name": "ipython",
    "version": 3
   },
   "file_extension": ".py",
   "mimetype": "text/x-python",
   "name": "python",
   "nbconvert_exporter": "python",
   "pygments_lexer": "ipython3",
   "version": "3.7.13"
  }
 },
 "nbformat": 4,
 "nbformat_minor": 5
}
