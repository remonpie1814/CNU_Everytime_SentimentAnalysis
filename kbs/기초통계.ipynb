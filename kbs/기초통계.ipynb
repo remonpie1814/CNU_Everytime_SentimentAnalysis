{
 "cells": [
  {
   "cell_type": "code",
   "execution_count": 1,
   "id": "d430192c",
   "metadata": {},
   "outputs": [],
   "source": [
    "import pandas as pd\n",
    "\n",
    "donga = pd.read_excel(\"donga.xlsx\")\n",
    "chosun = pd.read_excel(\"chosun.xlsx\")\n",
    "joongang = pd.read_excel(\"joongang.xlsx\")"
   ]
  },
  {
   "cell_type": "code",
   "execution_count": 2,
   "id": "ac7f5850",
   "metadata": {},
   "outputs": [],
   "source": [
    "import numpy as np"
   ]
  },
  {
   "cell_type": "code",
   "execution_count": 3,
   "id": "fb59d3fc",
   "metadata": {},
   "outputs": [],
   "source": [
    "donga_mean = np.mean(donga[\"title_senti\"])   # 16.5\n",
    "donga_std = np.std(donga[\"title_senti\"])     # 2.99\n",
    "\n",
    "chosun_mean = np.mean(chosun[\"title_senti\"])   # 16.5\n",
    "chosun_std = np.std(chosun[\"title_senti\"]) \n",
    "\n",
    "joonang_mean = np.mean(joongang[\"title_senti\"])   # 16.5\n",
    "joongang_std = np.std(joongang[\"title_senti\"]) "
   ]
  },
  {
   "cell_type": "code",
   "execution_count": 5,
   "id": "44ce1a2a",
   "metadata": {},
   "outputs": [
    {
     "name": "stdout",
     "output_type": "stream",
     "text": [
      "0.4525059155822851 0.06198348163955322\n",
      "0.42975858041646375 0.0965929422872228\n",
      "0.3992298001943458 0.04088352443546918\n"
     ]
    }
   ],
   "source": [
    "print(donga_mean, donga_std)\n",
    "print(chosun_mean, chosun_std)\n",
    "print(joonang_mean, joongang_std)"
   ]
  },
  {
   "cell_type": "code",
   "execution_count": 11,
   "id": "04bc558e",
   "metadata": {},
   "outputs": [
    {
     "name": "stdout",
     "output_type": "stream",
     "text": [
      "       title_senti\n",
      "count   411.000000\n",
      "mean      0.452506\n",
      "std       0.062059\n",
      "min       0.329825\n",
      "25%       0.403549\n",
      "50%       0.448124\n",
      "75%       0.491446\n",
      "max       0.786757\n",
      "----------------\n",
      "       title_senti\n",
      "count   551.000000\n",
      "mean      0.429759\n",
      "std       0.096681\n",
      "min       0.028162\n",
      "25%       0.380102\n",
      "50%       0.418811\n",
      "75%       0.464792\n",
      "max       0.960792\n",
      "----------------\n",
      "       title_senti\n",
      "count   426.000000\n",
      "mean      0.399230\n",
      "std       0.040932\n",
      "min       0.281651\n",
      "25%       0.379622\n",
      "50%       0.395942\n",
      "75%       0.413936\n",
      "max       0.747627\n"
     ]
    }
   ],
   "source": [
    "print(donga.describe())\n",
    "print(\"----------------\")\n",
    "print(chosun.describe())\n",
    "print(\"----------------\")\n",
    "print(joongang.describe())"
   ]
  },
  {
   "cell_type": "code",
   "execution_count": null,
   "id": "40b6f998",
   "metadata": {},
   "outputs": [],
   "source": []
  },
  {
   "cell_type": "code",
   "execution_count": null,
   "id": "0933212d",
   "metadata": {},
   "outputs": [],
   "source": []
  }
 ],
 "metadata": {
  "kernelspec": {
   "display_name": "Python 3 (ipykernel)",
   "language": "python",
   "name": "python3"
  },
  "language_info": {
   "codemirror_mode": {
    "name": "ipython",
    "version": 3
   },
   "file_extension": ".py",
   "mimetype": "text/x-python",
   "name": "python",
   "nbconvert_exporter": "python",
   "pygments_lexer": "ipython3",
   "version": "3.7.13"
  }
 },
 "nbformat": 4,
 "nbformat_minor": 5
}
