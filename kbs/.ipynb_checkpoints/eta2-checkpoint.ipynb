{
 "cells": [
  {
   "cell_type": "code",
   "execution_count": 44,
   "id": "6c8c5595",
   "metadata": {},
   "outputs": [],
   "source": [
    "import time\n",
    "import konlpy\n",
    "import openpyxl\n",
    "from konlpy.tag import Kkma\n",
    "from selenium import webdriver\n",
    "from selenium.webdriver import ActionChains\n",
    "from webdriver_manager.chrome import ChromeDriverManager\n",
    "from selenium.webdriver.common.actions.action_builder import ActionBuilder\n",
    "from selenium.webdriver import Keys, ActionChains\n",
    "from selenium.webdriver.chrome.service import Service\n",
    "from selenium.webdriver.common.by import By\n",
    "from selenium.webdriver.chrome.options import Options\n",
    "from bs4 import BeautifulSoup\n"
   ]
  },
  {
   "cell_type": "code",
   "execution_count": 8,
   "id": "992229a3",
   "metadata": {},
   "outputs": [],
   "source": [
    "from webdriver_manager.chrome import ChromeDriverManager"
   ]
  },
  {
   "cell_type": "code",
   "execution_count": 62,
   "id": "e5f19fe3",
   "metadata": {},
   "outputs": [],
   "source": [
    "kma = Kkma()"
   ]
  },
  {
   "cell_type": "code",
   "execution_count": 63,
   "id": "3068cdc4",
   "metadata": {},
   "outputs": [],
   "source": [
    "wb = openpyxl.Workbook()\n",
    "sheet = wb.active\n"
   ]
  },
  {
   "cell_type": "markdown",
   "id": "0d8eb875",
   "metadata": {},
   "source": [
    "# 에이전트+크롬디버깅모드 + 로그인 + 자게이동 + 다음 페이지 이동"
   ]
  },
  {
   "cell_type": "code",
   "execution_count": 62,
   "id": "9992824f",
   "metadata": {},
   "outputs": [
    {
     "name": "stderr",
     "output_type": "stream",
     "text": [
      "/Users/KBS/opt/anaconda3/envs/pytorch/lib/python3.7/site-packages/ipykernel_launcher.py:10: DeprecationWarning: executable_path has been deprecated, please pass in a Service object\n",
      "  # Remove the CWD from sys.path while we load stuff.\n"
     ]
    }
   ],
   "source": [
    "# every_url = 'http://everytime.kr/login'\n",
    "\n",
    "chrome_options = Options()\n",
    "chrome_options.add_experimental_option(\"debuggerAddress\", \"127.0.0.1:9222\")\n",
    "\n",
    "chrome_driver = \"/usr/local/bin/chromedriver\" # Your Chrome Driver path\n",
    "\n",
    "#chrome_driver = webdriver.Chrome(service=Service(ChromeDriverManager().install()), options=chrome_options)  # Your Chrome Driver path\n",
    "\n",
    "driver = webdriver.Chrome(chrome_driver, options=chrome_options)\n",
    "\n",
    "id = \"aaa4\"\n",
    "pw = \"1234\"\n",
    "driver.get(\"https://everytime.kr\")\n",
    "time.sleep(1)\n",
    "\n",
    "\n",
    "# id_input = (driver.find_element(By.XPATH,'//*[@id=\"container\"]/form/p[1]/input')).click() #아이디\n",
    "\n",
    "\n",
    "driver.find_element(By.XPATH,'/html/body/aside/div[1]/a[2]').click() # 로그인 이동 버튼\n",
    "time.sleep(2)\n",
    "\n",
    "driver.find_element(By.NAME, 'userid').send_keys(id) # 아이디\n",
    "time.sleep(2)\n",
    "\n",
    "driver.find_element(By.NAME, 'password').send_keys(pw) #비밀번호 \n",
    "time.sleep(2)\n",
    "\n",
    "driver.find_element(By.XPATH, '//*[@id=\"container\"]/form/p[3]/input').click() # 로그인 확인 버튼 \n",
    "time.sleep(1)\n",
    "\n",
    "\n",
    "driver.find_element(By.XPATH, '//*[@id=\"submenu\"]/div/div[2]/ul/li[1]/a').click() # 자유게시판 이동\n",
    "\n",
    "time.sleep(3)\n",
    "\n",
    "driver.find_element(By.XPATH, '//*[@id=\"container\"]/div[2]/div[2]/a').click() # 다음 페이지 이동\n"
   ]
  },
  {
   "cell_type": "markdown",
   "id": "4ac857c5",
   "metadata": {},
   "source": [
    "# 크롤링 코드"
   ]
  },
  {
   "cell_type": "markdown",
   "id": "163d6b2b",
   "metadata": {},
   "source": [
    "# 첫 번째 방법"
   ]
  },
  {
   "cell_type": "code",
   "execution_count": null,
   "id": "bc833dc4",
   "metadata": {},
   "outputs": [],
   "source": [
    "result = []\n",
    "cnt = 0 # 첫번ㅈ째 페이지부터 순환하기 위함\n",
    "\n",
    "# 첫 번째 페이지가기\n",
    "\n",
    "while True:\n",
    "    print('page'+str(cnt))\n",
    "    if cnt > 300 : \n",
    "        break\n",
    "    \n",
    "    cnt = cnt + 1\n",
    "    driver.get('http://everytime.kr/${게시판넘버(학교마다 다름)}/p/')+ str(cnt)\n",
    "    driver.implicitly_wait(1)\n",
    "    \n",
    "    # 게시글 링크가져오기?\n",
    "    post = driver.find_elements_by_css_selector('article > article')\n",
    "    links = [post.get_attribute('href') for post in posts]\n",
    "    \n",
    "    # 게시글 세부내용\n",
    "    for link in links:\n",
    "        driver.get(link)\n",
    "        \n",
    "        comments = driver.find_elements_by_css_selector('p.large')\n",
    "        \n",
    "        for comment in comments:\n",
    "            results.append(comment.text)\n",
    "    "
   ]
  },
  {
   "cell_type": "markdown",
   "id": "9833e4a7",
   "metadata": {},
   "source": [
    "# 두 번째 빵법"
   ]
  },
  {
   "cell_type": "code",
   "execution_count": null,
   "id": "d26728e2",
   "metadata": {},
   "outputs": [],
   "source": [
    "#원하는 태그 긁어오는 함수 선언\n",
    "\n",
    "def crawling(pg):\n",
    "\n",
    "    soup = BeautifulSoup(pg,\"html.parser\")\n",
    "\n",
    "    to_body = soup.find(class_=\"wrap articles\")\n",
    "\n",
    "    title = to_body.find_all(\"h2\")\n",
    "\n",
    "    content = to_body.find_all(\"p\")\n",
    "\n",
    "    vote = to_body.find_all(class_=\"vote\")\n",
    "\n",
    "    comment = to_body.find_all(class_=\"comment\")\n",
    "\n",
    "\n",
    "\n",
    "    for i in range(0,len(title)):\n",
    "\n",
    "        title_data.append(title[i].text)\n",
    "\n",
    "        content_data.append(content[i].text)\n",
    "\n",
    "        vote_data.append(vote[i].text)\n",
    "\n",
    "        comment_data.append(comment[i].text)\n",
    "\n",
    "\n",
    "\n",
    "    return title_data, content_data, vote_data, comment_data\n",
    "\n",
    "\n",
    "\n",
    "#자게로 이동 및 첫 페이지 크롤링\n",
    "\n",
    "driver.find_element_by_xpath('//*[@id=\"submenu\"]/div/div[2]/ul/li[1]/a').click()\n",
    "\n",
    "time.sleep(5)\n",
    "\n",
    "driver.find_element_by_xpath('//*[@id=\"sheet\"]/ul/li[3]/a').click()\n",
    "\n",
    "pg = driver.page_source\n",
    "\n",
    "title, content, vote, comment = crawling(pg)\n",
    "\n",
    "print(\"1번째 페이지~\")\n",
    "\n",
    "\n",
    "\n",
    "#두 번째 이후 페이지 크롤링\n",
    "\n",
    "i = 0                                                                        \n",
    "\n",
    "while True:\n",
    "\n",
    "    i += 1\n",
    "\n",
    "    try:   \n",
    "\n",
    "        driver.find_element_by_class_name(\"next\").click()\n",
    "\n",
    "        time.sleep(0.5)\n",
    "\n",
    "        pg = driver.page_source\n",
    "\n",
    "        title, content, vote, comment = crawling(pg)\n",
    "\n",
    "        print(\"%d번째 페이지~\"%(i))\n",
    "\n",
    "   except:\n",
    "\n",
    "        if driver.find_element_by_class_name(\"next\") != None:            \n",
    "\n",
    "            time.sleep(5)                           \n",
    "\n",
    "            pg = driver.page_source         \n",
    "\n",
    "            title, content, vote, comment = crawling(pg)\n",
    "\n",
    "            print(\"%d번째 페이지~(오류가 있었지만 해결!)\"%(i))\n",
    "\n",
    "        else:\n",
    "\n",
    "            print(\"%d번째 페이지는 없습니다~ 끝!\"%(i))\n",
    "\n",
    "            break\n",
    "\n",
    "\n",
    "\n",
    "#데이터 프레임 생성 및 확인하기\n",
    "\n",
    "my_dict = {\"title\": title, \"content\": content, \"vote\": vote, \"comment\": comment}\n",
    "\n",
    "df = pd.DataFrame(my_dict)\n",
    "\n",
    "display(df)\n",
    "\n",
    "\n",
    "\n",
    "#csv로 저장하기\n",
    "\n",
    "df.to_csv(r'C:\\Users\\iwin1\\Desktop\\cs_portfolio\\everytime_corpus\\SNU_everytime_data.csv', index=False, header = True)"
   ]
  },
  {
   "cell_type": "code",
   "execution_count": null,
   "id": "a1262791",
   "metadata": {},
   "outputs": [],
   "source": []
  }
 ],
 "metadata": {
  "kernelspec": {
   "display_name": "ML",
   "language": "python",
   "name": "pytorch"
  },
  "language_info": {
   "codemirror_mode": {
    "name": "ipython",
    "version": 3
   },
   "file_extension": ".py",
   "mimetype": "text/x-python",
   "name": "python",
   "nbconvert_exporter": "python",
   "pygments_lexer": "ipython3",
   "version": "3.7.13"
  }
 },
 "nbformat": 4,
 "nbformat_minor": 5
}
