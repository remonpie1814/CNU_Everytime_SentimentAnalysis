{
 "cells": [
  {
   "cell_type": "markdown",
   "id": "16f04b78",
   "metadata": {},
   "source": [
    "# Ⅲ - 2 브라우저 자동화하기, Selenium"
   ]
  },
  {
   "cell_type": "markdown",
   "id": "dc9367b0",
   "metadata": {},
   "source": [
    "# ① Selenium 설치 & 사용하기\n",
    "\n",
    "- selenium은 python을 이용해서 웹 브라우저를 조작할 수 있는 자동화 프레임워크이다.\n",
    "- 자동화란? : 보통 키보드와 마우스를 조작해서 작업을 진행하는데 그것을 파이썬으로 조작하는것.\n",
    "- 이를 사용하기 위해서는 먼저 selenium프레임워크를 설치해야한다\n",
    "- pip install을 통해서 이를 간단하게 설치할 수 있다.\n",
    "- WebDriver는 웹브라우저를 제어할 수 있는 자동화 프레임워크이다. 이 실습에서는 chrome을 기준으로 한다.\n",
    "- pip install을 통해 webdriver를 관리하는 라이브러리인 webdriver-manager를 설치한다.\n"
   ]
  },
  {
   "cell_type": "code",
   "execution_count": 2,
   "id": "ab9571b9",
   "metadata": {},
   "outputs": [
    {
     "name": "stdout",
     "output_type": "stream",
     "text": [
      "Collecting selenium\n",
      "  Using cached selenium-4.3.0-py3-none-any.whl (981 kB)\n",
      "Collecting trio-websocket~=0.9\n",
      "  Using cached trio_websocket-0.9.2-py3-none-any.whl (16 kB)\n",
      "Requirement already satisfied: urllib3[secure,socks]~=1.26 in /Users/KBS/opt/anaconda3/lib/python3.9/site-packages (from selenium) (1.26.9)\n",
      "Collecting trio~=0.17\n",
      "  Using cached trio-0.21.0-py3-none-any.whl (358 kB)\n",
      "Requirement already satisfied: attrs>=19.2.0 in /Users/KBS/opt/anaconda3/lib/python3.9/site-packages (from trio~=0.17->selenium) (21.4.0)\n",
      "Requirement already satisfied: sniffio in /Users/KBS/opt/anaconda3/lib/python3.9/site-packages (from trio~=0.17->selenium) (1.2.0)\n",
      "Requirement already satisfied: idna in /Users/KBS/opt/anaconda3/lib/python3.9/site-packages (from trio~=0.17->selenium) (3.3)\n",
      "Requirement already satisfied: sortedcontainers in /Users/KBS/opt/anaconda3/lib/python3.9/site-packages (from trio~=0.17->selenium) (2.4.0)\n",
      "Collecting outcome\n",
      "  Using cached outcome-1.2.0-py2.py3-none-any.whl (9.7 kB)\n",
      "Collecting async-generator>=1.9\n",
      "  Using cached async_generator-1.10-py3-none-any.whl (18 kB)\n",
      "Collecting wsproto>=0.14\n",
      "  Using cached wsproto-1.1.0-py3-none-any.whl (24 kB)\n",
      "Requirement already satisfied: PySocks!=1.5.7,<2.0,>=1.5.6 in /Users/KBS/opt/anaconda3/lib/python3.9/site-packages (from urllib3[secure,socks]~=1.26->selenium) (1.7.1)\n",
      "Requirement already satisfied: pyOpenSSL>=0.14 in /Users/KBS/opt/anaconda3/lib/python3.9/site-packages (from urllib3[secure,socks]~=1.26->selenium) (21.0.0)\n",
      "Requirement already satisfied: cryptography>=1.3.4 in /Users/KBS/opt/anaconda3/lib/python3.9/site-packages (from urllib3[secure,socks]~=1.26->selenium) (3.4.8)\n",
      "Requirement already satisfied: certifi in /Users/KBS/opt/anaconda3/lib/python3.9/site-packages (from urllib3[secure,socks]~=1.26->selenium) (2021.10.8)\n",
      "Requirement already satisfied: cffi>=1.12 in /Users/KBS/opt/anaconda3/lib/python3.9/site-packages (from cryptography>=1.3.4->urllib3[secure,socks]~=1.26->selenium) (1.15.0)\n",
      "Requirement already satisfied: pycparser in /Users/KBS/opt/anaconda3/lib/python3.9/site-packages (from cffi>=1.12->cryptography>=1.3.4->urllib3[secure,socks]~=1.26->selenium) (2.21)\n",
      "Requirement already satisfied: six>=1.5.2 in /Users/KBS/opt/anaconda3/lib/python3.9/site-packages (from pyOpenSSL>=0.14->urllib3[secure,socks]~=1.26->selenium) (1.16.0)\n",
      "Collecting h11<1,>=0.9.0\n",
      "  Using cached h11-0.13.0-py3-none-any.whl (58 kB)\n",
      "Installing collected packages: outcome, h11, async-generator, wsproto, trio, trio-websocket, selenium\n",
      "Successfully installed async-generator-1.10 h11-0.13.0 outcome-1.2.0 selenium-4.3.0 trio-0.21.0 trio-websocket-0.9.2 wsproto-1.1.0\n",
      "Note: you may need to restart the kernel to use updated packages.\n",
      "Collecting webdriver-manager\n",
      "  Using cached webdriver_manager-3.8.2-py2.py3-none-any.whl (26 kB)\n",
      "Collecting python-dotenv\n",
      "  Using cached python_dotenv-0.20.0-py3-none-any.whl (17 kB)\n",
      "Requirement already satisfied: requests in /Users/KBS/opt/anaconda3/lib/python3.9/site-packages (from webdriver-manager) (2.27.1)\n",
      "Requirement already satisfied: charset-normalizer~=2.0.0 in /Users/KBS/opt/anaconda3/lib/python3.9/site-packages (from requests->webdriver-manager) (2.0.4)\n",
      "Requirement already satisfied: certifi>=2017.4.17 in /Users/KBS/opt/anaconda3/lib/python3.9/site-packages (from requests->webdriver-manager) (2021.10.8)\n",
      "Requirement already satisfied: urllib3<1.27,>=1.21.1 in /Users/KBS/opt/anaconda3/lib/python3.9/site-packages (from requests->webdriver-manager) (1.26.9)\n",
      "Requirement already satisfied: idna<4,>=2.5 in /Users/KBS/opt/anaconda3/lib/python3.9/site-packages (from requests->webdriver-manager) (3.3)\n",
      "Installing collected packages: python-dotenv, webdriver-manager\n",
      "Successfully installed python-dotenv-0.20.0 webdriver-manager-3.8.2\n",
      "Note: you may need to restart the kernel to use updated packages.\n"
     ]
    }
   ],
   "source": [
    "%pip install selenium\n",
    "%pip install webdriver-manager\n",
    "\n"
   ]
  },
  {
   "cell_type": "markdown",
   "id": "3ce9906a",
   "metadata": {},
   "source": [
    "# ② Selenium 시작하기"
   ]
  },
  {
   "cell_type": "code",
   "execution_count": 10,
   "id": "7578f045",
   "metadata": {},
   "outputs": [
    {
     "name": "stdout",
     "output_type": "stream",
     "text": [
      "\n",
      "<html><head>\n",
      "    <title>Example Domain</title>\n",
      "\n",
      "    <meta charset=\"utf-8\">\n",
      "    <meta http-equiv=\"Content-type\" content=\"text/html; charset=utf-8\">\n",
      "    <meta name=\"viewport\" content=\"width=device-width, initial-scale=1\">\n",
      "    <style type=\"text/css\">\n",
      "    body {\n",
      "        background-color: #f0f0f2;\n",
      "        margin: 0;\n",
      "        padding: 0;\n",
      "        font-family: -apple-system, system-ui, BlinkMacSystemFont, \"Segoe UI\", \"Open Sans\", \"Helvetica Neue\", Helvetica, Arial, sans-serif;\n",
      "        \n",
      "    }\n",
      "    div {\n",
      "        width: 600px;\n",
      "        margin: 5em auto;\n",
      "        padding: 2em;\n",
      "        background-color: #fdfdff;\n",
      "        border-radius: 0.5em;\n",
      "        box-shadow: 2px 3px 7px 2px rgba(0,0,0,0.02);\n",
      "    }\n",
      "    a:link, a:visited {\n",
      "        color: #38488f;\n",
      "        text-decoration: none;\n",
      "    }\n",
      "    @media (max-width: 700px) {\n",
      "        div {\n",
      "            margin: 0 auto;\n",
      "            width: auto;\n",
      "        }\n",
      "    }\n",
      "    </style>    \n",
      "</head>\n",
      "\n",
      "<body>\n",
      "<div>\n",
      "    <h1>Example Domain</h1>\n",
      "    <p>This domain is for use in illustrative examples in documents. You may use this\n",
      "    domain in literature without prior coordination or asking for permission.</p>\n",
      "    <p><a href=\"https://www.iana.org/domains/example\">More information...</a></p>\n",
      "</div>\n",
      "\n",
      "\n",
      "</body></html>\n"
     ]
    }
   ],
   "source": [
    "from selenium import webdriver\n",
    "from selenium.webdriver.chrome.service import Service #웹드라이버 안에있는 크롬이라는 객체를 만들때 인자로 넣어줌\n",
    "from webdriver_manager.chrome import ChromeDriverManager #사용하고 있는 크롬과 동일한 버전으로 싱크하기 위해 사용\n",
    "driver = webdriver.Chrome(service=Service(ChromeDriverManager().install()))\n",
    "driver.get(\"http://www.example.com\")\n",
    "print(driver.page_source) # page소스를 확인 할 수 있다."
   ]
  },
  {
   "cell_type": "markdown",
   "id": "589491e3",
   "metadata": {},
   "source": [
    "\n",
    "그러나 프로그램들을 실행하다보면 크롬창이 계속 켜져있다. 이는 해당 창을 끄라고 명령를 내린적이 없기 때문이다.\n",
    "with_as 구문을 통해 주어진 명령이 끝나면 driver를 종료하도록 설정할 수 있다."
   ]
  },
  {
   "cell_type": "code",
   "execution_count": 12,
   "id": "ba3e6b26",
   "metadata": {},
   "outputs": [
    {
     "name": "stdout",
     "output_type": "stream",
     "text": [
      "\n",
      "<html><head>\n",
      "    <title>Example Domain</title>\n",
      "\n",
      "    <meta charset=\"utf-8\">\n",
      "    <meta http-equiv=\"Content-type\" content=\"text/html; charset=utf-8\">\n",
      "    <meta name=\"viewport\" content=\"width=device-width, initial-scale=1\">\n",
      "    <style type=\"text/css\">\n",
      "    body {\n",
      "        background-color: #f0f0f2;\n",
      "        margin: 0;\n",
      "        padding: 0;\n",
      "        font-family: -apple-system, system-ui, BlinkMacSystemFont, \"Segoe UI\", \"Open Sans\", \"Helvetica Neue\", Helvetica, Arial, sans-serif;\n",
      "        \n",
      "    }\n",
      "    div {\n",
      "        width: 600px;\n",
      "        margin: 5em auto;\n",
      "        padding: 2em;\n",
      "        background-color: #fdfdff;\n",
      "        border-radius: 0.5em;\n",
      "        box-shadow: 2px 3px 7px 2px rgba(0,0,0,0.02);\n",
      "    }\n",
      "    a:link, a:visited {\n",
      "        color: #38488f;\n",
      "        text-decoration: none;\n",
      "    }\n",
      "    @media (max-width: 700px) {\n",
      "        div {\n",
      "            margin: 0 auto;\n",
      "            width: auto;\n",
      "        }\n",
      "    }\n",
      "    </style>    \n",
      "</head>\n",
      "\n",
      "<body>\n",
      "<div>\n",
      "    <h1>Example Domain</h1>\n",
      "    <p>This domain is for use in illustrative examples in documents. You may use this\n",
      "    domain in literature without prior coordination or asking for permission.</p>\n",
      "    <p><a href=\"https://www.iana.org/domains/example\">More information...</a></p>\n",
      "</div>\n",
      "\n",
      "\n",
      "</body></html>\n"
     ]
    }
   ],
   "source": [
    "with webdriver.Chrome(service=Service(ChromeDriverManager().install())) as driver:\n",
    "    driver.get(\"http://www.example.com\")\n",
    "    print(driver.page_source)\n",
    "    #with ~을 실행해서 이것을 driver로 간주한 다음에 아래 들여쓰기의 명령을 실행한 다음 닫아라.\n",
    "\n",
    "#보통 스크랩핑을 할 때 창을 켜놓는 경우가 없기 때문에 보통 with as를 많이 사용한다."
   ]
  },
  {
   "cell_type": "markdown",
   "id": "861d6ce3",
   "metadata": {},
   "source": [
    "# ③ Driver에서 특정 요소 추출하기( By를 활용하여.)\n",
    "\n",
    "- 셀레니움을 활용해서 드라이버 객체를 만들어서 크롬에 명령을 내릴 수 있었다. \n",
    "- 스크랩퍼 또한 드라이브와 함께 활용할 수 있다. \n",
    "- 앞서 selenium은 받아온 응답으로부터 특정 요소를 추출할 수도 있는 것을 확인하였다. 이미 브라우저를 활용하기 때문이다. \n",
    "- 따라서 응답을 가지고 있는 drive요소에 대해 다음과 같은 메서드를 적용할 수 있다."
   ]
  },
  {
   "cell_type": "markdown",
   "id": "faeef5aa",
   "metadata": {},
   "source": [
    "### - 요소 하나 찾기\n",
    "\n",
    "- find_element(by, target)\n",
    "    - by : 대상을 찾는 기준 ex) id, TAG_NAME, CLASS_NAME\n",
    "    - target : 대상의 속성\n",
    "\n",
    "### - 요소 여러개 찾기\n",
    "\n",
    "- find_element(by, target)\n",
    "    - by : 대상을 찾는 기준 ex) id, TAG_NAME, CLASS_NAME\n",
    "    - target : 대상의 속성"
   ]
  },
  {
   "cell_type": "code",
   "execution_count": 15,
   "id": "96d7bc60",
   "metadata": {},
   "outputs": [],
   "source": [
    "#By를 import해보자\n",
    "from selenium.webdriver.common.by import By #특정 기준을 설정할 수 있다,."
   ]
  },
  {
   "cell_type": "code",
   "execution_count": 18,
   "id": "e957d878",
   "metadata": {},
   "outputs": [
    {
     "name": "stdout",
     "output_type": "stream",
     "text": [
      "\n",
      "Text: This domain is for use in illustrative examples in documents. You may use this domain in literature without prior coordination or asking for permission.\n",
      "Text: More information...\n"
     ]
    }
   ],
   "source": [
    "with webdriver.Chrome(service=Service(ChromeDriverManager().install())) as driver:\n",
    "    driver.get(\"http://www.example.com\")\n",
    "    for element in driver.find_elements(By.TAG_NAME,\"P\"):\n",
    "        print(\"Text:\", element.text)"
   ]
  },
  {
   "cell_type": "markdown",
   "id": "9644a760",
   "metadata": {},
   "source": [
    "# Ⅲ - 3 Wait and Call\n",
    "\n",
    "- wait을 이용해서 동적 사이트를 성공적으로 스크랩핑 해보자\n",
    "- 셀레니움은 기다림을 선언할 수 있다."
   ]
  },
  {
   "cell_type": "markdown",
   "id": "1d0493e8",
   "metadata": {},
   "source": [
    "## implicit / Explicit wait"
   ]
  },
  {
   "cell_type": "markdown",
   "id": "342517fe",
   "metadata": {},
   "source": [
    "selinium은 동적 웹사이트에 대한 지원을 진행하기 위해서 명시적 기다림과 암묵적 기다림을 지원한다.\n",
    "   - implicit wait : 다 로딩이 될때까지 지정한 시간 동안 기다림 ex) 다 로딩이 될 때까지 5초동안 기달리라\n",
    "   - explicit wait ; 특정 요소에 대한 제약을 통한 기다림 ex) 이 태그를 가져올 수 있을 때까지 기달리라 \n",
    "   - 웹브라우저를 조작하기에 가능하다."
   ]
  },
  {
   "cell_type": "markdown",
   "id": "a4f73a05",
   "metadata": {},
   "source": [
    "## 실습 : Indiestreet 이벤트 스크래핑\n",
    "다음 사이트에 있는 행사의 이름들을 스크래핑 해보자. : https://indistreet.com/live?sortOption=startDate%3ADESC\n",
    "\n",
    "해당웹페이지는 공연 리스트가 담긴 웹페이지이다."
   ]
  },
  {
   "cell_type": "code",
   "execution_count": 22,
   "id": "66bb60d6",
   "metadata": {},
   "outputs": [],
   "source": [
    "#스크래핑에 필요한 라이브러리\n",
    "from selenium import webdriver\n",
    "from selenium.webdriver.chrome.service import Service #웹드라이버 안에있는 크롬이라는 객체를 만들때 인자로 넣어줌\n",
    "from selenium.webdriver.common.by import By # #특정 기준을 설정할 수 있게끔 하는 By..\n",
    "from webdriver_manager.chrome import ChromeDriverManager #사용하고 있는 크롬과 동일한 버전으로 싱크하기"
   ]
  },
  {
   "cell_type": "markdown",
   "id": "d2c6a006",
   "metadata": {},
   "source": [
    "## ① Xpath란 무엇인가?\n",
    "  \n",
    "해당 사이트를 확인한 결과, class이름이 조금 특이한 것을 확인할 수 있었다.\n",
    "이는 클래스네임이 특정이 되면, 스크래핑을 방지할 목적으로 class 이름을 생성하기 때문이다.\n",
    "따라서 randomize로 클래스 이름을 지정한다.\n",
    "이러한 경우에 활용할 수 있는 방법이 여러가지가 있다. 그중 한가지 방법인 위치(location),구조를 활용할 수 있다.  \n",
    "  \n",
    "X-path는 XML, HTML 문서 등의 요소의 위치를 경로로 표현하는 것을 의미한다.  \n",
    "*xml : html과 비슷하게 태그를 기반으로 데이터를 표현하는 방법  \n",
    "마치 데스크탑/폴더/폴더1/음악mp.3와 같이 말이다.  \n",
    "  \n",
    "이를 적용해서 데이터를 온전히 가져올 수 있다.\n"
   ]
  },
  {
   "cell_type": "markdown",
   "id": "dfb2a397",
   "metadata": {},
   "source": [
    "//*[@id=\"__next\"]/div/main/div[2]/div/div[4]/div[1]/div[1]/div/a/div[2]/p[1]\n",
    "\n",
    "id ; locator, html에서 특정 요소 하나를 가르키는 이름.의 next요소의 div안에 main 안에있는 div의 두 번째, 그 안에 그 안에,,,,,,, \n",
    "\n",
    "그러나 아래 코드로 실행하게 되면 오류가 발생한다. 왜냐하면 이 웹페이지는 동적 웹페이지기 때문이다."
   ]
  },
  {
   "cell_type": "code",
   "execution_count": 43,
   "id": "d65a8fa6",
   "metadata": {},
   "outputs": [
    {
     "data": {
      "text/plain": [
       "'\\ndriver = webdriver.Chrome(service=Service(ChromeDriverManager().install()))\\ndriver.get(\"https://indistreet.com/live?sortOption=startDate%3ADESC\")\\ndriver.find_element(By.XPATH,\\'//*[@id=\"__next\"]/div/main/div[2]/div/div[4]/div[1]/div[1]/div/a/div[2]/p[1]\\').text\\n'"
      ]
     },
     "execution_count": 43,
     "metadata": {},
     "output_type": "execute_result"
    }
   ],
   "source": [
    "\"\"\"\n",
    "driver = webdriver.Chrome(service=Service(ChromeDriverManager().install()))\n",
    "driver.get(\"https://indistreet.com/live?sortOption=startDate%3ADESC\")\n",
    "driver.find_element(By.XPATH,'//*[@id=\"__next\"]/div/main/div[2]/div/div[4]/div[1]/div[1]/div/a/div[2]/p[1]').text\n",
    "\"\"\"\n"
   ]
  },
  {
   "cell_type": "markdown",
   "id": "f14b9202",
   "metadata": {},
   "source": [
    "따라서 앞서 설명한 Wait 방법을 활용해서 스크래핑을 진행할 수 있다. 먼저  \n",
    "\n",
    "## ② Implicit wait  \n",
    "\n",
    ".implicit wait()을 쓸 수 있는데, 주의할 점으로 반드시 해당 시간을 기다리는 것이 아니라 로딩이 다 될 때 까지 한계 시간의 의미를 가진다는 점이다.\n",
    "\n",
    "10초 동안  Implicit wait 을 진행해보자\n"
   ]
  },
  {
   "cell_type": "code",
   "execution_count": 49,
   "id": "c2ccbabb",
   "metadata": {},
   "outputs": [
    {
     "name": "stdout",
     "output_type": "stream",
     "text": [
      "\n",
      "Boy Pablo Asia Tour 2022 Seoul\n"
     ]
    }
   ],
   "source": [
    "from selenium.webdriver.support.ui import WebDriverWait\n",
    "with webdriver.Chrome(service=Service(ChromeDriverManager().install())) as driver:\n",
    "    driver.get(\"https://indistreet.com/live?sortOption=startDate%3ADESC\")\n",
    "    ##중요## 바로 find를 진행하는 것이 아닌 요 가운데 자리에 \n",
    "    driver.implicitly_wait(10)\n",
    "    # 즉, 두 가지 중 하나다. 요청이 완벽하게 응답이 되면 다음걸 실행하거나 혹은 10초를 기다린다.\n",
    "    # 10초를 항상 기다리는게 아니고, 일단 10초까지 기달리고 그전에 렌더링 끝나면(완전한 응답이 오면) 다음 명령 수행.\n",
    "    print(driver.find_element(By.XPATH,'//*[@id=\"__next\"]/div/main/div[2]/div/div[4]/div[1]/div[1]/div/a/div[2]/p[1]').text)\n",
    "\n",
    "\n"
   ]
  },
  {
   "cell_type": "markdown",
   "id": "8c3d50ae",
   "metadata": {},
   "source": [
    "## ③ Explicit wait  "
   ]
  },
  {
   "cell_type": "raw",
   "id": "531f30bf",
   "metadata": {},
   "source": [
    "특정 요소가 준비되면 그제서야 명령을 내릴 수도 있다.  \n",
    "\n",
    "WebDriverWait()과 두 메서드를 활용해서 명시적 기다림을 적용할 수 있다.  \n",
    "\n",
    "until() : 인자의 조건이 만족될 때까지  \n",
    "until_not(): 인자의 조건이 만족되지 않을 때까지   \n",
    "\n",
    "예를 들어 ,id가 target인 요소가 존재할 때까지 기다린 후 다음 명령을 진행한다.  \n",
    "\n",
    "예시 코드 : element = WebDriverWait(driver,10).until(EC.presence_of_element_located((By.ID,\"target\")))\n",
    "\n",
    "이때, EC는 expected_condition으로 seleniumdptj 정의된 조건들이다.(~가 존재하면...)  \n",
    "\n",
    "주어진 Xpath가 등장할 때까지 wait이 동작된다.\n",
    "\n",
    "(EC.presence_of_element_located((By.ID,\"target\")))\n",
    "\n"
   ]
  },
  {
   "cell_type": "code",
   "execution_count": 41,
   "id": "c7ea75d4",
   "metadata": {},
   "outputs": [
    {
     "name": "stdout",
     "output_type": "stream",
     "text": [
      "\n",
      "Boy Pablo Asia Tour 2022 Seoul\n"
     ]
    }
   ],
   "source": [
    "# implicit의 코드를 explicit으로 바꿔주면 다음과 같다.\n",
    "\n",
    "from selenium.webdriver.support import expected_conditions as EC\n",
    "\n",
    "with webdriver.Chrome(service=Service(ChromeDriverManager().install())) as driver:\n",
    "    driver.get(\"https://indistreet.com/live?sortOption=startDate%3ADESC\")\n",
    "    # explicit wait으로 변경\n",
    "    element = WebDriverWait(driver,10).until(EC.presence_of_element_located((By.XPATH,'//*[@id=\"__next\"]/div/main/div[2]/div/div[4]/div[1]/div[1]/div/a/div[2]/p[1]')))\n",
    "    print(element.text)\n",
    "    \n",
    "    #xpath 뒤에는 id나 클래스 모두 가능하다.\n"
   ]
  },
  {
   "cell_type": "markdown",
   "id": "2eacb760",
   "metadata": {},
   "source": [
    "## ④ 여러 공연 제목 가져오기"
   ]
  },
  {
   "cell_type": "code",
   "execution_count": 42,
   "id": "1602dbda",
   "metadata": {},
   "outputs": [
    {
     "name": "stdout",
     "output_type": "stream",
     "text": [
      "\n",
      "Boy Pablo Asia Tour 2022 Seoul\n",
      "Metal Collection Vol.10\n",
      "- mellifluous night, cherish life -\n",
      "🔥먼데이프로젝트 시즌5 : ORIGINAL🔥 ▫ 더 픽스 1주년 기념 단독 콘서트\n",
      "<Flight082728: off the menu 편>\n",
      "<Flight082728: off the menu 편>\n",
      "Beyond Creation Summer Slaughter Tour 2022\n",
      "PRISM BREAK vol.13 : 더보울스x코토바\n",
      "🌙먼데이프로젝트 시즌5 : 청춘의 밤🌙 ▫ 히미츠 단독 콘서트\n",
      "Lunar Stage!! 11th STAGE ~SUMMER FES~ ⛱\n"
     ]
    }
   ],
   "source": [
    "with webdriver.Chrome(service=Service(ChromeDriverManager().install())) as driver:\n",
    "    driver.get(\"https://indistreet.com/live?sortOption=startDate%3ADESC\")\n",
    "    driver.implicitly_wait(10)\n",
    "    #모든 곳의 위치를 알아ㅑ하는데, 그리드 형태에서는 그리드의 첫 번째, 두 번째 ~~요소들만 다르다.\n",
    "    \n",
    "    for i in range(1,11): #1부터 ~ 10까지의 페이지를 진행할 수 있게 한다.\n",
    "        element = driver.find_element(By.XPATH, '//*[@id=\"__next\"]/div/main/div[2]/div/div[4]/div[1]/div[{}]/div/a/div[2]/p[1]'.format(i))\n",
    "        print(element.text)\n",
    "        \n"
   ]
  },
  {
   "cell_type": "markdown",
   "id": "762110b1",
   "metadata": {},
   "source": [
    "# Ⅲ - 4 마우스 이벤트 처리하기"
   ]
  },
  {
   "cell_type": "markdown",
   "id": "1c168425",
   "metadata": {},
   "source": [
    "## ① 실습목표 : 해쉬코드 로그인 창 진입하기  \n",
    "\n",
    "이번 실습은 다음 실습에 거쳐 로그인 과정을 자동화하는 것을 목표로 한다.  \n",
    "\n",
    "저번 실습은 웹페이지의 주소를 바로 알고 있었지만, 홈페이지에 접근한 다음, 로그인까지 하겠다. 라는 뜻  \n",
    "\n",
    "최근 서비스들은는 간편 로그인을 많이 지원함, 이 특성 상, 바로 해당 링크에 접속하는게 아니라 특정 플랫폼에서 로그인을 요청하는 경우가 많기 때문에\n",
    "\n",
    "편리하게 하기 위해서는 웹브라우저에서 셀리를 이용하자. 또한 로그인을 해야만 스크래핑이 가능한 홈페이지도 있기 때문이다!!!  \n",
    "\n",
    "마우스 이벤트까지 해야하는 이유는 무엇일까??  \n",
    "\n",
    "우선 다음 사이트에 \"로그인\"버튼을 눌러보자.  https://hashcode.co.kr/  \n"
   ]
  },
  {
   "cell_type": "markdown",
   "id": "b9442f96",
   "metadata": {},
   "source": [
    "### Mouse Event  \n",
    "\n",
    "\n",
    "웹 페이지에서 일어나는 일들을 Event라고 한다. 마우스로 일어날 수 있는 대표적인 이벤는 다음과 같다.  \n",
    "\n",
    "    - 마우스 움직이기(move)\n",
    "    - 마우스 누르기 (press down)\n",
    "    - 마우스 떼기(press up)\n",
    "\n",
    "실습의 목표는 버튼을 찾은 후 이를 클릭하는 것을 목표로 한다. 마우스 입력은 크게 다음과 같은 과정을 거치는데,\n",
    "\n",
    "1. 입력하고자 하는 대상 요소를 찾는다.(find_element)\n",
    "2. 입력하고자 하는 내용을 click을 통해 전달( ActionChains에 전달)\n",
    "3. .perform을 통해 동작.\n",
    "\n",
    "아래 예시는 id가 botton인 요소를 클리하는 예제이다.\n",
    "\n",
    "    button = driver.find.element(by.ID,\"button\")\n",
    "    ActionChains(driver).click(button).perform() \n",
    "  \n",
    "    # ActionChains은 무슨 객체이냐? 액션에 체인을 건다?\n",
    "    = 예를 들어 클릭을 하고 나서, 엔터를 누르고 나서, 다른 버튼을 누른다 했을때 이 세 가지 동작을 동시에,연속적으로 수행할 수 있도록 하는 객체\n"
   ]
  },
  {
   "cell_type": "code",
   "execution_count": 57,
   "id": "0a25928f",
   "metadata": {},
   "outputs": [],
   "source": [
    "# 스크래핑에 필요한 라이브러리를 불러와보자.\n",
    "\n",
    "from selenium import webdriver\n",
    "from selenium.webdriver import ActionChains\n",
    "from selenium.webdriver.chrome.service import Service\n",
    "from selenium.webdriver.common.by import By\n",
    "from webdriver_manager.chrome import ChromeDriverManager"
   ]
  },
  {
   "cell_type": "code",
   "execution_count": 61,
   "id": "0f81b3ad",
   "metadata": {},
   "outputs": [
    {
     "name": "stdout",
     "output_type": "stream",
     "text": [
      "\n"
     ]
    }
   ],
   "source": [
    "driver = webdriver.Chrome(service=Service(ChromeDriverManager().install()))\n",
    "driver.get(\"https://hashcode.co.kr/\")\n",
    "driver.implicitly_wait(0.5)\n",
    "button = driver.find_element(By.CLASS_NAME,\"nav-link.nav-signin\")\n",
    "ActionChains(driver).click(button).perform() \n",
    "# 크롬 브라우저 키고 #접속 하고 잠깐 기다리고, nav-link.nav-signin에 해당하는 클래스 이름을 가진 요소를 찾s다. 그 다음에 눌러라\n"
   ]
  },
  {
   "cell_type": "markdown",
   "id": "7614b39b",
   "metadata": {},
   "source": [
    "# Ⅲ - 5 키보드 이벤트 처리하기"
   ]
  },
  {
   "cell_type": "markdown",
   "id": "94574ec6",
   "metadata": {},
   "source": [
    "## ① 실습목표 : 해쉬코드 로그인 창 진입하기"
   ]
  },
  {
   "cell_type": "markdown",
   "id": "1df1d852",
   "metadata": {},
   "source": [
    "마우스 이벤트와 유사한 방식으로 실행이 되는 방식이다.\n",
    "\n",
    "실습의 목표는 버튼을 찾은 후 이를 클릭하는 것을 목표로 한다. 마우스 입력은 크게 다음과 같은 과정을 거치는데,\n",
    "\n",
    "1. 입력하고자 하는 대상 요소를 찾는다.(find_element)이용\n",
    "2. 입력하고자 하는 내용을 send_keys_to_element를 통해 전달한다.\n",
    "3. .perform()을 통해 동작.\n",
    "\n",
    "아래 예시는 id가 textinput인 요소에 “abc”를 입력하는 예제이다."
   ]
  },
  {
   "cell_type": "code",
   "execution_count": 2,
   "id": "a857c998",
   "metadata": {},
   "outputs": [],
   "source": [
    "from selenium import webdriver\n",
    "from selenium.webdriver import ActionChains\n",
    "from webdriver_manager.chrome import ChromeDriverManager\n",
    "from selenium.webdriver.common.actions.action_builder import ActionBuilder\n",
    "from selenium.webdriver import Keys, ActionChains\n",
    "from selenium.webdriver.chrome.service import Service\n",
    "from selenium.webdriver.common.by import By"
   ]
  },
  {
   "cell_type": "code",
   "execution_count": 4,
   "id": "668eb3d2",
   "metadata": {},
   "outputs": [
    {
     "name": "stdout",
     "output_type": "stream",
     "text": [
      "\n"
     ]
    }
   ],
   "source": [
    "import time\n",
    "\n",
    "driver = webdriver.Chrome(service=Service(ChromeDriverManager().install()))\n",
    "driver.get(\"https://hashcode.co.kr/\")\n",
    "time.sleep(1)\n",
    "\n",
    "# 네비게이션 바에서 \"로그인\"버튼을 찾아 눌러보자\n",
    "\n",
    "button = driver.find_element(By.CLASS_NAME,\"nav-link.nav-signin\")\n",
    "ActionChains(driver).click(button).perform()\n",
    "time.sleep(1)\n",
    "\n",
    "# \"아이디\" Input 요소에 나의 아이디를 입력하자\n",
    "\n",
    "id_input = (driver.find_element(By.XPATH, '//*[@id=\"main-app-account\"]/div/div[2]/div/div[2]/div[1]/div/div[2]/div[2]/input'))\n",
    "ActionChains(driver).send_keys_to_element(id_input, \"chagall2582@naver.com\").perform()\n",
    "time.sleep(1)\n",
    "\n",
    "\n",
    "pw_input =  (driver.find_element(By.XPATH, '//*[@id=\"main-app-account\"]/div/div[2]/div/div[2]/div[1]/div/div[2]/div[4]/input'))\n",
    "ActionChains(driver).send_keys_to_element(pw_input, \"qudtn!23\").perform()       \n",
    "time.sleep(1)\n",
    "            \n",
    "login = driver.find_element(By.XPATH,'//*[@id=\"main-app-account\"]/div/div[2]/div/div[2]/div[1]/div/div[2]/button')\n",
    "ActionChains(driver).click(login).perform()\n",
    "time.sleep(1)\n",
    "## 이러한 일련의 과정들이 시간대적으로 겹치면 오류가 발생할 수 있다. 구현된 웹상에서 이벤트 전환이 어려울 수도 있으니까.\n",
    "             \n",
    "# time.sleep과 implicitly 차이? : 타임슬립은 반드시 그 지정된 시간을 지킨다.\n",
    "             \n",
    "\n",
    "            \n",
    "            \n",
    "            \n",
    "            \n",
    "            \n",
    "            \n",
    "            "
   ]
  },
  {
   "cell_type": "code",
   "execution_count": null,
   "id": "81d724e8",
   "metadata": {},
   "outputs": [],
   "source": []
  }
 ],
 "metadata": {
  "kernelspec": {
   "display_name": "Python 3 (ipykernel)",
   "language": "python",
   "name": "python3"
  },
  "language_info": {
   "codemirror_mode": {
    "name": "ipython",
    "version": 3
   },
   "file_extension": ".py",
   "mimetype": "text/x-python",
   "name": "python",
   "nbconvert_exporter": "python",
   "pygments_lexer": "ipython3",
   "version": "3.7.13"
  }
 },
 "nbformat": 4,
 "nbformat_minor": 5
}
