{
 "cells": [
  {
   "cell_type": "code",
   "execution_count": 1,
   "id": "adbcdca2",
   "metadata": {},
   "outputs": [],
   "source": [
    "import pandas as pd\n",
    "from konlpy.tag import Okt\n",
    "from collections import Counter\n"
   ]
  },
  {
   "cell_type": "code",
   "execution_count": 2,
   "id": "5eea11a0",
   "metadata": {},
   "outputs": [],
   "source": [
    "def filesave(dataframe,name):\n",
    "    dataframe.to_csv(name,sep=\"\\t\", encoding=\"utf-8\",index=False)\n",
    "def fileread(name):\n",
    "    return pd.read_csv(name,sep=\"\\t\",encoding=\"utf-8\")"
   ]
  },
  {
   "cell_type": "code",
   "execution_count": 3,
   "id": "fc5badc7",
   "metadata": {},
   "outputs": [],
   "source": [
    "test=fileread('joongang_dataframe.csv')"
   ]
  },
  {
   "cell_type": "code",
   "execution_count": 4,
   "id": "08b882fa",
   "metadata": {},
   "outputs": [
    {
     "data": {
      "text/html": [
       "<div>\n",
       "<style scoped>\n",
       "    .dataframe tbody tr th:only-of-type {\n",
       "        vertical-align: middle;\n",
       "    }\n",
       "\n",
       "    .dataframe tbody tr th {\n",
       "        vertical-align: top;\n",
       "    }\n",
       "\n",
       "    .dataframe thead th {\n",
       "        text-align: right;\n",
       "    }\n",
       "</style>\n",
       "<table border=\"1\" class=\"dataframe\">\n",
       "  <thead>\n",
       "    <tr style=\"text-align: right;\">\n",
       "      <th></th>\n",
       "      <th>title</th>\n",
       "      <th>content</th>\n",
       "      <th>date</th>\n",
       "      <th>section</th>\n",
       "      <th>url</th>\n",
       "    </tr>\n",
       "  </thead>\n",
       "  <tbody>\n",
       "    <tr>\n",
       "      <th>0</th>\n",
       "      <td>“시장 왜곡돼 집값 상승세 지속, 내년 대선이 분수령”</td>\n",
       "      <td>\\n  전문가 5인의 부동산 시장 전망  \\n   11억930만원. 한국부동산원이 ...</td>\n",
       "      <td>2021.08.21 05:46</td>\n",
       "      <td>중앙SUNDAY</td>\n",
       "      <td>NaN</td>\n",
       "    </tr>\n",
       "    <tr>\n",
       "      <th>1</th>\n",
       "      <td>'저녁 있는 삶' 이런 카피 없나···섹시 고집하다 당한 與주자들</td>\n",
       "      <td>\\n더불어민주당 대선 주자 이낙연 전 대표가 발표한 중산층경제 성장 전략 '삼중폭격...</td>\n",
       "      <td>2021.08.21 05:54</td>\n",
       "      <td>정치</td>\n",
       "      <td>NaN</td>\n",
       "    </tr>\n",
       "    <tr>\n",
       "      <th>2</th>\n",
       "      <td>[단독]\"대역 아니냐\" 확 달라진 전두환, 알고보니 혈액암</td>\n",
       "      <td>\\n\\n  전두환(90) 전 대통령이 혈액암의 일종인 다발성 골수종 진단을 받은 것...</td>\n",
       "      <td>2021.08.21 05:55</td>\n",
       "      <td>경제</td>\n",
       "      <td>NaN</td>\n",
       "    </tr>\n",
       "    <tr>\n",
       "      <th>3</th>\n",
       "      <td>美 Z세대가 中 쇼핑몰에 갇혔다…자라·H&amp;M 제낀 쉬인SHEIN</td>\n",
       "      <td>\\n팬데믹으로 패션업계가 위축된 가운데 중국 SPA 온라인 쇼핑몰 쉬인(Shein)...</td>\n",
       "      <td>2021.08.21 05:56</td>\n",
       "      <td>경제</td>\n",
       "      <td>NaN</td>\n",
       "    </tr>\n",
       "    <tr>\n",
       "      <th>4</th>\n",
       "      <td>김의겸 선배 행복하십니까…외신이 묻네요 \"이게 무슨 법이냐\" [뉴스원샷]</td>\n",
       "      <td>\\n18일 서울 여의도 국회에서 열린 '언론중재 및 피해구제 등에 관한 법률 일부 ...</td>\n",
       "      <td>2021.08.21 05:56</td>\n",
       "      <td>국제</td>\n",
       "      <td>NaN</td>\n",
       "    </tr>\n",
       "    <tr>\n",
       "      <th>...</th>\n",
       "      <td>...</td>\n",
       "      <td>...</td>\n",
       "      <td>...</td>\n",
       "      <td>...</td>\n",
       "      <td>...</td>\n",
       "    </tr>\n",
       "    <tr>\n",
       "      <th>110477</th>\n",
       "      <td>\"내가 정인이 아빠\" 절규한 유튜버…\"후원금으로 게장 사먹어\"</td>\n",
       "      <td>\\n양부모 학대로 숨진 정인양을 위한다는 명목으로 후원금을 받은 유튜버가 횡령 혐의...</td>\n",
       "      <td>2022.10.19 22:07</td>\n",
       "      <td>사회</td>\n",
       "      <td>https://www.joongang.co.kr/article/25110479</td>\n",
       "    </tr>\n",
       "    <tr>\n",
       "      <th>110478</th>\n",
       "      <td>당사 압수수색 반발하는 野에…與 \"당당하게 집행 받아들여야\"</td>\n",
       "      <td>\\n더불어민주당 의원들이 19일 서울 여의도 중앙당사 앞에서 민주연구원 압수수색에 ...</td>\n",
       "      <td>2022.10.19 22:12</td>\n",
       "      <td>정치</td>\n",
       "      <td>https://www.joongang.co.kr/article/25110480</td>\n",
       "    </tr>\n",
       "    <tr>\n",
       "      <th>110479</th>\n",
       "      <td>제42회 전국장애인체전 울산에서 개막</td>\n",
       "      <td>\\n10월 19일 울산종합운동장에서 열린 제42회 전국장애인체육대회 개회식에서 마지...</td>\n",
       "      <td>2022.10.19 22:16</td>\n",
       "      <td>스포츠</td>\n",
       "      <td>https://www.joongang.co.kr/article/25110481</td>\n",
       "    </tr>\n",
       "    <tr>\n",
       "      <th>110480</th>\n",
       "      <td>야생마 푸이그의 가을 질주…키움, PO행 100% 확률 잡았다</td>\n",
       "      <td>\\n키움 야시엘 푸이그가 19일 KT 위즈와의 준PO 3차전에서 1회 선제 3점 홈...</td>\n",
       "      <td>2022.10.19 22:22</td>\n",
       "      <td>스포츠</td>\n",
       "      <td>https://www.joongang.co.kr/article/25110482</td>\n",
       "    </tr>\n",
       "    <tr>\n",
       "      <th>110481</th>\n",
       "      <td>주호영 \"野 국감 보이콧, 민생 포기 정당임을 천명한 것\"</td>\n",
       "      <td>\\n더불어민주당 의원들이 19일 서울 여의도 중앙당사 앞에서 민주연구원 압수수색에 ...</td>\n",
       "      <td>2022.10.19 22:25</td>\n",
       "      <td>정치</td>\n",
       "      <td>https://www.joongang.co.kr/article/25110483</td>\n",
       "    </tr>\n",
       "  </tbody>\n",
       "</table>\n",
       "<p>110482 rows × 5 columns</p>\n",
       "</div>"
      ],
      "text/plain": [
       "                                           title  \\\n",
       "0                 “시장 왜곡돼 집값 상승세 지속, 내년 대선이 분수령”   \n",
       "1           '저녁 있는 삶' 이런 카피 없나···섹시 고집하다 당한 與주자들   \n",
       "2               [단독]\"대역 아니냐\" 확 달라진 전두환, 알고보니 혈액암   \n",
       "3            美 Z세대가 中 쇼핑몰에 갇혔다…자라·H&M 제낀 쉬인SHEIN   \n",
       "4       김의겸 선배 행복하십니까…외신이 묻네요 \"이게 무슨 법이냐\" [뉴스원샷]   \n",
       "...                                          ...   \n",
       "110477        \"내가 정인이 아빠\" 절규한 유튜버…\"후원금으로 게장 사먹어\"   \n",
       "110478         당사 압수수색 반발하는 野에…與 \"당당하게 집행 받아들여야\"   \n",
       "110479                      제42회 전국장애인체전 울산에서 개막   \n",
       "110480        야생마 푸이그의 가을 질주…키움, PO행 100% 확률 잡았다   \n",
       "110481          주호영 \"野 국감 보이콧, 민생 포기 정당임을 천명한 것\"   \n",
       "\n",
       "                                                  content               date  \\\n",
       "0       \\n  전문가 5인의 부동산 시장 전망  \\n   11억930만원. 한국부동산원이 ...   2021.08.21 05:46   \n",
       "1       \\n더불어민주당 대선 주자 이낙연 전 대표가 발표한 중산층경제 성장 전략 '삼중폭격...   2021.08.21 05:54   \n",
       "2       \\n\\n  전두환(90) 전 대통령이 혈액암의 일종인 다발성 골수종 진단을 받은 것...   2021.08.21 05:55   \n",
       "3       \\n팬데믹으로 패션업계가 위축된 가운데 중국 SPA 온라인 쇼핑몰 쉬인(Shein)...   2021.08.21 05:56   \n",
       "4       \\n18일 서울 여의도 국회에서 열린 '언론중재 및 피해구제 등에 관한 법률 일부 ...   2021.08.21 05:56   \n",
       "...                                                   ...                ...   \n",
       "110477  \\n양부모 학대로 숨진 정인양을 위한다는 명목으로 후원금을 받은 유튜버가 횡령 혐의...   2022.10.19 22:07   \n",
       "110478  \\n더불어민주당 의원들이 19일 서울 여의도 중앙당사 앞에서 민주연구원 압수수색에 ...   2022.10.19 22:12   \n",
       "110479  \\n10월 19일 울산종합운동장에서 열린 제42회 전국장애인체육대회 개회식에서 마지...   2022.10.19 22:16   \n",
       "110480  \\n키움 야시엘 푸이그가 19일 KT 위즈와의 준PO 3차전에서 1회 선제 3점 홈...   2022.10.19 22:22   \n",
       "110481  \\n더불어민주당 의원들이 19일 서울 여의도 중앙당사 앞에서 민주연구원 압수수색에 ...   2022.10.19 22:25   \n",
       "\n",
       "         section                                          url  \n",
       "0       중앙SUNDAY                                          NaN  \n",
       "1             정치                                          NaN  \n",
       "2             경제                                          NaN  \n",
       "3             경제                                          NaN  \n",
       "4             국제                                          NaN  \n",
       "...          ...                                          ...  \n",
       "110477        사회  https://www.joongang.co.kr/article/25110479  \n",
       "110478        정치  https://www.joongang.co.kr/article/25110480  \n",
       "110479       스포츠  https://www.joongang.co.kr/article/25110481  \n",
       "110480       스포츠  https://www.joongang.co.kr/article/25110482  \n",
       "110481        정치  https://www.joongang.co.kr/article/25110483  \n",
       "\n",
       "[110482 rows x 5 columns]"
      ]
     },
     "execution_count": 4,
     "metadata": {},
     "output_type": "execute_result"
    }
   ],
   "source": [
    "test"
   ]
  },
  {
   "cell_type": "code",
   "execution_count": 5,
   "id": "58f306d5",
   "metadata": {},
   "outputs": [],
   "source": [
    "test.drop_duplicates(inplace=True, ignore_index=True)"
   ]
  },
  {
   "cell_type": "code",
   "execution_count": 6,
   "id": "72aca4a3",
   "metadata": {
    "scrolled": true
   },
   "outputs": [
    {
     "data": {
      "text/plain": [
       "110482"
      ]
     },
     "execution_count": 6,
     "metadata": {},
     "output_type": "execute_result"
    }
   ],
   "source": [
    "len(test)"
   ]
  },
  {
   "cell_type": "code",
   "execution_count": 7,
   "id": "42408385",
   "metadata": {},
   "outputs": [
    {
     "data": {
      "text/plain": [
       "109481"
      ]
     },
     "execution_count": 7,
     "metadata": {},
     "output_type": "execute_result"
    }
   ],
   "source": [
    "test['content'].nunique()"
   ]
  },
  {
   "cell_type": "code",
   "execution_count": 8,
   "id": "d87b9f93",
   "metadata": {},
   "outputs": [],
   "source": [
    "def save_sentence_dataframe(data):\n",
    "    idx=0\n",
    "    sentences = []\n",
    "    section_temp = []\n",
    "    for i in range(len(data)):\n",
    "        content = data['content'].iloc[idx]\n",
    "        if \"▲\" in str(content):\n",
    "            temp = str(content).split(\"▲\")\n",
    "            content=temp[0]\n",
    "        splited = str(content).replace(\". \",\"\\n\").split(\"\\n\")\n",
    "        sentences += splited\n",
    "        section_temp += [data['section'].iloc[idx]]*len(splited)\n",
    "        idx+=1\n",
    "    df = pd.DataFrame([sentences,section_temp]).T\n",
    "    df.columns = [\"sentence\",\"section\"]\n",
    "    filesave(df, \"joogang_sentence_section.csv\")"
   ]
  },
  {
   "cell_type": "code",
   "execution_count": 9,
   "id": "db17c523",
   "metadata": {},
   "outputs": [],
   "source": [
    "save_sentence_dataframe(test)"
   ]
  },
  {
   "cell_type": "code",
   "execution_count": 10,
   "id": "4d471eaa",
   "metadata": {},
   "outputs": [],
   "source": [
    "ttt=fileread(\"joogang_sentence_section.csv\")"
   ]
  },
  {
   "cell_type": "code",
   "execution_count": 12,
   "id": "1bffcf7e",
   "metadata": {},
   "outputs": [],
   "source": [
    "def topic_counter_by_section_from_sentence_csv(section,data):\n",
    "    okt=Okt()\n",
    "    parsed_data=[]\n",
    "    sectiondata = data[data[\"section\"]==section]\n",
    "    for sentence in sectiondata['sentence']:\n",
    "        if len(str(sentence))<6:\n",
    "            continue\n",
    "        nouns = okt.nouns(str(sentence))\n",
    "        stopword = [\"없다\",\"있다\",\"재밌다\",\"좋다\",\"최고\",\"같다\",\"이\",\"것\",\"진짜\",\"아니다\",\"이렇다\",\"그냥\",\"하나\",\"다시\",\"많다\",\"이다\",\"최악\",'완전',\"안되다\",'어떻다',\"정말\",\"보고\",'정도','역시']\n",
    "        for word in nouns:\n",
    "            if len(word)>1 and word not in stopword:\n",
    "                parsed_data.append(word)\n",
    "    counts = Counter(parsed_data)\n",
    "    return counts"
   ]
  },
  {
   "cell_type": "code",
   "execution_count": 13,
   "id": "b44b245c",
   "metadata": {},
   "outputs": [
    {
     "data": {
      "text/plain": [
       "사회                                                            27733\n",
       "정치                                                            20133\n",
       "경제                                                            17173\n",
       "국제                                                            11462\n",
       "브랜드뉴스                                                          8490\n",
       "스포츠                                                            6151\n",
       "오피니언                                                           5795\n",
       "문화                                                             4319\n",
       "중앙SUNDAY                                                       3226\n",
       "피플                                                             1445\n",
       "팩플                                                              642\n",
       "여행레저                                                            607\n",
       "더,오래                                                            568\n",
       "라이프                                                             548\n",
       "더 북한                                                            329\n",
       "앤츠랩                                                             304\n",
       "COOKING                                                         258\n",
       "Mr.밀리터리                                                         200\n",
       "hello! Parents                                                  174\n",
       "비크닉                                                              93\n",
       "<strong class=\"section_title\">Leader &amp; Reader</strong>       57\n",
       "퍼즐                                                               36\n",
       "Tran:D                                                           31\n",
       "<strong class=\"section_title\">쉴 땐 뭐하지</strong>                   22\n",
       "<strong class=\"section_title\">돈 버는 재미</strong>                   21\n",
       "<strong class=\"section_title\">세상과 함께</strong>                    19\n",
       "<strong class=\"section_title\">가족과 함께</strong>                    19\n",
       "톡톡에듀                                                             12\n",
       "<strong class=\"section_title\">마음 챙기기</strong>                    11\n",
       "Name: section, dtype: int64"
      ]
     },
     "execution_count": 13,
     "metadata": {},
     "output_type": "execute_result"
    }
   ],
   "source": [
    "test[\"section\"].value_counts()"
   ]
  },
  {
   "cell_type": "code",
   "execution_count": 17,
   "id": "7d6d2fae",
   "metadata": {},
   "outputs": [],
   "source": [
    "sections = test[\"section\"].value_counts()"
   ]
  },
  {
   "cell_type": "code",
   "execution_count": 18,
   "id": "23d1c56a",
   "metadata": {},
   "outputs": [],
   "source": [
    "sections = list(sections[sections>60].keys())"
   ]
  },
  {
   "cell_type": "code",
   "execution_count": 19,
   "id": "bebf2ccd",
   "metadata": {},
   "outputs": [
    {
     "data": {
      "text/plain": [
       "['사회',\n",
       " '정치',\n",
       " '경제',\n",
       " '국제',\n",
       " '브랜드뉴스',\n",
       " '스포츠',\n",
       " '오피니언',\n",
       " '문화',\n",
       " '중앙SUNDAY',\n",
       " '피플',\n",
       " '팩플',\n",
       " '여행레저',\n",
       " '더,오래',\n",
       " '라이프',\n",
       " '더 북한',\n",
       " '앤츠랩',\n",
       " 'COOKING',\n",
       " 'Mr.밀리터리',\n",
       " 'hello! Parents',\n",
       " '비크닉']"
      ]
     },
     "execution_count": 19,
     "metadata": {},
     "output_type": "execute_result"
    }
   ],
   "source": [
    "sections"
   ]
  },
  {
   "cell_type": "code",
   "execution_count": 20,
   "id": "e6df6d5d",
   "metadata": {},
   "outputs": [],
   "source": [
    "word_count_df = pd.DataFrame(columns=['word','count','section'])"
   ]
  },
  {
   "cell_type": "code",
   "execution_count": 21,
   "id": "d130c57f",
   "metadata": {
    "scrolled": true
   },
   "outputs": [
    {
     "data": {
      "text/html": [
       "<div>\n",
       "<style scoped>\n",
       "    .dataframe tbody tr th:only-of-type {\n",
       "        vertical-align: middle;\n",
       "    }\n",
       "\n",
       "    .dataframe tbody tr th {\n",
       "        vertical-align: top;\n",
       "    }\n",
       "\n",
       "    .dataframe thead th {\n",
       "        text-align: right;\n",
       "    }\n",
       "</style>\n",
       "<table border=\"1\" class=\"dataframe\">\n",
       "  <thead>\n",
       "    <tr style=\"text-align: right;\">\n",
       "      <th></th>\n",
       "      <th>word</th>\n",
       "      <th>count</th>\n",
       "      <th>section</th>\n",
       "    </tr>\n",
       "  </thead>\n",
       "  <tbody>\n",
       "  </tbody>\n",
       "</table>\n",
       "</div>"
      ],
      "text/plain": [
       "Empty DataFrame\n",
       "Columns: [word, count, section]\n",
       "Index: []"
      ]
     },
     "execution_count": 21,
     "metadata": {},
     "output_type": "execute_result"
    }
   ],
   "source": [
    "word_count_df"
   ]
  },
  {
   "cell_type": "code",
   "execution_count": 137,
   "id": "f0dbd750",
   "metadata": {
    "collapsed": true
   },
   "outputs": [
    {
     "ename": "KeyboardInterrupt",
     "evalue": "",
     "output_type": "error",
     "traceback": [
      "\u001b[1;31m---------------------------------------------------------------------------\u001b[0m",
      "\u001b[1;31mKeyboardInterrupt\u001b[0m                         Traceback (most recent call last)",
      "Input \u001b[1;32mIn [137]\u001b[0m, in \u001b[0;36m<cell line: 1>\u001b[1;34m()\u001b[0m\n\u001b[1;32m----> 1\u001b[0m counter\u001b[38;5;241m=\u001b[39m\u001b[43mtopic_counter_by_section\u001b[49m\u001b[43m(\u001b[49m\u001b[38;5;124;43m\"\u001b[39;49m\u001b[38;5;124;43m경제\u001b[39;49m\u001b[38;5;124;43m\"\u001b[39;49m\u001b[43m,\u001b[49m\u001b[43mtest\u001b[49m\u001b[43m)\u001b[49m\n",
      "Input \u001b[1;32mIn [131]\u001b[0m, in \u001b[0;36mtopic_counter_by_section\u001b[1;34m(section, data)\u001b[0m\n\u001b[0;32m     13\u001b[0m         \u001b[38;5;28;01mif\u001b[39;00m \u001b[38;5;28mlen\u001b[39m(sentence)\u001b[38;5;241m<\u001b[39m\u001b[38;5;241m6\u001b[39m:\n\u001b[0;32m     14\u001b[0m             \u001b[38;5;28;01mcontinue\u001b[39;00m\n\u001b[1;32m---> 15\u001b[0m         parsed_data \u001b[38;5;241m+\u001b[39m\u001b[38;5;241m=\u001b[39m \u001b[43mokt\u001b[49m\u001b[38;5;241;43m.\u001b[39;49m\u001b[43mpos\u001b[49m\u001b[43m(\u001b[49m\u001b[43msentence\u001b[49m\u001b[43m,\u001b[49m\u001b[43m \u001b[49m\u001b[43mnorm\u001b[49m\u001b[38;5;241;43m=\u001b[39;49m\u001b[38;5;28;43;01mTrue\u001b[39;49;00m\u001b[43m,\u001b[49m\u001b[43m \u001b[49m\u001b[43mstem\u001b[49m\u001b[38;5;241;43m=\u001b[39;49m\u001b[38;5;28;43;01mTrue\u001b[39;49;00m\u001b[43m)\u001b[49m\n\u001b[0;32m     16\u001b[0m word_list \u001b[38;5;241m=\u001b[39m []\n\u001b[0;32m     17\u001b[0m stopword \u001b[38;5;241m=\u001b[39m [\u001b[38;5;124m\"\u001b[39m\u001b[38;5;124m없다\u001b[39m\u001b[38;5;124m\"\u001b[39m,\u001b[38;5;124m\"\u001b[39m\u001b[38;5;124m있다\u001b[39m\u001b[38;5;124m\"\u001b[39m,\u001b[38;5;124m\"\u001b[39m\u001b[38;5;124m재밌다\u001b[39m\u001b[38;5;124m\"\u001b[39m,\u001b[38;5;124m\"\u001b[39m\u001b[38;5;124m좋다\u001b[39m\u001b[38;5;124m\"\u001b[39m,\u001b[38;5;124m\"\u001b[39m\u001b[38;5;124m최고\u001b[39m\u001b[38;5;124m\"\u001b[39m,\u001b[38;5;124m\"\u001b[39m\u001b[38;5;124m같다\u001b[39m\u001b[38;5;124m\"\u001b[39m,\u001b[38;5;124m\"\u001b[39m\u001b[38;5;124m이\u001b[39m\u001b[38;5;124m\"\u001b[39m,\u001b[38;5;124m\"\u001b[39m\u001b[38;5;124m것\u001b[39m\u001b[38;5;124m\"\u001b[39m,\u001b[38;5;124m\"\u001b[39m\u001b[38;5;124m진짜\u001b[39m\u001b[38;5;124m\"\u001b[39m,\u001b[38;5;124m\"\u001b[39m\u001b[38;5;124m아니다\u001b[39m\u001b[38;5;124m\"\u001b[39m,\u001b[38;5;124m\"\u001b[39m\u001b[38;5;124m이렇다\u001b[39m\u001b[38;5;124m\"\u001b[39m,\u001b[38;5;124m\"\u001b[39m\u001b[38;5;124m그냥\u001b[39m\u001b[38;5;124m\"\u001b[39m,\u001b[38;5;124m\"\u001b[39m\u001b[38;5;124m하나\u001b[39m\u001b[38;5;124m\"\u001b[39m,\u001b[38;5;124m\"\u001b[39m\u001b[38;5;124m다시\u001b[39m\u001b[38;5;124m\"\u001b[39m,\u001b[38;5;124m\"\u001b[39m\u001b[38;5;124m많다\u001b[39m\u001b[38;5;124m\"\u001b[39m,\u001b[38;5;124m\"\u001b[39m\u001b[38;5;124m이다\u001b[39m\u001b[38;5;124m\"\u001b[39m,\u001b[38;5;124m\"\u001b[39m\u001b[38;5;124m최악\u001b[39m\u001b[38;5;124m\"\u001b[39m,\u001b[38;5;124m'\u001b[39m\u001b[38;5;124m완전\u001b[39m\u001b[38;5;124m'\u001b[39m,\u001b[38;5;124m\"\u001b[39m\u001b[38;5;124m안되다\u001b[39m\u001b[38;5;124m\"\u001b[39m,\u001b[38;5;124m'\u001b[39m\u001b[38;5;124m어떻다\u001b[39m\u001b[38;5;124m'\u001b[39m,\u001b[38;5;124m\"\u001b[39m\u001b[38;5;124m정말\u001b[39m\u001b[38;5;124m\"\u001b[39m,\u001b[38;5;124m\"\u001b[39m\u001b[38;5;124m보고\u001b[39m\u001b[38;5;124m\"\u001b[39m,\u001b[38;5;124m'\u001b[39m\u001b[38;5;124m정도\u001b[39m\u001b[38;5;124m'\u001b[39m,\u001b[38;5;124m'\u001b[39m\u001b[38;5;124m역시\u001b[39m\u001b[38;5;124m'\u001b[39m]\n",
      "File \u001b[1;32mC:\\anaconda3\\lib\\site-packages\\konlpy\\tag\\_okt.py:71\u001b[0m, in \u001b[0;36mOkt.pos\u001b[1;34m(self, phrase, norm, stem, join)\u001b[0m\n\u001b[0;32m     59\u001b[0m \u001b[38;5;124;03m\"\"\"POS tagger.\u001b[39;00m\n\u001b[0;32m     60\u001b[0m \u001b[38;5;124;03mIn contrast to other classes in this subpackage,\u001b[39;00m\n\u001b[0;32m     61\u001b[0m \u001b[38;5;124;03mthis POS tagger doesn't have a `flatten` option,\u001b[39;00m\n\u001b[1;32m   (...)\u001b[0m\n\u001b[0;32m     67\u001b[0m \u001b[38;5;124;03m:param join: If True, returns joined sets of morph and tag.\u001b[39;00m\n\u001b[0;32m     68\u001b[0m \u001b[38;5;124;03m\"\"\"\u001b[39;00m\n\u001b[0;32m     69\u001b[0m validate_phrase_inputs(phrase)\n\u001b[1;32m---> 71\u001b[0m tokens \u001b[38;5;241m=\u001b[39m \u001b[38;5;28;43mself\u001b[39;49m\u001b[38;5;241;43m.\u001b[39;49m\u001b[43mjki\u001b[49m\u001b[38;5;241;43m.\u001b[39;49m\u001b[43mtokenize\u001b[49m\u001b[43m(\u001b[49m\n\u001b[0;32m     72\u001b[0m \u001b[43m            \u001b[49m\u001b[43mphrase\u001b[49m\u001b[43m,\u001b[49m\n\u001b[0;32m     73\u001b[0m \u001b[43m            \u001b[49m\u001b[43mjpype\u001b[49m\u001b[38;5;241;43m.\u001b[39;49m\u001b[43mjava\u001b[49m\u001b[38;5;241;43m.\u001b[39;49m\u001b[43mlang\u001b[49m\u001b[38;5;241;43m.\u001b[39;49m\u001b[43mBoolean\u001b[49m\u001b[43m(\u001b[49m\u001b[43mnorm\u001b[49m\u001b[43m)\u001b[49m\u001b[43m,\u001b[49m\n\u001b[0;32m     74\u001b[0m \u001b[43m            \u001b[49m\u001b[43mjpype\u001b[49m\u001b[38;5;241;43m.\u001b[39;49m\u001b[43mjava\u001b[49m\u001b[38;5;241;43m.\u001b[39;49m\u001b[43mlang\u001b[49m\u001b[38;5;241;43m.\u001b[39;49m\u001b[43mBoolean\u001b[49m\u001b[43m(\u001b[49m\u001b[43mstem\u001b[49m\u001b[43m)\u001b[49m\u001b[43m)\u001b[49m\u001b[38;5;241m.\u001b[39mtoArray()\n\u001b[0;32m     75\u001b[0m \u001b[38;5;28;01mif\u001b[39;00m join:\n\u001b[0;32m     76\u001b[0m     \u001b[38;5;28;01mreturn\u001b[39;00m [t \u001b[38;5;28;01mfor\u001b[39;00m t \u001b[38;5;129;01min\u001b[39;00m tokens]\n",
      "\u001b[1;31mKeyboardInterrupt\u001b[0m: "
     ]
    }
   ],
   "source": [
    "# counter=topic_counter_by_section(\"경제\",test)"
   ]
  },
  {
   "cell_type": "code",
   "execution_count": null,
   "id": "f58d42a7",
   "metadata": {},
   "outputs": [],
   "source": [
    "# temp = pd.DataFrame([dict(counter)]).T\n",
    "# temp['word'] = temp.index\n",
    "# temp['section'] = \"경제\"\n",
    "# temp.columns=['count','word','section']\n",
    "# word_count_df = pd.concat([word_count_df,temp],ignore_index=True)"
   ]
  },
  {
   "cell_type": "code",
   "execution_count": null,
   "id": "410314f4",
   "metadata": {
    "scrolled": true
   },
   "outputs": [],
   "source": [
    "# word_count_df"
   ]
  },
  {
   "cell_type": "code",
   "execution_count": 22,
   "id": "4a32c953",
   "metadata": {},
   "outputs": [],
   "source": [
    "def make_word_count_df():\n",
    "    df = pd.DataFrame(columns=['word','count','section'])\n",
    "    for section in sections:\n",
    "        print(section)\n",
    "        counter=topic_counter_by_section(section,test)\n",
    "        temp = pd.DataFrame([dict(counter)]).T\n",
    "        temp['word'] = temp.index\n",
    "        temp['section'] = section\n",
    "        temp.columns=['count','word','section']\n",
    "        df = pd.concat([df,temp],ignore_index=True)\n",
    "    return df"
   ]
  },
  {
   "cell_type": "code",
   "execution_count": 23,
   "id": "24f80747",
   "metadata": {},
   "outputs": [],
   "source": [
    "def make_word_count_df2(data,section_list):\n",
    "    df = pd.DataFrame(columns=['word','count','section'])\n",
    "    for section in section_list:\n",
    "        print(section)\n",
    "        counter=topic_counter_by_section_from_sentence_csv(section,data)\n",
    "        temp = pd.DataFrame([dict(counter)]).T\n",
    "        temp['word'] = temp.index\n",
    "        temp['section'] = section\n",
    "        temp.columns=['count','word','section']\n",
    "        df = pd.concat([df,temp],ignore_index=True)\n",
    "    return df"
   ]
  },
  {
   "cell_type": "code",
   "execution_count": 30,
   "id": "c359110a",
   "metadata": {},
   "outputs": [],
   "source": [
    "t=test[(test['section']==\"Sports\")&(test['content'].str.contains(\"경기\"))]"
   ]
  },
  {
   "cell_type": "code",
   "execution_count": 25,
   "id": "bdbbd5e3",
   "metadata": {},
   "outputs": [
    {
     "ename": "NameError",
     "evalue": "name 't' is not defined",
     "output_type": "error",
     "traceback": [
      "\u001b[1;31m---------------------------------------------------------------------------\u001b[0m",
      "\u001b[1;31mNameError\u001b[0m                                 Traceback (most recent call last)",
      "Input \u001b[1;32mIn [25]\u001b[0m, in \u001b[0;36m<cell line: 2>\u001b[1;34m()\u001b[0m\n\u001b[0;32m      1\u001b[0m cnt\u001b[38;5;241m=\u001b[39m\u001b[38;5;241m0\u001b[39m\n\u001b[1;32m----> 2\u001b[0m \u001b[38;5;28;01mfor\u001b[39;00m i \u001b[38;5;129;01min\u001b[39;00m \u001b[43mt\u001b[49m[\u001b[38;5;124m'\u001b[39m\u001b[38;5;124mcontent\u001b[39m\u001b[38;5;124m'\u001b[39m]:\n\u001b[0;32m      3\u001b[0m     \u001b[38;5;28mprint\u001b[39m(i)\n\u001b[0;32m      5\u001b[0m     cnt\u001b[38;5;241m+\u001b[39m\u001b[38;5;241m=\u001b[39m\u001b[38;5;241m1\u001b[39m\n",
      "\u001b[1;31mNameError\u001b[0m: name 't' is not defined"
     ]
    }
   ],
   "source": [
    "cnt=0\n",
    "for i in t['content']:\n",
    "    print(i)\n",
    "    \n",
    "    cnt+=1\n",
    "    if cnt>6:\n",
    "        break"
   ]
  },
  {
   "cell_type": "code",
   "execution_count": null,
   "id": "fa3cad67",
   "metadata": {
    "scrolled": false
   },
   "outputs": [
    {
     "name": "stdout",
     "output_type": "stream",
     "text": [
      "사회\n"
     ]
    }
   ],
   "source": [
    "w2 = make_word_count_df2(ttt,['사회','정치','경제','국제','브랜드뉴스','스포츠','오피니언','문화','중앙SUNDAY','피플','팩플','여행레저','더,오래','라이프','더 북한','앤츠랩','COOKING','Mr.밀리터리','hello! Parents','비크닉'])"
   ]
  },
  {
   "cell_type": "code",
   "execution_count": null,
   "id": "28d207fa",
   "metadata": {},
   "outputs": [],
   "source": [
    "w2"
   ]
  },
  {
   "cell_type": "code",
   "execution_count": null,
   "id": "ca9224ec",
   "metadata": {},
   "outputs": [],
   "source": [
    "w2.sort_values(by=\"count\", ascending=False)"
   ]
  },
  {
   "cell_type": "code",
   "execution_count": null,
   "id": "7c925b81",
   "metadata": {},
   "outputs": [],
   "source": [
    "w2['word_length']=[len(i) for i in w2['word']]"
   ]
  },
  {
   "cell_type": "code",
   "execution_count": null,
   "id": "75811ff3",
   "metadata": {},
   "outputs": [],
   "source": [
    "w2 = w2[w2['word_length']>1]"
   ]
  },
  {
   "cell_type": "code",
   "execution_count": null,
   "id": "578097d4",
   "metadata": {},
   "outputs": [],
   "source": [
    "w2.drop(['word_length'],axis=1,inplace=True)"
   ]
  },
  {
   "cell_type": "code",
   "execution_count": null,
   "id": "410f47bc",
   "metadata": {},
   "outputs": [],
   "source": [
    "w2.sort_values(by=\"count\", ascending=False)"
   ]
  },
  {
   "cell_type": "code",
   "execution_count": null,
   "id": "5f48c9c5",
   "metadata": {},
   "outputs": [],
   "source": [
    "filesave(w2,\"joogang_content_word_count.csv\")"
   ]
  },
  {
   "cell_type": "code",
   "execution_count": null,
   "id": "9f43596c",
   "metadata": {},
   "outputs": [],
   "source": []
  }
 ],
 "metadata": {
  "kernelspec": {
   "display_name": "Python 3 (ipykernel)",
   "language": "python",
   "name": "python3"
  },
  "language_info": {
   "codemirror_mode": {
    "name": "ipython",
    "version": 3
   },
   "file_extension": ".py",
   "mimetype": "text/x-python",
   "name": "python",
   "nbconvert_exporter": "python",
   "pygments_lexer": "ipython3",
   "version": "3.9.12"
  }
 },
 "nbformat": 4,
 "nbformat_minor": 5
}
