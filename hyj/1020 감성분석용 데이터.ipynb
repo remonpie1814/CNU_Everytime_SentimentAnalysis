{
 "cells": [
  {
   "cell_type": "code",
   "execution_count": 234,
   "id": "a887fba0",
   "metadata": {},
   "outputs": [],
   "source": [
    "import pandas as pd"
   ]
  },
  {
   "cell_type": "code",
   "execution_count": 235,
   "id": "dd86dc65",
   "metadata": {},
   "outputs": [],
   "source": [
    "a=pd.read_csv(\"./ratings_train.txt\",sep = \"\\t\",encoding = \"utf-8\")"
   ]
  },
  {
   "cell_type": "code",
   "execution_count": 236,
   "id": "f6d15c56",
   "metadata": {},
   "outputs": [
    {
     "data": {
      "text/html": [
       "<div>\n",
       "<style scoped>\n",
       "    .dataframe tbody tr th:only-of-type {\n",
       "        vertical-align: middle;\n",
       "    }\n",
       "\n",
       "    .dataframe tbody tr th {\n",
       "        vertical-align: top;\n",
       "    }\n",
       "\n",
       "    .dataframe thead th {\n",
       "        text-align: right;\n",
       "    }\n",
       "</style>\n",
       "<table border=\"1\" class=\"dataframe\">\n",
       "  <thead>\n",
       "    <tr style=\"text-align: right;\">\n",
       "      <th></th>\n",
       "      <th>id</th>\n",
       "      <th>document</th>\n",
       "      <th>label</th>\n",
       "    </tr>\n",
       "  </thead>\n",
       "  <tbody>\n",
       "    <tr>\n",
       "      <th>0</th>\n",
       "      <td>9976970</td>\n",
       "      <td>아 더빙.. 진짜 짜증나네요 목소리</td>\n",
       "      <td>0</td>\n",
       "    </tr>\n",
       "    <tr>\n",
       "      <th>1</th>\n",
       "      <td>3819312</td>\n",
       "      <td>흠...포스터보고 초딩영화줄....오버연기조차 가볍지 않구나</td>\n",
       "      <td>1</td>\n",
       "    </tr>\n",
       "    <tr>\n",
       "      <th>2</th>\n",
       "      <td>10265843</td>\n",
       "      <td>너무재밓었다그래서보는것을추천한다</td>\n",
       "      <td>0</td>\n",
       "    </tr>\n",
       "    <tr>\n",
       "      <th>3</th>\n",
       "      <td>9045019</td>\n",
       "      <td>교도소 이야기구먼 ..솔직히 재미는 없다..평점 조정</td>\n",
       "      <td>0</td>\n",
       "    </tr>\n",
       "    <tr>\n",
       "      <th>4</th>\n",
       "      <td>6483659</td>\n",
       "      <td>사이몬페그의 익살스런 연기가 돋보였던 영화!스파이더맨에서 늙어보이기만 했던 커스틴 ...</td>\n",
       "      <td>1</td>\n",
       "    </tr>\n",
       "  </tbody>\n",
       "</table>\n",
       "</div>"
      ],
      "text/plain": [
       "         id                                           document  label\n",
       "0   9976970                                아 더빙.. 진짜 짜증나네요 목소리      0\n",
       "1   3819312                  흠...포스터보고 초딩영화줄....오버연기조차 가볍지 않구나      1\n",
       "2  10265843                                  너무재밓었다그래서보는것을추천한다      0\n",
       "3   9045019                      교도소 이야기구먼 ..솔직히 재미는 없다..평점 조정      0\n",
       "4   6483659  사이몬페그의 익살스런 연기가 돋보였던 영화!스파이더맨에서 늙어보이기만 했던 커스틴 ...      1"
      ]
     },
     "execution_count": 236,
     "metadata": {},
     "output_type": "execute_result"
    }
   ],
   "source": [
    "a.head()"
   ]
  },
  {
   "cell_type": "code",
   "execution_count": 237,
   "id": "23d8e88f",
   "metadata": {},
   "outputs": [
    {
     "data": {
      "text/plain": [
       "Index(['id', 'document', 'label'], dtype='object')"
      ]
     },
     "execution_count": 237,
     "metadata": {},
     "output_type": "execute_result"
    }
   ],
   "source": [
    "a.columns"
   ]
  },
  {
   "cell_type": "code",
   "execution_count": 238,
   "id": "0da62893",
   "metadata": {},
   "outputs": [],
   "source": [
    "a=a[[\"label\",\"document\"]]"
   ]
  },
  {
   "cell_type": "code",
   "execution_count": 239,
   "id": "14ce992a",
   "metadata": {},
   "outputs": [],
   "source": [
    "a.columns=[\"감정\",\"문장\"]"
   ]
  },
  {
   "cell_type": "code",
   "execution_count": 240,
   "id": "70a30306",
   "metadata": {},
   "outputs": [
    {
     "data": {
      "text/html": [
       "<div>\n",
       "<style scoped>\n",
       "    .dataframe tbody tr th:only-of-type {\n",
       "        vertical-align: middle;\n",
       "    }\n",
       "\n",
       "    .dataframe tbody tr th {\n",
       "        vertical-align: top;\n",
       "    }\n",
       "\n",
       "    .dataframe thead th {\n",
       "        text-align: right;\n",
       "    }\n",
       "</style>\n",
       "<table border=\"1\" class=\"dataframe\">\n",
       "  <thead>\n",
       "    <tr style=\"text-align: right;\">\n",
       "      <th></th>\n",
       "      <th>감정</th>\n",
       "      <th>문장</th>\n",
       "    </tr>\n",
       "  </thead>\n",
       "  <tbody>\n",
       "    <tr>\n",
       "      <th>0</th>\n",
       "      <td>0</td>\n",
       "      <td>아 더빙.. 진짜 짜증나네요 목소리</td>\n",
       "    </tr>\n",
       "    <tr>\n",
       "      <th>1</th>\n",
       "      <td>1</td>\n",
       "      <td>흠...포스터보고 초딩영화줄....오버연기조차 가볍지 않구나</td>\n",
       "    </tr>\n",
       "    <tr>\n",
       "      <th>2</th>\n",
       "      <td>0</td>\n",
       "      <td>너무재밓었다그래서보는것을추천한다</td>\n",
       "    </tr>\n",
       "    <tr>\n",
       "      <th>3</th>\n",
       "      <td>0</td>\n",
       "      <td>교도소 이야기구먼 ..솔직히 재미는 없다..평점 조정</td>\n",
       "    </tr>\n",
       "    <tr>\n",
       "      <th>4</th>\n",
       "      <td>1</td>\n",
       "      <td>사이몬페그의 익살스런 연기가 돋보였던 영화!스파이더맨에서 늙어보이기만 했던 커스틴 ...</td>\n",
       "    </tr>\n",
       "  </tbody>\n",
       "</table>\n",
       "</div>"
      ],
      "text/plain": [
       "   감정                                                 문장\n",
       "0   0                                아 더빙.. 진짜 짜증나네요 목소리\n",
       "1   1                  흠...포스터보고 초딩영화줄....오버연기조차 가볍지 않구나\n",
       "2   0                                  너무재밓었다그래서보는것을추천한다\n",
       "3   0                      교도소 이야기구먼 ..솔직히 재미는 없다..평점 조정\n",
       "4   1  사이몬페그의 익살스런 연기가 돋보였던 영화!스파이더맨에서 늙어보이기만 했던 커스틴 ..."
      ]
     },
     "execution_count": 240,
     "metadata": {},
     "output_type": "execute_result"
    }
   ],
   "source": [
    "a.head()"
   ]
  },
  {
   "cell_type": "code",
   "execution_count": 331,
   "id": "d5dea527",
   "metadata": {},
   "outputs": [
    {
     "data": {
      "text/plain": [
       "0    75173\n",
       "1    74827\n",
       "Name: 감정, dtype: int64"
      ]
     },
     "execution_count": 331,
     "metadata": {},
     "output_type": "execute_result"
    }
   ],
   "source": [
    "a[\"감정\"].value_counts()"
   ]
  },
  {
   "cell_type": "code",
   "execution_count": 241,
   "id": "23bc4a1c",
   "metadata": {},
   "outputs": [],
   "source": [
    "b=pd.read_csv(\"naver_shopping.txt\",sep=\"\\t\",encoding=\"utf-8\",header=None)"
   ]
  },
  {
   "cell_type": "code",
   "execution_count": 242,
   "id": "13095821",
   "metadata": {},
   "outputs": [
    {
     "data": {
      "text/html": [
       "<div>\n",
       "<style scoped>\n",
       "    .dataframe tbody tr th:only-of-type {\n",
       "        vertical-align: middle;\n",
       "    }\n",
       "\n",
       "    .dataframe tbody tr th {\n",
       "        vertical-align: top;\n",
       "    }\n",
       "\n",
       "    .dataframe thead th {\n",
       "        text-align: right;\n",
       "    }\n",
       "</style>\n",
       "<table border=\"1\" class=\"dataframe\">\n",
       "  <thead>\n",
       "    <tr style=\"text-align: right;\">\n",
       "      <th></th>\n",
       "      <th>0</th>\n",
       "      <th>1</th>\n",
       "    </tr>\n",
       "  </thead>\n",
       "  <tbody>\n",
       "    <tr>\n",
       "      <th>0</th>\n",
       "      <td>5</td>\n",
       "      <td>배공빠르고 굿</td>\n",
       "    </tr>\n",
       "    <tr>\n",
       "      <th>1</th>\n",
       "      <td>2</td>\n",
       "      <td>택배가 엉망이네용 저희집 밑에층에 말도없이 놔두고가고</td>\n",
       "    </tr>\n",
       "    <tr>\n",
       "      <th>2</th>\n",
       "      <td>5</td>\n",
       "      <td>아주좋아요 바지 정말 좋아서2개 더 구매했어요 이가격에 대박입니다. 바느질이 조금 ...</td>\n",
       "    </tr>\n",
       "    <tr>\n",
       "      <th>3</th>\n",
       "      <td>2</td>\n",
       "      <td>선물용으로 빨리 받아서 전달했어야 하는 상품이었는데 머그컵만 와서 당황했습니다. 전...</td>\n",
       "    </tr>\n",
       "    <tr>\n",
       "      <th>4</th>\n",
       "      <td>5</td>\n",
       "      <td>민트색상 예뻐요. 옆 손잡이는 거는 용도로도 사용되네요 ㅎㅎ</td>\n",
       "    </tr>\n",
       "  </tbody>\n",
       "</table>\n",
       "</div>"
      ],
      "text/plain": [
       "   0                                                  1\n",
       "0  5                                            배공빠르고 굿\n",
       "1  2                      택배가 엉망이네용 저희집 밑에층에 말도없이 놔두고가고\n",
       "2  5  아주좋아요 바지 정말 좋아서2개 더 구매했어요 이가격에 대박입니다. 바느질이 조금 ...\n",
       "3  2  선물용으로 빨리 받아서 전달했어야 하는 상품이었는데 머그컵만 와서 당황했습니다. 전...\n",
       "4  5                  민트색상 예뻐요. 옆 손잡이는 거는 용도로도 사용되네요 ㅎㅎ"
      ]
     },
     "execution_count": 242,
     "metadata": {},
     "output_type": "execute_result"
    }
   ],
   "source": [
    "b.head()"
   ]
  },
  {
   "cell_type": "code",
   "execution_count": 243,
   "id": "9fb40c97",
   "metadata": {},
   "outputs": [
    {
     "data": {
      "text/plain": [
       "array([5, 2, 1, 4], dtype=int64)"
      ]
     },
     "execution_count": 243,
     "metadata": {},
     "output_type": "execute_result"
    }
   ],
   "source": [
    "b[0].unique()"
   ]
  },
  {
   "cell_type": "code",
   "execution_count": 244,
   "id": "cce5b081",
   "metadata": {},
   "outputs": [],
   "source": [
    "b = b.replace([5,4,2,1],[1,1,0,0])"
   ]
  },
  {
   "cell_type": "code",
   "execution_count": 245,
   "id": "c580269b",
   "metadata": {},
   "outputs": [],
   "source": [
    "b.columns=[\"감정\",\"문장\"]"
   ]
  },
  {
   "cell_type": "code",
   "execution_count": 246,
   "id": "4cb08c90",
   "metadata": {},
   "outputs": [
    {
     "data": {
      "text/html": [
       "<div>\n",
       "<style scoped>\n",
       "    .dataframe tbody tr th:only-of-type {\n",
       "        vertical-align: middle;\n",
       "    }\n",
       "\n",
       "    .dataframe tbody tr th {\n",
       "        vertical-align: top;\n",
       "    }\n",
       "\n",
       "    .dataframe thead th {\n",
       "        text-align: right;\n",
       "    }\n",
       "</style>\n",
       "<table border=\"1\" class=\"dataframe\">\n",
       "  <thead>\n",
       "    <tr style=\"text-align: right;\">\n",
       "      <th></th>\n",
       "      <th>감정</th>\n",
       "      <th>문장</th>\n",
       "    </tr>\n",
       "  </thead>\n",
       "  <tbody>\n",
       "    <tr>\n",
       "      <th>0</th>\n",
       "      <td>1</td>\n",
       "      <td>배공빠르고 굿</td>\n",
       "    </tr>\n",
       "    <tr>\n",
       "      <th>1</th>\n",
       "      <td>0</td>\n",
       "      <td>택배가 엉망이네용 저희집 밑에층에 말도없이 놔두고가고</td>\n",
       "    </tr>\n",
       "    <tr>\n",
       "      <th>2</th>\n",
       "      <td>1</td>\n",
       "      <td>아주좋아요 바지 정말 좋아서2개 더 구매했어요 이가격에 대박입니다. 바느질이 조금 ...</td>\n",
       "    </tr>\n",
       "    <tr>\n",
       "      <th>3</th>\n",
       "      <td>0</td>\n",
       "      <td>선물용으로 빨리 받아서 전달했어야 하는 상품이었는데 머그컵만 와서 당황했습니다. 전...</td>\n",
       "    </tr>\n",
       "    <tr>\n",
       "      <th>4</th>\n",
       "      <td>1</td>\n",
       "      <td>민트색상 예뻐요. 옆 손잡이는 거는 용도로도 사용되네요 ㅎㅎ</td>\n",
       "    </tr>\n",
       "  </tbody>\n",
       "</table>\n",
       "</div>"
      ],
      "text/plain": [
       "   감정                                                 문장\n",
       "0   1                                            배공빠르고 굿\n",
       "1   0                      택배가 엉망이네용 저희집 밑에층에 말도없이 놔두고가고\n",
       "2   1  아주좋아요 바지 정말 좋아서2개 더 구매했어요 이가격에 대박입니다. 바느질이 조금 ...\n",
       "3   0  선물용으로 빨리 받아서 전달했어야 하는 상품이었는데 머그컵만 와서 당황했습니다. 전...\n",
       "4   1                  민트색상 예뻐요. 옆 손잡이는 거는 용도로도 사용되네요 ㅎㅎ"
      ]
     },
     "execution_count": 246,
     "metadata": {},
     "output_type": "execute_result"
    }
   ],
   "source": [
    "b.head()"
   ]
  },
  {
   "cell_type": "code",
   "execution_count": 332,
   "id": "aebe4b90",
   "metadata": {},
   "outputs": [
    {
     "data": {
      "text/plain": [
       "0    100037\n",
       "1     99963\n",
       "Name: 감정, dtype: int64"
      ]
     },
     "execution_count": 332,
     "metadata": {},
     "output_type": "execute_result"
    }
   ],
   "source": [
    "b[\"감정\"].value_counts()"
   ]
  },
  {
   "cell_type": "code",
   "execution_count": 291,
   "id": "b5deb60a",
   "metadata": {},
   "outputs": [
    {
     "name": "stderr",
     "output_type": "stream",
     "text": [
      "C:\\Users\\Public\\Documents\\ESTsoft\\CreatorTemp\\ipykernel_9592\\4066613348.py:1: DtypeWarning: Columns (1,2,3,4,5,6,7,8,9,10,11,12,13,14) have mixed types. Specify dtype option on import or set low_memory=False.\n",
      "  c=pd.read_csv(\"Sent_Training.txt\",sep=\"\\t\",encoding=\"utf-8\")\n"
     ]
    }
   ],
   "source": [
    "c=pd.read_csv(\"Sent_Training.txt\",sep=\"\\t\",encoding=\"utf-8\")"
   ]
  },
  {
   "cell_type": "code",
   "execution_count": 292,
   "id": "aab58649",
   "metadata": {},
   "outputs": [
    {
     "data": {
      "text/html": [
       "<div>\n",
       "<style scoped>\n",
       "    .dataframe tbody tr th:only-of-type {\n",
       "        vertical-align: middle;\n",
       "    }\n",
       "\n",
       "    .dataframe tbody tr th {\n",
       "        vertical-align: top;\n",
       "    }\n",
       "\n",
       "    .dataframe thead th {\n",
       "        text-align: right;\n",
       "    }\n",
       "</style>\n",
       "<table border=\"1\" class=\"dataframe\">\n",
       "  <thead>\n",
       "    <tr style=\"text-align: right;\">\n",
       "      <th></th>\n",
       "      <th>번호</th>\n",
       "      <th>연령</th>\n",
       "      <th>성별</th>\n",
       "      <th>상황키워드</th>\n",
       "      <th>신체질환</th>\n",
       "      <th>감정_대분류</th>\n",
       "      <th>감정_소분류</th>\n",
       "      <th>사람문장1</th>\n",
       "      <th>시스템응답1</th>\n",
       "      <th>사람문장2</th>\n",
       "      <th>시스템응답2</th>\n",
       "      <th>사람문장3</th>\n",
       "      <th>시스템응답3</th>\n",
       "      <th>사람문장4</th>\n",
       "      <th>시스템응답4</th>\n",
       "    </tr>\n",
       "  </thead>\n",
       "  <tbody>\n",
       "    <tr>\n",
       "      <th>0</th>\n",
       "      <td>44164.0</td>\n",
       "      <td>청년</td>\n",
       "      <td>남성</td>\n",
       "      <td>연애, 결혼, 출산</td>\n",
       "      <td>해당없음</td>\n",
       "      <td>기쁨</td>\n",
       "      <td>신이 난</td>\n",
       "      <td>아내가 드디어 출산하게 되어서 정말 신이 나.</td>\n",
       "      <td>아내분이 출산을 하시는군요. 정말 축하드려요.</td>\n",
       "      <td>아 지금 정말 신이 나.</td>\n",
       "      <td>잘 된 일이네요.</td>\n",
       "      <td>아기가 점점 클게 벌써 기대가 되네. 내가 많이 놀아줘야지.</td>\n",
       "      <td>좋은 아빠가 되실 거 같아요. 진심으로 축하드려요.</td>\n",
       "      <td>NaN</td>\n",
       "      <td>NaN</td>\n",
       "    </tr>\n",
       "    <tr>\n",
       "      <th>1</th>\n",
       "      <td>3926.0</td>\n",
       "      <td>노년</td>\n",
       "      <td>남성</td>\n",
       "      <td>건강, 죽음</td>\n",
       "      <td>만성질환 유</td>\n",
       "      <td>불안</td>\n",
       "      <td>스트레스 받는</td>\n",
       "      <td>당뇨랑 합병증 때문에 먹어야 할 약이 열 가지가 넘어가니까 스트레스야.</td>\n",
       "      <td>약 종류가 많아 번거로우시겠어요.</td>\n",
       "      <td>건강할 때 관리 좀 잘할걸 하는 생각이 들더라고.</td>\n",
       "      <td>현재 상황에서 변화를 주기 위해 어떻게 하면 될까요?</td>\n",
       "      <td>약을 잘 챙겨 먹고 나을 수 있도록 노력해야지.</td>\n",
       "      <td>약을 잘 챙겨 먹어 건강해지시길 바랄게요.</td>\n",
       "      <td>NaN</td>\n",
       "      <td>NaN</td>\n",
       "    </tr>\n",
       "    <tr>\n",
       "      <th>2</th>\n",
       "      <td>50882.0</td>\n",
       "      <td>청소년</td>\n",
       "      <td>여성</td>\n",
       "      <td>학업 및 진로</td>\n",
       "      <td>해당없음</td>\n",
       "      <td>당황</td>\n",
       "      <td>당황</td>\n",
       "      <td>고등학교에 올라오니 중학교 때보다 수업이 갑자기 어려워져서 당황스러워.</td>\n",
       "      <td>고등학교 수업이 중학교 때와는 다르게 갑자기 어려워서 당황스러우시군요.</td>\n",
       "      <td>아직 학기 초인데 내가 수업에 잘 따라갈 수 있을지 걱정돼.</td>\n",
       "      <td>이 상황에서 할 수 있는 게 어떤 것이 있을까요?</td>\n",
       "      <td>중학교 수업을 들을 때보다 훨씬 더 열심히 할 거야.</td>\n",
       "      <td>수업을 어떤 방식으로 열심히 듣는게 좋을까요?</td>\n",
       "      <td>선생님이 강조하신 부분을 필기하고 집에서 매일 수업 내용을 복습하려고 해.</td>\n",
       "      <td>열심히 해서 좋은 결과가 있었으면 좋겠어요.</td>\n",
       "    </tr>\n",
       "    <tr>\n",
       "      <th>3</th>\n",
       "      <td>31303.0</td>\n",
       "      <td>노년</td>\n",
       "      <td>남성</td>\n",
       "      <td>재정</td>\n",
       "      <td>만성질환 무</td>\n",
       "      <td>기쁨</td>\n",
       "      <td>신이 난</td>\n",
       "      <td>재취업이 돼서 받게 된 첫 월급으로 온 가족이 외식을 할 예정이야. 너무 행복해.</td>\n",
       "      <td>재취업 후 첫 월급이라 정말 기쁘시겠어요.</td>\n",
       "      <td>퇴직 후 다시는 돈을 못 벌 줄 알았는데 이렇게 월급으로 가족에게 맛있는 밥을 살 ...</td>\n",
       "      <td>이 기분을 유지하려면 어떻게 해야 할까요?</td>\n",
       "      <td>회사생활을 열심히 해서 계속 월급을 받을거야!</td>\n",
       "      <td>계속 원하시는 대로 회사생활이 이어지길 바랄게요.</td>\n",
       "      <td>NaN</td>\n",
       "      <td>NaN</td>\n",
       "    </tr>\n",
       "    <tr>\n",
       "      <th>4</th>\n",
       "      <td>47200.0</td>\n",
       "      <td>노년</td>\n",
       "      <td>여성</td>\n",
       "      <td>재정</td>\n",
       "      <td>만성질환 유</td>\n",
       "      <td>기쁨</td>\n",
       "      <td>안도</td>\n",
       "      <td>빚을 드디어 다 갚게 되어서 이제야 안도감이 들어.</td>\n",
       "      <td>기분 좋으시겠어요. 앞으로는 어떻게 하실 생각이신가요?</td>\n",
       "      <td>빚도 다 갚았으니 당분간은 아무 생각도 안 하며 살고 싶어.</td>\n",
       "      <td>빚도 다 갚았으니 당분간은 아무 생각도 안 하며 살고 싶으시군요.</td>\n",
       "      <td>NaN</td>\n",
       "      <td>NaN</td>\n",
       "      <td>NaN</td>\n",
       "      <td>NaN</td>\n",
       "    </tr>\n",
       "  </tbody>\n",
       "</table>\n",
       "</div>"
      ],
      "text/plain": [
       "        번호   연령  성별       상황키워드    신체질환 감정_대분류   감정_소분류  \\\n",
       "0  44164.0   청년  남성  연애, 결혼, 출산    해당없음     기쁨     신이 난   \n",
       "1   3926.0   노년  남성      건강, 죽음  만성질환 유     불안  스트레스 받는   \n",
       "2  50882.0  청소년  여성     학업 및 진로    해당없음     당황       당황   \n",
       "3  31303.0   노년  남성          재정  만성질환 무     기쁨     신이 난   \n",
       "4  47200.0   노년  여성          재정  만성질환 유     기쁨       안도   \n",
       "\n",
       "                                           사람문장1  \\\n",
       "0                      아내가 드디어 출산하게 되어서 정말 신이 나.   \n",
       "1        당뇨랑 합병증 때문에 먹어야 할 약이 열 가지가 넘어가니까 스트레스야.   \n",
       "2        고등학교에 올라오니 중학교 때보다 수업이 갑자기 어려워져서 당황스러워.   \n",
       "3  재취업이 돼서 받게 된 첫 월급으로 온 가족이 외식을 할 예정이야. 너무 행복해.   \n",
       "4                   빚을 드디어 다 갚게 되어서 이제야 안도감이 들어.   \n",
       "\n",
       "                                    시스템응답1  \\\n",
       "0                아내분이 출산을 하시는군요. 정말 축하드려요.   \n",
       "1                       약 종류가 많아 번거로우시겠어요.   \n",
       "2  고등학교 수업이 중학교 때와는 다르게 갑자기 어려워서 당황스러우시군요.   \n",
       "3                  재취업 후 첫 월급이라 정말 기쁘시겠어요.   \n",
       "4           기분 좋으시겠어요. 앞으로는 어떻게 하실 생각이신가요?   \n",
       "\n",
       "                                               사람문장2  \\\n",
       "0                                      아 지금 정말 신이 나.   \n",
       "1                        건강할 때 관리 좀 잘할걸 하는 생각이 들더라고.   \n",
       "2                  아직 학기 초인데 내가 수업에 잘 따라갈 수 있을지 걱정돼.   \n",
       "3  퇴직 후 다시는 돈을 못 벌 줄 알았는데 이렇게 월급으로 가족에게 맛있는 밥을 살 ...   \n",
       "4                  빚도 다 갚았으니 당분간은 아무 생각도 안 하며 살고 싶어.   \n",
       "\n",
       "                                 시스템응답2                               사람문장3  \\\n",
       "0                             잘 된 일이네요.  아기가 점점 클게 벌써 기대가 되네. 내가 많이 놀아줘야지.    \n",
       "1         현재 상황에서 변화를 주기 위해 어떻게 하면 될까요?          약을 잘 챙겨 먹고 나을 수 있도록 노력해야지.   \n",
       "2           이 상황에서 할 수 있는 게 어떤 것이 있을까요?       중학교 수업을 들을 때보다 훨씬 더 열심히 할 거야.   \n",
       "3               이 기분을 유지하려면 어떻게 해야 할까요?           회사생활을 열심히 해서 계속 월급을 받을거야!   \n",
       "4  빚도 다 갚았으니 당분간은 아무 생각도 안 하며 살고 싶으시군요.                                 NaN   \n",
       "\n",
       "                         시스템응답3                                      사람문장4  \\\n",
       "0  좋은 아빠가 되실 거 같아요. 진심으로 축하드려요.                                        NaN   \n",
       "1       약을 잘 챙겨 먹어 건강해지시길 바랄게요.                                        NaN   \n",
       "2    수업을 어떤 방식으로 열심히 듣는게 좋을까요?   선생님이 강조하신 부분을 필기하고 집에서 매일 수업 내용을 복습하려고 해.   \n",
       "3   계속 원하시는 대로 회사생활이 이어지길 바랄게요.                                        NaN   \n",
       "4                           NaN                                        NaN   \n",
       "\n",
       "                     시스템응답4  \n",
       "0                       NaN  \n",
       "1                       NaN  \n",
       "2  열심히 해서 좋은 결과가 있었으면 좋겠어요.  \n",
       "3                       NaN  \n",
       "4                       NaN  "
      ]
     },
     "execution_count": 292,
     "metadata": {},
     "output_type": "execute_result"
    }
   ],
   "source": [
    "c.head()"
   ]
  },
  {
   "cell_type": "code",
   "execution_count": 293,
   "id": "1a957476",
   "metadata": {},
   "outputs": [],
   "source": [
    "c2=c[\"번호\"].dropna()"
   ]
  },
  {
   "cell_type": "code",
   "execution_count": 294,
   "id": "8918e8bd",
   "metadata": {},
   "outputs": [
    {
     "data": {
      "text/plain": [
       "0        44164.0\n",
       "1         3926.0\n",
       "2        50882.0\n",
       "3        31303.0\n",
       "4        47200.0\n",
       "          ...   \n",
       "40874    50789.0\n",
       "40875    48959.0\n",
       "40876    36344.0\n",
       "40877    14197.0\n",
       "40878    16248.0\n",
       "Name: 번호, Length: 40879, dtype: float64"
      ]
     },
     "execution_count": 294,
     "metadata": {},
     "output_type": "execute_result"
    }
   ],
   "source": [
    "c2"
   ]
  },
  {
   "cell_type": "code",
   "execution_count": 295,
   "id": "777b0f53",
   "metadata": {},
   "outputs": [],
   "source": [
    "c=c[:len(c2)]"
   ]
  },
  {
   "cell_type": "code",
   "execution_count": 296,
   "id": "97c518ab",
   "metadata": {},
   "outputs": [
    {
     "data": {
      "text/plain": [
       "array(['기쁨', '불안', '당황', '슬픔', '분노', '상처', '불안 ', '기쁨 '], dtype=object)"
      ]
     },
     "execution_count": 296,
     "metadata": {},
     "output_type": "execute_result"
    }
   ],
   "source": [
    "c[\"감정_대분류\"].unique()"
   ]
  },
  {
   "cell_type": "code",
   "execution_count": 297,
   "id": "4f005279",
   "metadata": {},
   "outputs": [],
   "source": [
    "c2=c[[\"감정_대분류\",\"사람문장1\"]].dropna()\n",
    "c3=c[[\"감정_대분류\",\"사람문장2\"]].dropna()\n",
    "c4=c[[\"감정_대분류\",\"사람문장3\"]].dropna()\n",
    "c5=c[[\"감정_대분류\",\"사람문장4\"]].dropna()"
   ]
  },
  {
   "cell_type": "code",
   "execution_count": 298,
   "id": "b5effc3e",
   "metadata": {},
   "outputs": [
    {
     "data": {
      "text/html": [
       "<div>\n",
       "<style scoped>\n",
       "    .dataframe tbody tr th:only-of-type {\n",
       "        vertical-align: middle;\n",
       "    }\n",
       "\n",
       "    .dataframe tbody tr th {\n",
       "        vertical-align: top;\n",
       "    }\n",
       "\n",
       "    .dataframe thead th {\n",
       "        text-align: right;\n",
       "    }\n",
       "</style>\n",
       "<table border=\"1\" class=\"dataframe\">\n",
       "  <thead>\n",
       "    <tr style=\"text-align: right;\">\n",
       "      <th></th>\n",
       "      <th>감정_대분류</th>\n",
       "      <th>사람문장3</th>\n",
       "    </tr>\n",
       "  </thead>\n",
       "  <tbody>\n",
       "    <tr>\n",
       "      <th>0</th>\n",
       "      <td>기쁨</td>\n",
       "      <td>아기가 점점 클게 벌써 기대가 되네. 내가 많이 놀아줘야지.</td>\n",
       "    </tr>\n",
       "    <tr>\n",
       "      <th>1</th>\n",
       "      <td>불안</td>\n",
       "      <td>약을 잘 챙겨 먹고 나을 수 있도록 노력해야지.</td>\n",
       "    </tr>\n",
       "    <tr>\n",
       "      <th>2</th>\n",
       "      <td>당황</td>\n",
       "      <td>중학교 수업을 들을 때보다 훨씬 더 열심히 할 거야.</td>\n",
       "    </tr>\n",
       "    <tr>\n",
       "      <th>3</th>\n",
       "      <td>기쁨</td>\n",
       "      <td>회사생활을 열심히 해서 계속 월급을 받을거야!</td>\n",
       "    </tr>\n",
       "    <tr>\n",
       "      <th>5</th>\n",
       "      <td>불안</td>\n",
       "      <td>함께 등산이나 여행을 갔으면 좋겠어.</td>\n",
       "    </tr>\n",
       "    <tr>\n",
       "      <th>...</th>\n",
       "      <td>...</td>\n",
       "      <td>...</td>\n",
       "    </tr>\n",
       "    <tr>\n",
       "      <th>40873</th>\n",
       "      <td>상처</td>\n",
       "      <td>최 영감에게 기분 좋은 말을 해줘야 할 것 같아.</td>\n",
       "    </tr>\n",
       "    <tr>\n",
       "      <th>40874</th>\n",
       "      <td>불안</td>\n",
       "      <td>이대로 내가 키우게 되면 안 되니까 확실하게 해야겠어.</td>\n",
       "    </tr>\n",
       "    <tr>\n",
       "      <th>40876</th>\n",
       "      <td>슬픔</td>\n",
       "      <td>내가 다시 내 꿈을 어떻게 이룰 것인지 자세히 설명해 드려야겠어.</td>\n",
       "    </tr>\n",
       "    <tr>\n",
       "      <th>40877</th>\n",
       "      <td>기쁨</td>\n",
       "      <td>운동으로 뭉친 근육을 풀어주는 것 같아. 그럼 덜 피로하겠지.</td>\n",
       "    </tr>\n",
       "    <tr>\n",
       "      <th>40878</th>\n",
       "      <td>불안</td>\n",
       "      <td>직접 서운한 감정을 친구에게 얘기하려고 해.</td>\n",
       "    </tr>\n",
       "  </tbody>\n",
       "</table>\n",
       "<p>31059 rows × 2 columns</p>\n",
       "</div>"
      ],
      "text/plain": [
       "      감정_대분류                                 사람문장3\n",
       "0         기쁨    아기가 점점 클게 벌써 기대가 되네. 내가 많이 놀아줘야지. \n",
       "1         불안            약을 잘 챙겨 먹고 나을 수 있도록 노력해야지.\n",
       "2         당황         중학교 수업을 들을 때보다 훨씬 더 열심히 할 거야.\n",
       "3         기쁨             회사생활을 열심히 해서 계속 월급을 받을거야!\n",
       "5         불안                  함께 등산이나 여행을 갔으면 좋겠어.\n",
       "...      ...                                   ...\n",
       "40873     상처           최 영감에게 기분 좋은 말을 해줘야 할 것 같아.\n",
       "40874     불안        이대로 내가 키우게 되면 안 되니까 확실하게 해야겠어.\n",
       "40876     슬픔  내가 다시 내 꿈을 어떻게 이룰 것인지 자세히 설명해 드려야겠어.\n",
       "40877     기쁨    운동으로 뭉친 근육을 풀어주는 것 같아. 그럼 덜 피로하겠지.\n",
       "40878     불안              직접 서운한 감정을 친구에게 얘기하려고 해.\n",
       "\n",
       "[31059 rows x 2 columns]"
      ]
     },
     "execution_count": 298,
     "metadata": {},
     "output_type": "execute_result"
    }
   ],
   "source": [
    "c4"
   ]
  },
  {
   "cell_type": "code",
   "execution_count": 299,
   "id": "415be833",
   "metadata": {},
   "outputs": [],
   "source": [
    "c2.columns = [\"감정\", \"문장\"]\n",
    "c3.columns = [\"감정\", \"문장\"]\n",
    "c4.columns = [\"감정\", \"문장\"]\n",
    "c5.columns = [\"감정\", \"문장\"]"
   ]
  },
  {
   "cell_type": "code",
   "execution_count": 357,
   "id": "f9357f70",
   "metadata": {},
   "outputs": [],
   "source": [
    "c=pd.concat([c2,c3,c4],ignore_index=True)"
   ]
  },
  {
   "cell_type": "code",
   "execution_count": 358,
   "id": "59112207",
   "metadata": {
    "scrolled": true
   },
   "outputs": [
    {
     "data": {
      "text/html": [
       "<div>\n",
       "<style scoped>\n",
       "    .dataframe tbody tr th:only-of-type {\n",
       "        vertical-align: middle;\n",
       "    }\n",
       "\n",
       "    .dataframe tbody tr th {\n",
       "        vertical-align: top;\n",
       "    }\n",
       "\n",
       "    .dataframe thead th {\n",
       "        text-align: right;\n",
       "    }\n",
       "</style>\n",
       "<table border=\"1\" class=\"dataframe\">\n",
       "  <thead>\n",
       "    <tr style=\"text-align: right;\">\n",
       "      <th></th>\n",
       "      <th>감정</th>\n",
       "      <th>문장</th>\n",
       "    </tr>\n",
       "  </thead>\n",
       "  <tbody>\n",
       "    <tr>\n",
       "      <th>0</th>\n",
       "      <td>기쁨</td>\n",
       "      <td>아내가 드디어 출산하게 되어서 정말 신이 나.</td>\n",
       "    </tr>\n",
       "    <tr>\n",
       "      <th>1</th>\n",
       "      <td>불안</td>\n",
       "      <td>당뇨랑 합병증 때문에 먹어야 할 약이 열 가지가 넘어가니까 스트레스야.</td>\n",
       "    </tr>\n",
       "    <tr>\n",
       "      <th>2</th>\n",
       "      <td>당황</td>\n",
       "      <td>고등학교에 올라오니 중학교 때보다 수업이 갑자기 어려워져서 당황스러워.</td>\n",
       "    </tr>\n",
       "    <tr>\n",
       "      <th>3</th>\n",
       "      <td>기쁨</td>\n",
       "      <td>재취업이 돼서 받게 된 첫 월급으로 온 가족이 외식을 할 예정이야. 너무 행복해.</td>\n",
       "    </tr>\n",
       "    <tr>\n",
       "      <th>4</th>\n",
       "      <td>기쁨</td>\n",
       "      <td>빚을 드디어 다 갚게 되어서 이제야 안도감이 들어.</td>\n",
       "    </tr>\n",
       "  </tbody>\n",
       "</table>\n",
       "</div>"
      ],
      "text/plain": [
       "   감정                                             문장\n",
       "0  기쁨                      아내가 드디어 출산하게 되어서 정말 신이 나.\n",
       "1  불안        당뇨랑 합병증 때문에 먹어야 할 약이 열 가지가 넘어가니까 스트레스야.\n",
       "2  당황        고등학교에 올라오니 중학교 때보다 수업이 갑자기 어려워져서 당황스러워.\n",
       "3  기쁨  재취업이 돼서 받게 된 첫 월급으로 온 가족이 외식을 할 예정이야. 너무 행복해.\n",
       "4  기쁨                   빚을 드디어 다 갚게 되어서 이제야 안도감이 들어."
      ]
     },
     "execution_count": 358,
     "metadata": {},
     "output_type": "execute_result"
    }
   ],
   "source": [
    "c.head()"
   ]
  },
  {
   "cell_type": "code",
   "execution_count": 359,
   "id": "2e9c51e8",
   "metadata": {},
   "outputs": [],
   "source": [
    "idx_num = c[c[\"감정\"]==\"당황\"].index\n",
    "idx_num2 = c[c[\"감정\"]=='상처'].index\n",
    "idx_num3 = c[c[\"감정\"]==\"불안\"].index\n",
    "idx_num4 = c[c[\"감정\"]==\"분노\"].index\n",
    "c=c.drop(idx_num)\n",
    "c=c.drop(idx_num2)\n",
    "c=c.drop(idx_num3)\n",
    "c=c.drop(idx_num4)"
   ]
  },
  {
   "cell_type": "code",
   "execution_count": 360,
   "id": "749b42bc",
   "metadata": {},
   "outputs": [
    {
     "data": {
      "text/html": [
       "<div>\n",
       "<style scoped>\n",
       "    .dataframe tbody tr th:only-of-type {\n",
       "        vertical-align: middle;\n",
       "    }\n",
       "\n",
       "    .dataframe tbody tr th {\n",
       "        vertical-align: top;\n",
       "    }\n",
       "\n",
       "    .dataframe thead th {\n",
       "        text-align: right;\n",
       "    }\n",
       "</style>\n",
       "<table border=\"1\" class=\"dataframe\">\n",
       "  <thead>\n",
       "    <tr style=\"text-align: right;\">\n",
       "      <th></th>\n",
       "      <th>감정</th>\n",
       "      <th>문장</th>\n",
       "    </tr>\n",
       "  </thead>\n",
       "  <tbody>\n",
       "    <tr>\n",
       "      <th>0</th>\n",
       "      <td>기쁨</td>\n",
       "      <td>아내가 드디어 출산하게 되어서 정말 신이 나.</td>\n",
       "    </tr>\n",
       "    <tr>\n",
       "      <th>3</th>\n",
       "      <td>기쁨</td>\n",
       "      <td>재취업이 돼서 받게 된 첫 월급으로 온 가족이 외식을 할 예정이야. 너무 행복해.</td>\n",
       "    </tr>\n",
       "    <tr>\n",
       "      <th>4</th>\n",
       "      <td>기쁨</td>\n",
       "      <td>빚을 드디어 다 갚게 되어서 이제야 안도감이 들어.</td>\n",
       "    </tr>\n",
       "    <tr>\n",
       "      <th>6</th>\n",
       "      <td>슬픔</td>\n",
       "      <td>사십 대에 접어들면서 머리카락이 많이 빠져 고민이야.</td>\n",
       "    </tr>\n",
       "    <tr>\n",
       "      <th>9</th>\n",
       "      <td>슬픔</td>\n",
       "      <td>친구 때문에 눈물 나.</td>\n",
       "    </tr>\n",
       "    <tr>\n",
       "      <th>...</th>\n",
       "      <td>...</td>\n",
       "      <td>...</td>\n",
       "    </tr>\n",
       "    <tr>\n",
       "      <th>112804</th>\n",
       "      <td>슬픔</td>\n",
       "      <td>그 친구의 장례식장에 가고 싶어.</td>\n",
       "    </tr>\n",
       "    <tr>\n",
       "      <th>112807</th>\n",
       "      <td>기쁨</td>\n",
       "      <td>응. 매번 거르던 아침밥을 챙겨 먹을 거야!</td>\n",
       "    </tr>\n",
       "    <tr>\n",
       "      <th>112808</th>\n",
       "      <td>슬픔</td>\n",
       "      <td>내가 열등감을 느껴서 그랬다고 진심으로 사과할래.</td>\n",
       "    </tr>\n",
       "    <tr>\n",
       "      <th>112814</th>\n",
       "      <td>슬픔</td>\n",
       "      <td>내가 다시 내 꿈을 어떻게 이룰 것인지 자세히 설명해 드려야겠어.</td>\n",
       "    </tr>\n",
       "    <tr>\n",
       "      <th>112815</th>\n",
       "      <td>기쁨</td>\n",
       "      <td>운동으로 뭉친 근육을 풀어주는 것 같아. 그럼 덜 피로하겠지.</td>\n",
       "    </tr>\n",
       "  </tbody>\n",
       "</table>\n",
       "<p>37639 rows × 2 columns</p>\n",
       "</div>"
      ],
      "text/plain": [
       "        감정                                             문장\n",
       "0       기쁨                      아내가 드디어 출산하게 되어서 정말 신이 나.\n",
       "3       기쁨  재취업이 돼서 받게 된 첫 월급으로 온 가족이 외식을 할 예정이야. 너무 행복해.\n",
       "4       기쁨                   빚을 드디어 다 갚게 되어서 이제야 안도감이 들어.\n",
       "6       슬픔                  사십 대에 접어들면서 머리카락이 많이 빠져 고민이야.\n",
       "9       슬픔                                   친구 때문에 눈물 나.\n",
       "...     ..                                            ...\n",
       "112804  슬픔                             그 친구의 장례식장에 가고 싶어.\n",
       "112807  기쁨                       응. 매번 거르던 아침밥을 챙겨 먹을 거야!\n",
       "112808  슬픔                    내가 열등감을 느껴서 그랬다고 진심으로 사과할래.\n",
       "112814  슬픔           내가 다시 내 꿈을 어떻게 이룰 것인지 자세히 설명해 드려야겠어.\n",
       "112815  기쁨             운동으로 뭉친 근육을 풀어주는 것 같아. 그럼 덜 피로하겠지.\n",
       "\n",
       "[37639 rows x 2 columns]"
      ]
     },
     "execution_count": 360,
     "metadata": {},
     "output_type": "execute_result"
    }
   ],
   "source": [
    "c"
   ]
  },
  {
   "cell_type": "code",
   "execution_count": 361,
   "id": "58fbe410",
   "metadata": {},
   "outputs": [],
   "source": [
    "c = c.replace(['기쁨', '불안', '슬픔', '분노', '상처', '불안 ', '기쁨 '],[1,0,0,0,0,0,1])"
   ]
  },
  {
   "cell_type": "code",
   "execution_count": 362,
   "id": "c8595aaf",
   "metadata": {},
   "outputs": [
    {
     "data": {
      "text/html": [
       "<div>\n",
       "<style scoped>\n",
       "    .dataframe tbody tr th:only-of-type {\n",
       "        vertical-align: middle;\n",
       "    }\n",
       "\n",
       "    .dataframe tbody tr th {\n",
       "        vertical-align: top;\n",
       "    }\n",
       "\n",
       "    .dataframe thead th {\n",
       "        text-align: right;\n",
       "    }\n",
       "</style>\n",
       "<table border=\"1\" class=\"dataframe\">\n",
       "  <thead>\n",
       "    <tr style=\"text-align: right;\">\n",
       "      <th></th>\n",
       "      <th>감정</th>\n",
       "      <th>문장</th>\n",
       "    </tr>\n",
       "  </thead>\n",
       "  <tbody>\n",
       "    <tr>\n",
       "      <th>0</th>\n",
       "      <td>1</td>\n",
       "      <td>아내가 드디어 출산하게 되어서 정말 신이 나.</td>\n",
       "    </tr>\n",
       "    <tr>\n",
       "      <th>3</th>\n",
       "      <td>1</td>\n",
       "      <td>재취업이 돼서 받게 된 첫 월급으로 온 가족이 외식을 할 예정이야. 너무 행복해.</td>\n",
       "    </tr>\n",
       "    <tr>\n",
       "      <th>4</th>\n",
       "      <td>1</td>\n",
       "      <td>빚을 드디어 다 갚게 되어서 이제야 안도감이 들어.</td>\n",
       "    </tr>\n",
       "    <tr>\n",
       "      <th>6</th>\n",
       "      <td>0</td>\n",
       "      <td>사십 대에 접어들면서 머리카락이 많이 빠져 고민이야.</td>\n",
       "    </tr>\n",
       "    <tr>\n",
       "      <th>9</th>\n",
       "      <td>0</td>\n",
       "      <td>친구 때문에 눈물 나.</td>\n",
       "    </tr>\n",
       "    <tr>\n",
       "      <th>...</th>\n",
       "      <td>...</td>\n",
       "      <td>...</td>\n",
       "    </tr>\n",
       "    <tr>\n",
       "      <th>112804</th>\n",
       "      <td>0</td>\n",
       "      <td>그 친구의 장례식장에 가고 싶어.</td>\n",
       "    </tr>\n",
       "    <tr>\n",
       "      <th>112807</th>\n",
       "      <td>1</td>\n",
       "      <td>응. 매번 거르던 아침밥을 챙겨 먹을 거야!</td>\n",
       "    </tr>\n",
       "    <tr>\n",
       "      <th>112808</th>\n",
       "      <td>0</td>\n",
       "      <td>내가 열등감을 느껴서 그랬다고 진심으로 사과할래.</td>\n",
       "    </tr>\n",
       "    <tr>\n",
       "      <th>112814</th>\n",
       "      <td>0</td>\n",
       "      <td>내가 다시 내 꿈을 어떻게 이룰 것인지 자세히 설명해 드려야겠어.</td>\n",
       "    </tr>\n",
       "    <tr>\n",
       "      <th>112815</th>\n",
       "      <td>1</td>\n",
       "      <td>운동으로 뭉친 근육을 풀어주는 것 같아. 그럼 덜 피로하겠지.</td>\n",
       "    </tr>\n",
       "  </tbody>\n",
       "</table>\n",
       "<p>37639 rows × 2 columns</p>\n",
       "</div>"
      ],
      "text/plain": [
       "        감정                                             문장\n",
       "0        1                      아내가 드디어 출산하게 되어서 정말 신이 나.\n",
       "3        1  재취업이 돼서 받게 된 첫 월급으로 온 가족이 외식을 할 예정이야. 너무 행복해.\n",
       "4        1                   빚을 드디어 다 갚게 되어서 이제야 안도감이 들어.\n",
       "6        0                  사십 대에 접어들면서 머리카락이 많이 빠져 고민이야.\n",
       "9        0                                   친구 때문에 눈물 나.\n",
       "...     ..                                            ...\n",
       "112804   0                             그 친구의 장례식장에 가고 싶어.\n",
       "112807   1                       응. 매번 거르던 아침밥을 챙겨 먹을 거야!\n",
       "112808   0                    내가 열등감을 느껴서 그랬다고 진심으로 사과할래.\n",
       "112814   0           내가 다시 내 꿈을 어떻게 이룰 것인지 자세히 설명해 드려야겠어.\n",
       "112815   1             운동으로 뭉친 근육을 풀어주는 것 같아. 그럼 덜 피로하겠지.\n",
       "\n",
       "[37639 rows x 2 columns]"
      ]
     },
     "execution_count": 362,
     "metadata": {},
     "output_type": "execute_result"
    }
   ],
   "source": [
    "c"
   ]
  },
  {
   "cell_type": "code",
   "execution_count": 363,
   "id": "31eb3917",
   "metadata": {},
   "outputs": [
    {
     "data": {
      "text/plain": [
       "0    19122\n",
       "1    18517\n",
       "Name: 감정, dtype: int64"
      ]
     },
     "execution_count": 363,
     "metadata": {},
     "output_type": "execute_result"
    }
   ],
   "source": [
    "c[\"감정\"].value_counts()"
   ]
  },
  {
   "cell_type": "code",
   "execution_count": 390,
   "id": "d3daa300",
   "metadata": {},
   "outputs": [],
   "source": [
    "data=pd.concat([a,b,c],ignore_index=True)"
   ]
  },
  {
   "cell_type": "code",
   "execution_count": 391,
   "id": "e371f026",
   "metadata": {
    "scrolled": true
   },
   "outputs": [
    {
     "data": {
      "text/html": [
       "<div>\n",
       "<style scoped>\n",
       "    .dataframe tbody tr th:only-of-type {\n",
       "        vertical-align: middle;\n",
       "    }\n",
       "\n",
       "    .dataframe tbody tr th {\n",
       "        vertical-align: top;\n",
       "    }\n",
       "\n",
       "    .dataframe thead th {\n",
       "        text-align: right;\n",
       "    }\n",
       "</style>\n",
       "<table border=\"1\" class=\"dataframe\">\n",
       "  <thead>\n",
       "    <tr style=\"text-align: right;\">\n",
       "      <th></th>\n",
       "      <th>감정</th>\n",
       "      <th>문장</th>\n",
       "    </tr>\n",
       "  </thead>\n",
       "  <tbody>\n",
       "    <tr>\n",
       "      <th>387634</th>\n",
       "      <td>0</td>\n",
       "      <td>그 친구의 장례식장에 가고 싶어.</td>\n",
       "    </tr>\n",
       "    <tr>\n",
       "      <th>387635</th>\n",
       "      <td>1</td>\n",
       "      <td>응. 매번 거르던 아침밥을 챙겨 먹을 거야!</td>\n",
       "    </tr>\n",
       "    <tr>\n",
       "      <th>387636</th>\n",
       "      <td>0</td>\n",
       "      <td>내가 열등감을 느껴서 그랬다고 진심으로 사과할래.</td>\n",
       "    </tr>\n",
       "    <tr>\n",
       "      <th>387637</th>\n",
       "      <td>0</td>\n",
       "      <td>내가 다시 내 꿈을 어떻게 이룰 것인지 자세히 설명해 드려야겠어.</td>\n",
       "    </tr>\n",
       "    <tr>\n",
       "      <th>387638</th>\n",
       "      <td>1</td>\n",
       "      <td>운동으로 뭉친 근육을 풀어주는 것 같아. 그럼 덜 피로하겠지.</td>\n",
       "    </tr>\n",
       "  </tbody>\n",
       "</table>\n",
       "</div>"
      ],
      "text/plain": [
       "        감정                                    문장\n",
       "387634   0                    그 친구의 장례식장에 가고 싶어.\n",
       "387635   1              응. 매번 거르던 아침밥을 챙겨 먹을 거야!\n",
       "387636   0           내가 열등감을 느껴서 그랬다고 진심으로 사과할래.\n",
       "387637   0  내가 다시 내 꿈을 어떻게 이룰 것인지 자세히 설명해 드려야겠어.\n",
       "387638   1    운동으로 뭉친 근육을 풀어주는 것 같아. 그럼 덜 피로하겠지."
      ]
     },
     "execution_count": 391,
     "metadata": {},
     "output_type": "execute_result"
    }
   ],
   "source": [
    "data.tail()"
   ]
  },
  {
   "cell_type": "code",
   "execution_count": 392,
   "id": "9f12c1cd",
   "metadata": {},
   "outputs": [
    {
     "data": {
      "text/plain": [
       "0    194332\n",
       "1    193307\n",
       "Name: 감정, dtype: int64"
      ]
     },
     "execution_count": 392,
     "metadata": {},
     "output_type": "execute_result"
    }
   ],
   "source": [
    "data[\"감정\"].value_counts()"
   ]
  },
  {
   "cell_type": "code",
   "execution_count": 405,
   "id": "2bf411db",
   "metadata": {},
   "outputs": [],
   "source": [
    "# 참조 : https://sig413.tistory.com/5\n",
    "\n",
    "import numpy as np\n",
    "data[\"문장\"]=data[\"문장\"].str.replace(\"[^ㄱ-ㅎㅏ-ㅣ가-힣 ]\",\"\", regex=True)\n",
    "data[\"문장\"]=data[\"문장\"].str.replace(\"^ +\",\"\",regex=True)\n",
    "data[\"문장\"].replace(\"\",np.nan,inplace=True)\n",
    "data=data.dropna(axis=0)"
   ]
  },
  {
   "cell_type": "code",
   "execution_count": 406,
   "id": "5b2fa9b1",
   "metadata": {},
   "outputs": [
    {
     "data": {
      "text/html": [
       "<div>\n",
       "<style scoped>\n",
       "    .dataframe tbody tr th:only-of-type {\n",
       "        vertical-align: middle;\n",
       "    }\n",
       "\n",
       "    .dataframe tbody tr th {\n",
       "        vertical-align: top;\n",
       "    }\n",
       "\n",
       "    .dataframe thead th {\n",
       "        text-align: right;\n",
       "    }\n",
       "</style>\n",
       "<table border=\"1\" class=\"dataframe\">\n",
       "  <thead>\n",
       "    <tr style=\"text-align: right;\">\n",
       "      <th></th>\n",
       "      <th>감정</th>\n",
       "      <th>문장</th>\n",
       "    </tr>\n",
       "  </thead>\n",
       "  <tbody>\n",
       "    <tr>\n",
       "      <th>0</th>\n",
       "      <td>0</td>\n",
       "      <td>아 더빙 진짜 짜증나네요 목소리</td>\n",
       "    </tr>\n",
       "    <tr>\n",
       "      <th>1</th>\n",
       "      <td>1</td>\n",
       "      <td>흠포스터보고 초딩영화줄오버연기조차 가볍지 않구나</td>\n",
       "    </tr>\n",
       "    <tr>\n",
       "      <th>2</th>\n",
       "      <td>0</td>\n",
       "      <td>너무재밓었다그래서보는것을추천한다</td>\n",
       "    </tr>\n",
       "    <tr>\n",
       "      <th>3</th>\n",
       "      <td>0</td>\n",
       "      <td>교도소 이야기구먼 솔직히 재미는 없다평점 조정</td>\n",
       "    </tr>\n",
       "    <tr>\n",
       "      <th>4</th>\n",
       "      <td>1</td>\n",
       "      <td>사이몬페그의 익살스런 연기가 돋보였던 영화스파이더맨에서 늙어보이기만 했던 커스틴 던...</td>\n",
       "    </tr>\n",
       "  </tbody>\n",
       "</table>\n",
       "</div>"
      ],
      "text/plain": [
       "   감정                                                 문장\n",
       "0   0                                  아 더빙 진짜 짜증나네요 목소리\n",
       "1   1                         흠포스터보고 초딩영화줄오버연기조차 가볍지 않구나\n",
       "2   0                                  너무재밓었다그래서보는것을추천한다\n",
       "3   0                          교도소 이야기구먼 솔직히 재미는 없다평점 조정\n",
       "4   1  사이몬페그의 익살스런 연기가 돋보였던 영화스파이더맨에서 늙어보이기만 했던 커스틴 던..."
      ]
     },
     "execution_count": 406,
     "metadata": {},
     "output_type": "execute_result"
    }
   ],
   "source": [
    "data.head()"
   ]
  },
  {
   "cell_type": "code",
   "execution_count": null,
   "id": "0be31803",
   "metadata": {},
   "outputs": [],
   "source": [
    "data.to_csv('senti_data.txt', sep = '\\t',index = False)"
   ]
  },
  {
   "cell_type": "code",
   "execution_count": 407,
   "id": "3ac676e9",
   "metadata": {},
   "outputs": [],
   "source": [
    "from sklearn.model_selection import train_test_split\n",
    "train, test = train_test_split(data, test_size=0.1)"
   ]
  },
  {
   "cell_type": "code",
   "execution_count": 408,
   "id": "4ba4c0a7",
   "metadata": {},
   "outputs": [
    {
     "data": {
      "text/plain": [
       "347741"
      ]
     },
     "execution_count": 408,
     "metadata": {},
     "output_type": "execute_result"
    }
   ],
   "source": [
    "len(train)"
   ]
  },
  {
   "cell_type": "code",
   "execution_count": 409,
   "id": "c2d4389d",
   "metadata": {},
   "outputs": [
    {
     "data": {
      "text/plain": [
       "38638"
      ]
     },
     "execution_count": 409,
     "metadata": {},
     "output_type": "execute_result"
    }
   ],
   "source": [
    "len(test)"
   ]
  },
  {
   "cell_type": "code",
   "execution_count": 410,
   "id": "60b22c66",
   "metadata": {},
   "outputs": [
    {
     "data": {
      "text/plain": [
       "0    174338\n",
       "1    173403\n",
       "Name: 감정, dtype: int64"
      ]
     },
     "execution_count": 410,
     "metadata": {},
     "output_type": "execute_result"
    }
   ],
   "source": [
    "train[\"감정\"].value_counts()"
   ]
  },
  {
   "cell_type": "code",
   "execution_count": 411,
   "id": "215f0773",
   "metadata": {},
   "outputs": [],
   "source": [
    "stopwords = ['도', '는', '다', '의', '가', '이', '은', '한', '에', '하', '고', '을', '를', '인', '듯', '과', '와', '네', '들', '듯', '지', '임', '게']"
   ]
  },
  {
   "cell_type": "code",
   "execution_count": 412,
   "id": "db4dd3e1",
   "metadata": {},
   "outputs": [],
   "source": [
    "from konlpy.tag import Okt\n",
    "okt = Okt()\n"
   ]
  },
  {
   "cell_type": "code",
   "execution_count": 413,
   "id": "7d134053",
   "metadata": {},
   "outputs": [
    {
     "data": {
      "text/plain": [
       "276870    생각보다 작고 스텐이 두껍습니다 저는 그런걸 찾고 있었던지라 만족합니다 좋은 제품 ...\n",
       "22095     일일드라마특성상 극단적인 상황이많이 나오지만가증스런 상도와 가영상처있는 현태와 인애...\n",
       "24856                      보는 시간이 아까운 영화임 왜 점은 평점등록이 안 되는건가\n",
       "14381                                       인간은 인간에 의해 타락한다\n",
       "201921    슬리머 디엑스 시켰는데 박스에 넣어서 올줄알았더니 낱개로 포장되어 옴 신뢰감안가게 ...\n",
       "Name: 문장, dtype: object"
      ]
     },
     "execution_count": 413,
     "metadata": {},
     "output_type": "execute_result"
    }
   ],
   "source": [
    "train[\"문장\"].head()"
   ]
  },
  {
   "cell_type": "code",
   "execution_count": 414,
   "id": "fde88af7",
   "metadata": {},
   "outputs": [
    {
     "data": {
      "text/plain": [
       "0    174338\n",
       "1    173403\n",
       "Name: 감정, dtype: int64"
      ]
     },
     "execution_count": 414,
     "metadata": {},
     "output_type": "execute_result"
    }
   ],
   "source": [
    "train[\"감정\"].value_counts()"
   ]
  },
  {
   "cell_type": "code",
   "execution_count": 418,
   "id": "13cfecfa",
   "metadata": {
    "scrolled": true
   },
   "outputs": [
    {
     "name": "stdout",
     "output_type": "stream",
     "text": [
      "0 번째 :  생각보다 작고 스텐이 두껍습니다 저는 그런걸 찾고 있었던지라 만족합니다 좋은 제품 감사합니다\n",
      "5000 번째 :  조악한 스토리와 찌질한 개그를 견뎌내면 양자경 나부락의 빛나는 액션신을 볼수있다\n",
      "10000 번째 :  제거되는게 아무것도 없음 왜 이런 과대 광고를 하는건지\n",
      "15000 번째 :  흡착 안좋음 개선 요망\n",
      "20000 번째 :  재구매 배송이빨라서좋아요 쓰다보니좋아서지인선물하려고 또구매했네요 많이파세요\n",
      "25000 번째 :  내가 본 영화중 최악이다 영상도 어두워서 한개도 안보이지  카악퉷\n",
      "30000 번째 :  너무 좋아아영 굳굳\n",
      "35000 번째 :  배송비 무료 아니라 좀 그렇네요 원을 써도 배송비가 붙는다니\n",
      "40000 번째 :  아동들을 위한 교육용 애니라고 말을 하지 그러셨어요\n",
      "45000 번째 :  역시 갓도요 갓 피싱쿨 ㅎㅎ잘사용하고있습니다\n",
      "50000 번째 :  직장에서 큰 실수를 저질렀어\n",
      "55000 번째 :  한달사용기가 있는줄은 몰랐네요 플라스틱타는 냄새는꾸준하고 주만에 열풍이안나옵니다\n",
      "60000 번째 :  응 젊을 때 돈을 아껴쓰길 정말 잘 한 것 같아\n",
      "65000 번째 :  점도 아까움내용을 모르겠다\n",
      "70000 번째 :  언제나 입던 거라 항상 만족\n",
      "75000 번째 :  ㅋㅋㅋ뭐 이런걸 ㅋㅋㅋㅋ\n",
      "80000 번째 :  재구매 두번째 구매 후기껀에대한 답변은 주시지도 않으시고 좀 실망스러워서 그뒤론 구매하지 않는 꽃게\n",
      "85000 번째 :  재질자체가 물렁해서 포크로음식을 거의 찍어서사용하기가힘드네요\n",
      "90000 번째 :  안좋아오 제품이비해가격이쌔보이네요 걸자마자떨이지네요ㅜㅜㅜ돈아까브 그래도붙여보자하다가드라이기망가질거같아요 ㅜㅜㅜ\n",
      "95000 번째 :  딸아이 교복에 입으려고 구매했어요 밍크라 엄청 따듯하겠어요 만족합니다\n",
      "100000 번째 :  보는것처럼 손톱만큼 감겨있어서 생각보다 테이프량이 얇아요 ㅠㅠ 접착역도 다이소꺼보다 훨씬 약해서 여러번 밀어야 해요 케이스도 뻑뻑해서 뺐다 끼기 힘듬 ㅠㅠ 그저 그래요 ㅠㅠ\n",
      "105000 번째 :  ㅋㅋㅋㅋㅋ 이런 작품을 기다려 왔다\n",
      "110000 번째 :  성룡의 맨 몸 액션만큼 비례했으면 하는 영화의 메세지\n",
      "115000 번째 :  택배가 너무 느리고 배송조회가 너무 무성의해요\n",
      "120000 번째 :  저렴하고 활용도가 좋아요 이쁜거 구입하려다가 걍 삿는데 후회진심 없어요 대만족\n",
      "125000 번째 :  빠간마스크 만세\n",
      "130000 번째 :  미확인 동영상 수준\n",
      "135000 번째 :  치약 대량구매 딱좋아요\n",
      "140000 번째 :  은근 꿀잼 의도한 급 재미와 병맛 코드가 너무 기분좋고 신나게 다가온다\n",
      "145000 번째 :  응 너무 힘들고 도와주는 사람도 없으니 이젠 뭐라고 말할 용기도 나지 않아\n",
      "150000 번째 :  처음엔 그런대로 재밌었는데요즘은 일주일 내용이 다 똑같아요계속 꼬이기만하고 질질끄는거 같아조금씩 짜증이ㅈ나네요빠른 전개 부탁드려요\n",
      "155000 번째 :  거창한 여행이 아니더라도 퇴원하고 소소하게 갈 수 있는 곳으로 여행을 가면 좋을 것 같아\n",
      "160000 번째 :  별로네요 배송도 까먹고 ㅡㅡ\n",
      "165000 번째 :  내구성 정말 약합니다\n",
      "170000 번째 :  굿굿굿 정말 좋아용ㅋㅋㅋㅋ\n",
      "175000 번째 :  그닥 생각보다 아이가 안 좋아함 비싼 값이 아닌데도 가격대비 너무 부실함 다리가 제대로 서있지 못해 휘청휘청하고 거울은 사물이 왜곡되서 보이니 애가 아에 안 봄 그나마 드라이기만 좀 갖고 놈\n",
      "180000 번째 :  좀 비싼감이 ㅎ 어쩔수없죠사용잘했어요\n",
      "185000 번째 :  엉성합니다 바느질 다 터져서 와서 바느질함\n",
      "190000 번째 :  주문한 스카이블루 아니고 아이보리로왔어요 일딴 설치하고 사용합니다\n",
      "195000 번째 :  제품명 에어건으로 바꿔주세요\n",
      "200000 번째 :  보다가 그냥 쭉쭉 넘겨보긴 첨이네요  정말 말이 안나와요 \n",
      "205000 번째 :  옛날생각나서시켰는데맛이그냥그래요\n",
      "210000 번째 :  아들로 나온 정윤석 군의 발연기에 손발이 다 오글거리고몰입이 되다가도 발연기 보고 몰입이 안되는 더러운 상황이 발생한다오정세가 좋아서 끝까지 보려고 했는데\n",
      "215000 번째 :  볼만하던데\n",
      "220000 번째 :  정말별로던데\n",
      "225000 번째 :  박스 밑에 벌레가 눌려 죽어있네요 바퀴벌레 같기도 하고 아주 찝찝합니다 아기 먹일려고 두번째 주문했는데 이건 아닌듯요 입으로 들어가는 음식은 위생이 기본인데 많이 아쉽네요 재구매 의사 없습니다\n",
      "230000 번째 :  제발  이거 성공해야 케이온 나온다\n",
      "235000 번째 :  쇼핑백 부탁 또 부탁 드렸는데 제품만 달랑 왔네요\n",
      "240000 번째 :  만족합니다 배송도요\n",
      "245000 번째 :  부모님이나 주변 지인이나 만나면 항상 하는 소리가 결혼 안 하냐 애는 어떻게 할 거냐는 말만 하네\n",
      "250000 번째 :  대체 이거 내용이 없다 감독이고시나리오고 생각을 한 사람들이 없는거 같다\n",
      "255000 번째 :  퇴직 후에 마음껏 시간을 쓸 수 있어 뭘 하면 좋을까\n",
      "260000 번째 :  냉동이라 해동을 잘못해서 그런지 굽기를 잘못해서 그런지 퍽퍽하고 질겼어요 저렴한 가격대로 구매한건 좋았네요\n",
      "265000 번째 :  굿한마디밖에안나오네\n",
      "270000 번째 :  버튼이 살짝 좋지 않은듯요\n",
      "275000 번째 :  친구에게 실망했어\n",
      "280000 번째 :  가겨대비 제일 싸고 좋아요\n",
      "285000 번째 :  재구매 배송도빠르고 또 이용할게요\n",
      "290000 번째 :  우산이 파손되었네요\n",
      "295000 번째 :  그렇게나 찾던면을 드디어 찾았어요 양념장도 매콤칼칼 너무맛있어요\n",
      "300000 번째 :  밍밍 무지방이라그런가 밍밍해요 진짜 밍밍해서 못 먹겠어요 샀으니 먹어야죠 어쩌겠어요 \n",
      "305000 번째 :  오늘은 회사 외부에 업무를 잠깐 보러 갔다가 일 처리가 늘어져서 바로 집으로 퇴근했어\n",
      "310000 번째 :  주윤발 원래 멜로코믹전문배우인데 영웅본색으로 확떠서 그렇지 ㅋㅋㅋ 만능\n",
      "315000 번째 :  스판도 좋고 몸에 딱붙는게 좋습니다 제가 키가 작아서 기장이 길까봐 부를 시켰는데 부시켰어도 맞았을거같네요 용지로 길이비교 해놨으니 길이 고민이신분들 참고하세요\n",
      "320000 번째 :  마지막에 기억찾고 재회 장면까지 있었으면 더 좋았을거 같은데 아쉽네요ㅠ 여튼 멜로 장르를 좋아하는지라 소재도 마음에 들었고 재미있게 감상했네요\n",
      "325000 번째 :  우리나라 공포영화 왜이러냐 \n",
      "330000 번째 :  다운받아서 보니까 그냥 별로던데\n",
      "335000 번째 :  너무너무 편하고 접착력도 우수해서 여행가서 정말 잘 사용했습니다 여름필수템이 되었어요\n",
      "340000 번째 :  가이피어스 역시 명배우 여주도 나름 귀엽다\n",
      "345000 번째 :  사이즈 떡맞고 좋아요\n",
      "350000 번째 :  재구매 맛있은 김 잘 구매해서 만족합니다\n",
      "355000 번째 :  가격만큼하고 아랫쪽선반은 삐뚫어져있어요 교환이번거러워서 그냥사용합니다\n",
      "360000 번째 :  정말 대단한 영화다\n",
      "365000 번째 :  원하는 크기로 주문 할 수 있어서 좋아요\n",
      "370000 번째 :  욕심부려 샀는데 많이 길구요 보관용으로 좋습니다 제품은 이뻐요\n",
      "375000 번째 :  튼튼해보이긴한데 겉이 맨질한감이 없어 좀걸린다 해야하나좀길이 들어야할까요\n",
      "380000 번째 :  휴잭맨과 아이유의 유쾌한 일본유랑기\n",
      "385000 번째 :  저도 힘을 한번 보태어 봅니다\n"
     ]
    }
   ],
   "source": [
    "t_train = [] \n",
    "t_test = []\n",
    "count=0\n",
    "for sentence in train['문장']:\n",
    "    if count % 5000 == 0:\n",
    "        print(count,\"번째 : \",sentence)\n",
    "    temp_X = okt.morphs(sentence, stem = True) \n",
    "    temp_X = [word for word in temp_X if not word in stopwords] # 불용어 제거\n",
    "    t_train.append(temp_X)\n",
    "    count+=1\n",
    "for sentence in test['문장']:\n",
    "    if count % 5000 == 0:\n",
    "        print(count,\"번째 : \",sentence)\n",
    "    temp_X = okt.morphs(sentence, stem = True) # 토큰화\n",
    "    temp_X = [word for word in temp_X if not word in stopwords] # 불용어 제거\n",
    "    t_test.append(temp_X)\n",
    "    count+=1"
   ]
  },
  {
   "cell_type": "code",
   "execution_count": 419,
   "id": "ce4e85d1",
   "metadata": {},
   "outputs": [],
   "source": [
    "from tensorflow.keras.preprocessing.text import Tokenizer\n",
    "from tensorflow.keras.preprocessing.sequence import pad_sequences\n",
    "\n",
    "tokenizer = Tokenizer()\n",
    "tokenizer.fit_on_texts(t_train)\n",
    "tokenizer.fit_on_texts(t_test)"
   ]
  },
  {
   "cell_type": "code",
   "execution_count": 420,
   "id": "05585cca",
   "metadata": {},
   "outputs": [],
   "source": [
    "import pickle\n",
    " \n",
    "## Save pickle\n",
    "with open(\"senti_tokenizer.pickle\",\"wb\") as fw:\n",
    "    pickle.dump(tokenizer, fw)"
   ]
  },
  {
   "cell_type": "code",
   "execution_count": 421,
   "id": "411bf535",
   "metadata": {},
   "outputs": [],
   "source": [
    "X_train = tokenizer.texts_to_sequences(t_train)\n",
    "X_test = tokenizer.texts_to_sequences(t_test)\n",
    "Y_train = train[\"감정\"]\n",
    "Y_test = test[\"감정\"]"
   ]
  },
  {
   "cell_type": "code",
   "execution_count": 425,
   "id": "0f2b4ead",
   "metadata": {},
   "outputs": [
    {
     "name": "stdout",
     "output_type": "stream",
     "text": [
      "문장의 최대 길이 : 69\n",
      "문장의 평균 길이 : 11.61253346599912\n"
     ]
    }
   ],
   "source": [
    "print('문장의 최대 길이 :',max(len(l) for l in X_train))\n",
    "print('문장의 평균 길이 :',sum(map(len, X_train))/len(X_train))"
   ]
  },
  {
   "cell_type": "code",
   "execution_count": 426,
   "id": "32021dbd",
   "metadata": {},
   "outputs": [
    {
     "name": "stdout",
     "output_type": "stream",
     "text": [
      "전체 샘플 중 길이가 42 이하인 샘플의 비율: 99.2977532128797\n"
     ]
    }
   ],
   "source": [
    "def below_threshold_len(max_len, nested_list):\n",
    "    cnt = 0\n",
    "    for s in nested_list:\n",
    "        if(len(s) <= max_len):\n",
    "            cnt = cnt + 1\n",
    "    print('전체 샘플 중 길이가 %s 이하인 샘플의 비율: %s'%(max_len, (cnt / len(nested_list))*100))\n",
    " \n",
    " \n",
    "max_len = 42\n",
    "below_threshold_len(max_len, X_train)"
   ]
  },
  {
   "cell_type": "code",
   "execution_count": 445,
   "id": "52f3b859",
   "metadata": {},
   "outputs": [],
   "source": [
    "X_train2 = pad_sequences(X_train,maxlen=max_len)\n",
    "X_test2 = pad_sequences(X_test,maxlen=max_len)"
   ]
  },
  {
   "cell_type": "code",
   "execution_count": 428,
   "id": "f00411a1",
   "metadata": {},
   "outputs": [],
   "source": [
    "from keras import models\n",
    "from tensorflow.keras.layers import Embedding, Dense, LSTM, GRU, Dropout\n",
    "from tensorflow.keras.models import Sequential\n",
    "from tensorflow.keras.models import load_model\n",
    "from tensorflow.keras.callbacks import EarlyStopping, ModelCheckpoint"
   ]
  },
  {
   "cell_type": "code",
   "execution_count": 437,
   "id": "9f454f97",
   "metadata": {},
   "outputs": [],
   "source": [
    "vocab_size=len(tokenizer.word_counts)"
   ]
  },
  {
   "cell_type": "code",
   "execution_count": 438,
   "id": "164d85ff",
   "metadata": {},
   "outputs": [
    {
     "name": "stdout",
     "output_type": "stream",
     "text": [
      "Model: \"sequential_1\"\n",
      "_________________________________________________________________\n",
      " Layer (type)                Output Shape              Param #   \n",
      "=================================================================\n",
      " embedding (Embedding)       (None, None, 100)         6966600   \n",
      "                                                                 \n",
      " lstm (LSTM)                 (None, None, 128)         117248    \n",
      "                                                                 \n",
      " dropout (Dropout)           (None, None, 128)         0         \n",
      "                                                                 \n",
      " gru (GRU)                   (None, 128)               99072     \n",
      "                                                                 \n",
      " dropout_1 (Dropout)         (None, 128)               0         \n",
      "                                                                 \n",
      " dense (Dense)               (None, 1)                 129       \n",
      "                                                                 \n",
      "=================================================================\n",
      "Total params: 7,183,049\n",
      "Trainable params: 7,183,049\n",
      "Non-trainable params: 0\n",
      "_________________________________________________________________\n"
     ]
    }
   ],
   "source": [
    "model = Sequential()\n",
    "model.add(Embedding(vocab_size, 100))\n",
    "model.add(LSTM(128, return_sequences = True))\n",
    "model.add(Dropout(0.5))\n",
    "model.add(GRU(128))\n",
    "model.add(Dropout(0.5))\n",
    "model.add(Dense(1, activation='sigmoid'))\n",
    "\n",
    "model.summary()\n"
   ]
  },
  {
   "cell_type": "code",
   "execution_count": 439,
   "id": "4d1a066a",
   "metadata": {},
   "outputs": [
    {
     "name": "stdout",
     "output_type": "stream",
     "text": [
      "Epoch 1/15\n",
      "47/47 [==============================] - ETA: 0s - loss: 0.1813 - acc: 0.7147\n",
      "Epoch 1: val_acc improved from -inf to 0.83485, saving model to bilstm.h5\n",
      "47/47 [==============================] - 322s 7s/step - loss: 0.1813 - acc: 0.7147 - val_loss: 0.1207 - val_acc: 0.8349\n",
      "Epoch 2/15\n",
      "47/47 [==============================] - ETA: 0s - loss: 0.1038 - acc: 0.8610\n",
      "Epoch 2: val_acc improved from 0.83485 to 0.85671, saving model to bilstm.h5\n",
      "47/47 [==============================] - 309s 7s/step - loss: 0.1038 - acc: 0.8610 - val_loss: 0.1053 - val_acc: 0.8567\n",
      "Epoch 3/15\n",
      "47/47 [==============================] - ETA: 0s - loss: 0.0908 - acc: 0.8812\n",
      "Epoch 3: val_acc improved from 0.85671 to 0.85901, saving model to bilstm.h5\n",
      "47/47 [==============================] - 310s 7s/step - loss: 0.0908 - acc: 0.8812 - val_loss: 0.1043 - val_acc: 0.8590\n",
      "Epoch 4/15\n",
      "47/47 [==============================] - ETA: 0s - loss: 0.0843 - acc: 0.8918\n",
      "Epoch 4: val_acc did not improve from 0.85901\n",
      "47/47 [==============================] - 292s 6s/step - loss: 0.0843 - acc: 0.8918 - val_loss: 0.1084 - val_acc: 0.8538\n",
      "Epoch 5/15\n",
      "47/47 [==============================] - ETA: 0s - loss: 0.0794 - acc: 0.8989\n",
      "Epoch 5: val_acc did not improve from 0.85901\n",
      "47/47 [==============================] - 307s 7s/step - loss: 0.0794 - acc: 0.8989 - val_loss: 0.1078 - val_acc: 0.8560\n",
      "Epoch 6/15\n",
      "47/47 [==============================] - ETA: 0s - loss: 0.0752 - acc: 0.9057\n",
      "Epoch 6: val_acc did not improve from 0.85901\n",
      "47/47 [==============================] - 317s 7s/step - loss: 0.0752 - acc: 0.9057 - val_loss: 0.1088 - val_acc: 0.8552\n",
      "Epoch 7/15\n",
      "47/47 [==============================] - ETA: 0s - loss: 0.0715 - acc: 0.9114\n",
      "Epoch 7: val_acc did not improve from 0.85901\n",
      "47/47 [==============================] - 342s 7s/step - loss: 0.0715 - acc: 0.9114 - val_loss: 0.1119 - val_acc: 0.8547\n",
      "Epoch 7: early stopping\n"
     ]
    }
   ],
   "source": [
    "es = EarlyStopping(monitor='val_loss', mode='min', verbose=1, patience=4)\n",
    "mc = ModelCheckpoint('LSTMGRU.h5', monitor='val_acc', mode='max', verbose=1, save_best_only=True)\n",
    "\n",
    "model.compile(optimizer='adam', loss='mse', metrics=['acc'])\n",
    "history = model.fit(X_train2, Y_train, epochs=15, callbacks=[es, mc], batch_size=6000, validation_split=0.2)"
   ]
  },
  {
   "cell_type": "code",
   "execution_count": 479,
   "id": "99a3dae2",
   "metadata": {},
   "outputs": [
    {
     "data": {
      "image/png": "[encoded data removed]",
      "text/plain": [
       "<Figure size 432x288 with 2 Axes>"
      ]
     },
     "metadata": {
      "needs_background": "light"
     },
     "output_type": "display_data"
    }
   ],
   "source": [
    "%matplotlib inline\n",
    "import matplotlib.pyplot as plt\n",
    "\n",
    "fig, loss_ax = plt.subplots()\n",
    "\n",
    "acc_ax = loss_ax.twinx()\n",
    "\n",
    "loss_ax.plot(history.history['loss'], 'y', label='train loss')\n",
    "loss_ax.plot(history.history['val_loss'], 'r', label='val loss')\n",
    "\n",
    "acc_ax.plot(history.history['acc'], 'b', label='train acc')\n",
    "acc_ax.plot(history.history['val_acc'], 'g', label='val acc')\n",
    "\n",
    "loss_ax.set_xlabel('epoch')\n",
    "loss_ax.set_ylabel('loss')\n",
    "acc_ax.set_ylabel('accuray')\n",
    "\n",
    "loss_ax.legend(loc='upper left')\n",
    "acc_ax.legend(loc='lower left')\n",
    "\n",
    "plt.show()"
   ]
  },
  {
   "cell_type": "code",
   "execution_count": 460,
   "id": "c16597b4",
   "metadata": {},
   "outputs": [
    {
     "name": "stdout",
     "output_type": "stream",
     "text": [
      "Model: \"sequential_1\"\n",
      "_________________________________________________________________\n",
      " Layer (type)                Output Shape              Param #   \n",
      "=================================================================\n",
      " embedding (Embedding)       (None, None, 100)         6966600   \n",
      "                                                                 \n",
      " lstm (LSTM)                 (None, None, 128)         117248    \n",
      "                                                                 \n",
      " dropout (Dropout)           (None, None, 128)         0         \n",
      "                                                                 \n",
      " gru (GRU)                   (None, 128)               99072     \n",
      "                                                                 \n",
      " dropout_1 (Dropout)         (None, 128)               0         \n",
      "                                                                 \n",
      " dense (Dense)               (None, 1)                 129       \n",
      "                                                                 \n",
      "=================================================================\n",
      "Total params: 7,183,049\n",
      "Trainable params: 7,183,049\n",
      "Non-trainable params: 0\n",
      "_________________________________________________________________\n"
     ]
    }
   ],
   "source": [
    "loaded_model = load_model('LSTMGRU.h5')\n",
    "loaded_model.summary()"
   ]
  },
  {
   "cell_type": "code",
   "execution_count": 469,
   "id": "696197e3",
   "metadata": {
    "scrolled": true
   },
   "outputs": [
    {
     "data": {
      "text/plain": [
       "(38638, 42)"
      ]
     },
     "execution_count": 469,
     "metadata": {},
     "output_type": "execute_result"
    }
   ],
   "source": [
    "X_test2.shape"
   ]
  },
  {
   "cell_type": "code",
   "execution_count": 470,
   "id": "68f4b0d3",
   "metadata": {},
   "outputs": [
    {
     "data": {
      "text/plain": [
       "(38638,)"
      ]
     },
     "execution_count": 470,
     "metadata": {},
     "output_type": "execute_result"
    }
   ],
   "source": [
    "Y_test.shape"
   ]
  },
  {
   "cell_type": "code",
   "execution_count": 480,
   "id": "e193b235",
   "metadata": {},
   "outputs": [
    {
     "name": "stdout",
     "output_type": "stream",
     "text": [
      "1188/1188 [==============================] - 17s 15ms/step - loss: 0.1038 - acc: 0.8595\n",
      "\n",
      " 테스트 정확도: 0.8595\n"
     ]
    }
   ],
   "source": [
    "# X_test2 전체를 넣으려 하면 어째선지 오류가 난다. 어떤 행에 잘못된 데이터가 숨어있나?\n",
    "print(\"\\n 테스트 정확도: %.4f\" % (loaded_model.evaluate(X_test2[:38000], Y_test[:38000])[1]))"
   ]
  },
  {
   "cell_type": "code",
   "execution_count": 490,
   "id": "d0ffbd11",
   "metadata": {},
   "outputs": [],
   "source": [
    "from konlpy.tag import Okt\n",
    "with open(\"senti_tokenizer.pickle\",\"rb\") as fr:\n",
    "    tokenizer = pickle.load(fr)\n",
    "# loaded_model = load_model('LSTMGRU.h5')\n",
    "okt=Okt()\n",
    "def predict_text(text):\n",
    "    new_text = okt.morphs(text, stem=True)\n",
    "    new_text = [word for word in new_text if not word in stopwords]\n",
    "    encoded = tokenizer.texts_to_sequences([new_text])\n",
    "    pad_encoded_text = pad_sequences(encoded,maxlen=max_len)\n",
    "    score = float(loaded_model.predict(pad_encoded_text))\n",
    "    return score"
   ]
  },
  {
   "cell_type": "code",
   "execution_count": 507,
   "id": "faaf35e9",
   "metadata": {},
   "outputs": [],
   "source": [
    "txt=[\"국세청 홈택스나 제발좀... 1월에는 답이 없다 진짜\",\"양심도 능력도ㅠ없는\",\"서버가 제주에 있는데 제주에서 불이났다? 그럼 육지에 나가있던 복구인력 제주 오는데만 한세월임\",\"재계순위 15위인 카카오를 믿고 사용했던 국민들설마 카카오 같은 탄탄하고 우수한 기술을 가진 기업이 큰 실수가 일어나겠어? 하며 믿고 몰빵 사용했지만 이번 카카오톡 장애로 인한 수많은 피해로 앞으로는 카카오톡 뿐만 아니고 라인이나 왓츠앱, 페이스북 메신저 등 점점 서브 메신저 사용이 증가할 것으로 보인다.\",\"백업서버는 없냐... 돈 하영벌어당 서버하나 짓주.. 뻘짓하지마랑 ㅋㅋ 역시 카카오공화국 카카오막히난 암것도못해여\"]"
   ]
  },
  {
   "cell_type": "code",
   "execution_count": 508,
   "id": "6411bff8",
   "metadata": {},
   "outputs": [
    {
     "name": "stdout",
     "output_type": "stream",
     "text": [
      "국세청 홈택스나 제발좀... 1월에는 답이 없다 진짜\n",
      "1/1 [==============================] - 0s 15ms/step\n",
      "0.15556305646896362\n",
      "양심도 능력도ㅠ없는\n",
      "1/1 [==============================] - 0s 15ms/step\n",
      "0.0150047792121768\n",
      "서버가 제주에 있는데 제주에서 불이났다? 그럼 육지에 나가있던 복구인력 제주 오는데만 한세월임\n",
      "1/1 [==============================] - 0s 15ms/step\n",
      "0.43464165925979614\n",
      "재계순위 15위인 카카오를 믿고 사용했던 국민들설마 카카오 같은 탄탄하고 우수한 기술을 가진 기업이 큰 실수가 일어나겠어? 하며 믿고 몰빵 사용했지만 이번 카카오톡 장애로 인한 수많은 피해로 앞으로는 카카오톡 뿐만 아니고 라인이나 왓츠앱, 페이스북 메신저 등 점점 서브 메신저 사용이 증가할 것으로 보인다.\n",
      "1/1 [==============================] - 0s 16ms/step\n",
      "0.2404843270778656\n",
      "백업서버는 없냐... 돈 하영벌어당 서버하나 짓주.. 뻘짓하지마랑 ㅋㅋ 역시 카카오공화국 카카오막히난 암것도못해여\n",
      "1/1 [==============================] - 0s 16ms/step\n",
      "0.04607193544507027\n"
     ]
    }
   ],
   "source": [
    "for i in txt:\n",
    "    print(i)\n",
    "    print(predict_text(i))"
   ]
  },
  {
   "cell_type": "code",
   "execution_count": null,
   "id": "b8bfc826",
   "metadata": {},
   "outputs": [],
   "source": []
  }
 ],
 "metadata": {
  "kernelspec": {
   "display_name": "Python 3 (ipykernel)",
   "language": "python",
   "name": "python3"
  },
  "language_info": {
   "codemirror_mode": {
    "name": "ipython",
    "version": 3
   },
   "file_extension": ".py",
   "mimetype": "text/x-python",
   "name": "python",
   "nbconvert_exporter": "python",
   "pygments_lexer": "ipython3",
   "version": "3.9.12"
  }
 },
 "nbformat": 4,
 "nbformat_minor": 5
}
