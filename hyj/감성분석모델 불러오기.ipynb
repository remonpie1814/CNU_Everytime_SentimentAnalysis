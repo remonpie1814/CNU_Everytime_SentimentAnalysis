{
 "cells": [
  {
   "cell_type": "code",
   "execution_count": 9,
   "id": "aeca2ce1",
   "metadata": {},
   "outputs": [],
   "source": [
    "from tensorflow.keras.models import load_model\n",
    "from konlpy.tag import Okt\n",
    "import pickle\n",
    "from tensorflow.keras.preprocessing.sequence import pad_sequences"
   ]
  },
  {
   "cell_type": "code",
   "execution_count": 10,
   "id": "ab60ebcf",
   "metadata": {},
   "outputs": [
    {
     "name": "stdout",
     "output_type": "stream",
     "text": [
      "Model: \"sequential_1\"\n",
      "_________________________________________________________________\n",
      " Layer (type)                Output Shape              Param #   \n",
      "=================================================================\n",
      " embedding (Embedding)       (None, None, 100)         6966600   \n",
      "                                                                 \n",
      " lstm (LSTM)                 (None, None, 128)         117248    \n",
      "                                                                 \n",
      " dropout (Dropout)           (None, None, 128)         0         \n",
      "                                                                 \n",
      " gru (GRU)                   (None, 128)               99072     \n",
      "                                                                 \n",
      " dropout_1 (Dropout)         (None, 128)               0         \n",
      "                                                                 \n",
      " dense (Dense)               (None, 1)                 129       \n",
      "                                                                 \n",
      "=================================================================\n",
      "Total params: 7,183,049\n",
      "Trainable params: 7,183,049\n",
      "Non-trainable params: 0\n",
      "_________________________________________________________________\n"
     ]
    }
   ],
   "source": [
    "stopwords = ['도', '는', '다', '의', '가', '이', '은', '한', '에', '하', '고', '을', '를', '인', '듯', '과', '와', '네', '들', '듯', '지', '임', '게']\n",
    "max_len = 42\n",
    "loaded_model = load_model('LSTMGRU.h5')\n",
    "loaded_model.summary()"
   ]
  },
  {
   "cell_type": "code",
   "execution_count": 11,
   "id": "8bb4d414",
   "metadata": {},
   "outputs": [],
   "source": [
    "with open(\"senti_tokenizer.pickle\",\"rb\") as fr:\n",
    "    tokenizer = pickle.load(fr)\n",
    "# loaded_model = load_model('LSTMGRU.h5')\n",
    "okt=Okt()\n",
    "def predict_text(text):\n",
    "    new_text = okt.morphs(text, stem=True)\n",
    "    new_text = [word for word in new_text if not word in stopwords]\n",
    "    encoded = tokenizer.texts_to_sequences([new_text])\n",
    "    pad_encoded_text = pad_sequences(encoded,maxlen=max_len)\n",
    "    score = float(loaded_model.predict(pad_encoded_text))\n",
    "    return score"
   ]
  },
  {
   "cell_type": "code",
   "execution_count": 12,
   "id": "f477b854",
   "metadata": {},
   "outputs": [],
   "source": [
    "txt=[\"국세청 홈택스나 제발좀... 1월에는 답이 없다 진짜\",\n",
    "     \"양심도 능력도ㅠ없는\",\n",
    "     \"서버가 제주에 있는데 제주에서 불이났다? 그럼 육지에 나가있던 복구인력 제주 오는데만 한세월임\",\n",
    "     \"재계순위 15위인 카카오를 믿고 사용했던 국민들설마 카카오 같은 탄탄하고 우수한 기술을 가진 기업이 큰 실수가 일어나겠어? 하며 믿고 몰빵 사용했지만 이번 카카오톡 장애로 인한 수많은 피해로 앞으로는 카카오톡 뿐만 아니고 라인이나 왓츠앱, 페이스북 메신저 등 점점 서브 메신저 사용이 증가할 것으로 보인다.\",\n",
    "     \"백업서버는 없냐... 돈 하영벌어당 서버하나 짓주.. 뻘짓하지마랑 ㅋㅋ 역시 카카오공화국 카카오막히난 암것도못해여\",\n",
    "    \"걍인피니트가짱이다진짜짱이다\",\n",
    "     \"냉면 후룩.. 먹고 영지님 잠들어서 석지니가 엔딩ㅋㅋㅋㅋㅋㅋㅋㅋㅋㅋㅋㅋㅋㅋ취해가꼬 말투 너무 귀여워진거 아니냐구..\",\n",
    "     \"밑에 판 알 하나가 깨져 있었던가 봐요. 벌레가 생긴지 모르고 윗판 부터 먹었는데 밑판 먹으려다 벌레 알 많이 발견하고는 도저히 못먹겠습니다. 다른 분들 생각해서 깨진 알만 올립니다. 상한 알만 꺼내려고 했는데 딱 붙어서 안 떼져서 달걀판 그대로 종량제봉투에 넣어 버렸습니다. 한 개 빼고 다른 판에 옮겨 담았는데 칸칸마다 벌레 알을 봐버려서 버려야겠습니다.\",\n",
    "     \"오자마자 몇개나 먹었어요. 탱글하고 좋아요. 크기도 좋아요. 예전에 사 먹은 거는 크기가 반정도 밖에 안 되었는데 여기서 산것은 많이 안 줄었더라구요.\",\n",
    "     \"항상 애용하고 있습니다.\",\n",
    "     \"여기제품 쓰고있다가 마침 퐁퐁이 떨어저서 여기회사 제품 다시살까 딴거살까 고민하던 차에 딱 지마켓 베스트에 떠있길래 구입했어요~ 퐁퐁이 좋아요\",\n",
    "     \n",
    "    ]"
   ]
  },
  {
   "cell_type": "code",
   "execution_count": 13,
   "id": "d30b7641",
   "metadata": {
    "scrolled": false
   },
   "outputs": [],
   "source": [
    "def predict_senti(text):\n",
    "    idx2label={0:\"부정\",1:\"긍정\"}\n",
    "    scores=[]\n",
    "    for i in text:\n",
    "        scores.append(round(predict_text(i)))\n",
    "\n",
    "    for i,j in zip(text,scores):\n",
    "        print(\"-----------------\")\n",
    "        print(\"문장 : \", i)\n",
    "        print(\"감정 : \", idx2label[j])\n",
    "        "
   ]
  },
  {
   "cell_type": "code",
   "execution_count": 14,
   "id": "036fed19",
   "metadata": {},
   "outputs": [
    {
     "name": "stdout",
     "output_type": "stream",
     "text": [
      "1/1 [==============================] - 1s 768ms/step\n",
      "1/1 [==============================] - 0s 24ms/step\n",
      "1/1 [==============================] - 0s 22ms/step\n",
      "1/1 [==============================] - 0s 15ms/step\n",
      "1/1 [==============================] - 0s 18ms/step\n",
      "1/1 [==============================] - 0s 23ms/step\n",
      "1/1 [==============================] - 0s 16ms/step\n",
      "1/1 [==============================] - 0s 17ms/step\n",
      "1/1 [==============================] - 0s 17ms/step\n",
      "1/1 [==============================] - 0s 16ms/step\n",
      "1/1 [==============================] - 0s 16ms/step\n",
      "-----------------\n",
      "문장 :  국세청 홈택스나 제발좀... 1월에는 답이 없다 진짜\n",
      "감정 :  부정\n",
      "-----------------\n",
      "문장 :  양심도 능력도ㅠ없는\n",
      "감정 :  부정\n",
      "-----------------\n",
      "문장 :  서버가 제주에 있는데 제주에서 불이났다? 그럼 육지에 나가있던 복구인력 제주 오는데만 한세월임\n",
      "감정 :  부정\n",
      "-----------------\n",
      "문장 :  재계순위 15위인 카카오를 믿고 사용했던 국민들설마 카카오 같은 탄탄하고 우수한 기술을 가진 기업이 큰 실수가 일어나겠어? 하며 믿고 몰빵 사용했지만 이번 카카오톡 장애로 인한 수많은 피해로 앞으로는 카카오톡 뿐만 아니고 라인이나 왓츠앱, 페이스북 메신저 등 점점 서브 메신저 사용이 증가할 것으로 보인다.\n",
      "감정 :  부정\n",
      "-----------------\n",
      "문장 :  백업서버는 없냐... 돈 하영벌어당 서버하나 짓주.. 뻘짓하지마랑 ㅋㅋ 역시 카카오공화국 카카오막히난 암것도못해여\n",
      "감정 :  부정\n",
      "-----------------\n",
      "문장 :  걍인피니트가짱이다진짜짱이다\n",
      "감정 :  긍정\n",
      "-----------------\n",
      "문장 :  냉면 후룩.. 먹고 영지님 잠들어서 석지니가 엔딩ㅋㅋㅋㅋㅋㅋㅋㅋㅋㅋㅋㅋㅋㅋ취해가꼬 말투 너무 귀여워진거 아니냐구..\n",
      "감정 :  긍정\n",
      "-----------------\n",
      "문장 :  밑에 판 알 하나가 깨져 있었던가 봐요. 벌레가 생긴지 모르고 윗판 부터 먹었는데 밑판 먹으려다 벌레 알 많이 발견하고는 도저히 못먹겠습니다. 다른 분들 생각해서 깨진 알만 올립니다. 상한 알만 꺼내려고 했는데 딱 붙어서 안 떼져서 달걀판 그대로 종량제봉투에 넣어 버렸습니다. 한 개 빼고 다른 판에 옮겨 담았는데 칸칸마다 벌레 알을 봐버려서 버려야겠습니다.\n",
      "감정 :  부정\n",
      "-----------------\n",
      "문장 :  오자마자 몇개나 먹었어요. 탱글하고 좋아요. 크기도 좋아요. 예전에 사 먹은 거는 크기가 반정도 밖에 안 되었는데 여기서 산것은 많이 안 줄었더라구요.\n",
      "감정 :  긍정\n",
      "-----------------\n",
      "문장 :  항상 애용하고 있습니다.\n",
      "감정 :  긍정\n",
      "-----------------\n",
      "문장 :  여기제품 쓰고있다가 마침 퐁퐁이 떨어저서 여기회사 제품 다시살까 딴거살까 고민하던 차에 딱 지마켓 베스트에 떠있길래 구입했어요~ 퐁퐁이 좋아요\n",
      "감정 :  긍정\n"
     ]
    }
   ],
   "source": [
    "predict_senti(txt)"
   ]
  },
  {
   "cell_type": "code",
   "execution_count": null,
   "id": "dfb26b6b",
   "metadata": {},
   "outputs": [],
   "source": []
  }
 ],
 "metadata": {
  "kernelspec": {
   "display_name": "Python 3.9.12 ('base')",
   "language": "python",
   "name": "python3"
  },
  "language_info": {
   "codemirror_mode": {
    "name": "ipython",
    "version": 3
   },
   "file_extension": ".py",
   "mimetype": "text/x-python",
   "name": "python",
   "nbconvert_exporter": "python",
   "pygments_lexer": "ipython3",
   "version": "3.9.12"
  },
  "vscode": {
   "interpreter": {
    "hash": "ff4f85d6e04298634172ac5d8264e7e9b556b95639fe52ebb9425c4d4cba0c9c"
   }
  }
 },
 "nbformat": 4,
 "nbformat_minor": 5
}
