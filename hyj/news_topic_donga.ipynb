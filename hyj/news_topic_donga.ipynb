{
 "cells": [
  {
   "cell_type": "code",
   "execution_count": 1,
   "id": "adbcdca2",
   "metadata": {},
   "outputs": [],
   "source": [
    "import pandas as pd\n",
    "from konlpy.tag import Okt\n",
    "from collections import Counter\n"
   ]
  },
  {
   "cell_type": "code",
   "execution_count": 2,
   "id": "5eea11a0",
   "metadata": {},
   "outputs": [],
   "source": [
    "def filesave(dataframe,name):\n",
    "    dataframe.to_csv(name,sep=\"\\t\", encoding=\"utf-8\",index=False)\n",
    "def fileread(name):\n",
    "    return pd.read_csv(name,sep=\"\\t\",encoding=\"utf-8\")"
   ]
  },
  {
   "cell_type": "code",
   "execution_count": 3,
   "id": "fc5badc7",
   "metadata": {},
   "outputs": [],
   "source": [
    "test=fileread('donga_dataframe.csv')"
   ]
  },
  {
   "cell_type": "code",
   "execution_count": 4,
   "id": "08b882fa",
   "metadata": {},
   "outputs": [
    {
     "data": {
      "text/html": [
       "<div>\n",
       "<style scoped>\n",
       "    .dataframe tbody tr th:only-of-type {\n",
       "        vertical-align: middle;\n",
       "    }\n",
       "\n",
       "    .dataframe tbody tr th {\n",
       "        vertical-align: top;\n",
       "    }\n",
       "\n",
       "    .dataframe thead th {\n",
       "        text-align: right;\n",
       "    }\n",
       "</style>\n",
       "<table border=\"1\" class=\"dataframe\">\n",
       "  <thead>\n",
       "    <tr style=\"text-align: right;\">\n",
       "      <th></th>\n",
       "      <th>title</th>\n",
       "      <th>content</th>\n",
       "      <th>date</th>\n",
       "      <th>section</th>\n",
       "      <th>url</th>\n",
       "    </tr>\n",
       "  </thead>\n",
       "  <tbody>\n",
       "    <tr>\n",
       "      <th>0</th>\n",
       "      <td>“NLL 침범 ‘무포호’, 과거 제3국서 등록 취소…최근까지 중국 입항” VOA</td>\n",
       "      <td>\\n서해 북방한계선(NLL)을 침범했다 퇴각한 북한 상선 ‘무포호’가 과거 토고 등...</td>\n",
       "      <td>2022-10-25 06:58</td>\n",
       "      <td>Politics</td>\n",
       "      <td>https://www.donga.com/news/Politics/article/al...</td>\n",
       "    </tr>\n",
       "    <tr>\n",
       "      <th>1</th>\n",
       "      <td>北, 中당대회 끝나자 서해NLL 도발… 7차 핵실험 ‘명분 쌓기’</td>\n",
       "      <td>\\n먼저 월선하고도 “南이 도발” 트집\\r\\n北, 완충해역 포격… 9·19합의 위반...</td>\n",
       "      <td>2022-10-25 03:00</td>\n",
       "      <td>Politics</td>\n",
       "      <td>https://www.donga.com/news/Politics/article/al...</td>\n",
       "    </tr>\n",
       "    <tr>\n",
       "      <th>2</th>\n",
       "      <td>檢, 민주硏 압수수색-정진상 출금… 민주 “野 말살”</td>\n",
       "      <td>\\n檢, 김용 쓰던 PC서 문서파일 확보\\r\\n이틀째 金 불러 8억 용처 등 조사\\...</td>\n",
       "      <td>2022-10-25 03:00</td>\n",
       "      <td>Politics</td>\n",
       "      <td>https://www.donga.com/news/Politics/article/al...</td>\n",
       "    </tr>\n",
       "    <tr>\n",
       "      <th>3</th>\n",
       "      <td>이재명 “대장동 특검, 尹관련 저축銀 부분 빼도 좋다”</td>\n",
       "      <td>\\n“김건희 특검과 무관” 수위 낮추며\\r\\n본인 수사 ‘檢 아닌 특검’ 뜻 내비쳐...</td>\n",
       "      <td>2022-10-25 03:00</td>\n",
       "      <td>Politics</td>\n",
       "      <td>https://www.donga.com/news/Politics/article/al...</td>\n",
       "    </tr>\n",
       "    <tr>\n",
       "      <th>4</th>\n",
       "      <td>민주당, 오늘 尹대통령 국회 시정연설 보이콧… 尹 “시정연설에 조건, 헌정사서 들어...</td>\n",
       "      <td>\\n박홍근 “당사 침탈 사과요구 무시”\\r\\n정진석 “시정연설은 국민 위한 것”\\n...</td>\n",
       "      <td>2022-10-25 03:00</td>\n",
       "      <td>Politics</td>\n",
       "      <td>https://www.donga.com/news/Politics/article/al...</td>\n",
       "    </tr>\n",
       "    <tr>\n",
       "      <th>...</th>\n",
       "      <td>...</td>\n",
       "      <td>...</td>\n",
       "      <td>...</td>\n",
       "      <td>...</td>\n",
       "      <td>...</td>\n",
       "    </tr>\n",
       "    <tr>\n",
       "      <th>60297</th>\n",
       "      <td>펠레 위에 메시… 남미 A매치 79골 최다득점</td>\n",
       "      <td>\\n리오넬 메시(왼쪽에서 두 번째)가 10일 아르헨티나 부에노스아이레스에서 열린 2...</td>\n",
       "      <td>2021-09-11 03:00</td>\n",
       "      <td>Sports</td>\n",
       "      <td>https://www.donga.com/news/Sports/article/all/...</td>\n",
       "    </tr>\n",
       "    <tr>\n",
       "      <th>60298</th>\n",
       "      <td>‘현대가 더비’ 울산-전북, 득점없이 비겨</td>\n",
       "      <td>\\n1위 울산-2위 전북 승점 차 4 유지\\r\\n대구는 포항 2-1로 꺾고 3위 올...</td>\n",
       "      <td>2021-09-11 03:00</td>\n",
       "      <td>Sports</td>\n",
       "      <td>https://www.donga.com/news/Sports/article/all/...</td>\n",
       "    </tr>\n",
       "    <tr>\n",
       "      <th>60299</th>\n",
       "      <td>펠레 넘어선 메시, 남미 A매치 79골 최다득점</td>\n",
       "      <td>\\n‘축구의 신’ 리오넬 메시(34·아르헨티나)가 ‘축구 황제’ 펠레(81·브라질)...</td>\n",
       "      <td>2021-09-10 21:10</td>\n",
       "      <td>Sports</td>\n",
       "      <td>https://www.donga.com/news/Sports/article/all/...</td>\n",
       "    </tr>\n",
       "    <tr>\n",
       "      <th>60300</th>\n",
       "      <td>“환골탈태가 필요하다”…국가대표 선수단 코치들 한목소리</td>\n",
       "      <td>\\n‘한국 엘리트 스포츠의 환골탈태가 필요하다.’ 최근 열린 2020 도쿄 올림픽과...</td>\n",
       "      <td>2021-09-10 20:28</td>\n",
       "      <td>Sports</td>\n",
       "      <td>https://www.donga.com/news/Sports/article/all/...</td>\n",
       "    </tr>\n",
       "    <tr>\n",
       "      <th>60301</th>\n",
       "      <td>“어제는 찝찝했는데…” 몸 풀린 박인비, 공동 18위 도약</td>\n",
       "      <td>\\n적응을 마친 ‘골프 여제’ 박인비(KB금융그룹)가 한국여자프로골프(KLPGA) ...</td>\n",
       "      <td>2021-09-10 20:00</td>\n",
       "      <td>Sports</td>\n",
       "      <td>https://www.donga.com/news/Sports/article/all/...</td>\n",
       "    </tr>\n",
       "  </tbody>\n",
       "</table>\n",
       "<p>60302 rows × 5 columns</p>\n",
       "</div>"
      ],
      "text/plain": [
       "                                                   title  \\\n",
       "0           “NLL 침범 ‘무포호’, 과거 제3국서 등록 취소…최근까지 중국 입항” VOA   \n",
       "1                   北, 中당대회 끝나자 서해NLL 도발… 7차 핵실험 ‘명분 쌓기’   \n",
       "2                          檢, 민주硏 압수수색-정진상 출금… 민주 “野 말살”   \n",
       "3                         이재명 “대장동 특검, 尹관련 저축銀 부분 빼도 좋다”   \n",
       "4      민주당, 오늘 尹대통령 국회 시정연설 보이콧… 尹 “시정연설에 조건, 헌정사서 들어...   \n",
       "...                                                  ...   \n",
       "60297                          펠레 위에 메시… 남미 A매치 79골 최다득점   \n",
       "60298                            ‘현대가 더비’ 울산-전북, 득점없이 비겨   \n",
       "60299                         펠레 넘어선 메시, 남미 A매치 79골 최다득점   \n",
       "60300                     “환골탈태가 필요하다”…국가대표 선수단 코치들 한목소리   \n",
       "60301                   “어제는 찝찝했는데…” 몸 풀린 박인비, 공동 18위 도약   \n",
       "\n",
       "                                                 content               date  \\\n",
       "0      \\n서해 북방한계선(NLL)을 침범했다 퇴각한 북한 상선 ‘무포호’가 과거 토고 등...   2022-10-25 06:58   \n",
       "1      \\n먼저 월선하고도 “南이 도발” 트집\\r\\n北, 완충해역 포격… 9·19합의 위반...   2022-10-25 03:00   \n",
       "2      \\n檢, 김용 쓰던 PC서 문서파일 확보\\r\\n이틀째 金 불러 8억 용처 등 조사\\...   2022-10-25 03:00   \n",
       "3      \\n“김건희 특검과 무관” 수위 낮추며\\r\\n본인 수사 ‘檢 아닌 특검’ 뜻 내비쳐...   2022-10-25 03:00   \n",
       "4      \\n박홍근 “당사 침탈 사과요구 무시”\\r\\n정진석 “시정연설은 국민 위한 것”\\n...   2022-10-25 03:00   \n",
       "...                                                  ...                ...   \n",
       "60297  \\n리오넬 메시(왼쪽에서 두 번째)가 10일 아르헨티나 부에노스아이레스에서 열린 2...   2021-09-11 03:00   \n",
       "60298  \\n1위 울산-2위 전북 승점 차 4 유지\\r\\n대구는 포항 2-1로 꺾고 3위 올...   2021-09-11 03:00   \n",
       "60299  \\n‘축구의 신’ 리오넬 메시(34·아르헨티나)가 ‘축구 황제’ 펠레(81·브라질)...   2021-09-10 21:10   \n",
       "60300  \\n‘한국 엘리트 스포츠의 환골탈태가 필요하다.’ 최근 열린 2020 도쿄 올림픽과...   2021-09-10 20:28   \n",
       "60301  \\n적응을 마친 ‘골프 여제’ 박인비(KB금융그룹)가 한국여자프로골프(KLPGA) ...   2021-09-10 20:00   \n",
       "\n",
       "        section                                                url  \n",
       "0      Politics  https://www.donga.com/news/Politics/article/al...  \n",
       "1      Politics  https://www.donga.com/news/Politics/article/al...  \n",
       "2      Politics  https://www.donga.com/news/Politics/article/al...  \n",
       "3      Politics  https://www.donga.com/news/Politics/article/al...  \n",
       "4      Politics  https://www.donga.com/news/Politics/article/al...  \n",
       "...         ...                                                ...  \n",
       "60297    Sports  https://www.donga.com/news/Sports/article/all/...  \n",
       "60298    Sports  https://www.donga.com/news/Sports/article/all/...  \n",
       "60299    Sports  https://www.donga.com/news/Sports/article/all/...  \n",
       "60300    Sports  https://www.donga.com/news/Sports/article/all/...  \n",
       "60301    Sports  https://www.donga.com/news/Sports/article/all/...  \n",
       "\n",
       "[60302 rows x 5 columns]"
      ]
     },
     "execution_count": 4,
     "metadata": {},
     "output_type": "execute_result"
    }
   ],
   "source": [
    "test"
   ]
  },
  {
   "cell_type": "code",
   "execution_count": 5,
   "id": "58f306d5",
   "metadata": {},
   "outputs": [],
   "source": [
    "test.drop_duplicates(inplace=True, ignore_index=True)"
   ]
  },
  {
   "cell_type": "code",
   "execution_count": 6,
   "id": "72aca4a3",
   "metadata": {
    "scrolled": true
   },
   "outputs": [
    {
     "data": {
      "text/plain": [
       "59802"
      ]
     },
     "execution_count": 6,
     "metadata": {},
     "output_type": "execute_result"
    }
   ],
   "source": [
    "len(test)"
   ]
  },
  {
   "cell_type": "code",
   "execution_count": 7,
   "id": "42408385",
   "metadata": {},
   "outputs": [
    {
     "data": {
      "text/plain": [
       "59315"
      ]
     },
     "execution_count": 7,
     "metadata": {},
     "output_type": "execute_result"
    }
   ],
   "source": [
    "test['content'].nunique()"
   ]
  },
  {
   "cell_type": "code",
   "execution_count": 8,
   "id": "d87b9f93",
   "metadata": {},
   "outputs": [],
   "source": [
    "def save_sentence_dataframe(data):\n",
    "    idx=0\n",
    "    sentences = []\n",
    "    section_temp = []\n",
    "    for i in range(len(data)):\n",
    "        content = data['content'].iloc[idx]\n",
    "        if \"▲\" in str(content):\n",
    "            temp = str(content).split(\"▲\")\n",
    "            content=temp[0]\n",
    "        splited = str(content).replace(\". \",\"\\n\").split(\"\\n\")\n",
    "        sentences += splited\n",
    "        section_temp += [data['section'].iloc[idx]]*len(splited)\n",
    "        idx+=1\n",
    "    df = pd.DataFrame([sentences,section_temp]).T\n",
    "    df.columns = [\"sentence\",\"section\"]\n",
    "    filesave(df, \"donga_sentence_section.csv\")"
   ]
  },
  {
   "cell_type": "code",
   "execution_count": 9,
   "id": "db17c523",
   "metadata": {},
   "outputs": [],
   "source": [
    "save_sentence_dataframe(test)"
   ]
  },
  {
   "cell_type": "code",
   "execution_count": 10,
   "id": "4d471eaa",
   "metadata": {},
   "outputs": [],
   "source": [
    "ttt=fileread(\"donga_sentence_section.csv\")"
   ]
  },
  {
   "cell_type": "code",
   "execution_count": 210,
   "id": "fd906efb",
   "metadata": {},
   "outputs": [],
   "source": [
    "def topic_counter_by_section(section,data):\n",
    "    okt=Okt()\n",
    "    parsed_data=[]\n",
    "    sectiondata = data[data[\"section\"]==section]\n",
    "    for i in sectiondata['content']:\n",
    "        if \"▲\" in str(i):\n",
    "            temp = str(i).split(\"▲\")\n",
    "            i=temp[0]\n",
    "        splited_list = str(i).replace(\". \",\"\\n\").split(\"\\n\")\n",
    "        if not splited_list:\n",
    "            continue\n",
    "        for sentence in splited_list:\n",
    "            if len(sentence)<6:\n",
    "                continue\n",
    "            parsed_data += okt.pos(sentence, norm=True, stem=True)\n",
    "    word_list = []\n",
    "    \n",
    "    stopword = [\"없다\",\"있다\",\"재밌다\",\"좋다\",\"최고\",\"같다\",\"이\",\"것\",\"진짜\",\"아니다\",\"이렇다\",\"그냥\",\"하나\",\"다시\",\"많다\",\"이다\",\"최악\",'완전',\"안되다\",'어떻다',\"정말\",\"보고\",'정도','역시']\n",
    "    for word,tag in parsed_data:\n",
    "        if tag in [\"Noun\"] and len(word)>1 and word not in stopword:\n",
    "            word_list.append(word)\n",
    "    counts = Counter(word_list)\n",
    "    return counts"
   ]
  },
  {
   "cell_type": "code",
   "execution_count": 21,
   "id": "1bffcf7e",
   "metadata": {},
   "outputs": [],
   "source": [
    "def topic_counter_by_section_from_sentence_csv(section,data):\n",
    "    okt=Okt()\n",
    "    parsed_data=[]\n",
    "    sectiondata = data[data[\"section\"]==section]\n",
    "    for sentence in sectiondata['sentence']:\n",
    "        if len(str(sentence))<6:\n",
    "            continue\n",
    "        nouns = okt.nouns(str(sentence))\n",
    "        stopword = [\"없다\",\"있다\",\"재밌다\",\"좋다\",\"최고\",\"같다\",\"이\",\"것\",\"진짜\",\"아니다\",\"이렇다\",\"그냥\",\"하나\",\"다시\",\"많다\",\"이다\",\"최악\",'완전',\"안되다\",'어떻다',\"정말\",\"보고\",'정도','역시']\n",
    "        for word in nouns:\n",
    "            if len(word)>1 and word not in stopword:\n",
    "                parsed_data.append(word)\n",
    "    counts = Counter(parsed_data)\n",
    "    return counts"
   ]
  },
  {
   "cell_type": "code",
   "execution_count": 212,
   "id": "5059b321",
   "metadata": {},
   "outputs": [],
   "source": [
    "def most_40topiclist_by_section(section,data):\n",
    "    okt=Okt()\n",
    "    parsed_data=[]\n",
    "    sectiondata = data[data[\"section\"]==section]\n",
    "    for i in sectiondata[\"title\"]:\n",
    "        parsed_data+=okt.pos(i,norm=True,stem=True)\n",
    "\n",
    "    word_list = []\n",
    "    stopword = [\"없다\",\"있다\",\"재밌다\",\"좋다\",\"최고\",\"같다\",\"이\",\"것\",\"진짜\",\"아니다\",\"이렇다\",\"그냥\",\"하나\",\"다시\",\"많다\",\"이다\",\"최악\",'완전',\"안되다\",'어떻다',\"정말\",\"보고\",'정도','역시']\n",
    "    for word,tag in parsed_data:\n",
    "        if tag in [\"Noun\"] and len(word)>1 and word not in stopword:\n",
    "            word_list.append(word)\n",
    "\n",
    "\n",
    "    counts = Counter(word_list)\n",
    "    tags = counts.most_common(40)\n",
    "    return tags"
   ]
  },
  {
   "cell_type": "code",
   "execution_count": 15,
   "id": "b44b245c",
   "metadata": {},
   "outputs": [
    {
     "data": {
      "text/plain": [
       "Sports           9870\n",
       "Society          9219\n",
       "Inter            8947\n",
       "Politics         8683\n",
       "Culture          8247\n",
       "Economy          8052\n",
       "Entertainment    6784\n",
       "Name: section, dtype: int64"
      ]
     },
     "execution_count": 15,
     "metadata": {},
     "output_type": "execute_result"
    }
   ],
   "source": [
    "test[\"section\"].value_counts()"
   ]
  },
  {
   "cell_type": "code",
   "execution_count": 12,
   "id": "7d6d2fae",
   "metadata": {},
   "outputs": [],
   "source": [
    "sections = test[\"section\"].value_counts()"
   ]
  },
  {
   "cell_type": "code",
   "execution_count": 13,
   "id": "23d1c56a",
   "metadata": {},
   "outputs": [],
   "source": [
    "sections = list(sections[sections>21].keys())"
   ]
  },
  {
   "cell_type": "code",
   "execution_count": 14,
   "id": "bebf2ccd",
   "metadata": {},
   "outputs": [
    {
     "data": {
      "text/plain": [
       "['Sports',\n",
       " 'Society',\n",
       " 'Inter',\n",
       " 'Politics',\n",
       " 'Culture',\n",
       " 'Economy',\n",
       " 'Entertainment']"
      ]
     },
     "execution_count": 14,
     "metadata": {},
     "output_type": "execute_result"
    }
   ],
   "source": [
    "sections"
   ]
  },
  {
   "cell_type": "code",
   "execution_count": 16,
   "id": "e6df6d5d",
   "metadata": {},
   "outputs": [],
   "source": [
    "word_count_df = pd.DataFrame(columns=['word','count','section'])"
   ]
  },
  {
   "cell_type": "code",
   "execution_count": 17,
   "id": "d130c57f",
   "metadata": {
    "scrolled": true
   },
   "outputs": [
    {
     "data": {
      "text/html": [
       "<div>\n",
       "<style scoped>\n",
       "    .dataframe tbody tr th:only-of-type {\n",
       "        vertical-align: middle;\n",
       "    }\n",
       "\n",
       "    .dataframe tbody tr th {\n",
       "        vertical-align: top;\n",
       "    }\n",
       "\n",
       "    .dataframe thead th {\n",
       "        text-align: right;\n",
       "    }\n",
       "</style>\n",
       "<table border=\"1\" class=\"dataframe\">\n",
       "  <thead>\n",
       "    <tr style=\"text-align: right;\">\n",
       "      <th></th>\n",
       "      <th>word</th>\n",
       "      <th>count</th>\n",
       "      <th>section</th>\n",
       "    </tr>\n",
       "  </thead>\n",
       "  <tbody>\n",
       "  </tbody>\n",
       "</table>\n",
       "</div>"
      ],
      "text/plain": [
       "Empty DataFrame\n",
       "Columns: [word, count, section]\n",
       "Index: []"
      ]
     },
     "execution_count": 17,
     "metadata": {},
     "output_type": "execute_result"
    }
   ],
   "source": [
    "word_count_df"
   ]
  },
  {
   "cell_type": "code",
   "execution_count": 137,
   "id": "f0dbd750",
   "metadata": {
    "collapsed": true
   },
   "outputs": [
    {
     "ename": "KeyboardInterrupt",
     "evalue": "",
     "output_type": "error",
     "traceback": [
      "\u001b[1;31m---------------------------------------------------------------------------\u001b[0m",
      "\u001b[1;31mKeyboardInterrupt\u001b[0m                         Traceback (most recent call last)",
      "Input \u001b[1;32mIn [137]\u001b[0m, in \u001b[0;36m<cell line: 1>\u001b[1;34m()\u001b[0m\n\u001b[1;32m----> 1\u001b[0m counter\u001b[38;5;241m=\u001b[39m\u001b[43mtopic_counter_by_section\u001b[49m\u001b[43m(\u001b[49m\u001b[38;5;124;43m\"\u001b[39;49m\u001b[38;5;124;43m경제\u001b[39;49m\u001b[38;5;124;43m\"\u001b[39;49m\u001b[43m,\u001b[49m\u001b[43mtest\u001b[49m\u001b[43m)\u001b[49m\n",
      "Input \u001b[1;32mIn [131]\u001b[0m, in \u001b[0;36mtopic_counter_by_section\u001b[1;34m(section, data)\u001b[0m\n\u001b[0;32m     13\u001b[0m         \u001b[38;5;28;01mif\u001b[39;00m \u001b[38;5;28mlen\u001b[39m(sentence)\u001b[38;5;241m<\u001b[39m\u001b[38;5;241m6\u001b[39m:\n\u001b[0;32m     14\u001b[0m             \u001b[38;5;28;01mcontinue\u001b[39;00m\n\u001b[1;32m---> 15\u001b[0m         parsed_data \u001b[38;5;241m+\u001b[39m\u001b[38;5;241m=\u001b[39m \u001b[43mokt\u001b[49m\u001b[38;5;241;43m.\u001b[39;49m\u001b[43mpos\u001b[49m\u001b[43m(\u001b[49m\u001b[43msentence\u001b[49m\u001b[43m,\u001b[49m\u001b[43m \u001b[49m\u001b[43mnorm\u001b[49m\u001b[38;5;241;43m=\u001b[39;49m\u001b[38;5;28;43;01mTrue\u001b[39;49;00m\u001b[43m,\u001b[49m\u001b[43m \u001b[49m\u001b[43mstem\u001b[49m\u001b[38;5;241;43m=\u001b[39;49m\u001b[38;5;28;43;01mTrue\u001b[39;49;00m\u001b[43m)\u001b[49m\n\u001b[0;32m     16\u001b[0m word_list \u001b[38;5;241m=\u001b[39m []\n\u001b[0;32m     17\u001b[0m stopword \u001b[38;5;241m=\u001b[39m [\u001b[38;5;124m\"\u001b[39m\u001b[38;5;124m없다\u001b[39m\u001b[38;5;124m\"\u001b[39m,\u001b[38;5;124m\"\u001b[39m\u001b[38;5;124m있다\u001b[39m\u001b[38;5;124m\"\u001b[39m,\u001b[38;5;124m\"\u001b[39m\u001b[38;5;124m재밌다\u001b[39m\u001b[38;5;124m\"\u001b[39m,\u001b[38;5;124m\"\u001b[39m\u001b[38;5;124m좋다\u001b[39m\u001b[38;5;124m\"\u001b[39m,\u001b[38;5;124m\"\u001b[39m\u001b[38;5;124m최고\u001b[39m\u001b[38;5;124m\"\u001b[39m,\u001b[38;5;124m\"\u001b[39m\u001b[38;5;124m같다\u001b[39m\u001b[38;5;124m\"\u001b[39m,\u001b[38;5;124m\"\u001b[39m\u001b[38;5;124m이\u001b[39m\u001b[38;5;124m\"\u001b[39m,\u001b[38;5;124m\"\u001b[39m\u001b[38;5;124m것\u001b[39m\u001b[38;5;124m\"\u001b[39m,\u001b[38;5;124m\"\u001b[39m\u001b[38;5;124m진짜\u001b[39m\u001b[38;5;124m\"\u001b[39m,\u001b[38;5;124m\"\u001b[39m\u001b[38;5;124m아니다\u001b[39m\u001b[38;5;124m\"\u001b[39m,\u001b[38;5;124m\"\u001b[39m\u001b[38;5;124m이렇다\u001b[39m\u001b[38;5;124m\"\u001b[39m,\u001b[38;5;124m\"\u001b[39m\u001b[38;5;124m그냥\u001b[39m\u001b[38;5;124m\"\u001b[39m,\u001b[38;5;124m\"\u001b[39m\u001b[38;5;124m하나\u001b[39m\u001b[38;5;124m\"\u001b[39m,\u001b[38;5;124m\"\u001b[39m\u001b[38;5;124m다시\u001b[39m\u001b[38;5;124m\"\u001b[39m,\u001b[38;5;124m\"\u001b[39m\u001b[38;5;124m많다\u001b[39m\u001b[38;5;124m\"\u001b[39m,\u001b[38;5;124m\"\u001b[39m\u001b[38;5;124m이다\u001b[39m\u001b[38;5;124m\"\u001b[39m,\u001b[38;5;124m\"\u001b[39m\u001b[38;5;124m최악\u001b[39m\u001b[38;5;124m\"\u001b[39m,\u001b[38;5;124m'\u001b[39m\u001b[38;5;124m완전\u001b[39m\u001b[38;5;124m'\u001b[39m,\u001b[38;5;124m\"\u001b[39m\u001b[38;5;124m안되다\u001b[39m\u001b[38;5;124m\"\u001b[39m,\u001b[38;5;124m'\u001b[39m\u001b[38;5;124m어떻다\u001b[39m\u001b[38;5;124m'\u001b[39m,\u001b[38;5;124m\"\u001b[39m\u001b[38;5;124m정말\u001b[39m\u001b[38;5;124m\"\u001b[39m,\u001b[38;5;124m\"\u001b[39m\u001b[38;5;124m보고\u001b[39m\u001b[38;5;124m\"\u001b[39m,\u001b[38;5;124m'\u001b[39m\u001b[38;5;124m정도\u001b[39m\u001b[38;5;124m'\u001b[39m,\u001b[38;5;124m'\u001b[39m\u001b[38;5;124m역시\u001b[39m\u001b[38;5;124m'\u001b[39m]\n",
      "File \u001b[1;32mC:\\anaconda3\\lib\\site-packages\\konlpy\\tag\\_okt.py:71\u001b[0m, in \u001b[0;36mOkt.pos\u001b[1;34m(self, phrase, norm, stem, join)\u001b[0m\n\u001b[0;32m     59\u001b[0m \u001b[38;5;124;03m\"\"\"POS tagger.\u001b[39;00m\n\u001b[0;32m     60\u001b[0m \u001b[38;5;124;03mIn contrast to other classes in this subpackage,\u001b[39;00m\n\u001b[0;32m     61\u001b[0m \u001b[38;5;124;03mthis POS tagger doesn't have a `flatten` option,\u001b[39;00m\n\u001b[1;32m   (...)\u001b[0m\n\u001b[0;32m     67\u001b[0m \u001b[38;5;124;03m:param join: If True, returns joined sets of morph and tag.\u001b[39;00m\n\u001b[0;32m     68\u001b[0m \u001b[38;5;124;03m\"\"\"\u001b[39;00m\n\u001b[0;32m     69\u001b[0m validate_phrase_inputs(phrase)\n\u001b[1;32m---> 71\u001b[0m tokens \u001b[38;5;241m=\u001b[39m \u001b[38;5;28;43mself\u001b[39;49m\u001b[38;5;241;43m.\u001b[39;49m\u001b[43mjki\u001b[49m\u001b[38;5;241;43m.\u001b[39;49m\u001b[43mtokenize\u001b[49m\u001b[43m(\u001b[49m\n\u001b[0;32m     72\u001b[0m \u001b[43m            \u001b[49m\u001b[43mphrase\u001b[49m\u001b[43m,\u001b[49m\n\u001b[0;32m     73\u001b[0m \u001b[43m            \u001b[49m\u001b[43mjpype\u001b[49m\u001b[38;5;241;43m.\u001b[39;49m\u001b[43mjava\u001b[49m\u001b[38;5;241;43m.\u001b[39;49m\u001b[43mlang\u001b[49m\u001b[38;5;241;43m.\u001b[39;49m\u001b[43mBoolean\u001b[49m\u001b[43m(\u001b[49m\u001b[43mnorm\u001b[49m\u001b[43m)\u001b[49m\u001b[43m,\u001b[49m\n\u001b[0;32m     74\u001b[0m \u001b[43m            \u001b[49m\u001b[43mjpype\u001b[49m\u001b[38;5;241;43m.\u001b[39;49m\u001b[43mjava\u001b[49m\u001b[38;5;241;43m.\u001b[39;49m\u001b[43mlang\u001b[49m\u001b[38;5;241;43m.\u001b[39;49m\u001b[43mBoolean\u001b[49m\u001b[43m(\u001b[49m\u001b[43mstem\u001b[49m\u001b[43m)\u001b[49m\u001b[43m)\u001b[49m\u001b[38;5;241m.\u001b[39mtoArray()\n\u001b[0;32m     75\u001b[0m \u001b[38;5;28;01mif\u001b[39;00m join:\n\u001b[0;32m     76\u001b[0m     \u001b[38;5;28;01mreturn\u001b[39;00m [t \u001b[38;5;28;01mfor\u001b[39;00m t \u001b[38;5;129;01min\u001b[39;00m tokens]\n",
      "\u001b[1;31mKeyboardInterrupt\u001b[0m: "
     ]
    }
   ],
   "source": [
    "# counter=topic_counter_by_section(\"경제\",test)"
   ]
  },
  {
   "cell_type": "code",
   "execution_count": null,
   "id": "f58d42a7",
   "metadata": {},
   "outputs": [],
   "source": [
    "# temp = pd.DataFrame([dict(counter)]).T\n",
    "# temp['word'] = temp.index\n",
    "# temp['section'] = \"경제\"\n",
    "# temp.columns=['count','word','section']\n",
    "# word_count_df = pd.concat([word_count_df,temp],ignore_index=True)"
   ]
  },
  {
   "cell_type": "code",
   "execution_count": null,
   "id": "410314f4",
   "metadata": {
    "scrolled": true
   },
   "outputs": [],
   "source": [
    "# word_count_df"
   ]
  },
  {
   "cell_type": "code",
   "execution_count": 18,
   "id": "4a32c953",
   "metadata": {},
   "outputs": [],
   "source": [
    "def make_word_count_df():\n",
    "    df = pd.DataFrame(columns=['word','count','section'])\n",
    "    for section in sections:\n",
    "        print(section)\n",
    "        counter=topic_counter_by_section(section,test)\n",
    "        temp = pd.DataFrame([dict(counter)]).T\n",
    "        temp['word'] = temp.index\n",
    "        temp['section'] = section\n",
    "        temp.columns=['count','word','section']\n",
    "        df = pd.concat([df,temp],ignore_index=True)\n",
    "    return df"
   ]
  },
  {
   "cell_type": "code",
   "execution_count": 19,
   "id": "24f80747",
   "metadata": {},
   "outputs": [],
   "source": [
    "def make_word_count_df2(data,section_list):\n",
    "    df = pd.DataFrame(columns=['word','count','section'])\n",
    "    for section in section_list:\n",
    "        print(section)\n",
    "        counter=topic_counter_by_section_from_sentence_csv(section,data)\n",
    "        temp = pd.DataFrame([dict(counter)]).T\n",
    "        temp['word'] = temp.index\n",
    "        temp['section'] = section\n",
    "        temp.columns=['count','word','section']\n",
    "        df = pd.concat([df,temp],ignore_index=True)\n",
    "    return df"
   ]
  },
  {
   "cell_type": "code",
   "execution_count": 141,
   "id": "3ce73a50",
   "metadata": {},
   "outputs": [],
   "source": [
    "# most_40topiclist_by_section(\"경제\",test)"
   ]
  },
  {
   "cell_type": "code",
   "execution_count": 30,
   "id": "c359110a",
   "metadata": {},
   "outputs": [],
   "source": [
    "t=test[(test['section']==\"Sports\")&(test['content'].str.contains(\"경기\"))]"
   ]
  },
  {
   "cell_type": "code",
   "execution_count": 31,
   "id": "bdbbd5e3",
   "metadata": {
    "collapsed": true
   },
   "outputs": [
    {
     "name": "stdout",
     "output_type": "stream",
     "text": [
      "\n",
      "K리그 2022 대상 시상식\r\n",
      "울산 주장 맡아 우승의 숨은 주역… 선수들-코칭스태프 가교 역할 톡톡\r\n",
      "막판 전북 추격에 흔들릴 때 다잡아\r\n",
      "강원 양현준은 영플레이어상 수상\n",
      "“요즘같이 살기 어려운 때 많은 분들이 포기하고 싶은 마음으로 살고 있다. 하지만 포기하지 않고 계속 도전하면 좋겠다. 우리 울산처럼.” 24일 서울 서초구 더케이호텔에서 열린 K리그 2022 대상 시상식에서 최우수선수(MVP) 상을 받은 이청용(34·울산)의 소감이다. K리그1(1부 리그) 울산은 2019시즌부터 지난 시즌까지 3년 연속을 포함해 준우승만 모두 10번 했는데 2005년 이후 17년 만인 올해 리그 정상에 다시 올랐다. 이청용은 K리그1 감독 12표 중 6표, 선수 12표 중 6표, 미디어투표 116표 중 59표를 얻었다. 감독(30%), 주장(30%), 미디어(40%) 투표 결과를 합산한 환산점수에서 50.34점을 기록했다. 이청용은 19.40점의 신진호(34·포항), 15.86점의 김대원(25·강원), 14.40점의 김진수(30·전북)를 제치고 K리그1 최고의 별이 됐다. 프로 데뷔 16년 만의 첫 MVP 수상이다.\n",
      "\n",
      "  2006년 서울에서 프로 데뷔를 한 이청용은 2009년 당시 잉글랜드 프리미어리그 클럽이던 볼턴에 입단하며 유럽 무대에 진출했다. 이후 크리스털팰리스(잉글랜드), 보훔(독일)을 거쳤고 2020년 울산 유니폼을 입고 11년 만에 다시 K리그로 돌아왔다. 국가대표로는 2008년 5월 대표팀에 처음 발탁돼 2010년 남아프리카공화국, 2014년 브라질 월드컵에 출전했다. A매치 89경기에서 9골을 넣었다. 이청용은 지난해 홍명보 감독(53)이 울산 지휘봉을 잡은 뒤 팀 주장을 맡았다. 코칭스태프 회의에 참석하는 등 선수들과 코칭스태프 사이에서 가교 역할을 했다. 올 시즌 막판 2위 전북에 추격을 허용하며 팀 분위기가 어수선해졌을 때도 이청용이 나서 분위기를 다잡고 선수들을 독려했다. 울산 골키퍼 조현우(31)는 “청용이 형은 어떤 결정을 내려야 할 때 선수들과 공유하고 이해시키면서 결론을 내렸다. 경기를 이겼을 때나 졌을 때나 항상 차분한 모습을 보여 선수단에 큰 도움이 됐다. 팀에 없어서는 안 될 존재”라고 했다. 홍 감독도 올 시즌 팀 최고의 선수로 이청용을 꼽았다. 리그 35경기에서 3골 2도움으로 눈에 띄는 기록은 아니지만 팀의 구심점 역할을 했고 우승에도 큰 기여를 했다.  이청용은 이날 시상식에서 MVP로 자신의 이름이 불리자 팀 동료들과 함께 손을 모아 파이팅을 외친 뒤 단상에 올랐다. 이청용은 “우리 팀에서 MVP로 가장 어울리는 선수는 가장 많은 골과 도움을 기록한 엄원상이다. 고맙게 생각한다”며 “한국 축구를 위해 더 열심히 하라는 의미로 감사히 받겠다. 더 노력하고 더 발전하는 선수가 되겠다”고 말했다. 엄원상은 올 시즌 공격 포인트 18개(12골 6도움)로 이 부문 5위를 했다. 신인상에 해당하는 영플레이어상은 양현준(20·강원)이 받았다. 양현준은 올 시즌 36경기에서 8골 4도움을 기록했다. 지난해 11위였던 강원은 올해 6위로 시즌을 마쳤다. 양현준은 K리그 최초로 이달의 영플레이어상을 4차례 받았다. 9월에는 처음으로 대표팀에 소집되기도 했다.  홍명보 감독은 감독상을 받았다. 1992년 포항에서 뛸 때 MVP를 수상했던 홍 감독은 박경훈 대한축구협회 전무(1988년 MVP, 2010년 감독상), 최용수 강원 감독(2000년 MVP, 2012년 감독상)에 이어 3번째로 K리그 MVP와 감독상을 받은 축구인이 됐다. K리그2(2부 리그) MVP는 안영규(33), 감독상은 이정효(47), 영플레이어상은 엄지성(20·이상 광주)에게 돌아갔다.김배중 기자 wanted@donga.com #이청용#양현준#홍명보#k리그#시상식 \n",
      "구독\n",
      "\n",
      "\n",
      " \n",
      "\n",
      "여자농구 미디어데이 행사\r\n",
      "지난 시즌 챔프전 준우승 그쳐\r\n",
      "올시즌엔 우승후보 설문 1위에\n",
      "“시즌이 끝난 뒤에 오늘의 평가가 옳았다는 얘기를 들을 수 있게 하겠다.” 위성우 우리은행 감독은 24일 서울 여의도 63컨벤션센터에서 열린 2022∼2023시즌 여자프로농구 개막 미디어데이 행사에서 “(우승 후보) 1순위라니 기분은 좋다”며 이렇게 말했다. 새 시즌 우승 후보를 묻는 설문조사에서 가장 많은 표를 받은 것에 대한 반응이었다. 이날 한국여자농구연맹(WKBL)은 시즌 개막을 앞두고 7∼16일 6개 구단 선수와 농구 팬, 미디어 관계자들을 대상으로 실시한 설문조사 결과를 발표했는데 우리은행이 우승 후보 1순위였다. 6개 팀 선수 101명 중 절반이 넘는 51명(50.5%)이 우리은행을 우승 후보로 꼽았다. 미디어 관계자는 36명 중 23명(63.9%)이, 농구 팬들은 322명 가운데 108명(33.5%)이 우리은행의 우승을 예상했다.\n",
      "\n",
      "  지난 시즌 우리은행은 챔피언결정전에서 KB국민은행에 3경기를 내리 패하면서 리그 3연패를 놓쳤다. 하지만 지난 시즌이 끝난 뒤 신한은행에서 자유계약선수(FA)로 풀린 국가대표 포워드 김단비를 영입하면서 우승 후보 1순위 평가를 받고 있다. 우리은행은 박혜진 박지현(이상 가드) 김단비 최이샘(이상 포워드)이 버티는 국가대표 라인업을 구성했다. 김단비는 새 시즌 최우수선수(MVP) 후보에서도 1순위로 꼽혔다.  ‘디펜딩 챔피언’ KB국민은행의 국가대표 센터 박지수가 새 시즌 초반 팀에 합류하지 못하는 것도 우리은행이 압도적인 우승 후보로 평가되는 이유다. 박지수는 올해 7월 공황장애 진단을 받고 치료에 집중하고 있다. 김완수 KB국민은행 감독은 “(박)지수의 팀 합류 시기는 아직 알 수 없다”고 했다. 2022∼2023시즌 여자프로농구 정규리그는 30일 신한은행과 KB국민은행의 개막전을 시작으로 내년 3월 3일까지 팀당 30경기를 치른다. 강동웅 기자 leper@donga.com #우리은행#김단비 영입#미디어데이#여자농구 \n",
      "구독\n",
      "\n",
      "\n",
      " \n",
      "\n",
      "▽프로야구 플레이오프 2차전 △잠실: 키움 요키시-LG 플럿코(18시 30분)▽프로농구 △SK-현대모비스(서울 잠실학생체육관) △KCC-캐롯(전주체육관·이상 19시)▽프로배구 남자부 삼성화재-현대캐피탈(대전충무체육관) 여자부 흥국생명-페퍼저축은행(인천삼산월드체육관·이상 19시) \n",
      "\n",
      " ▽테니스 하나증권 한국선수권대회(10시·김천종합스포츠타운) 국제테니스연맹 이덕희배 국제주니어대회(10시·춘천송암테니스장)▽육상 목포투척경기대회(10시·목포축구센터)#프로야구#프로농구#프로배구#테니스#육상 \n",
      "\n",
      "최종라운드 버디 7개 보기 3개\r\n",
      "4타 줄여 기타야마에 1타 앞서… 2년 3개월 만에 9번째 1위 올라\r\n",
      "“내년엔 다시 한국서 대회 열리면, 타이틀 방어 위해 방문하고 싶어”\r\n",
      "이경훈, 역대 한국선수 최고 3위\n",
      "다시 로리 매킬로이(33·북아일랜드) 천하다. 2년 3개월 만에 남자 골프 세계랭킹 1위를 되찾았다. 매킬로이는 24일 미국 사우스캐롤라이나주 리질랜드 콩가리 골프클럽(파71)에서 열린 미국프로골프(PGA)투어 더 CJ컵(총상금 1050만 달러·약 151억 원)에서 대회 2연패에 성공하며 스코티 셰플러(26·미국)를 제치고 세계 2위에서 1위로 올라섰다. 이 대회 2연패는 매킬로이가 처음이다. 매킬로이는 이날 버디 7개, 보기 3개로 4타를 줄이며 최종 합계 17언더파 267타로 미국의 커트 기타야마(29)를 1타 차로 제치고 우승상금 189만 달러(약 27억2000만 원)를 거머쥐었다. 8월 열린 지난 시즌 최종전 투어 챔피언십에 이어 올 시즌 처음으로 출전한 더 CJ컵까지 2개 대회 연속 트로피를 안았다. 투어 통산 23승째다. 투어 챔피언십 우승자가 다음 시즌 첫 출전 대회에서 우승한 것은 2008년 ‘골프 황제’ 타이거 우즈(47·미국) 이후 처음이다.  2012년 3월 혼다 클래식 우승 뒤 처음으로 세계 1위 자리에 올랐던 매킬로이는 이번까지 총 9차례 1위에 올랐다. 2014년 8월부터 이듬해 8월까지 54주 동안 1위 자리를 지키기도 했다. 기간으로 치면 총 107주째다. PGA에 따르면 우즈(683주), 현재 LIV의 수장인 ‘백상어’ 그레그 노먼(331주), LIV에서 활동 중인 더스틴 존슨(135주)에 이어 네 번째로 긴 기록이다. \n",
      "\n",
      "  3라운드를 1타 차 선두로 마친 매킬로이는 4라운드 중반까지 기타야마와 동타를 이루다 14번홀(파3)에서 약 4m 버디 퍼트에 성공하며 앞서 나갔다. 이어 약 318m 길이의 짧은 파4 홀인 15번홀에서 원온을 시도하다 티샷이 벙커에 빠졌지만 벙커샷을 홀 1.5m 거리에 절묘하게 붙이며 버디에 성공했다. 이에 비해 원온에 성공한 기타야마는 세 차례 퍼트 끝에 파로 마무리했다.  매킬로이는 “세계 골프 정상의 자리로 차근차근 올라왔다. 혼자 노력으로 이룬 것이 아니다. 찬사를 받을 자격이 있는 사람이 많다”며 자신의 가족, 캐디, 코치, 에이전트 등을 일일이 거론했다. 이어 “한 시즌을 이보다 더 좋게 시작할 순 없다. 정말 큰 업적이라고 생각하며 나 자신이 정말 자랑스럽다”고 덧붙였다.  2연패에 성공한 더 CJ컵에 대한 애정도 드러냈다. CJ그룹이 주최하는 이 대회는 2017∼2019년 3년간 제주도에서 열리다 신종 코로나바이러스 감염증(코로나19) 확산 여파로 2020년부터 미국에서 치러지고 있다. 매킬로이는 “내년에는 한국에서 (대회가) 다시 개최될 수 있길 바란다. 2013년 한국오픈에 출전해 경기를 했으니 내년에 방문하면 10년 만의 방한이다. 한국에서 우승 타이틀을 지키면 좋겠다”고 말했다.  이경훈(31)은 최종합계 15언더파 269타로 3위를 기록했다. 이 대회에서 한국 선수가 거둔 역대 최고 성적이다. 그 전에는 2017년 김민휘(30)의 4위다. 이경훈은 세계랭킹을 42위에서 33위로 끌어올렸다. 아시아 선수로는 세계랭킹(15위)이 가장 높은 김주형(20)이 공동 11위(10언더파 274타), 세계랭킹 20위 임성재(24)는 공동 34위(4언더파 280타)를 했다.강홍구 기자 windup@donga.com #매킬로이#셰플러#이경훈 \n",
      "구독\n",
      "\n",
      "\n",
      " \n",
      "\n",
      "플레이오프 1차전 LG에 3-6 패배\r\n",
      "김혜성-김휘집-이정후-이지영 실책… 고비마다 점수 내주며 찬물 끼얹어\r\n",
      "류지현 “베이스러닝으로 압박 성공”… LG, 선발 켈리 6이닝 2실점 호투\r\n",
      "1차전 이겨 KS진출 80% 확률 얻어\n",
      "“확실히 경기를 치르고 온 팀이 몸이 가볍네.” 한국시리즈 파트너 확정을 기다리고 있는 프로야구 정규시즌 1위 팀 SSG 전력분석팀 관계자는 플레이오프(5전 3승제) 1차전을 앞두고 연습 중인 키움 선수단을 지켜보며 이렇게 말했다. 준플레이오프를 거치고 올라온 키움이 정규시즌 종료 후 12일간 경기가 없었던 LG보다 연습 분위기가 활기차다는 뜻이었다. 이 관계자는 그러면서 “그런데 경기 전에 컨디션이 너무 좋은 게 경기에 들어가면 오히려 독이 될 수도 있다”고 말했다. 실제로도 그렇게 됐다. 키움 선수들은 24일 서울 잠실구장에서 열린 이 경기에서 고비 때마다 실책 4개에 포일(捕逸), 야수 선택 등 실수를 연거푸 저지르면서 결국 LG에 3-6으로 무릎을 꿇었다. 키움 투수 7명이 내준 6점 가운데 절반인 3점이 비자책점이었다. 실수로 점수를 내주지 않았다면 키움도 경기 내내 팽팽한 승부를 이어갈 수 있었던 것이다. 홍원기 키움 감독은 “선수들이 자신감과 의욕이 너무 앞서서 이런 플레이가 나온 것 같다”며 아쉬워했다. \n",
      "\n",
      "  키움은 2회말 1사 1, 2루 수비 상황에서 병살타를 처리하던 2루수 김혜성의 송구 실책으로 선취점을 내줬다. 상대 3번 타자 김현수에게 적시타를 얻어맞아 0-2로 뒤지던 3회말 2사 1, 3루 상황에서도 유격수 김휘집의 포구 실책에 이어 중견수 이정후의 송구 실책이 연달아 나오면서 0-4로 끌려가기 시작했다.  키움은 6회초 공격에서 푸이그가 2점 홈런을 날리며 2-4로 추격했지만 6회말 수비 때 곧바로 포수 이지영이 공을 뒤로 빠뜨려 무사 2루 실점 위기를 맞았다. 이후 1사 3루에서 1루수 김태진의 야수 선택으로 점수를 내주면서 경기 분위기는 LG 쪽으로 더욱 기울었다. 반면 LG 야수진은 키움 타자들의 타구를 잡아 차곡차곡 아웃 카운트로 연결했다. 그 덕에 LG 선발 켈리는 탈삼진 하나 없이도 6이닝을 2실점으로 막고 이 경기 승리 투수이자 최우수선수(MVP)로 이름을 올렸다. 류지현 LG 감독은 “베이스러닝과 수비를 잘 준비해 상대를 압박한 게 좋은 결과로 이어진 것 같다”면서 “특히 중견수 박해민이 수비에서 좋은 모습을 여러 번 보여줬다”고 평했다.  LG는 만원 관중(2만3750명) 앞에서 거둔 이날 승리로 한국시리즈 진출 8분 능선을 넘었다. 플레이오프를 5전 3승제로 진행한 31년간 25번(80.6%)은 1차전 승리 팀이 결국 한국시리즈행 티켓을 따냈다. 25일 오후 6시 30분 같은 곳에서 열리는 2차전 선발로 키움은 요키시를, LG는 플럿코를 예고했다.황규인 기자 kini@donga.com강동웅 기자 leper@donga.com#키움#플레이오프#1차전#패배 \n",
      "구독\n",
      "\n",
      "\n",
      " \n",
      "구독\n",
      "\n",
      "\n",
      "\n",
      "\n",
      " \n",
      "\n",
      "샌디에이고, 필라델피아에 1승 4패\r\n",
      "휴스턴은 양키스 누르고 WS 올라\n",
      "            샌디에이고는 결국 ‘홈’으로 생환(生還)하지 못했다. 샌디에이고 주전 유격수로 거듭난 김하성(27)의 미국프로야구 메이저리그(MLB) 두 번째 시즌도 막을 내렸다. 샌디에이고는 24일 필라델피아 방문경기로 열린 내셔널리그 챔피언결정전(NLCS·7전 4승제) 5차전에서 3-4로 패했다. 시리즈 전적 1승 4패를 기록한 샌디에이고는 안방구장에서 예정돼 있던 6, 7차전까지 승부를 끌고 오지 못한 채 시즌 일정을 전부 마감했다. 김하성은 이번 ‘가을 야구’ 무대에서 팀의 ‘득점 머신’으로 활약했다. 김하성은 포스트시즌 12경기에서 총 14번 출루해 그중 8번(57.1%) 득점에 성공했다. 8득점은 1984년 토니 그윈(1960∼2014)이 남긴 7득점을 넘어선 구단 역대 최다 기록이다.\n",
      "\n",
      "  정규시즌 때도 김하성은 팀에 없어서는 안 될 존재였다. 지난해에는 출전한 117경기 중 63경기(53.8%)에 선발로 나섰지만 올해는 출전 150경기 중 142경기(94.7%)에 선발로 나섰다. 올 시즌 초만 해도 손목 부상으로 팀 전력에서 이탈한 주전 유격수 페르난도 타티스 주니어(23)가 복귀하면 김하성이 벤치로 물러날 것이라는 평가가 우세했다. 그러나 유격수 부문 골드글러브 후보 3명에 이름을 올릴 만큼 빼어난 수비 실력을 보여주면서 ‘타티스 주니어가 외야수로 포지션을 바꾸는 게 맞다’는 평가가 나오게 만들어 놨다. 김하성은 또 수비 부담이 큰 유격수로 뛰면서도 팀 내 4위에 해당하는 OPS(출루율+장타력) 0.708을 남겼다. ‘구장 효과’를 반영해 계산하는 OPS+는 107로 리그 평균(100)보다 높다. 다음 달 열리는 MLB 월드투어 올스타 멤버로 금의환향하는 김하성은 “내년에는 맨 마지막에 웃을 수 있도록 (노력)하겠다”고 말했다. 13년 만에 월드시리즈에 진출한 필라델피아는 지난해 준우승팀 휴스턴과 우승 트로피를 놓고 맞대결을 벌이게 됐다. 휴스턴은 이날 끝난 아메리칸리그 챔피언결정전(ALCS)에서 뉴욕 양키스를 6-5로 꺾고 4연승으로 월드시리즈에 올랐다. 필라델피아는 2008년 이후 14년 만에, 휴스턴은 2017년 이후 5년 만에 정상 등극을 노린다.강동웅 기자 leper@donga.com #김하성#가을질주#샌디에이고#양키스 \n",
      "구독\n",
      "\n",
      "\n",
      " \n",
      "\n",
      " LG 트윈스가 키움 히어로즈와의 플레이오프(PO·5전3선승제)에서 먼저 웃었다.LG는 24일 잠실구장에서 열린 2022 신한은행 쏠 KBO 포스트시즌(PS) PO 1차전에서 키움을 6-3으로 꺾었다.정규시즌 2위로 PO에 직행한 LG는 1차전을 승리로 장식하면서 기선 제압에 성공했다.\n",
      "\n",
      " 80.6%의 확률도 잡았다. 5전3선승제의 PO에서 1차전을 승리한 팀이 한국시리즈(KS)에 진출한 것은 31번 중 25번이었다.정규시즌 3위로 준플레이오프(준PO·5전3선승제)에 나서 KT 위즈를 3승 2패로 물리친 키움은 1차전을 내주면서 상승세를 잇지 못했다.LG의 외국인 에이스 케이시 켈리는 6이닝 6피안타(1홈런) 2실점 호투로 팀 승리에 발판을 놨다. 삼진을 하나도 잡지 못했으나 위기 상황에서도 크게 무너지지 않으며 제 몫을 해냈다.켈리는 이날 호투로 PS 개인 통산 세 번째 승리를 챙겼다.이날 경기 데일리 최우수선수(MVP)도 켈리의 몫이었다. 키움은 실책 4개를 쏟아내며 자멸했다. 특히 3회에는 2사 1, 2루의 위기에서 유격수 김휘집, 중견수 이정후가 잇달아 실책을 범해 흐름을 LG에 내줬다. 키움 선발 타일러 애플러는 야수진의 잇단 실책 속에 3이닝 6피안타 4실점(1자책점)하고 일찌감치 마운드를 내려갔다.야시엘 푸이그는 6회말 추격의 투런포를 작렬했지만, 키움이 패배하면서 빛이 바랬다.LG는 2회 선취점을 올렸다.2회말 문보경이 중전 안타를 친 뒤 문성주의 땅볼 타구가 1루수, 2루수 사이에 애매한 위치로 향하면서 내야안타가 됐다. 키움 2루수 김혜성이 다이빙 캐치로 문성주의 타구를 잡았으나 1루에 공을 던지지 못했다.LG는 이어진 1사 1, 2루에서 유강남의 2루 땅볼 때 키움 2루수 김혜성이 실책을 저지르면서 선취점을 냈다. 유강남의 타구를 잡은 김혜성이 직접 2루를 밟아 1루 주자를 포스아웃시킨 뒤 1루로 송구했는데, 공이 1루수 머리 위로 날아가면서 2루 주자 문보경이 3루를 돌아 홈까지 들어왔다.LG는 3회말 3점을 더 올리며 흐름을 가져갔다.3회말 선두타자 홍창기는 내야안타로 출루한 뒤 박해민의 좌익수 파울 플라이 때 태그업해 2루까지 나아갔다. 후속타자 김현수가 우전 적시타를 날리면서 LG에 추가점을 안겼다.LG는 이후 2사 1, 3루에서 키움의 잇단 수비 실책을 틈 타 2점을 보탰다.문보경이 중견수 방면에 짧은 뜬공 타구를 날렸고, 키움 중견수 이정후와 유격수 김휘집이 타구를 따라갔다. 그러나 둘 모두 타구를 잡지 못했고, 3루 주자 김현수가 득점했다.급히 타구를 잡은 이정후는 홈으로 송구했지만 크게 빗나갔다. 1루에서 3루까지 나아갔던 오지환까지 홈을 밟으면서 LG는 4-0까지 점수차를 벌렸다.키움도 쉽게 물러서지는 않았다. 6회말 2사 1루에서 푸이그가 좌중간 담장을 넘기는 투런 아치를 그려내 키움의 2-4 추격을 이끌었다. 푸이그의 KBO 가을야구 무대 두 번째 홈런.하지만 LG는 이어진 공격에서 2점을 올리며 키움의 추격을 뿌리쳤다.6회말 선두타자 오지환이 볼넷을 골라냈고, 상대 포수의 패스트볼로 2루까지 나아갔다. 문보경이 희생번트에 성공하면서 1사 3루가 됐다.후속타자 문성주의 내야 땅볼 때 키움 1루수 김태진이 타구를 잡아 1루로 송구했는데, 정확하지 못했다. 그 사이 3루에 있던 오지환이 홈으로 파고들었다.유강남의 진루타로 2사 2루를 이어간 LG는 서건창이 중전 적시타를 뽑아내면서 6-2로 달아났다.키움은 8회초 김준완의 볼넷과 이정후의 2루타로 만든 1사 2, 3루에서 김혜성이 희생플라이를 쳐 1점을 만회했지만, 거기까지였다.8회초 2사 2루의 위기에 등판한 LG 셋업맨 정우영은 푸이그를 유격수 땅볼로 처리하고 키움의 추격 흐름을 끊었다.LG 마무리 투수 고우석은 팀이 6-3으로 앞선 9회초 등판, 1이닝을 삼자범퇴로 마무리하고 PS 개인 통산 3번째 세이브를 수확했다.[서울=뉴시스]  \n"
     ]
    }
   ],
   "source": [
    "cnt=0\n",
    "for i in t['content']:\n",
    "    print(i)\n",
    "    \n",
    "    cnt+=1\n",
    "    if cnt>6:\n",
    "        break"
   ]
  },
  {
   "cell_type": "code",
   "execution_count": 22,
   "id": "fa3cad67",
   "metadata": {
    "scrolled": false
   },
   "outputs": [
    {
     "name": "stdout",
     "output_type": "stream",
     "text": [
      "Sports\n",
      "Society\n",
      "Inter\n",
      "Politics\n",
      "Culture\n",
      "Economy\n",
      "Entertainment\n"
     ]
    }
   ],
   "source": [
    "w2 = make_word_count_df2(ttt,['Sports',\n",
    " 'Society',\n",
    " 'Inter',\n",
    " 'Politics',\n",
    " 'Culture',\n",
    " 'Economy',\n",
    " 'Entertainment'])"
   ]
  },
  {
   "cell_type": "code",
   "execution_count": 23,
   "id": "28d207fa",
   "metadata": {},
   "outputs": [
    {
     "data": {
      "text/html": [
       "<div>\n",
       "<style scoped>\n",
       "    .dataframe tbody tr th:only-of-type {\n",
       "        vertical-align: middle;\n",
       "    }\n",
       "\n",
       "    .dataframe tbody tr th {\n",
       "        vertical-align: top;\n",
       "    }\n",
       "\n",
       "    .dataframe thead th {\n",
       "        text-align: right;\n",
       "    }\n",
       "</style>\n",
       "<table border=\"1\" class=\"dataframe\">\n",
       "  <thead>\n",
       "    <tr style=\"text-align: right;\">\n",
       "      <th></th>\n",
       "      <th>word</th>\n",
       "      <th>count</th>\n",
       "      <th>section</th>\n",
       "    </tr>\n",
       "  </thead>\n",
       "  <tbody>\n",
       "    <tr>\n",
       "      <th>0</th>\n",
       "      <td>리그</td>\n",
       "      <td>9151</td>\n",
       "      <td>Sports</td>\n",
       "    </tr>\n",
       "    <tr>\n",
       "      <th>1</th>\n",
       "      <td>대상</td>\n",
       "      <td>490</td>\n",
       "      <td>Sports</td>\n",
       "    </tr>\n",
       "    <tr>\n",
       "      <th>2</th>\n",
       "      <td>시상식</td>\n",
       "      <td>299</td>\n",
       "      <td>Sports</td>\n",
       "    </tr>\n",
       "    <tr>\n",
       "      <th>3</th>\n",
       "      <td>울산</td>\n",
       "      <td>1382</td>\n",
       "      <td>Sports</td>\n",
       "    </tr>\n",
       "    <tr>\n",
       "      <th>4</th>\n",
       "      <td>주장</td>\n",
       "      <td>709</td>\n",
       "      <td>Sports</td>\n",
       "    </tr>\n",
       "    <tr>\n",
       "      <th>...</th>\n",
       "      <td>...</td>\n",
       "      <td>...</td>\n",
       "      <td>...</td>\n",
       "    </tr>\n",
       "    <tr>\n",
       "      <th>226512</th>\n",
       "      <td>레저렉션</td>\n",
       "      <td>2</td>\n",
       "      <td>Entertainment</td>\n",
       "    </tr>\n",
       "    <tr>\n",
       "      <th>226513</th>\n",
       "      <td>백파</td>\n",
       "      <td>1</td>\n",
       "      <td>Entertainment</td>\n",
       "    </tr>\n",
       "    <tr>\n",
       "      <th>226514</th>\n",
       "      <td>뒤집힌다</td>\n",
       "      <td>1</td>\n",
       "      <td>Entertainment</td>\n",
       "    </tr>\n",
       "    <tr>\n",
       "      <th>226515</th>\n",
       "      <td>직수</td>\n",
       "      <td>1</td>\n",
       "      <td>Entertainment</td>\n",
       "    </tr>\n",
       "    <tr>\n",
       "      <th>226516</th>\n",
       "      <td>복사</td>\n",
       "      <td>1</td>\n",
       "      <td>Entertainment</td>\n",
       "    </tr>\n",
       "  </tbody>\n",
       "</table>\n",
       "<p>226517 rows × 3 columns</p>\n",
       "</div>"
      ],
      "text/plain": [
       "        word count        section\n",
       "0         리그  9151         Sports\n",
       "1         대상   490         Sports\n",
       "2        시상식   299         Sports\n",
       "3         울산  1382         Sports\n",
       "4         주장   709         Sports\n",
       "...      ...   ...            ...\n",
       "226512  레저렉션     2  Entertainment\n",
       "226513    백파     1  Entertainment\n",
       "226514  뒤집힌다     1  Entertainment\n",
       "226515    직수     1  Entertainment\n",
       "226516    복사     1  Entertainment\n",
       "\n",
       "[226517 rows x 3 columns]"
      ]
     },
     "execution_count": 23,
     "metadata": {},
     "output_type": "execute_result"
    }
   ],
   "source": [
    "w2"
   ]
  },
  {
   "cell_type": "code",
   "execution_count": 24,
   "id": "ca9224ec",
   "metadata": {},
   "outputs": [
    {
     "data": {
      "text/html": [
       "<div>\n",
       "<style scoped>\n",
       "    .dataframe tbody tr th:only-of-type {\n",
       "        vertical-align: middle;\n",
       "    }\n",
       "\n",
       "    .dataframe tbody tr th {\n",
       "        vertical-align: top;\n",
       "    }\n",
       "\n",
       "    .dataframe thead th {\n",
       "        text-align: right;\n",
       "    }\n",
       "</style>\n",
       "<table border=\"1\" class=\"dataframe\">\n",
       "  <thead>\n",
       "    <tr style=\"text-align: right;\">\n",
       "      <th></th>\n",
       "      <th>word</th>\n",
       "      <th>count</th>\n",
       "      <th>section</th>\n",
       "    </tr>\n",
       "  </thead>\n",
       "  <tbody>\n",
       "    <tr>\n",
       "      <th>80</th>\n",
       "      <td>경기</td>\n",
       "      <td>24483</td>\n",
       "      <td>Sports</td>\n",
       "    </tr>\n",
       "    <tr>\n",
       "      <th>93284</th>\n",
       "      <td>대통령</td>\n",
       "      <td>20882</td>\n",
       "      <td>Politics</td>\n",
       "    </tr>\n",
       "    <tr>\n",
       "      <th>93200</th>\n",
       "      <td>의원</td>\n",
       "      <td>19012</td>\n",
       "      <td>Politics</td>\n",
       "    </tr>\n",
       "    <tr>\n",
       "      <th>59678</th>\n",
       "      <td>러시아</td>\n",
       "      <td>18289</td>\n",
       "      <td>Inter</td>\n",
       "    </tr>\n",
       "    <tr>\n",
       "      <th>59439</th>\n",
       "      <td>미국</td>\n",
       "      <td>17618</td>\n",
       "      <td>Inter</td>\n",
       "    </tr>\n",
       "    <tr>\n",
       "      <th>...</th>\n",
       "      <td>...</td>\n",
       "      <td>...</td>\n",
       "      <td>...</td>\n",
       "    </tr>\n",
       "    <tr>\n",
       "      <th>117021</th>\n",
       "      <td>김빛</td>\n",
       "      <td>1</td>\n",
       "      <td>Politics</td>\n",
       "    </tr>\n",
       "    <tr>\n",
       "      <th>117020</th>\n",
       "      <td>병목</td>\n",
       "      <td>1</td>\n",
       "      <td>Politics</td>\n",
       "    </tr>\n",
       "    <tr>\n",
       "      <th>117018</th>\n",
       "      <td>강병구</td>\n",
       "      <td>1</td>\n",
       "      <td>Politics</td>\n",
       "    </tr>\n",
       "    <tr>\n",
       "      <th>19311</th>\n",
       "      <td>파찰음</td>\n",
       "      <td>1</td>\n",
       "      <td>Sports</td>\n",
       "    </tr>\n",
       "    <tr>\n",
       "      <th>226516</th>\n",
       "      <td>복사</td>\n",
       "      <td>1</td>\n",
       "      <td>Entertainment</td>\n",
       "    </tr>\n",
       "  </tbody>\n",
       "</table>\n",
       "<p>226517 rows × 3 columns</p>\n",
       "</div>"
      ],
      "text/plain": [
       "       word  count        section\n",
       "80       경기  24483         Sports\n",
       "93284   대통령  20882       Politics\n",
       "93200    의원  19012       Politics\n",
       "59678   러시아  18289          Inter\n",
       "59439    미국  17618          Inter\n",
       "...     ...    ...            ...\n",
       "117021   김빛      1       Politics\n",
       "117020   병목      1       Politics\n",
       "117018  강병구      1       Politics\n",
       "19311   파찰음      1         Sports\n",
       "226516   복사      1  Entertainment\n",
       "\n",
       "[226517 rows x 3 columns]"
      ]
     },
     "execution_count": 24,
     "metadata": {},
     "output_type": "execute_result"
    }
   ],
   "source": [
    "w2.sort_values(by=\"count\", ascending=False)"
   ]
  },
  {
   "cell_type": "code",
   "execution_count": 25,
   "id": "7c925b81",
   "metadata": {},
   "outputs": [],
   "source": [
    "w2['word_length']=[len(i) for i in w2['word']]"
   ]
  },
  {
   "cell_type": "code",
   "execution_count": 26,
   "id": "75811ff3",
   "metadata": {},
   "outputs": [],
   "source": [
    "w2 = w2[w2['word_length']>1]"
   ]
  },
  {
   "cell_type": "code",
   "execution_count": 27,
   "id": "578097d4",
   "metadata": {},
   "outputs": [],
   "source": [
    "w2.drop(['word_length'],axis=1,inplace=True)"
   ]
  },
  {
   "cell_type": "code",
   "execution_count": 28,
   "id": "410f47bc",
   "metadata": {},
   "outputs": [
    {
     "data": {
      "text/html": [
       "<div>\n",
       "<style scoped>\n",
       "    .dataframe tbody tr th:only-of-type {\n",
       "        vertical-align: middle;\n",
       "    }\n",
       "\n",
       "    .dataframe tbody tr th {\n",
       "        vertical-align: top;\n",
       "    }\n",
       "\n",
       "    .dataframe thead th {\n",
       "        text-align: right;\n",
       "    }\n",
       "</style>\n",
       "<table border=\"1\" class=\"dataframe\">\n",
       "  <thead>\n",
       "    <tr style=\"text-align: right;\">\n",
       "      <th></th>\n",
       "      <th>word</th>\n",
       "      <th>count</th>\n",
       "      <th>section</th>\n",
       "    </tr>\n",
       "  </thead>\n",
       "  <tbody>\n",
       "    <tr>\n",
       "      <th>80</th>\n",
       "      <td>경기</td>\n",
       "      <td>24483</td>\n",
       "      <td>Sports</td>\n",
       "    </tr>\n",
       "    <tr>\n",
       "      <th>93284</th>\n",
       "      <td>대통령</td>\n",
       "      <td>20882</td>\n",
       "      <td>Politics</td>\n",
       "    </tr>\n",
       "    <tr>\n",
       "      <th>93200</th>\n",
       "      <td>의원</td>\n",
       "      <td>19012</td>\n",
       "      <td>Politics</td>\n",
       "    </tr>\n",
       "    <tr>\n",
       "      <th>59678</th>\n",
       "      <td>러시아</td>\n",
       "      <td>18289</td>\n",
       "      <td>Inter</td>\n",
       "    </tr>\n",
       "    <tr>\n",
       "      <th>59439</th>\n",
       "      <td>미국</td>\n",
       "      <td>17618</td>\n",
       "      <td>Inter</td>\n",
       "    </tr>\n",
       "    <tr>\n",
       "      <th>...</th>\n",
       "      <td>...</td>\n",
       "      <td>...</td>\n",
       "      <td>...</td>\n",
       "    </tr>\n",
       "    <tr>\n",
       "      <th>117021</th>\n",
       "      <td>김빛</td>\n",
       "      <td>1</td>\n",
       "      <td>Politics</td>\n",
       "    </tr>\n",
       "    <tr>\n",
       "      <th>117020</th>\n",
       "      <td>병목</td>\n",
       "      <td>1</td>\n",
       "      <td>Politics</td>\n",
       "    </tr>\n",
       "    <tr>\n",
       "      <th>117018</th>\n",
       "      <td>강병구</td>\n",
       "      <td>1</td>\n",
       "      <td>Politics</td>\n",
       "    </tr>\n",
       "    <tr>\n",
       "      <th>19311</th>\n",
       "      <td>파찰음</td>\n",
       "      <td>1</td>\n",
       "      <td>Sports</td>\n",
       "    </tr>\n",
       "    <tr>\n",
       "      <th>226516</th>\n",
       "      <td>복사</td>\n",
       "      <td>1</td>\n",
       "      <td>Entertainment</td>\n",
       "    </tr>\n",
       "  </tbody>\n",
       "</table>\n",
       "<p>226517 rows × 3 columns</p>\n",
       "</div>"
      ],
      "text/plain": [
       "       word  count        section\n",
       "80       경기  24483         Sports\n",
       "93284   대통령  20882       Politics\n",
       "93200    의원  19012       Politics\n",
       "59678   러시아  18289          Inter\n",
       "59439    미국  17618          Inter\n",
       "...     ...    ...            ...\n",
       "117021   김빛      1       Politics\n",
       "117020   병목      1       Politics\n",
       "117018  강병구      1       Politics\n",
       "19311   파찰음      1         Sports\n",
       "226516   복사      1  Entertainment\n",
       "\n",
       "[226517 rows x 3 columns]"
      ]
     },
     "execution_count": 28,
     "metadata": {},
     "output_type": "execute_result"
    }
   ],
   "source": [
    "w2.sort_values(by=\"count\", ascending=False)"
   ]
  },
  {
   "cell_type": "code",
   "execution_count": 29,
   "id": "5f48c9c5",
   "metadata": {},
   "outputs": [],
   "source": [
    "filesave(w2,\"donga_content_word_count.csv\")"
   ]
  },
  {
   "cell_type": "code",
   "execution_count": null,
   "id": "9f43596c",
   "metadata": {},
   "outputs": [],
   "source": []
  }
 ],
 "metadata": {
  "kernelspec": {
   "display_name": "Python 3 (ipykernel)",
   "language": "python",
   "name": "python3"
  },
  "language_info": {
   "codemirror_mode": {
    "name": "ipython",
    "version": 3
   },
   "file_extension": ".py",
   "mimetype": "text/x-python",
   "name": "python",
   "nbconvert_exporter": "python",
   "pygments_lexer": "ipython3",
   "version": "3.9.12"
  }
 },
 "nbformat": 4,
 "nbformat_minor": 5
}
