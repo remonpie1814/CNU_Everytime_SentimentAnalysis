{
 "cells": [
  {
   "cell_type": "code",
   "execution_count": 125,
   "id": "adbcdca2",
   "metadata": {},
   "outputs": [],
   "source": [
    "import pandas as pd\n",
    "from konlpy.tag import Okt\n",
    "from collections import Counter\n"
   ]
  },
  {
   "cell_type": "code",
   "execution_count": 126,
   "id": "5eea11a0",
   "metadata": {},
   "outputs": [],
   "source": [
    "def filesave(dataframe,name):\n",
    "    dataframe.to_csv(name,sep=\"\\t\", encoding=\"utf-8\",index=False)\n",
    "def fileread(name):\n",
    "    return pd.read_csv(name,sep=\"\\t\",encoding=\"utf-8\")"
   ]
  },
  {
   "cell_type": "code",
   "execution_count": 127,
   "id": "fc5badc7",
   "metadata": {},
   "outputs": [],
   "source": [
    "test=fileread('test/chosun_dataframe.csv')"
   ]
  },
  {
   "cell_type": "code",
   "execution_count": 128,
   "id": "08b882fa",
   "metadata": {
    "collapsed": true
   },
   "outputs": [
    {
     "data": {
      "text/html": [
       "<div>\n",
       "<style scoped>\n",
       "    .dataframe tbody tr th:only-of-type {\n",
       "        vertical-align: middle;\n",
       "    }\n",
       "\n",
       "    .dataframe tbody tr th {\n",
       "        vertical-align: top;\n",
       "    }\n",
       "\n",
       "    .dataframe thead th {\n",
       "        text-align: right;\n",
       "    }\n",
       "</style>\n",
       "<table border=\"1\" class=\"dataframe\">\n",
       "  <thead>\n",
       "    <tr style=\"text-align: right;\">\n",
       "      <th></th>\n",
       "      <th>title</th>\n",
       "      <th>content</th>\n",
       "      <th>date</th>\n",
       "      <th>section</th>\n",
       "      <th>url</th>\n",
       "    </tr>\n",
       "  </thead>\n",
       "  <tbody>\n",
       "    <tr>\n",
       "      <th>0</th>\n",
       "      <td>신한금융, 3분기 순익 1.6조… 역대 최대 실적</td>\n",
       "      <td>조용병 신한금융지주 회장이 고객 중심 경영을 강조하고 있다.신한금융이 올해 3분기(...</td>\n",
       "      <td>2022.10.25 13:52</td>\n",
       "      <td>경제</td>\n",
       "      <td>https://www.chosun.com/economy/economy_general...</td>\n",
       "    </tr>\n",
       "    <tr>\n",
       "      <th>1</th>\n",
       "      <td>자금시장 경색에… 한은 ‘베이비스텝’ 전망 나와</td>\n",
       "      <td>‘레고랜드 사태’가 뇌관이 된 자금 시장 경색이 쉽게 풀릴 기미를 보이지 않으면서 ...</td>\n",
       "      <td>2022.10.25 04:16</td>\n",
       "      <td>경제</td>\n",
       "      <td>https://www.chosun.com/economy/economy_general...</td>\n",
       "    </tr>\n",
       "    <tr>\n",
       "      <th>2</th>\n",
       "      <td>일본은행 두번째 복면개입?  엔·달러 환율 149엔대에서 갑자기 4엔 하락</td>\n",
       "      <td>지난 20일 스즈키 슌이치 일본 재무상이 취재진과 만나는 모습. /로이터 연합뉴스달...</td>\n",
       "      <td>2022.10.25 03:00</td>\n",
       "      <td>경제</td>\n",
       "      <td>https://www.chosun.com/economy/economy_general...</td>\n",
       "    </tr>\n",
       "    <tr>\n",
       "      <th>3</th>\n",
       "      <td>매달 10만원씩 6년 부었는데 이자 12만원? 낮아도 너무 낮은 금리에 ‘저축보험’...</td>\n",
       "      <td>은행 수신금리가 나날이 오르자 오래 전 저축보험을 가입했다가 중도해지에 나서는 사람...</td>\n",
       "      <td>2022.10.25 03:00</td>\n",
       "      <td>경제</td>\n",
       "      <td>https://www.chosun.com/economy/economy_general...</td>\n",
       "    </tr>\n",
       "    <tr>\n",
       "      <th>4</th>\n",
       "      <td>작년 종부세 수정 요구 1481건, 1년새 80% 폭증… 절반이 받아들여졌다</td>\n",
       "      <td>지난해 납세자들이 종합부동산세(종부세)를 과도하게 냈다며 수정을 요구한 경정 청구가...</td>\n",
       "      <td>2022.10.25 03:00</td>\n",
       "      <td>경제</td>\n",
       "      <td>https://www.chosun.com/economy/economy_general...</td>\n",
       "    </tr>\n",
       "    <tr>\n",
       "      <th>...</th>\n",
       "      <td>...</td>\n",
       "      <td>...</td>\n",
       "      <td>...</td>\n",
       "      <td>...</td>\n",
       "      <td>...</td>\n",
       "    </tr>\n",
       "    <tr>\n",
       "      <th>1985</th>\n",
       "      <td>정성호 “이재명, 부패지옥·청렴천국 달고 살아… 김용 개인비리일수도”</td>\n",
       "      <td>이재명 더불어민주당 대표는 24일 검찰이 서울 여의도 민주당사 내 민주연구원을 압수...</td>\n",
       "      <td>2022.10.25 07:17</td>\n",
       "      <td>정치</td>\n",
       "      <td>https://www.chosun.com/politics/politics_gener...</td>\n",
       "    </tr>\n",
       "    <tr>\n",
       "      <th>1986</th>\n",
       "      <td>한동훈에 “화내는 모습 부적절” 지적한 김남국, 잠시 후 “이 사람아” 고성</td>\n",
       "      <td>24일 법제사법위원회 국정감사에서 화제가 된 장면은 한동훈 법무부 장관과 김의겸 더...</td>\n",
       "      <td>2022.10.25 10:25</td>\n",
       "      <td>정치</td>\n",
       "      <td>https://www.chosun.com/politics/politics_gener...</td>\n",
       "    </tr>\n",
       "    <tr>\n",
       "      <th>1987</th>\n",
       "      <td>“이게 6만원…먹다 남은 거 아닙니다” 속초 횟집 가격 논란</td>\n",
       "      <td>강원도 속초의 한 횟집에서 6만원 어치 참돔과 2만원 어치 개불을 포장해왔다며 네티...</td>\n",
       "      <td>2022.10.25 11:48</td>\n",
       "      <td>사회</td>\n",
       "      <td>https://www.chosun.com/national/national_gener...</td>\n",
       "    </tr>\n",
       "    <tr>\n",
       "      <th>1988</th>\n",
       "      <td>시정 연설·사전차담회 모두 거부한 野… 5년 전 文때는 달랐다</td>\n",
       "      <td>윤석열 대통령이 25일 서울 여의도 국회에서 2023년도 예산안 및 기금운용계획안 ...</td>\n",
       "      <td>2022.10.25 10:06</td>\n",
       "      <td>politics/assembly</td>\n",
       "      <td>https://www.chosun.com/politics/assembly/2022/...</td>\n",
       "    </tr>\n",
       "    <tr>\n",
       "      <th>1989</th>\n",
       "      <td>“尹·韓 새벽 3시까지 술자리” 더탐사 방송… 술집 위치도 특정 못했다</td>\n",
       "      <td>윤석열 대통령과 한동훈 법무장관의 '심야 술자리 의혹'을 제기한 인터넷매체 '더탐사...</td>\n",
       "      <td>2022.10.25 07:45</td>\n",
       "      <td>정치</td>\n",
       "      <td>https://www.chosun.com/politics/politics_gener...</td>\n",
       "    </tr>\n",
       "  </tbody>\n",
       "</table>\n",
       "<p>1990 rows × 5 columns</p>\n",
       "</div>"
      ],
      "text/plain": [
       "                                                  title  \\\n",
       "0                           신한금융, 3분기 순익 1.6조… 역대 최대 실적   \n",
       "1                            자금시장 경색에… 한은 ‘베이비스텝’ 전망 나와   \n",
       "2             일본은행 두번째 복면개입?  엔·달러 환율 149엔대에서 갑자기 4엔 하락   \n",
       "3     매달 10만원씩 6년 부었는데 이자 12만원? 낮아도 너무 낮은 금리에 ‘저축보험’...   \n",
       "4            작년 종부세 수정 요구 1481건, 1년새 80% 폭증… 절반이 받아들여졌다   \n",
       "...                                                 ...   \n",
       "1985             정성호 “이재명, 부패지옥·청렴천국 달고 살아… 김용 개인비리일수도”   \n",
       "1986         한동훈에 “화내는 모습 부적절” 지적한 김남국, 잠시 후 “이 사람아” 고성   \n",
       "1987                  “이게 6만원…먹다 남은 거 아닙니다” 속초 횟집 가격 논란   \n",
       "1988                 시정 연설·사전차담회 모두 거부한 野… 5년 전 文때는 달랐다   \n",
       "1989            “尹·韓 새벽 3시까지 술자리” 더탐사 방송… 술집 위치도 특정 못했다   \n",
       "\n",
       "                                                content               date  \\\n",
       "0     조용병 신한금융지주 회장이 고객 중심 경영을 강조하고 있다.신한금융이 올해 3분기(...   2022.10.25 13:52   \n",
       "1     ‘레고랜드 사태’가 뇌관이 된 자금 시장 경색이 쉽게 풀릴 기미를 보이지 않으면서 ...   2022.10.25 04:16   \n",
       "2     지난 20일 스즈키 슌이치 일본 재무상이 취재진과 만나는 모습. /로이터 연합뉴스달...   2022.10.25 03:00   \n",
       "3     은행 수신금리가 나날이 오르자 오래 전 저축보험을 가입했다가 중도해지에 나서는 사람...   2022.10.25 03:00   \n",
       "4     지난해 납세자들이 종합부동산세(종부세)를 과도하게 냈다며 수정을 요구한 경정 청구가...   2022.10.25 03:00   \n",
       "...                                                 ...                ...   \n",
       "1985  이재명 더불어민주당 대표는 24일 검찰이 서울 여의도 민주당사 내 민주연구원을 압수...   2022.10.25 07:17   \n",
       "1986  24일 법제사법위원회 국정감사에서 화제가 된 장면은 한동훈 법무부 장관과 김의겸 더...   2022.10.25 10:25   \n",
       "1987  강원도 속초의 한 횟집에서 6만원 어치 참돔과 2만원 어치 개불을 포장해왔다며 네티...   2022.10.25 11:48   \n",
       "1988  윤석열 대통령이 25일 서울 여의도 국회에서 2023년도 예산안 및 기금운용계획안 ...   2022.10.25 10:06   \n",
       "1989  윤석열 대통령과 한동훈 법무장관의 '심야 술자리 의혹'을 제기한 인터넷매체 '더탐사...   2022.10.25 07:45   \n",
       "\n",
       "                section                                                url  \n",
       "0                    경제  https://www.chosun.com/economy/economy_general...  \n",
       "1                    경제  https://www.chosun.com/economy/economy_general...  \n",
       "2                    경제  https://www.chosun.com/economy/economy_general...  \n",
       "3                    경제  https://www.chosun.com/economy/economy_general...  \n",
       "4                    경제  https://www.chosun.com/economy/economy_general...  \n",
       "...                 ...                                                ...  \n",
       "1985                 정치  https://www.chosun.com/politics/politics_gener...  \n",
       "1986                 정치  https://www.chosun.com/politics/politics_gener...  \n",
       "1987                 사회  https://www.chosun.com/national/national_gener...  \n",
       "1988  politics/assembly  https://www.chosun.com/politics/assembly/2022/...  \n",
       "1989                 정치  https://www.chosun.com/politics/politics_gener...  \n",
       "\n",
       "[1990 rows x 5 columns]"
      ]
     },
     "execution_count": 128,
     "metadata": {},
     "output_type": "execute_result"
    }
   ],
   "source": [
    "test"
   ]
  },
  {
   "cell_type": "code",
   "execution_count": 178,
   "id": "58f306d5",
   "metadata": {},
   "outputs": [],
   "source": [
    "test.drop_duplicates(inplace=True, ignore_index=True)"
   ]
  },
  {
   "cell_type": "code",
   "execution_count": 182,
   "id": "72aca4a3",
   "metadata": {
    "scrolled": true
   },
   "outputs": [
    {
     "data": {
      "text/plain": [
       "1788"
      ]
     },
     "execution_count": 182,
     "metadata": {},
     "output_type": "execute_result"
    }
   ],
   "source": [
    "len(test)"
   ]
  },
  {
   "cell_type": "code",
   "execution_count": 180,
   "id": "42408385",
   "metadata": {},
   "outputs": [
    {
     "data": {
      "text/plain": [
       "1749"
      ]
     },
     "execution_count": 180,
     "metadata": {},
     "output_type": "execute_result"
    }
   ],
   "source": [
    "test['content'].nunique()"
   ]
  },
  {
   "cell_type": "code",
   "execution_count": 218,
   "id": "d87b9f93",
   "metadata": {},
   "outputs": [],
   "source": [
    "def save_sentence_dataframe(data):\n",
    "    idx=0\n",
    "    sentences = []\n",
    "    section_temp = []\n",
    "    for i in range(len(data)):\n",
    "        content = data['content'].iloc[idx]\n",
    "        if \"▲\" in str(content):\n",
    "            temp = str(content).split(\"▲\")\n",
    "            content=temp[0]\n",
    "        splited = str(content).replace(\". \",\"\\n\").split(\"\\n\")\n",
    "        sentences += splited\n",
    "        section_temp += [data['section'].iloc[idx]]*len(splited)\n",
    "        idx+=1\n",
    "    df = pd.DataFrame([sentences,section_temp]).T\n",
    "    df.columns = [\"sentence\",\"section\"]\n",
    "    filesave(df, \"donga_sentence_section.csv\")"
   ]
  },
  {
   "cell_type": "code",
   "execution_count": 219,
   "id": "db17c523",
   "metadata": {},
   "outputs": [],
   "source": [
    "save_sentence_dataframe(test)"
   ]
  },
  {
   "cell_type": "code",
   "execution_count": 220,
   "id": "4d471eaa",
   "metadata": {},
   "outputs": [],
   "source": [
    "ttt=fileread(\"donga_sentence_section.csv\")"
   ]
  },
  {
   "cell_type": "code",
   "execution_count": 210,
   "id": "fd906efb",
   "metadata": {},
   "outputs": [],
   "source": [
    "def topic_counter_by_section(section,data):\n",
    "    okt=Okt()\n",
    "    parsed_data=[]\n",
    "    sectiondata = data[data[\"section\"]==section]\n",
    "    for i in sectiondata['content']:\n",
    "        if \"▲\" in str(i):\n",
    "            temp = str(i).split(\"▲\")\n",
    "            i=temp[0]\n",
    "        splited_list = str(i).replace(\". \",\"\\n\").split(\"\\n\")\n",
    "        if not splited_list:\n",
    "            continue\n",
    "        for sentence in splited_list:\n",
    "            if len(sentence)<6:\n",
    "                continue\n",
    "            parsed_data += okt.pos(sentence, norm=True, stem=True)\n",
    "    word_list = []\n",
    "    \n",
    "    stopword = [\"없다\",\"있다\",\"재밌다\",\"좋다\",\"최고\",\"같다\",\"이\",\"것\",\"진짜\",\"아니다\",\"이렇다\",\"그냥\",\"하나\",\"다시\",\"많다\",\"이다\",\"최악\",'완전',\"안되다\",'어떻다',\"정말\",\"보고\",'정도','역시']\n",
    "    for word,tag in parsed_data:\n",
    "        if tag in [\"Noun\"] and len(word)>1 and word not in stopword:\n",
    "            word_list.append(word)\n",
    "    counts = Counter(word_list)\n",
    "    return counts"
   ]
  },
  {
   "cell_type": "code",
   "execution_count": 232,
   "id": "1bffcf7e",
   "metadata": {},
   "outputs": [],
   "source": [
    "def topic_counter_by_section_from_sentence_csv(section,data):\n",
    "    okt=Okt()\n",
    "    parsed_data=[]\n",
    "    sectiondata = data[data[\"section\"]==section]\n",
    "    for sentence in sectiondata['sentence']:\n",
    "        if len(str(sentence))<6:\n",
    "            continue\n",
    "        nouns = okt.nouns(str(sentence))\n",
    "        [\"없다\",\"있다\",\"재밌다\",\"좋다\",\"최고\",\"같다\",\"이\",\"것\",\"진짜\",\"아니다\",\"이렇다\",\"그냥\",\"하나\",\"다시\",\"많다\",\"이다\",\"최악\",'완전',\"안되다\",'어떻다',\"정말\",\"보고\",'정도','역시']\n",
    "        for word in nouns:\n",
    "            if len(word)>1 and word not in stopword:\n",
    "                parsed_data.append(word)\n",
    "    counts = Counter(parsed_data)\n",
    "    return counts"
   ]
  },
  {
   "cell_type": "code",
   "execution_count": 212,
   "id": "5059b321",
   "metadata": {},
   "outputs": [],
   "source": [
    "def most_40topiclist_by_section(section,data):\n",
    "    okt=Okt()\n",
    "    parsed_data=[]\n",
    "    sectiondata = data[data[\"section\"]==section]\n",
    "    for i in sectiondata[\"title\"]:\n",
    "        parsed_data+=okt.pos(i,norm=True,stem=True)\n",
    "\n",
    "    word_list = []\n",
    "    stopword = [\"없다\",\"있다\",\"재밌다\",\"좋다\",\"최고\",\"같다\",\"이\",\"것\",\"진짜\",\"아니다\",\"이렇다\",\"그냥\",\"하나\",\"다시\",\"많다\",\"이다\",\"최악\",'완전',\"안되다\",'어떻다',\"정말\",\"보고\",'정도','역시']\n",
    "    for word,tag in parsed_data:\n",
    "        if tag in [\"Noun\"] and len(word)>1 and word not in stopword:\n",
    "            word_list.append(word)\n",
    "\n",
    "\n",
    "    counts = Counter(word_list)\n",
    "    tags = counts.most_common(40)\n",
    "    return tags"
   ]
  },
  {
   "cell_type": "code",
   "execution_count": 214,
   "id": "7d6d2fae",
   "metadata": {},
   "outputs": [],
   "source": [
    "sections = test[\"section\"].value_counts()"
   ]
  },
  {
   "cell_type": "code",
   "execution_count": 215,
   "id": "23d1c56a",
   "metadata": {},
   "outputs": [],
   "source": [
    "sections = list(sections[sections>21].keys())"
   ]
  },
  {
   "cell_type": "code",
   "execution_count": 216,
   "id": "bebf2ccd",
   "metadata": {},
   "outputs": [
    {
     "data": {
      "text/plain": [
       "['사회', '연예', '국제', '정치', '경제', '문화', '스포츠']"
      ]
     },
     "execution_count": 216,
     "metadata": {},
     "output_type": "execute_result"
    }
   ],
   "source": [
    "sections"
   ]
  },
  {
   "cell_type": "code",
   "execution_count": 135,
   "id": "e6df6d5d",
   "metadata": {},
   "outputs": [],
   "source": [
    "word_count_df = pd.DataFrame(columns=['word','count','section'])"
   ]
  },
  {
   "cell_type": "code",
   "execution_count": 136,
   "id": "d130c57f",
   "metadata": {
    "scrolled": true
   },
   "outputs": [
    {
     "data": {
      "text/html": [
       "<div>\n",
       "<style scoped>\n",
       "    .dataframe tbody tr th:only-of-type {\n",
       "        vertical-align: middle;\n",
       "    }\n",
       "\n",
       "    .dataframe tbody tr th {\n",
       "        vertical-align: top;\n",
       "    }\n",
       "\n",
       "    .dataframe thead th {\n",
       "        text-align: right;\n",
       "    }\n",
       "</style>\n",
       "<table border=\"1\" class=\"dataframe\">\n",
       "  <thead>\n",
       "    <tr style=\"text-align: right;\">\n",
       "      <th></th>\n",
       "      <th>word</th>\n",
       "      <th>count</th>\n",
       "      <th>section</th>\n",
       "    </tr>\n",
       "  </thead>\n",
       "  <tbody>\n",
       "  </tbody>\n",
       "</table>\n",
       "</div>"
      ],
      "text/plain": [
       "Empty DataFrame\n",
       "Columns: [word, count, section]\n",
       "Index: []"
      ]
     },
     "execution_count": 136,
     "metadata": {},
     "output_type": "execute_result"
    }
   ],
   "source": [
    "word_count_df"
   ]
  },
  {
   "cell_type": "code",
   "execution_count": 137,
   "id": "f0dbd750",
   "metadata": {
    "collapsed": true
   },
   "outputs": [
    {
     "ename": "KeyboardInterrupt",
     "evalue": "",
     "output_type": "error",
     "traceback": [
      "\u001b[1;31m---------------------------------------------------------------------------\u001b[0m",
      "\u001b[1;31mKeyboardInterrupt\u001b[0m                         Traceback (most recent call last)",
      "Input \u001b[1;32mIn [137]\u001b[0m, in \u001b[0;36m<cell line: 1>\u001b[1;34m()\u001b[0m\n\u001b[1;32m----> 1\u001b[0m counter\u001b[38;5;241m=\u001b[39m\u001b[43mtopic_counter_by_section\u001b[49m\u001b[43m(\u001b[49m\u001b[38;5;124;43m\"\u001b[39;49m\u001b[38;5;124;43m경제\u001b[39;49m\u001b[38;5;124;43m\"\u001b[39;49m\u001b[43m,\u001b[49m\u001b[43mtest\u001b[49m\u001b[43m)\u001b[49m\n",
      "Input \u001b[1;32mIn [131]\u001b[0m, in \u001b[0;36mtopic_counter_by_section\u001b[1;34m(section, data)\u001b[0m\n\u001b[0;32m     13\u001b[0m         \u001b[38;5;28;01mif\u001b[39;00m \u001b[38;5;28mlen\u001b[39m(sentence)\u001b[38;5;241m<\u001b[39m\u001b[38;5;241m6\u001b[39m:\n\u001b[0;32m     14\u001b[0m             \u001b[38;5;28;01mcontinue\u001b[39;00m\n\u001b[1;32m---> 15\u001b[0m         parsed_data \u001b[38;5;241m+\u001b[39m\u001b[38;5;241m=\u001b[39m \u001b[43mokt\u001b[49m\u001b[38;5;241;43m.\u001b[39;49m\u001b[43mpos\u001b[49m\u001b[43m(\u001b[49m\u001b[43msentence\u001b[49m\u001b[43m,\u001b[49m\u001b[43m \u001b[49m\u001b[43mnorm\u001b[49m\u001b[38;5;241;43m=\u001b[39;49m\u001b[38;5;28;43;01mTrue\u001b[39;49;00m\u001b[43m,\u001b[49m\u001b[43m \u001b[49m\u001b[43mstem\u001b[49m\u001b[38;5;241;43m=\u001b[39;49m\u001b[38;5;28;43;01mTrue\u001b[39;49;00m\u001b[43m)\u001b[49m\n\u001b[0;32m     16\u001b[0m word_list \u001b[38;5;241m=\u001b[39m []\n\u001b[0;32m     17\u001b[0m stopword \u001b[38;5;241m=\u001b[39m [\u001b[38;5;124m\"\u001b[39m\u001b[38;5;124m없다\u001b[39m\u001b[38;5;124m\"\u001b[39m,\u001b[38;5;124m\"\u001b[39m\u001b[38;5;124m있다\u001b[39m\u001b[38;5;124m\"\u001b[39m,\u001b[38;5;124m\"\u001b[39m\u001b[38;5;124m재밌다\u001b[39m\u001b[38;5;124m\"\u001b[39m,\u001b[38;5;124m\"\u001b[39m\u001b[38;5;124m좋다\u001b[39m\u001b[38;5;124m\"\u001b[39m,\u001b[38;5;124m\"\u001b[39m\u001b[38;5;124m최고\u001b[39m\u001b[38;5;124m\"\u001b[39m,\u001b[38;5;124m\"\u001b[39m\u001b[38;5;124m같다\u001b[39m\u001b[38;5;124m\"\u001b[39m,\u001b[38;5;124m\"\u001b[39m\u001b[38;5;124m이\u001b[39m\u001b[38;5;124m\"\u001b[39m,\u001b[38;5;124m\"\u001b[39m\u001b[38;5;124m것\u001b[39m\u001b[38;5;124m\"\u001b[39m,\u001b[38;5;124m\"\u001b[39m\u001b[38;5;124m진짜\u001b[39m\u001b[38;5;124m\"\u001b[39m,\u001b[38;5;124m\"\u001b[39m\u001b[38;5;124m아니다\u001b[39m\u001b[38;5;124m\"\u001b[39m,\u001b[38;5;124m\"\u001b[39m\u001b[38;5;124m이렇다\u001b[39m\u001b[38;5;124m\"\u001b[39m,\u001b[38;5;124m\"\u001b[39m\u001b[38;5;124m그냥\u001b[39m\u001b[38;5;124m\"\u001b[39m,\u001b[38;5;124m\"\u001b[39m\u001b[38;5;124m하나\u001b[39m\u001b[38;5;124m\"\u001b[39m,\u001b[38;5;124m\"\u001b[39m\u001b[38;5;124m다시\u001b[39m\u001b[38;5;124m\"\u001b[39m,\u001b[38;5;124m\"\u001b[39m\u001b[38;5;124m많다\u001b[39m\u001b[38;5;124m\"\u001b[39m,\u001b[38;5;124m\"\u001b[39m\u001b[38;5;124m이다\u001b[39m\u001b[38;5;124m\"\u001b[39m,\u001b[38;5;124m\"\u001b[39m\u001b[38;5;124m최악\u001b[39m\u001b[38;5;124m\"\u001b[39m,\u001b[38;5;124m'\u001b[39m\u001b[38;5;124m완전\u001b[39m\u001b[38;5;124m'\u001b[39m,\u001b[38;5;124m\"\u001b[39m\u001b[38;5;124m안되다\u001b[39m\u001b[38;5;124m\"\u001b[39m,\u001b[38;5;124m'\u001b[39m\u001b[38;5;124m어떻다\u001b[39m\u001b[38;5;124m'\u001b[39m,\u001b[38;5;124m\"\u001b[39m\u001b[38;5;124m정말\u001b[39m\u001b[38;5;124m\"\u001b[39m,\u001b[38;5;124m\"\u001b[39m\u001b[38;5;124m보고\u001b[39m\u001b[38;5;124m\"\u001b[39m,\u001b[38;5;124m'\u001b[39m\u001b[38;5;124m정도\u001b[39m\u001b[38;5;124m'\u001b[39m,\u001b[38;5;124m'\u001b[39m\u001b[38;5;124m역시\u001b[39m\u001b[38;5;124m'\u001b[39m]\n",
      "File \u001b[1;32mC:\\anaconda3\\lib\\site-packages\\konlpy\\tag\\_okt.py:71\u001b[0m, in \u001b[0;36mOkt.pos\u001b[1;34m(self, phrase, norm, stem, join)\u001b[0m\n\u001b[0;32m     59\u001b[0m \u001b[38;5;124;03m\"\"\"POS tagger.\u001b[39;00m\n\u001b[0;32m     60\u001b[0m \u001b[38;5;124;03mIn contrast to other classes in this subpackage,\u001b[39;00m\n\u001b[0;32m     61\u001b[0m \u001b[38;5;124;03mthis POS tagger doesn't have a `flatten` option,\u001b[39;00m\n\u001b[1;32m   (...)\u001b[0m\n\u001b[0;32m     67\u001b[0m \u001b[38;5;124;03m:param join: If True, returns joined sets of morph and tag.\u001b[39;00m\n\u001b[0;32m     68\u001b[0m \u001b[38;5;124;03m\"\"\"\u001b[39;00m\n\u001b[0;32m     69\u001b[0m validate_phrase_inputs(phrase)\n\u001b[1;32m---> 71\u001b[0m tokens \u001b[38;5;241m=\u001b[39m \u001b[38;5;28;43mself\u001b[39;49m\u001b[38;5;241;43m.\u001b[39;49m\u001b[43mjki\u001b[49m\u001b[38;5;241;43m.\u001b[39;49m\u001b[43mtokenize\u001b[49m\u001b[43m(\u001b[49m\n\u001b[0;32m     72\u001b[0m \u001b[43m            \u001b[49m\u001b[43mphrase\u001b[49m\u001b[43m,\u001b[49m\n\u001b[0;32m     73\u001b[0m \u001b[43m            \u001b[49m\u001b[43mjpype\u001b[49m\u001b[38;5;241;43m.\u001b[39;49m\u001b[43mjava\u001b[49m\u001b[38;5;241;43m.\u001b[39;49m\u001b[43mlang\u001b[49m\u001b[38;5;241;43m.\u001b[39;49m\u001b[43mBoolean\u001b[49m\u001b[43m(\u001b[49m\u001b[43mnorm\u001b[49m\u001b[43m)\u001b[49m\u001b[43m,\u001b[49m\n\u001b[0;32m     74\u001b[0m \u001b[43m            \u001b[49m\u001b[43mjpype\u001b[49m\u001b[38;5;241;43m.\u001b[39;49m\u001b[43mjava\u001b[49m\u001b[38;5;241;43m.\u001b[39;49m\u001b[43mlang\u001b[49m\u001b[38;5;241;43m.\u001b[39;49m\u001b[43mBoolean\u001b[49m\u001b[43m(\u001b[49m\u001b[43mstem\u001b[49m\u001b[43m)\u001b[49m\u001b[43m)\u001b[49m\u001b[38;5;241m.\u001b[39mtoArray()\n\u001b[0;32m     75\u001b[0m \u001b[38;5;28;01mif\u001b[39;00m join:\n\u001b[0;32m     76\u001b[0m     \u001b[38;5;28;01mreturn\u001b[39;00m [t \u001b[38;5;28;01mfor\u001b[39;00m t \u001b[38;5;129;01min\u001b[39;00m tokens]\n",
      "\u001b[1;31mKeyboardInterrupt\u001b[0m: "
     ]
    }
   ],
   "source": [
    "# counter=topic_counter_by_section(\"경제\",test)"
   ]
  },
  {
   "cell_type": "code",
   "execution_count": null,
   "id": "f58d42a7",
   "metadata": {},
   "outputs": [],
   "source": [
    "# temp = pd.DataFrame([dict(counter)]).T\n",
    "# temp['word'] = temp.index\n",
    "# temp['section'] = \"경제\"\n",
    "# temp.columns=['count','word','section']\n",
    "# word_count_df = pd.concat([word_count_df,temp],ignore_index=True)"
   ]
  },
  {
   "cell_type": "code",
   "execution_count": null,
   "id": "410314f4",
   "metadata": {
    "scrolled": true
   },
   "outputs": [],
   "source": [
    "# word_count_df"
   ]
  },
  {
   "cell_type": "code",
   "execution_count": 223,
   "id": "4a32c953",
   "metadata": {},
   "outputs": [],
   "source": [
    "def make_word_count_df():\n",
    "    df = pd.DataFrame(columns=['word','count','section'])\n",
    "    for section in sections:\n",
    "        print(section)\n",
    "        counter=topic_counter_by_section(section,test)\n",
    "        temp = pd.DataFrame([dict(counter)]).T\n",
    "        temp['word'] = temp.index\n",
    "        temp['section'] = section\n",
    "        temp.columns=['count','word','section']\n",
    "        df = pd.concat([df,temp],ignore_index=True)\n",
    "    return df"
   ]
  },
  {
   "cell_type": "code",
   "execution_count": 224,
   "id": "24f80747",
   "metadata": {},
   "outputs": [],
   "source": [
    "def make_word_count_df2(data,section_list):\n",
    "    df = pd.DataFrame(columns=['word','count','section'])\n",
    "    for section in section_list:\n",
    "        print(section)\n",
    "        counter=topic_counter_by_section_from_sentence_csv(section,data)\n",
    "        temp = pd.DataFrame([dict(counter)]).T\n",
    "        temp['word'] = temp.index\n",
    "        temp['section'] = section\n",
    "        temp.columns=['count','word','section']\n",
    "        df = pd.concat([df,temp],ignore_index=True)\n",
    "    return df"
   ]
  },
  {
   "cell_type": "code",
   "execution_count": 141,
   "id": "3ce73a50",
   "metadata": {},
   "outputs": [],
   "source": [
    "# most_40topiclist_by_section(\"경제\",test)"
   ]
  },
  {
   "cell_type": "code",
   "execution_count": 142,
   "id": "b1760d9f",
   "metadata": {
    "scrolled": false
   },
   "outputs": [
    {
     "name": "stdout",
     "output_type": "stream",
     "text": [
      "사회\n",
      "정치\n",
      "연예\n",
      "국제\n",
      "경제\n",
      "스포츠\n",
      "문화\n"
     ]
    }
   ],
   "source": [
    "w = make_word_count_df()"
   ]
  },
  {
   "cell_type": "code",
   "execution_count": 143,
   "id": "ec2c416d",
   "metadata": {
    "scrolled": false
   },
   "outputs": [
    {
     "data": {
      "text/html": [
       "<div>\n",
       "<style scoped>\n",
       "    .dataframe tbody tr th:only-of-type {\n",
       "        vertical-align: middle;\n",
       "    }\n",
       "\n",
       "    .dataframe tbody tr th {\n",
       "        vertical-align: top;\n",
       "    }\n",
       "\n",
       "    .dataframe thead th {\n",
       "        text-align: right;\n",
       "    }\n",
       "</style>\n",
       "<table border=\"1\" class=\"dataframe\">\n",
       "  <thead>\n",
       "    <tr style=\"text-align: right;\">\n",
       "      <th></th>\n",
       "      <th>word</th>\n",
       "      <th>count</th>\n",
       "      <th>section</th>\n",
       "    </tr>\n",
       "  </thead>\n",
       "  <tbody>\n",
       "    <tr>\n",
       "      <th>0</th>\n",
       "      <td>송영</td>\n",
       "      <td>42</td>\n",
       "      <td>사회</td>\n",
       "    </tr>\n",
       "    <tr>\n",
       "      <th>1</th>\n",
       "      <td>한국</td>\n",
       "      <td>198</td>\n",
       "      <td>사회</td>\n",
       "    </tr>\n",
       "    <tr>\n",
       "      <th>2</th>\n",
       "      <td>유총</td>\n",
       "      <td>85</td>\n",
       "      <td>사회</td>\n",
       "    </tr>\n",
       "    <tr>\n",
       "      <th>3</th>\n",
       "      <td>연맹</td>\n",
       "      <td>240</td>\n",
       "      <td>사회</td>\n",
       "    </tr>\n",
       "    <tr>\n",
       "      <th>4</th>\n",
       "      <td>총재</td>\n",
       "      <td>68</td>\n",
       "      <td>사회</td>\n",
       "    </tr>\n",
       "    <tr>\n",
       "      <th>...</th>\n",
       "      <td>...</td>\n",
       "      <td>...</td>\n",
       "      <td>...</td>\n",
       "    </tr>\n",
       "    <tr>\n",
       "      <th>48548</th>\n",
       "      <td>청룡</td>\n",
       "      <td>1</td>\n",
       "      <td>문화</td>\n",
       "    </tr>\n",
       "    <tr>\n",
       "      <th>48549</th>\n",
       "      <td>도둑</td>\n",
       "      <td>1</td>\n",
       "      <td>문화</td>\n",
       "    </tr>\n",
       "    <tr>\n",
       "      <th>48550</th>\n",
       "      <td>암살</td>\n",
       "      <td>1</td>\n",
       "      <td>문화</td>\n",
       "    </tr>\n",
       "    <tr>\n",
       "      <th>48551</th>\n",
       "      <td>어콜</td>\n",
       "      <td>1</td>\n",
       "      <td>문화</td>\n",
       "    </tr>\n",
       "    <tr>\n",
       "      <th>48552</th>\n",
       "      <td>루카스필름</td>\n",
       "      <td>1</td>\n",
       "      <td>문화</td>\n",
       "    </tr>\n",
       "  </tbody>\n",
       "</table>\n",
       "<p>48553 rows × 3 columns</p>\n",
       "</div>"
      ],
      "text/plain": [
       "        word count section\n",
       "0         송영    42      사회\n",
       "1         한국   198      사회\n",
       "2         유총    85      사회\n",
       "3         연맹   240      사회\n",
       "4         총재    68      사회\n",
       "...      ...   ...     ...\n",
       "48548     청룡     1      문화\n",
       "48549     도둑     1      문화\n",
       "48550     암살     1      문화\n",
       "48551     어콜     1      문화\n",
       "48552  루카스필름     1      문화\n",
       "\n",
       "[48553 rows x 3 columns]"
      ]
     },
     "execution_count": 143,
     "metadata": {},
     "output_type": "execute_result"
    }
   ],
   "source": [
    "w"
   ]
  },
  {
   "cell_type": "code",
   "execution_count": 144,
   "id": "7cc29652",
   "metadata": {},
   "outputs": [],
   "source": [
    "filesave(w,\"chosun_content_word_count.csv\")"
   ]
  },
  {
   "cell_type": "code",
   "execution_count": 145,
   "id": "c68d75c5",
   "metadata": {},
   "outputs": [
    {
     "data": {
      "text/plain": [
       "22723"
      ]
     },
     "execution_count": 145,
     "metadata": {},
     "output_type": "execute_result"
    }
   ],
   "source": [
    "w['word'].nunique()"
   ]
  },
  {
   "cell_type": "code",
   "execution_count": 152,
   "id": "5c0187c0",
   "metadata": {
    "scrolled": false
   },
   "outputs": [
    {
     "data": {
      "text/html": [
       "<div>\n",
       "<style scoped>\n",
       "    .dataframe tbody tr th:only-of-type {\n",
       "        vertical-align: middle;\n",
       "    }\n",
       "\n",
       "    .dataframe tbody tr th {\n",
       "        vertical-align: top;\n",
       "    }\n",
       "\n",
       "    .dataframe thead th {\n",
       "        text-align: right;\n",
       "    }\n",
       "</style>\n",
       "<table border=\"1\" class=\"dataframe\">\n",
       "  <thead>\n",
       "    <tr style=\"text-align: right;\">\n",
       "      <th></th>\n",
       "      <th>word</th>\n",
       "      <th>count</th>\n",
       "      <th>section</th>\n",
       "    </tr>\n",
       "  </thead>\n",
       "  <tbody>\n",
       "    <tr>\n",
       "      <th>14227</th>\n",
       "      <td>기자</td>\n",
       "      <td>381</td>\n",
       "      <td>연예</td>\n",
       "    </tr>\n",
       "    <tr>\n",
       "      <th>14236</th>\n",
       "      <td>공개</td>\n",
       "      <td>241</td>\n",
       "      <td>연예</td>\n",
       "    </tr>\n",
       "    <tr>\n",
       "      <th>14296</th>\n",
       "      <td>방송</td>\n",
       "      <td>241</td>\n",
       "      <td>연예</td>\n",
       "    </tr>\n",
       "    <tr>\n",
       "      <th>14241</th>\n",
       "      <td>모습</td>\n",
       "      <td>240</td>\n",
       "      <td>연예</td>\n",
       "    </tr>\n",
       "    <tr>\n",
       "      <th>14225</th>\n",
       "      <td>스포츠조선</td>\n",
       "      <td>203</td>\n",
       "      <td>연예</td>\n",
       "    </tr>\n",
       "    <tr>\n",
       "      <th>14400</th>\n",
       "      <td>사람</td>\n",
       "      <td>180</td>\n",
       "      <td>연예</td>\n",
       "    </tr>\n",
       "    <tr>\n",
       "      <th>15088</th>\n",
       "      <td>남편</td>\n",
       "      <td>176</td>\n",
       "      <td>연예</td>\n",
       "    </tr>\n",
       "    <tr>\n",
       "      <th>14233</th>\n",
       "      <td>사진</td>\n",
       "      <td>167</td>\n",
       "      <td>연예</td>\n",
       "    </tr>\n",
       "    <tr>\n",
       "      <th>14255</th>\n",
       "      <td>결혼</td>\n",
       "      <td>162</td>\n",
       "      <td>연예</td>\n",
       "    </tr>\n",
       "    <tr>\n",
       "      <th>14346</th>\n",
       "      <td>라며</td>\n",
       "      <td>160</td>\n",
       "      <td>연예</td>\n",
       "    </tr>\n",
       "    <tr>\n",
       "      <th>14228</th>\n",
       "      <td>배우</td>\n",
       "      <td>159</td>\n",
       "      <td>연예</td>\n",
       "    </tr>\n",
       "    <tr>\n",
       "      <th>14505</th>\n",
       "      <td>김연아</td>\n",
       "      <td>152</td>\n",
       "      <td>연예</td>\n",
       "    </tr>\n",
       "    <tr>\n",
       "      <th>14343</th>\n",
       "      <td>생각</td>\n",
       "      <td>152</td>\n",
       "      <td>연예</td>\n",
       "    </tr>\n",
       "    <tr>\n",
       "      <th>14506</th>\n",
       "      <td>결혼식</td>\n",
       "      <td>144</td>\n",
       "      <td>연예</td>\n",
       "    </tr>\n",
       "    <tr>\n",
       "      <th>14262</th>\n",
       "      <td>자신</td>\n",
       "      <td>142</td>\n",
       "      <td>연예</td>\n",
       "    </tr>\n",
       "  </tbody>\n",
       "</table>\n",
       "</div>"
      ],
      "text/plain": [
       "        word count section\n",
       "14227     기자   381      연예\n",
       "14236     공개   241      연예\n",
       "14296     방송   241      연예\n",
       "14241     모습   240      연예\n",
       "14225  스포츠조선   203      연예\n",
       "14400     사람   180      연예\n",
       "15088     남편   176      연예\n",
       "14233     사진   167      연예\n",
       "14255     결혼   162      연예\n",
       "14346     라며   160      연예\n",
       "14228     배우   159      연예\n",
       "14505    김연아   152      연예\n",
       "14343     생각   152      연예\n",
       "14506    결혼식   144      연예\n",
       "14262     자신   142      연예"
      ]
     },
     "execution_count": 152,
     "metadata": {},
     "output_type": "execute_result"
    }
   ],
   "source": [
    "w[w[\"section\"]==\"연예\"].sort_values(by=\"count\",ascending=False).head(15)"
   ]
  },
  {
   "cell_type": "code",
   "execution_count": 165,
   "id": "831bca9a",
   "metadata": {
    "scrolled": true
   },
   "outputs": [
    {
     "data": {
      "text/plain": [
       "285     True\n",
       "286     True\n",
       "287     True\n",
       "288     True\n",
       "289     True\n",
       "        ... \n",
       "1771    True\n",
       "1772    True\n",
       "1773    True\n",
       "1774    True\n",
       "1775    True\n",
       "Name: content, Length: 266, dtype: bool"
      ]
     },
     "execution_count": 165,
     "metadata": {},
     "output_type": "execute_result"
    }
   ],
   "source": [
    "cnt = 0\n",
    "datafilter = test[test['section']==\"연예\"][\"content\"].str.contains(\"방송\")"
   ]
  },
  {
   "cell_type": "code",
   "execution_count": 242,
   "id": "c359110a",
   "metadata": {},
   "outputs": [],
   "source": [
    "t=test[(test['section']==\"국제\")&(test['content'].str.contains(\"러시아\"))]"
   ]
  },
  {
   "cell_type": "code",
   "execution_count": 243,
   "id": "bdbbd5e3",
   "metadata": {
    "collapsed": true
   },
   "outputs": [
    {
     "name": "stdout",
     "output_type": "stream",
     "text": [
      "드미트리 페스코프 러시아 크렘린궁 대변인. /타스 연합뉴스러시아 크렘린궁, 국방부, 외교부가 일제히 나서 이틀 째 우크라이나가 ‘더티밤(dirty bomb)’을 쓸 수 있다는 여론전을 이어가고 있다. 미국 등 서방 국가들은 “근거가 없는 허위 주장”이라고 일축했다.로이터통신에 따르면 24일(현지 시각) 드미트리 페스코프 크렘린궁 대변인은 기자들과 전화 회의에서 “러시아가 전달한 정보를 서방이 믿지 않는다고 해서 더티밤의 위협이 없어지는 것은 아니다”라고 했다. 더티밤은 재래식 폭탄에 방사성 물질을 채운 방사능 무기로, 핵폭발과 같은 파괴력은 없지만 광범위한 지역을 방사능으로 오염시킬 수 있어 핵테러 폭발물로 분류된다.전날 세르게이 쇼이구 러시아 국방장관이 미국, 영국, 프랑스, 튀르키예(터키) 등 국방장관과의 통화에서 우크라이나가 더티밤을 전장에서 사용할 수 있다고 주장한 것을 반복한 것이다.이고르 키릴로프 러시아 국방부 화생방전 방어사령관/EPA 연합뉴스국방부는 전날 주장을 더욱 구체화했다. 러시아 국방부 화생방전 방어사령관 이고르 키릴로프는 이날 “우크라이나는 더티밤을 제조할 과학적, 기술적 역량이 있고 이를 사용할 동기도 갖고 있다”고 주장했다. 이어 “우크라이나 대통령실이 관련 기술을 전수 받고자 영국과 접촉했고, 더티밤에 쓸 방사성 물질을 체르노빌 원자력 발전소 등에 보관하고 있다”며 더티밤 개발이 마지막 단계라고 했다.또 더티밤 사용시 유럽 전역이 영향을 받을 것이라면서 “우크라이나는 러시아가 자국에서 대량 살상무기를 사용했다고 비난해 세계적으로 반(反) 러시아 캠페인을 일으키려는 것”이라고 했다. 그러면서 “국방부는 예상되는 도발에 대응할 준비가 됐다. 군대가 방사능 오염 상황에서도 임무를 수행할 준비가 됐다”며 이를 임박한 위협으로 묘사했다.세르게이 라브로프 러시아 외무장관도 이날 기자들과 만나 “더티밤을 만드는 우크라이나 내 과학 시설에 대한 정보를 갖고 있다”며 “적절한 경로로 거듭 확인한 내용이다. 근거 없는 추측이 아니다”라고 강조했다. 또 유엔에서 이에 대해 문제를 제기하겠다며 “필요한 단계를 밟고 있다”고 했다.러시아의 연이은 더티밤 주장에 대해 서방 국가들은 반발했다. 서방 국가들은 이를 우크라이나 전쟁에서 핵무기 사용 명분으로 삼기 위한 일종의 ‘거짓 깃발 작전’으로 의심하고 있다. 앞서 23일 미국·영국·프랑스 3개국 외교 장관은 공동 성명을 내고 “명백한 허위 주장”이라며 “이를 확전 명분으로 사용하려는 (러시아의) 어떤 시도도 간파할 것”이라고 했다.23일(현지 시각) 러시아 공격으로 폐허가 된 우크라이나 미콜라이우 지역의 한 아파트 단지./AFP 연합뉴스\n",
      "네드 프라이스 미 국무부 대변인은 24일 브리핑에서 이 성명을 다시 언급하고 “뻔히 들여다 보이는 그런 시도에 속지 않겠다는 매우 명확한 메시지를 보내려고 한 것”이라며 “러시아가 더티밤을 쓰든 핵폭탄을 쓰든 후과가 뒤따를 것”이라고 경고했다. 다만 미국 측은 아직 러시아가 핵무기 사용을 준비하는 정황은 포착하지 못했다고 밝혔다.옌스 스톨텐베르그 북대서양조약기구(NATO·나토) 사무총장도 이날 자신의 트위터에 “미국, 영국 국방 장관과 우크라이나가 더티밤을 사용하려고 준비 중이라는 러시아의 거짓 주장에 대한 의견을 나눴다”며 “나토 동맹은 이 같은 주장을 거부한다”고 했다. 그러면서 “러시아는 이를 긴장 고조를 위한 구실로 삼아서는 안 된다”고 경고했다.\n",
      "러시아 전투기 한 대가 자국 영토 주택가에 추락해 조종사 2명이 숨졌다. 지난주 전폭기가 아파트에 추락해 15명이 숨진 데 이어 일주일 새 두 번째 추락 사고다. AP통신은 “러시아의 우크라이나 침공 이후 11번째 발생한 비전투 사고”라고 보도했다. 군 기강이 느슨해진 것 아니냐는 분석도 나오고 있다.23일(현지 시각) AP통신 등에 따르면, 수호이(SU)-30 전투기 한 대가 시베리아 동부 이르쿠츠크시의 2층짜리 주택으로 추락했다. 이고르 코브제프 이르쿠츠크 주지사는 “이 사고로 전투기 조종사 2명이 숨졌지만, 지상에서 인명 피해는 없었다”고 밝혔다. 소셜미디어에 올라온 사고 당시 영상에는 사고기가 지면에 거의 수직으로 내리꽂히는 장면이 담겼다. 추락한 수호이-30은 2인승 쌍발 전투기다.사고가 발생한 이르쿠츠크시는 러시아 시베리아 남부 이르쿠츠크주(州) 최대 도시로, SU-30 전투기를 생산하는 러시아 국영 항공기 제조사 공장이 있다. 회사 관계자는 “사고기가 공군에 인도되기 전 훈련 비행을 하던 중 추락했고, 무기는 실려 있지 않았다”며 “항공 전문가들이 사고 조사에 참여할 것”이라고 밝혔다. 현지 언론은 당국이 사고가 발생한 지역에 비상사태를 선포했다고 전했다.앞서 지난 17일에는 러시아 SU-34 전폭기 한 대가 비행 훈련을 위해 이륙한 직후 한쪽 엔진에 불이 나면서 우크라이나와 인접한 러시아 남부 도시 예이스크의 한 아파트에 추락했다. 조종사 2명은 추락 직전 탈출했지만, 기체가 폭발하며 아파트에 큰 화재가 발생해 15명이 숨졌다. 워싱턴포스트(WP)는 “잇따른 추락 사고는 우크라이나 전쟁에서 고전하는 러시아군과 러시아 국민에게 위기감을 줄 것”이라고 분석했다.\n",
      "러시아 정부의 예비군 동원령을 피하기 위해 탈출한 러시아인들이 지중해 섬나라 키프로스로 몰려들고 있다고 23일(현지 시각) 워싱턴포스트(WP)가 보도했다.예비군동원령이 내려지자 징집대상 러시아 남성들이 대거 국외로 탈출했다. 사진은 지난 9월 28일 조지아로 넘어가는 러시아 남성들 모습./로이터 뉴스1\n",
      "WP에 따르면, 우크라이나 전쟁 이후 러시아의 고학력 중산층·상류층 상당수가 조지아·카자흐스탄 등을 거쳐 키프로스로 이주하고 있다. 키프로스 내의 러시아인 커뮤니티인 ‘키프로스 IT’는 “우크라이나 전쟁 발발 이후 최대 5만명이 키프로스로 이주했으며 이 중 대다수가 러시아의 IT 기술자들”이라고 밝혔다.핀란드와 에스토니아·라트비아 등 발트해 연안 국가들은 최근 관광 비자를 통한 러시아인의 입국을 금지시켰다. 러시아인이 유럽으로 넘어가는 관문을 봉쇄한 것이다. 러시아 이민자가 급증하자 조지아도 비자 제도 변경을 검토 중이라고 밝혔고, 튀르키예도 러시아인의 이민 요건을 강화하고 있다. 반면 비교적 쉬운 이민 절차, 낮은 세금 등으로 전쟁 이전부터 러시아 부유층이 즐겨 찾던 키프로스가 러시아인의 마지막 남은 안식처가 되고 있다고 WP는 전했다.부유한 러시아인들이 이주하면서 키프로스의 부동산 시장은 호황을 누리고 있다. 자녀를 입학시키려는 러시아 학부모가 몰리면서 국제 학교도 자리가 부족할 정도다. 지난 4월 러시아에서 키프로스로 이주한 게임 업계 종사자 예브게니야 코르네바는 “주택 가격은 두 배로 올랐고, 관광 도시 리마솔에서는 월세 2000유로(약 283만원) 이하로는 아파트를 구하기 어렵다”고 했다.키프로스에는 러시아인뿐 아니라 우크라이나 난민들도 정착하고 있다. 키프로스 내무부에 따르면 전쟁 발발 이후 최소 1만6000명의 우크라이나 난민이 키프로스로 이주했다. 수도 니코시아에서는 서방의 대러 제재에 항의하는 친러 시위와 우크라이나인들이 조직한 반전 시위가 함께 열리기도 했다. 현지 언론은 두 나라의 이주민들로 인해 키프로스 내에 묘한 긴장이 감돌고 있다고 보도했다. 학교에서는 양국 학생들 사이에 싸움이 벌어지고 있다고 한다.러軍 동원령 받고… 철조망 사이로 작별 - 23일(현지 시각) 러시아 수도 모스크바에서 동쪽으로 800㎞ 떨어진 도시 카잔에서 군 동원령을 받고 참전하게 된 한 남성이 파병 전 환송 행사에서 철조망을 사이에 두고 애인과 입을 맞추고 있다. 지난달 21일 블라디미르 푸틴 러시아 대통령이 예비군 30만명 동원령을 선포한 이후 수십만 명의 러시아 남성이 키프로스 등 외국으로 피신한 것으로 알려졌다. /타스 연합뉴스외국인 투자·관광 수입 등을 러시아에 의존해온 키프로스는 유럽연합(EU)의 대러 제재에는 찬성하지만, 러시아인의 입국을 막지 않겠다는 입장이다. 니코스 아나스타시아디스 키프로스 대통령은 과거 튀르키예의 침략을 받았던 자국의 역사를 언급하며 우크라이나에 대한 연대를 표하면서도 “러시아 시민에 대해선 악감정이 없다”고 밝혔다.\n",
      "/네이트 무크 트위터우크라이나에서 전쟁으로 주인과 헤어지게 된 반려동물들을 위해 자원봉사자들이 거리에 배식소를 설치한 가운데, 개들이 나란히 줄을 서서 기다리는 장면이 포착됐다.23일(현지 시각) 데일리메일 등에 따르면 전쟁 중인 우크라이나에서 동물들을 위해 봉사하고 있는 네이트 무크는 최근 도네츠크의 크라마토르스크에서 떠돌이 개들을 위한 임시 배식소를 설치했다./데일리메일무크에 따르면 무크와 자원봉사자들은 지난 20일 한 교통 표지판에 배관을 테이프로 고정해서 떠돌이 개들을 위한 임시 배식소를 마련했다. 다음날 아침 무크는 이곳 앞에서 떠돌이 개들이 차례로 줄을 선 채 사료를 기다리고 있는 것을 봤다. 개들은 서로 밀치거나 싸우지도 않고 얌전히 서서 자신의 순서가 오길 기다리고 있었다.무크는 “지금까지 이런 모습을 본 적이 없다”며 놀라워했다. 이어 “많은 사람들의 지원으로 이 배식소를 설치할 수 있었다”고 말했다.우크라이나에서 주인을 잃은 반려동물들을 위해 배식소를 설치하고 있는 네이트 무크./네이트 무크 트위터러시아의 우크라이나 침공 이후 우크라이나의 반려동물들은 주인과 함께 피난길에 올랐다가 헤어지기도 하고, 갑작스러운 공격으로 주인을 잃는 등 떠돌이 생활을 하게 됐다. 주인을 잃은 반려동물들의 규모가 정확히 어느 정도인지는 전해지지 않았지만 우크라이나의 한 매체는 개전 이후부터 지난 7월까지 약 50만 마리의 개들이 홀로 지내게 됐다고 전했다.무크는 이 같은 상황 속에서 개뿐만 아니라 고양이와 너구리 등 동물들을 돕고 있다. 그는 도네츠크와 루한스크, 하르키우 등 우크라이나 곳곳을 돌아다니며 동물들의 배식소를 설치하고, 기부 받은 사료를 동물보호소에 나눠주며, 다친 동물들을 보호소로 옮기는 등 활동을 했다. 무크는 “우리는 최전선에서 동물들을 대피시키기도 한다”며 “수의사와 함께 자원봉사자들은 목숨을 걸고 동물들을 구하고 있다”고 말했다.\n",
      " RT 진행자 안톤 크라소프스키의 문제 발언이 담긴 영상을 드미트로 쿨레바 우크라이나 외무장관이 공유했다./드미트로 쿨레바 우크라이나 외무장관 트위터러시아 국영방송의 진행자가 1980년대 우크라이나 어린이들이 자국을 비난했다는 말을 듣고 “아이들을 강물에 빠트려 죽였어야 했다”, “그들을 오두막에 넣어 불태울 수 있다” 등의 발언을 했다.23일(현지시간) 로이터통신 등에 따르면 RT 진행자 안톤 크라소프스키는 지난주 자신이 진행한 방송 프로그램에서 게스트로 출연한 공상과학(SF) 작가 세르게이 루키야넨코와 대화를 했다.방송에서 루키야넨코는 1980년대 우크라이나 서부를 방문했을 때 병원에서 만난 어린이들이 ‘러시아가 우크라이나를 점령하지 않았다면 우크라이나가 더 잘 살았을 것’이라고 말했다고 소개했다.그러자 크라소프스키는 “그 아이들은 티시나 강에 빠트려 죽였어야 했다”며 “그냥 그 아이들을 익사시켜라”라고 말했다. 이어 “(아이들을) 오두막에 밀어넣고 불태울 수도 있다”고 했다.크라소프스키는 호전적인 언행으로 유명한 극우 성향의 언론인이다. 그는 유럽연합(EU) 제재 명단에도 올라 있다.로이터통신은 소셜 미디어에서 이 영상과 함께 크라소프스키가 우크라이나를 침공한 러시아군이 성폭행 범죄를 저지르고 있다는 뉴스를 보면서 웃는 모습이 담긴 영상도 확산하고 있다고 보도했다.드미트로 쿨레바 우크라이나 외무장관은 트위터에 문제의 방송 영상을 공유하면서 “아직도 RT를 금지하지 않은 나라는 이 방송을 봐야 한다. 당신의 나라에서 RT 방송을 허가한다는 것은 이 방송 내용을 지지한다는 뜻”이라고 말했다. 이어 “공격적인 대량학살 선동은 표현의 자유와 무관하다”며 RT 방송 금지를 촉구했다.논란이 확산하자 이날 RT는 크라소프스키의 발언에 문제가 있다면서 그와의 계약을 중단한다고 밝혔다. 마르가리타 시모냔 RT 보도국장은 텔레그램을 통해 “크라소프스키의 발언은 거칠고 역겹다”며 “나를 비롯한 RT 팀은 우리 중 누군가가 그런 터무니없는 말을 공유할 수 있다는 생각조차 할 수 없다”고 했다.\n",
      "23일(현지 시각) 러시아 시베리아 동부 이르쿠츠크의 주택가에 수호이(SU)-30 전투기 한 대가 추락한 현장./AP 연합뉴스러시아 공군 전투기인 수호이(SU)-30이 23일(현지 시각) 자국 영토 주택가에 추락해 조종사 2명이 사망했다. 지난 17일 SU-34 전폭기가 추락한 데 이어 일주일 새 두 번째 전투기 추락이다. AP통신은 “러시아의 우크라이나 침공 이후 11번째 발생한 비전투 사고”라고 보도했다.AP통신에 따르면 해당 전투기는 이날 시베리아 동부 이르쿠츠크에서 두 가구가 사는 2층짜리 주택으로 추락했다. 이고르 코브제프 이르쿠츠크 주지사는 “이 사고로 전투기 조종사 2명이 숨졌지만, 지상에서 인명 피해는 발생하지 않았다”고 밝혔다.추락 원인은 아직 알려지지 않았으나, 러시아 소셜미디어에 올라온 영상을 보면 사고기가 거의 수직으로 낙하했다고 AP통신은 전했다. 추락 사고가 발생한 이르쿠츠크 지역은 인구 60만 명의 이르쿠츠크주의 최대 도시로, SU-30 전투기를 생산하는 러시아 국영 항공기 제조사 유나이티드 에어크래프트 코퍼레이션의 공장이 위치해있는 곳이다. 이 회사는 성명을 통해 사고기가 공군에 인도되기 전 훈련 비행 중 추락했다고 설명했다. 또한 사고기에 무기는 실려 있지 않았다고 덧붙였다.이번 추락 사고는 지난주 러시아 SU-34 전폭기가 추락한 지 7일만에 발생했다. 지난 17일 러시아 SU-34 전폭기 한 대가 비행훈련을 위해 이륙한 직후 엔진 한쪽에 불이 나면서 우크라이나와 인접한 러시아 남부 도시 예이스크의 아파트에 충돌, 15명이 숨지는 사건이 발생했다. 해당 전투기는 러시아 공군의 최신예 주력 전투기다.\n",
      "지난 달 블라디미르 푸틴 러시아 대통령이 모스크바에서 대국민 연설을 하고 있다./AP 연합뉴스우크라이나 전쟁에서 고전 중인 러시아가 23일(현지 시각) 미국, 영국, 프랑스, 튀르키예(터키) 국방장관과 연이어 통화에 나섰다.23일(현지 시각) 로이터 통신에 따르면 세르게이 쇼이구 러시아 국방 장관과 로이드 오스틴 미 국방장관은 이날 전화 통화로 우크라이나 문제에 대해 논의 했다. 앞서 두 장관이 지난 21일 5개월 만에 통화를 한 데 이어 사흘 만에 또 다시 통화에 나선 것이다. 미 국방부는 러시아가 후속 통화를 요청해 이뤄진 것이라고 설명했다.두 장관간 구체적인 통화 내용은 공개되지 않았다. 미 국방부는 통화 후 보도자료를 내고 “긴장을 고조시키는 러시아의 어떤 명분도 거절한다고 전달했다”며 “소통의 가치를 재차 강조했다”고 했다.이날 쇼이구 러 국방장관은 나토(NATO·북대서양조약기구) 회원국인 영국의 벤 윌리스, 프랑스의 세바스티앙 르코르뉘, 튀르키예의 훌루시 아카르 국방장관과도 연이어 통화했다.로이터 통신에 따르면 쇼이구 국방장관은 세 장관과 통화에서 “우크라이나 상황이 급속히 악화되고 있다. 우크라이나가 분쟁지에 ‘더티밤(dirty bombs)’을 쓸까 봐 우려된다”고 주장했다. 더티밤은 재래식 폭탄에 방사성 물질을 채운 일종의 방사능 무기다. 국제 사회가 러시아의 핵무기 사용 위협에 대해 우려를 표하고 있는 상황에서, 러시아는 오히려 우크라이나가 도발할 수 있다고 언급한 것이다. 다만 구체적인 증거는 제시하지 않았다.앞서 이전에도 러시아는 우크라이나가 생화학 무기 등 금지된 수단을 사용할 수 있다고 주장했다. 서방 국가 등은 이를 두고 러시아가 조작된 증거로 침략 명분을 세우는 ‘거짓 깃발(false flag)’ 작전을 준비 중일 수 있다고 우려 했다.\n"
     ]
    }
   ],
   "source": [
    "cnt=0\n",
    "for i in t['content']:\n",
    "    print(i)\n",
    "    \n",
    "    cnt+=1\n",
    "    if cnt>6:\n",
    "        break"
   ]
  },
  {
   "cell_type": "code",
   "execution_count": 228,
   "id": "fa3cad67",
   "metadata": {
    "scrolled": true
   },
   "outputs": [
    {
     "name": "stdout",
     "output_type": "stream",
     "text": [
      "사회\n",
      "연예\n",
      "국제\n",
      "정치\n",
      "경제\n",
      "문화\n",
      "스포츠\n"
     ]
    }
   ],
   "source": [
    "w2 = make_word_count_df2(ttt,['사회', '연예', '국제', '정치', '경제', '문화', '스포츠'])"
   ]
  },
  {
   "cell_type": "code",
   "execution_count": 229,
   "id": "28d207fa",
   "metadata": {},
   "outputs": [
    {
     "data": {
      "text/html": [
       "<div>\n",
       "<style scoped>\n",
       "    .dataframe tbody tr th:only-of-type {\n",
       "        vertical-align: middle;\n",
       "    }\n",
       "\n",
       "    .dataframe tbody tr th {\n",
       "        vertical-align: top;\n",
       "    }\n",
       "\n",
       "    .dataframe thead th {\n",
       "        text-align: right;\n",
       "    }\n",
       "</style>\n",
       "<table border=\"1\" class=\"dataframe\">\n",
       "  <thead>\n",
       "    <tr style=\"text-align: right;\">\n",
       "      <th></th>\n",
       "      <th>word</th>\n",
       "      <th>count</th>\n",
       "      <th>section</th>\n",
       "    </tr>\n",
       "  </thead>\n",
       "  <tbody>\n",
       "    <tr>\n",
       "      <th>0</th>\n",
       "      <td>송영</td>\n",
       "      <td>4</td>\n",
       "      <td>사회</td>\n",
       "    </tr>\n",
       "    <tr>\n",
       "      <th>1</th>\n",
       "      <td>무</td>\n",
       "      <td>14</td>\n",
       "      <td>사회</td>\n",
       "    </tr>\n",
       "    <tr>\n",
       "      <th>2</th>\n",
       "      <td>한국</td>\n",
       "      <td>122</td>\n",
       "      <td>사회</td>\n",
       "    </tr>\n",
       "    <tr>\n",
       "      <th>3</th>\n",
       "      <td>유총</td>\n",
       "      <td>9</td>\n",
       "      <td>사회</td>\n",
       "    </tr>\n",
       "    <tr>\n",
       "      <th>4</th>\n",
       "      <td>연맹</td>\n",
       "      <td>31</td>\n",
       "      <td>사회</td>\n",
       "    </tr>\n",
       "    <tr>\n",
       "      <th>...</th>\n",
       "      <td>...</td>\n",
       "      <td>...</td>\n",
       "      <td>...</td>\n",
       "    </tr>\n",
       "    <tr>\n",
       "      <th>52047</th>\n",
       "      <td>타쿠야</td>\n",
       "      <td>1</td>\n",
       "      <td>스포츠</td>\n",
       "    </tr>\n",
       "    <tr>\n",
       "      <th>52048</th>\n",
       "      <td>추첸첸</td>\n",
       "      <td>1</td>\n",
       "      <td>스포츠</td>\n",
       "    </tr>\n",
       "    <tr>\n",
       "      <th>52049</th>\n",
       "      <td>격상</td>\n",
       "      <td>1</td>\n",
       "      <td>스포츠</td>\n",
       "    </tr>\n",
       "    <tr>\n",
       "      <th>52050</th>\n",
       "      <td>선도</td>\n",
       "      <td>1</td>\n",
       "      <td>스포츠</td>\n",
       "    </tr>\n",
       "    <tr>\n",
       "      <th>52051</th>\n",
       "      <td>미주</td>\n",
       "      <td>1</td>\n",
       "      <td>스포츠</td>\n",
       "    </tr>\n",
       "  </tbody>\n",
       "</table>\n",
       "<p>52052 rows × 3 columns</p>\n",
       "</div>"
      ],
      "text/plain": [
       "      word count section\n",
       "0       송영     4      사회\n",
       "1        무    14      사회\n",
       "2       한국   122      사회\n",
       "3       유총     9      사회\n",
       "4       연맹    31      사회\n",
       "...    ...   ...     ...\n",
       "52047  타쿠야     1     스포츠\n",
       "52048  추첸첸     1     스포츠\n",
       "52049   격상     1     스포츠\n",
       "52050   선도     1     스포츠\n",
       "52051   미주     1     스포츠\n",
       "\n",
       "[52052 rows x 3 columns]"
      ]
     },
     "execution_count": 229,
     "metadata": {},
     "output_type": "execute_result"
    }
   ],
   "source": [
    "w2"
   ]
  },
  {
   "cell_type": "code",
   "execution_count": 231,
   "id": "ca9224ec",
   "metadata": {},
   "outputs": [
    {
     "data": {
      "text/html": [
       "<div>\n",
       "<style scoped>\n",
       "    .dataframe tbody tr th:only-of-type {\n",
       "        vertical-align: middle;\n",
       "    }\n",
       "\n",
       "    .dataframe tbody tr th {\n",
       "        vertical-align: top;\n",
       "    }\n",
       "\n",
       "    .dataframe thead th {\n",
       "        text-align: right;\n",
       "    }\n",
       "</style>\n",
       "<table border=\"1\" class=\"dataframe\">\n",
       "  <thead>\n",
       "    <tr style=\"text-align: right;\">\n",
       "      <th></th>\n",
       "      <th>word</th>\n",
       "      <th>count</th>\n",
       "      <th>section</th>\n",
       "    </tr>\n",
       "  </thead>\n",
       "  <tbody>\n",
       "    <tr>\n",
       "      <th>22451</th>\n",
       "      <td>것</td>\n",
       "      <td>1229</td>\n",
       "      <td>정치</td>\n",
       "    </tr>\n",
       "    <tr>\n",
       "      <th>22353</th>\n",
       "      <td>의원</td>\n",
       "      <td>943</td>\n",
       "      <td>정치</td>\n",
       "    </tr>\n",
       "    <tr>\n",
       "      <th>22407</th>\n",
       "      <td>고</td>\n",
       "      <td>928</td>\n",
       "      <td>정치</td>\n",
       "    </tr>\n",
       "    <tr>\n",
       "      <th>14431</th>\n",
       "      <td>것</td>\n",
       "      <td>893</td>\n",
       "      <td>국제</td>\n",
       "    </tr>\n",
       "    <tr>\n",
       "      <th>103</th>\n",
       "      <td>것</td>\n",
       "      <td>892</td>\n",
       "      <td>사회</td>\n",
       "    </tr>\n",
       "    <tr>\n",
       "      <th>...</th>\n",
       "      <td>...</td>\n",
       "      <td>...</td>\n",
       "      <td>...</td>\n",
       "    </tr>\n",
       "    <tr>\n",
       "      <th>35963</th>\n",
       "      <td>휴대</td>\n",
       "      <td>1</td>\n",
       "      <td>경제</td>\n",
       "    </tr>\n",
       "    <tr>\n",
       "      <th>35962</th>\n",
       "      <td>송화</td>\n",
       "      <td>1</td>\n",
       "      <td>경제</td>\n",
       "    </tr>\n",
       "    <tr>\n",
       "      <th>35961</th>\n",
       "      <td>특</td>\n",
       "      <td>1</td>\n",
       "      <td>경제</td>\n",
       "    </tr>\n",
       "    <tr>\n",
       "      <th>35960</th>\n",
       "      <td>국제우편</td>\n",
       "      <td>1</td>\n",
       "      <td>경제</td>\n",
       "    </tr>\n",
       "    <tr>\n",
       "      <th>52051</th>\n",
       "      <td>미주</td>\n",
       "      <td>1</td>\n",
       "      <td>스포츠</td>\n",
       "    </tr>\n",
       "  </tbody>\n",
       "</table>\n",
       "<p>52052 rows × 3 columns</p>\n",
       "</div>"
      ],
      "text/plain": [
       "       word count section\n",
       "22451     것  1229      정치\n",
       "22353    의원   943      정치\n",
       "22407     고   928      정치\n",
       "14431     것   893      국제\n",
       "103       것   892      사회\n",
       "...     ...   ...     ...\n",
       "35963    휴대     1      경제\n",
       "35962    송화     1      경제\n",
       "35961     특     1      경제\n",
       "35960  국제우편     1      경제\n",
       "52051    미주     1     스포츠\n",
       "\n",
       "[52052 rows x 3 columns]"
      ]
     },
     "execution_count": 231,
     "metadata": {},
     "output_type": "execute_result"
    }
   ],
   "source": [
    "w2.sort_values(by=\"count\", ascending=False)"
   ]
  },
  {
   "cell_type": "code",
   "execution_count": 234,
   "id": "7c925b81",
   "metadata": {},
   "outputs": [],
   "source": [
    "w2['word_length']=[len(i) for i in w2['word']]"
   ]
  },
  {
   "cell_type": "code",
   "execution_count": 237,
   "id": "75811ff3",
   "metadata": {},
   "outputs": [],
   "source": [
    "w2 = w2[w2['word_length']>1]"
   ]
  },
  {
   "cell_type": "code",
   "execution_count": 238,
   "id": "578097d4",
   "metadata": {},
   "outputs": [
    {
     "name": "stderr",
     "output_type": "stream",
     "text": [
      "C:\\Users\\Public\\Documents\\ESTsoft\\CreatorTemp\\ipykernel_14012\\1103842021.py:1: SettingWithCopyWarning: \n",
      "A value is trying to be set on a copy of a slice from a DataFrame\n",
      "\n",
      "See the caveats in the documentation: https://pandas.pydata.org/pandas-docs/stable/user_guide/indexing.html#returning-a-view-versus-a-copy\n",
      "  w2.drop(['word_length'],axis=1,inplace=True)\n"
     ]
    }
   ],
   "source": [
    "w2.drop(['word_length'],axis=1,inplace=True)"
   ]
  },
  {
   "cell_type": "code",
   "execution_count": 241,
   "id": "410f47bc",
   "metadata": {},
   "outputs": [
    {
     "data": {
      "text/html": [
       "<div>\n",
       "<style scoped>\n",
       "    .dataframe tbody tr th:only-of-type {\n",
       "        vertical-align: middle;\n",
       "    }\n",
       "\n",
       "    .dataframe tbody tr th {\n",
       "        vertical-align: top;\n",
       "    }\n",
       "\n",
       "    .dataframe thead th {\n",
       "        text-align: right;\n",
       "    }\n",
       "</style>\n",
       "<table border=\"1\" class=\"dataframe\">\n",
       "  <thead>\n",
       "    <tr style=\"text-align: right;\">\n",
       "      <th></th>\n",
       "      <th>word</th>\n",
       "      <th>count</th>\n",
       "      <th>section</th>\n",
       "    </tr>\n",
       "  </thead>\n",
       "  <tbody>\n",
       "    <tr>\n",
       "      <th>22353</th>\n",
       "      <td>의원</td>\n",
       "      <td>943</td>\n",
       "      <td>정치</td>\n",
       "    </tr>\n",
       "    <tr>\n",
       "      <th>14871</th>\n",
       "      <td>러시아</td>\n",
       "      <td>776</td>\n",
       "      <td>국제</td>\n",
       "    </tr>\n",
       "    <tr>\n",
       "      <th>22352</th>\n",
       "      <td>민주당</td>\n",
       "      <td>665</td>\n",
       "      <td>정치</td>\n",
       "    </tr>\n",
       "    <tr>\n",
       "      <th>23209</th>\n",
       "      <td>대표</td>\n",
       "      <td>664</td>\n",
       "      <td>정치</td>\n",
       "    </tr>\n",
       "    <tr>\n",
       "      <th>14879</th>\n",
       "      <td>우크라이나</td>\n",
       "      <td>652</td>\n",
       "      <td>국제</td>\n",
       "    </tr>\n",
       "    <tr>\n",
       "      <th>...</th>\n",
       "      <td>...</td>\n",
       "      <td>...</td>\n",
       "      <td>...</td>\n",
       "    </tr>\n",
       "    <tr>\n",
       "      <th>14234</th>\n",
       "      <td>대중문화</td>\n",
       "      <td>1</td>\n",
       "      <td>연예</td>\n",
       "    </tr>\n",
       "    <tr>\n",
       "      <th>14235</th>\n",
       "      <td>평론가</td>\n",
       "      <td>1</td>\n",
       "      <td>연예</td>\n",
       "    </tr>\n",
       "    <tr>\n",
       "      <th>37516</th>\n",
       "      <td>콜레스테롤</td>\n",
       "      <td>1</td>\n",
       "      <td>문화</td>\n",
       "    </tr>\n",
       "    <tr>\n",
       "      <th>14236</th>\n",
       "      <td>고유</td>\n",
       "      <td>1</td>\n",
       "      <td>연예</td>\n",
       "    </tr>\n",
       "    <tr>\n",
       "      <th>52051</th>\n",
       "      <td>미주</td>\n",
       "      <td>1</td>\n",
       "      <td>스포츠</td>\n",
       "    </tr>\n",
       "  </tbody>\n",
       "</table>\n",
       "<p>48637 rows × 3 columns</p>\n",
       "</div>"
      ],
      "text/plain": [
       "        word count section\n",
       "22353     의원   943      정치\n",
       "14871    러시아   776      국제\n",
       "22352    민주당   665      정치\n",
       "23209     대표   664      정치\n",
       "14879  우크라이나   652      국제\n",
       "...      ...   ...     ...\n",
       "14234   대중문화     1      연예\n",
       "14235    평론가     1      연예\n",
       "37516  콜레스테롤     1      문화\n",
       "14236     고유     1      연예\n",
       "52051     미주     1     스포츠\n",
       "\n",
       "[48637 rows x 3 columns]"
      ]
     },
     "execution_count": 241,
     "metadata": {},
     "output_type": "execute_result"
    }
   ],
   "source": [
    "w2.sort_values(by=\"count\", ascending=False)"
   ]
  },
  {
   "cell_type": "code",
   "execution_count": 244,
   "id": "5f48c9c5",
   "metadata": {},
   "outputs": [],
   "source": [
    "filesave(w2,\"chosun_content_word_count.csv\")"
   ]
  },
  {
   "cell_type": "code",
   "execution_count": null,
   "id": "9f43596c",
   "metadata": {},
   "outputs": [],
   "source": []
  }
 ],
 "metadata": {
  "kernelspec": {
   "display_name": "Python 3 (ipykernel)",
   "language": "python",
   "name": "python3"
  },
  "language_info": {
   "codemirror_mode": {
    "name": "ipython",
    "version": 3
   },
   "file_extension": ".py",
   "mimetype": "text/x-python",
   "name": "python",
   "nbconvert_exporter": "python",
   "pygments_lexer": "ipython3",
   "version": "3.9.12"
  }
 },
 "nbformat": 4,
 "nbformat_minor": 5
}
