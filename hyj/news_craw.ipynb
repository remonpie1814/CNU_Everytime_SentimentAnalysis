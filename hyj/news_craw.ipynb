{
 "cells": [
  {
   "cell_type": "code",
   "execution_count": 1,
   "metadata": {},
   "outputs": [],
   "source": [
    "import requests\n",
    "from bs4 import BeautifulSoup"
   ]
  },
  {
   "cell_type": "code",
   "execution_count": 6,
   "metadata": {},
   "outputs": [],
   "source": [
    "# 일단 sbs의 한 페이지만\n",
    "raw = requests.get(\"https://news.sbs.co.kr/news/newsSection.do?sectionType=02&pageDate=20221021\",\n",
    "                   headers={'User-Agent':'Mozilla/5.0'})\n",
    "html = BeautifulSoup(raw.text, \"html.parser\")"
   ]
  },
  {
   "cell_type": "code",
   "execution_count": 18,
   "metadata": {
    "scrolled": false
   },
   "outputs": [],
   "source": [
    "news_list=html.findAll(\"a\",attrs={'class': 'news'})"
   ]
  },
  {
   "cell_type": "code",
   "execution_count": 19,
   "metadata": {},
   "outputs": [
    {
     "data": {
      "text/plain": [
       "10"
      ]
     },
     "execution_count": 19,
     "metadata": {},
     "output_type": "execute_result"
    }
   ],
   "source": [
    "len(news_list)"
   ]
  },
  {
   "cell_type": "code",
   "execution_count": 26,
   "metadata": {
    "scrolled": false
   },
   "outputs": [],
   "source": [
    "news_link_list = []\n",
    "for i in news_list:\n",
    "    news_link_list.append(str(i.attrs['href']))"
   ]
  },
  {
   "cell_type": "code",
   "execution_count": 83,
   "metadata": {},
   "outputs": [
    {
     "data": {
      "text/plain": [
       "['/news/endPage.do?news_id=N1006941646',\n",
       " '/news/endPage.do?news_id=N1006941450',\n",
       " '/news/endPage.do?news_id=N1006941440',\n",
       " '/news/endPage.do?news_id=N1006941035',\n",
       " '/news/endPage.do?news_id=N1006941092',\n",
       " '/news/endPage.do?news_id=N1006941144',\n",
       " '/news/endPage.do?news_id=N1006941138',\n",
       " '/news/endPage.do?news_id=N1006940979',\n",
       " '/news/endPage.do?news_id=N1006940747',\n",
       " '/news/endPage.do?news_id=N1006940713']"
      ]
     },
     "execution_count": 83,
     "metadata": {},
     "output_type": "execute_result"
    }
   ],
   "source": [
    "# https://news.sbs.co.kr/news/endPage.do?news_id=N1006941138 식의 링크가 sbs 기사.\n",
    "news_link_list"
   ]
  },
  {
   "cell_type": "code",
   "execution_count": 28,
   "metadata": {},
   "outputs": [],
   "source": [
    "root_url=\"https://news.sbs.co.kr\""
   ]
  },
  {
   "cell_type": "code",
   "execution_count": 29,
   "metadata": {},
   "outputs": [],
   "source": [
    "url = root_url+news_link_list[0]"
   ]
  },
  {
   "cell_type": "code",
   "execution_count": 30,
   "metadata": {},
   "outputs": [],
   "source": [
    "res = requests.get(url,\n",
    "                   headers={'User-Agent':'Mozilla/5.0'})\n",
    "pagehtml = BeautifulSoup(res.text, \"html.parser\")"
   ]
  },
  {
   "cell_type": "code",
   "execution_count": 56,
   "metadata": {},
   "outputs": [],
   "source": [
    "pagetitle=pagehtml.find(\"h3\",attrs={'id': 'vmNewsTitle'}).text"
   ]
  },
  {
   "cell_type": "code",
   "execution_count": 57,
   "metadata": {
    "scrolled": false
   },
   "outputs": [],
   "source": [
    "pagecontent=pagehtml.find(\"div\",attrs={'class': 'text_area'}).text"
   ]
  },
  {
   "cell_type": "code",
   "execution_count": 63,
   "metadata": {},
   "outputs": [],
   "source": [
    "pagedate=pagehtml.find(\"span\",attrs={'class': 'date'}).span.text"
   ]
  },
  {
   "cell_type": "code",
   "execution_count": 64,
   "metadata": {},
   "outputs": [
    {
     "data": {
      "text/plain": [
       "\"여행엔 좋다지만…'엔저 현상' 속 숨겨진 위험성\""
      ]
     },
     "execution_count": 64,
     "metadata": {},
     "output_type": "execute_result"
    }
   ],
   "source": [
    "pagetitle"
   ]
  },
  {
   "cell_type": "code",
   "execution_count": 65,
   "metadata": {
    "scrolled": true
   },
   "outputs": [
    {
     "data": {
      "text/plain": [
       "'\\n  <앵커>\\n  \\n 요즘 달러 값이 계속 올라서 우리도 고민이 많은데, 옆 나라 일본은 상황이 더 어렵습니다. 일본 돈 엔화 가치가 32년 만에 가장 낮은 수준으로 떨어진 겁니다'"
      ]
     },
     "execution_count": 65,
     "metadata": {},
     "output_type": "execute_result"
    }
   ],
   "source": [
    "pagecontent[:100]"
   ]
  },
  {
   "cell_type": "code",
   "execution_count": 66,
   "metadata": {},
   "outputs": [
    {
     "data": {
      "text/plain": [
       "'2022.10.21 20:50'"
      ]
     },
     "execution_count": 66,
     "metadata": {},
     "output_type": "execute_result"
    }
   ],
   "source": [
    "pagedate"
   ]
  },
  {
   "cell_type": "code",
   "execution_count": 60,
   "metadata": {},
   "outputs": [],
   "source": [
    "import pandas as pd"
   ]
  },
  {
   "cell_type": "code",
   "execution_count": 77,
   "metadata": {},
   "outputs": [],
   "source": [
    "data=[[pagetitle,pagecontent,pagedate]]*3"
   ]
  },
  {
   "cell_type": "code",
   "execution_count": 78,
   "metadata": {},
   "outputs": [],
   "source": [
    "my_df = pd.DataFrame(data, columns=['title','content','date'])\n"
   ]
  },
  {
   "cell_type": "code",
   "execution_count": 79,
   "metadata": {},
   "outputs": [
    {
     "data": {
      "text/html": [
       "<div>\n",
       "<style scoped>\n",
       "    .dataframe tbody tr th:only-of-type {\n",
       "        vertical-align: middle;\n",
       "    }\n",
       "\n",
       "    .dataframe tbody tr th {\n",
       "        vertical-align: top;\n",
       "    }\n",
       "\n",
       "    .dataframe thead th {\n",
       "        text-align: right;\n",
       "    }\n",
       "</style>\n",
       "<table border=\"1\" class=\"dataframe\">\n",
       "  <thead>\n",
       "    <tr style=\"text-align: right;\">\n",
       "      <th></th>\n",
       "      <th>title</th>\n",
       "      <th>content</th>\n",
       "      <th>date</th>\n",
       "    </tr>\n",
       "  </thead>\n",
       "  <tbody>\n",
       "    <tr>\n",
       "      <th>0</th>\n",
       "      <td>여행엔 좋다지만…'엔저 현상' 속 숨겨진 위험성</td>\n",
       "      <td>\\n  &lt;앵커&gt;\\n  \\n 요즘 달러 값이 계속 올라서 우리도 고민이 많은데, 옆 ...</td>\n",
       "      <td>2022.10.21 20:50</td>\n",
       "    </tr>\n",
       "    <tr>\n",
       "      <th>1</th>\n",
       "      <td>여행엔 좋다지만…'엔저 현상' 속 숨겨진 위험성</td>\n",
       "      <td>\\n  &lt;앵커&gt;\\n  \\n 요즘 달러 값이 계속 올라서 우리도 고민이 많은데, 옆 ...</td>\n",
       "      <td>2022.10.21 20:50</td>\n",
       "    </tr>\n",
       "    <tr>\n",
       "      <th>2</th>\n",
       "      <td>여행엔 좋다지만…'엔저 현상' 속 숨겨진 위험성</td>\n",
       "      <td>\\n  &lt;앵커&gt;\\n  \\n 요즘 달러 값이 계속 올라서 우리도 고민이 많은데, 옆 ...</td>\n",
       "      <td>2022.10.21 20:50</td>\n",
       "    </tr>\n",
       "  </tbody>\n",
       "</table>\n",
       "</div>"
      ],
      "text/plain": [
       "                        title  \\\n",
       "0  여행엔 좋다지만…'엔저 현상' 속 숨겨진 위험성   \n",
       "1  여행엔 좋다지만…'엔저 현상' 속 숨겨진 위험성   \n",
       "2  여행엔 좋다지만…'엔저 현상' 속 숨겨진 위험성   \n",
       "\n",
       "                                             content              date  \n",
       "0  \\n  <앵커>\\n  \\n 요즘 달러 값이 계속 올라서 우리도 고민이 많은데, 옆 ...  2022.10.21 20:50  \n",
       "1  \\n  <앵커>\\n  \\n 요즘 달러 값이 계속 올라서 우리도 고민이 많은데, 옆 ...  2022.10.21 20:50  \n",
       "2  \\n  <앵커>\\n  \\n 요즘 달러 값이 계속 올라서 우리도 고민이 많은데, 옆 ...  2022.10.21 20:50  "
      ]
     },
     "execution_count": 79,
     "metadata": {},
     "output_type": "execute_result"
    }
   ],
   "source": [
    "my_df"
   ]
  },
  {
   "cell_type": "code",
   "execution_count": 86,
   "metadata": {},
   "outputs": [],
   "source": [
    "import time\n",
    "import random\n",
    "def sbs_link_to_df(link_list):\n",
    "    root_url=\"https://news.sbs.co.kr\"\n",
    "    data=[]\n",
    "    for link in link_list:\n",
    "        url = root_url+link\n",
    "        print(url, \"로 페이지 요청...\")\n",
    "        res = requests.get(url,\n",
    "                   headers={'User-Agent':'Mozilla/5.0'})\n",
    "        \n",
    "        pagehtml = BeautifulSoup(res.text, \"html.parser\")\n",
    "        \n",
    "        pagetitle=pagehtml.find(\"h3\",attrs={'id': 'vmNewsTitle'}).text\n",
    "        pagecontent=pagehtml.find(\"div\",attrs={'class': 'text_area'}).text\n",
    "        pagedate=pagehtml.find(\"span\",attrs={'class': 'date'}).span.text\n",
    "        \n",
    "        data.append([pagetitle,pagecontent,pagedate])\n",
    "        \n",
    "        time.sleep((random.random()*2.5)+1)\n",
    "        \n",
    "    return pd.DataFrame(data, columns=['title','content','date'])"
   ]
  },
  {
   "cell_type": "code",
   "execution_count": 87,
   "metadata": {},
   "outputs": [
    {
     "name": "stdout",
     "output_type": "stream",
     "text": [
      "https://news.sbs.co.kr/news/endPage.do?news_id=N1006941646 로 페이지 요청...\n",
      "https://news.sbs.co.kr/news/endPage.do?news_id=N1006941450 로 페이지 요청...\n",
      "https://news.sbs.co.kr/news/endPage.do?news_id=N1006941440 로 페이지 요청...\n",
      "https://news.sbs.co.kr/news/endPage.do?news_id=N1006941035 로 페이지 요청...\n",
      "https://news.sbs.co.kr/news/endPage.do?news_id=N1006941092 로 페이지 요청...\n",
      "https://news.sbs.co.kr/news/endPage.do?news_id=N1006941144 로 페이지 요청...\n",
      "https://news.sbs.co.kr/news/endPage.do?news_id=N1006941138 로 페이지 요청...\n",
      "https://news.sbs.co.kr/news/endPage.do?news_id=N1006940979 로 페이지 요청...\n",
      "https://news.sbs.co.kr/news/endPage.do?news_id=N1006940747 로 페이지 요청...\n",
      "https://news.sbs.co.kr/news/endPage.do?news_id=N1006940713 로 페이지 요청...\n"
     ]
    }
   ],
   "source": [
    "df=sbs_link_to_df(news_link_list)"
   ]
  },
  {
   "cell_type": "code",
   "execution_count": 92,
   "metadata": {
    "scrolled": true
   },
   "outputs": [
    {
     "data": {
      "text/html": [
       "<div>\n",
       "<style scoped>\n",
       "    .dataframe tbody tr th:only-of-type {\n",
       "        vertical-align: middle;\n",
       "    }\n",
       "\n",
       "    .dataframe tbody tr th {\n",
       "        vertical-align: top;\n",
       "    }\n",
       "\n",
       "    .dataframe thead th {\n",
       "        text-align: right;\n",
       "    }\n",
       "</style>\n",
       "<table border=\"1\" class=\"dataframe\">\n",
       "  <thead>\n",
       "    <tr style=\"text-align: right;\">\n",
       "      <th></th>\n",
       "      <th>title</th>\n",
       "      <th>content</th>\n",
       "      <th>date</th>\n",
       "    </tr>\n",
       "  </thead>\n",
       "  <tbody>\n",
       "    <tr>\n",
       "      <th>0</th>\n",
       "      <td>여행엔 좋다지만…'엔저 현상' 속 숨겨진 위험성</td>\n",
       "      <td>\\n  &lt;앵커&gt;\\n  \\n 요즘 달러 값이 계속 올라서 우리도 고민이 많은데, 옆 ...</td>\n",
       "      <td>2022.10.21 20:50</td>\n",
       "    </tr>\n",
       "    <tr>\n",
       "      <th>1</th>\n",
       "      <td>[오뉴스 출연] '은마' 재건축 첫발 (SBS 한지연 기자)</td>\n",
       "      <td>\\n  오늘(21일)의 이슈를 SBS 한지연 기자와 오뉴스에서 함께 자세하게 알아봅...</td>\n",
       "      <td>2022.10.21 17:28</td>\n",
       "    </tr>\n",
       "    <tr>\n",
       "      <th>2</th>\n",
       "      <td>SPC 회장 \"사고 책임 통감\"…사망사고 대국민 사과</td>\n",
       "      <td>\\n  &lt;앵커&gt;\\n  \\n SPC그룹이 계열사 제빵 공장에서 일어난 사망 사고와 관...</td>\n",
       "      <td>2022.10.21 17:12</td>\n",
       "    </tr>\n",
       "    <tr>\n",
       "      <th>3</th>\n",
       "      <td>삼성전자는 왜 TSMC에 반도체 '세계 1위' 내줬을까 (feat. 최리노) [뭘스...</td>\n",
       "      <td>\\n\\n\\n\\n\\n[골룸] 뭘스트리트 : 삼성전자는 왜 TSMC에 반도체 '세계 1...</td>\n",
       "      <td>2022.10.21 12:59</td>\n",
       "    </tr>\n",
       "    <tr>\n",
       "      <th>4</th>\n",
       "      <td>금감원, 루머 합동단속반 가동…'기업 위기설' 유포 잡는다</td>\n",
       "      <td>\\n[경제 365]\\n\\n 최근 일부 기업들이 자금 조달에 어려움을 겪고 있다는 등...</td>\n",
       "      <td>2022.10.21 12:33</td>\n",
       "    </tr>\n",
       "    <tr>\n",
       "      <th>5</th>\n",
       "      <td>SPC, 제빵공장 사고 대국민 사과…\"안전강화 1천억 원 투자\"</td>\n",
       "      <td>\\n  경기 평택 제빵공장에서 발생한 20대 노동자 사망사고와 관련해 허영인 SPC...</td>\n",
       "      <td>2022.10.21 12:28</td>\n",
       "    </tr>\n",
       "    <tr>\n",
       "      <th>6</th>\n",
       "      <td>원희룡 \"아파트값 50% 올랐다가 6% 하락…폭락 단정은 일러\"</td>\n",
       "      <td>\\n  원희룡 국토교통부 장관이 현재 부동산시장 상황에 대해, 폭락 국면으로 단정 ...</td>\n",
       "      <td>2022.10.21 12:25</td>\n",
       "    </tr>\n",
       "    <tr>\n",
       "      <th>7</th>\n",
       "      <td>SPC 회장 \"책임 통감 · 엄중 질책 수용\"…안전 강화 1천억 투자</td>\n",
       "      <td>\\n  허영인 SPC 회장이 오늘(21일) 계열사 평택 제빵공장 직원의 사망사고에 ...</td>\n",
       "      <td>2022.10.21 11:04</td>\n",
       "    </tr>\n",
       "    <tr>\n",
       "      <th>8</th>\n",
       "      <td>[친절한 경제] 전국 아파트값 0.28%↓…'깡통 전세' 걱정까지</td>\n",
       "      <td>\\n  &lt;앵커&gt;\\n  \\n 친절한 경제 시간입니다. 한지연 기자 나와 있습니다. 아...</td>\n",
       "      <td>2022.10.21 09:55</td>\n",
       "    </tr>\n",
       "    <tr>\n",
       "      <th>9</th>\n",
       "      <td>SPC, 오전 11시 제빵공장 사망 사고 대국민 사과</td>\n",
       "      <td>\\n  경기 평택 제빵공장에서 발생한 20대 노동자 사망 사고와 관련해 SPC그룹이...</td>\n",
       "      <td>2022.10.21 08:58</td>\n",
       "    </tr>\n",
       "  </tbody>\n",
       "</table>\n",
       "</div>"
      ],
      "text/plain": [
       "                                               title  \\\n",
       "0                         여행엔 좋다지만…'엔저 현상' 속 숨겨진 위험성   \n",
       "1                  [오뉴스 출연] '은마' 재건축 첫발 (SBS 한지연 기자)   \n",
       "2                      SPC 회장 \"사고 책임 통감\"…사망사고 대국민 사과   \n",
       "3  삼성전자는 왜 TSMC에 반도체 '세계 1위' 내줬을까 (feat. 최리노) [뭘스...   \n",
       "4                   금감원, 루머 합동단속반 가동…'기업 위기설' 유포 잡는다   \n",
       "5                SPC, 제빵공장 사고 대국민 사과…\"안전강화 1천억 원 투자\"   \n",
       "6                원희룡 \"아파트값 50% 올랐다가 6% 하락…폭락 단정은 일러\"   \n",
       "7             SPC 회장 \"책임 통감 · 엄중 질책 수용\"…안전 강화 1천억 투자   \n",
       "8               [친절한 경제] 전국 아파트값 0.28%↓…'깡통 전세' 걱정까지   \n",
       "9                      SPC, 오전 11시 제빵공장 사망 사고 대국민 사과   \n",
       "\n",
       "                                             content              date  \n",
       "0  \\n  <앵커>\\n  \\n 요즘 달러 값이 계속 올라서 우리도 고민이 많은데, 옆 ...  2022.10.21 20:50  \n",
       "1  \\n  오늘(21일)의 이슈를 SBS 한지연 기자와 오뉴스에서 함께 자세하게 알아봅...  2022.10.21 17:28  \n",
       "2  \\n  <앵커>\\n  \\n SPC그룹이 계열사 제빵 공장에서 일어난 사망 사고와 관...  2022.10.21 17:12  \n",
       "3  \\n\\n\\n\\n\\n[골룸] 뭘스트리트 : 삼성전자는 왜 TSMC에 반도체 '세계 1...  2022.10.21 12:59  \n",
       "4  \\n[경제 365]\\n\\n 최근 일부 기업들이 자금 조달에 어려움을 겪고 있다는 등...  2022.10.21 12:33  \n",
       "5  \\n  경기 평택 제빵공장에서 발생한 20대 노동자 사망사고와 관련해 허영인 SPC...  2022.10.21 12:28  \n",
       "6  \\n  원희룡 국토교통부 장관이 현재 부동산시장 상황에 대해, 폭락 국면으로 단정 ...  2022.10.21 12:25  \n",
       "7  \\n  허영인 SPC 회장이 오늘(21일) 계열사 평택 제빵공장 직원의 사망사고에 ...  2022.10.21 11:04  \n",
       "8  \\n  <앵커>\\n  \\n 친절한 경제 시간입니다. 한지연 기자 나와 있습니다. 아...  2022.10.21 09:55  \n",
       "9  \\n  경기 평택 제빵공장에서 발생한 20대 노동자 사망 사고와 관련해 SPC그룹이...  2022.10.21 08:58  "
      ]
     },
     "execution_count": 92,
     "metadata": {},
     "output_type": "execute_result"
    }
   ],
   "source": [
    "df"
   ]
  },
  {
   "cell_type": "code",
   "execution_count": 97,
   "metadata": {},
   "outputs": [],
   "source": [
    "def filesave(dataframe,name):\n",
    "    dataframe.to_csv(name,sep=\"\\t\", encoding=\"utf-8\",index=False)"
   ]
  },
  {
   "cell_type": "code",
   "execution_count": 101,
   "metadata": {},
   "outputs": [],
   "source": [
    "def fileread(name):\n",
    "    return pd.read_csv(name,sep=\"\\t\",encoding=\"utf-8\")"
   ]
  },
  {
   "cell_type": "code",
   "execution_count": 98,
   "metadata": {},
   "outputs": [],
   "source": [
    "filesave(df,\"dfsavetest.csv\")"
   ]
  },
  {
   "cell_type": "code",
   "execution_count": 102,
   "metadata": {},
   "outputs": [],
   "source": [
    "df2=fileread(\"dfsavetest.csv\")"
   ]
  },
  {
   "cell_type": "code",
   "execution_count": 103,
   "metadata": {},
   "outputs": [
    {
     "data": {
      "text/html": [
       "<div>\n",
       "<style scoped>\n",
       "    .dataframe tbody tr th:only-of-type {\n",
       "        vertical-align: middle;\n",
       "    }\n",
       "\n",
       "    .dataframe tbody tr th {\n",
       "        vertical-align: top;\n",
       "    }\n",
       "\n",
       "    .dataframe thead th {\n",
       "        text-align: right;\n",
       "    }\n",
       "</style>\n",
       "<table border=\"1\" class=\"dataframe\">\n",
       "  <thead>\n",
       "    <tr style=\"text-align: right;\">\n",
       "      <th></th>\n",
       "      <th>title</th>\n",
       "      <th>content</th>\n",
       "      <th>date</th>\n",
       "    </tr>\n",
       "  </thead>\n",
       "  <tbody>\n",
       "    <tr>\n",
       "      <th>0</th>\n",
       "      <td>여행엔 좋다지만…'엔저 현상' 속 숨겨진 위험성</td>\n",
       "      <td>\\n  &lt;앵커&gt;\\n  \\n 요즘 달러 값이 계속 올라서 우리도 고민이 많은데, 옆 ...</td>\n",
       "      <td>2022.10.21 20:50</td>\n",
       "    </tr>\n",
       "    <tr>\n",
       "      <th>1</th>\n",
       "      <td>[오뉴스 출연] '은마' 재건축 첫발 (SBS 한지연 기자)</td>\n",
       "      <td>\\n  오늘(21일)의 이슈를 SBS 한지연 기자와 오뉴스에서 함께 자세하게 알아봅...</td>\n",
       "      <td>2022.10.21 17:28</td>\n",
       "    </tr>\n",
       "    <tr>\n",
       "      <th>2</th>\n",
       "      <td>SPC 회장 \"사고 책임 통감\"…사망사고 대국민 사과</td>\n",
       "      <td>\\n  &lt;앵커&gt;\\n  \\n SPC그룹이 계열사 제빵 공장에서 일어난 사망 사고와 관...</td>\n",
       "      <td>2022.10.21 17:12</td>\n",
       "    </tr>\n",
       "    <tr>\n",
       "      <th>3</th>\n",
       "      <td>삼성전자는 왜 TSMC에 반도체 '세계 1위' 내줬을까 (feat. 최리노) [뭘스...</td>\n",
       "      <td>\\n\\n\\n\\n\\n[골룸] 뭘스트리트 : 삼성전자는 왜 TSMC에 반도체 '세계 1...</td>\n",
       "      <td>2022.10.21 12:59</td>\n",
       "    </tr>\n",
       "    <tr>\n",
       "      <th>4</th>\n",
       "      <td>금감원, 루머 합동단속반 가동…'기업 위기설' 유포 잡는다</td>\n",
       "      <td>\\n[경제 365]\\n\\n 최근 일부 기업들이 자금 조달에 어려움을 겪고 있다는 등...</td>\n",
       "      <td>2022.10.21 12:33</td>\n",
       "    </tr>\n",
       "    <tr>\n",
       "      <th>5</th>\n",
       "      <td>SPC, 제빵공장 사고 대국민 사과…\"안전강화 1천억 원 투자\"</td>\n",
       "      <td>\\n  경기 평택 제빵공장에서 발생한 20대 노동자 사망사고와 관련해 허영인 SPC...</td>\n",
       "      <td>2022.10.21 12:28</td>\n",
       "    </tr>\n",
       "    <tr>\n",
       "      <th>6</th>\n",
       "      <td>원희룡 \"아파트값 50% 올랐다가 6% 하락…폭락 단정은 일러\"</td>\n",
       "      <td>\\n  원희룡 국토교통부 장관이 현재 부동산시장 상황에 대해, 폭락 국면으로 단정 ...</td>\n",
       "      <td>2022.10.21 12:25</td>\n",
       "    </tr>\n",
       "    <tr>\n",
       "      <th>7</th>\n",
       "      <td>SPC 회장 \"책임 통감 · 엄중 질책 수용\"…안전 강화 1천억 투자</td>\n",
       "      <td>\\n  허영인 SPC 회장이 오늘(21일) 계열사 평택 제빵공장 직원의 사망사고에 ...</td>\n",
       "      <td>2022.10.21 11:04</td>\n",
       "    </tr>\n",
       "    <tr>\n",
       "      <th>8</th>\n",
       "      <td>[친절한 경제] 전국 아파트값 0.28%↓…'깡통 전세' 걱정까지</td>\n",
       "      <td>\\n  &lt;앵커&gt;\\n  \\n 친절한 경제 시간입니다. 한지연 기자 나와 있습니다. 아...</td>\n",
       "      <td>2022.10.21 09:55</td>\n",
       "    </tr>\n",
       "    <tr>\n",
       "      <th>9</th>\n",
       "      <td>SPC, 오전 11시 제빵공장 사망 사고 대국민 사과</td>\n",
       "      <td>\\n  경기 평택 제빵공장에서 발생한 20대 노동자 사망 사고와 관련해 SPC그룹이...</td>\n",
       "      <td>2022.10.21 08:58</td>\n",
       "    </tr>\n",
       "  </tbody>\n",
       "</table>\n",
       "</div>"
      ],
      "text/plain": [
       "                                               title  \\\n",
       "0                         여행엔 좋다지만…'엔저 현상' 속 숨겨진 위험성   \n",
       "1                  [오뉴스 출연] '은마' 재건축 첫발 (SBS 한지연 기자)   \n",
       "2                      SPC 회장 \"사고 책임 통감\"…사망사고 대국민 사과   \n",
       "3  삼성전자는 왜 TSMC에 반도체 '세계 1위' 내줬을까 (feat. 최리노) [뭘스...   \n",
       "4                   금감원, 루머 합동단속반 가동…'기업 위기설' 유포 잡는다   \n",
       "5                SPC, 제빵공장 사고 대국민 사과…\"안전강화 1천억 원 투자\"   \n",
       "6                원희룡 \"아파트값 50% 올랐다가 6% 하락…폭락 단정은 일러\"   \n",
       "7             SPC 회장 \"책임 통감 · 엄중 질책 수용\"…안전 강화 1천억 투자   \n",
       "8               [친절한 경제] 전국 아파트값 0.28%↓…'깡통 전세' 걱정까지   \n",
       "9                      SPC, 오전 11시 제빵공장 사망 사고 대국민 사과   \n",
       "\n",
       "                                             content              date  \n",
       "0  \\n  <앵커>\\n  \\n 요즘 달러 값이 계속 올라서 우리도 고민이 많은데, 옆 ...  2022.10.21 20:50  \n",
       "1  \\n  오늘(21일)의 이슈를 SBS 한지연 기자와 오뉴스에서 함께 자세하게 알아봅...  2022.10.21 17:28  \n",
       "2  \\n  <앵커>\\n  \\n SPC그룹이 계열사 제빵 공장에서 일어난 사망 사고와 관...  2022.10.21 17:12  \n",
       "3  \\n\\n\\n\\n\\n[골룸] 뭘스트리트 : 삼성전자는 왜 TSMC에 반도체 '세계 1...  2022.10.21 12:59  \n",
       "4  \\n[경제 365]\\n\\n 최근 일부 기업들이 자금 조달에 어려움을 겪고 있다는 등...  2022.10.21 12:33  \n",
       "5  \\n  경기 평택 제빵공장에서 발생한 20대 노동자 사망사고와 관련해 허영인 SPC...  2022.10.21 12:28  \n",
       "6  \\n  원희룡 국토교통부 장관이 현재 부동산시장 상황에 대해, 폭락 국면으로 단정 ...  2022.10.21 12:25  \n",
       "7  \\n  허영인 SPC 회장이 오늘(21일) 계열사 평택 제빵공장 직원의 사망사고에 ...  2022.10.21 11:04  \n",
       "8  \\n  <앵커>\\n  \\n 친절한 경제 시간입니다. 한지연 기자 나와 있습니다. 아...  2022.10.21 09:55  \n",
       "9  \\n  경기 평택 제빵공장에서 발생한 20대 노동자 사망 사고와 관련해 SPC그룹이...  2022.10.21 08:58  "
      ]
     },
     "execution_count": 103,
     "metadata": {},
     "output_type": "execute_result"
    }
   ],
   "source": [
    "df2"
   ]
  },
  {
   "cell_type": "code",
   "execution_count": 120,
   "metadata": {},
   "outputs": [],
   "source": [
    "########## 여기부턴 동아일보\n",
    "root_url = \"https://www.donga.com/news/Society?\"\n",
    "url = \"https://www.donga.com/news/Society?p={}&prod=news&ymd=&m=\".format(21)\n",
    "raw = requests.get(url,\n",
    "                   headers={'User-Agent':'Mozilla/5.0'})\n",
    "html = BeautifulSoup(raw.text, \"html.parser\")"
   ]
  },
  {
   "cell_type": "code",
   "execution_count": 131,
   "metadata": {
    "collapsed": true
   },
   "outputs": [
    {
     "data": {
      "text/plain": [
       "<!DOCTYPE html>\n",
       "\n",
       "<html lang=\"ko\">\n",
       "<head>\n",
       "<title>동아일보</title>\n",
       "<meta content=\"text/html; charset=utf-8\" http-equiv=\"Content-Type\"/>\n",
       "<meta content=\"IE=edge\" http-equiv=\"X-UA-Compatible\"/>\n",
       "<meta content=\"대한민국을 대표하는 정론지 동아일보는 디지털 창인 동아닷컴과 함께 공정하고 정확한 뉴스로 독자 여러분과 더 나은 미래를 만들어 나가겠습니다.\" name=\"description\"/>\n",
       "<meta content=\"동아닷컴\" name=\"writer\"/>\n",
       "<meta content=\"nyedn3qpatz7zur9vbmms5epehnszw\" name=\"facebook-domain-verification\"/>\n",
       "<meta content=\"unsafe-url\" name=\"referrer\"/>\n",
       "<link href=\"https://image.donga.com/pc/2022/images/common/donga_icon.jpg\" rel=\"image_src\"/>\n",
       "<link href=\"https://www.donga.com/news/Society\" rel=\"canonical\"/>\n",
       "<link href=\"https://image.donga.com/pc/2022/css/donga_sub.css?t=20221018\" rel=\"stylesheet\" type=\"text/css\"/>\n",
       "<link href=\"https://image.donga.com/donga/css.v.2.0/slick.css\" rel=\"stylesheet\" type=\"text/css\"/>\n",
       "<script>\n",
       "window.dataLayer = window.dataLayer || [];\n",
       "window.dataLayer.push({\n",
       "    'userData': {\n",
       "        'userId': '',\n",
       "        'loginType': '',\n",
       "        'loginStatus': 'logout'\n",
       "    }\n",
       "});\n",
       "</script>\n",
       "<!-- Google Tag Manager -->\n",
       "<script>(function(w,d,s,l,i){w[l]=w[l]||[];w[l].push({'gtm.start':\n",
       "new Date().getTime(),event:'gtm.js'});var f=d.getElementsByTagName(s)[0],\n",
       "j=d.createElement(s),dl=l!='dataLayer'?'&l='+l:'';j.async=true;j.src=\n",
       "'https://www.googletagmanager.com/gtm.js?id='+i+dl;f.parentNode.insertBefore(j,f);\n",
       "})(window,document,'script','dataLayer','GTM-PCVCHHT');</script>\n",
       "<!-- End Google Tag Manager -->\n",
       "<script async=\"\" src=\"https://securepubads.g.doubleclick.net/tag/js/gpt.js\"></script>\n",
       "<script>\n",
       "window.googletag = window.googletag || {cmd: []};\n",
       "googletag.cmd.push(function() {\n",
       "googletag.defineSlot('/106061858/donga_news_bigbanner', [[336, 280], [300, 250], [300, 600]], 'div-gpt-ad-1635320402500-0').addService(googletag.pubads());\n",
       "googletag.pubads().enableSingleRequest();\n",
       "googletag.pubads().collapseEmptyDivs();\n",
       "googletag.enableServices();\n",
       "});\n",
       "</script>\n",
       "<script src=\"https://image.donga.com/donga/js.v.1.0/jquery-latest.js\" type=\"text/javascript\"></script>\n",
       "<script src=\"https://image.donga.com/donga/js.v.1.0/jquery-ui.js\" type=\"text/javascript\"></script>\n",
       "<script src=\"https://image.donga.com/donga/js.v.1.0/jquery-cookie.js\" type=\"text/javascript\"></script>\n",
       "<script src=\"https://image.donga.com/donga/js.v.2.0/donga_ui.js\" type=\"text/javascript\"></script>\n",
       "<script src=\"https://image.donga.com/donga/js.v.2.0/slick.js\" type=\"text/javascript\"></script>\n",
       "<script src=\"https://image.donga.com/pc/2022/js/common.js?t=20221018\" type=\"text/javascript\"></script>\n",
       "<script src=\"https://image.donga.com/donga/js.v.1.0/textshare.js\" type=\"text/javascript\"></script>\n",
       "<script>\n",
       "    (function(d,a,b,l,e,_) {\n",
       "    d[b]=d[b]||function(){(d[b].q=d[b].q||[]).push(arguments)};e=a.createElement(l);\n",
       "    e.async=1;e.charset='utf-8';e.src='//static.dable.io/dist/plugin.min.js';\n",
       "    _=a.getElementsByTagName(l)[0];_.parentNode.insertBefore(e,_);\n",
       "    })(window,document,'dable','script');\n",
       "    dable('setService', 'news.donga.com');\n",
       "    dable('sendLog');\n",
       "</script>\n",
       "</head>\n",
       "<body>\n",
       "<!-- Google Tag Manager (noscript) -->\n",
       "<noscript><iframe height=\"0\" src=\"https://www.googletagmanager.com/ns.html?id=GTM-PCVCHHT\" style=\"display:none;visibility:hidden\" width=\"0\"></iframe></noscript>\n",
       "<!-- End Google Tag Manager (noscript) -->\n",
       "<div class=\"skip\"><a href=\"#main_content\">본문바로가기</a></div>\n",
       "<!-- wrap -->\n",
       "<div id=\"dongawrap\">\n",
       "<header class=\"\" id=\"header\"><div class=\"header_wrap\"><h1 class=\"donga_logo\"><a href=\"https://www.donga.com\"><span>동아일보</span></a></h1> <div class=\"nav_icon\" id=\"nav_icon\">\n",
       "<button class=\"icon_com btn_allmenu\" type=\"button\"><span class=\"txt\">전체메뉴</span></button>\n",
       "<button class=\"icon_com btn_search\" type=\"button\"><span class=\"txt\">검색</span></button>\n",
       "<div id=\"search_cont\">\n",
       "<form action=\"https://www.donga.com/news/search\" id=\"top_search_form\" method=\"get\" name=\"top_search_form\">\n",
       "<div class=\"search_inp\">\n",
       "<span class=\"t\"><input autocomplete=\"off\" id=\"query\" name=\"query\" placeholder=\"검색어를 입력하세요.\" title=\"검색어 입력\" type=\"text\"/></span>\n",
       "<input alt=\"검색\" class=\"icon_com searchbtn\" onclick=\"return top_search_form.submit();\" title=\"검색\" type=\"submit\" value=\"search\"/>\n",
       "</div>\n",
       "</form>\n",
       "</div>\n",
       "<div id=\"latest_cont\">\n",
       "<div class=\"list_cont\">\n",
       "<span class=\"tit\">최근검색어</span>\n",
       "<p class=\"no_search\">최근 검색어<br/> 내역이 없습니다.</p>\n",
       "</div>\n",
       "<div class=\"fun_cont\" id=\"fun_cont\">\n",
       "<span class=\"btn_save\">검색어 저장 <button class=\"save\" data-save=\"Y\" type=\"button\">끄기</button></span>\n",
       "<button class=\"icon_com01 close\" type=\"button\">닫기</button>\n",
       "</div>\n",
       "</div>\n",
       "<script>\n",
       "            $('#fun_cont .save').on('click', function () {\n",
       "                if ( $(this).data('save') == \"N\" )\n",
       "                {\n",
       "                    $(this).data('save', 'Y') ;\n",
       "                    $(this).html('끄기');\n",
       "                    $.cookie('searchWordSave', 'Y', { expires: 365, path: '/', domain: 'donga.com' });\n",
       "                    $(\"#latest_cont p\").remove() ;\n",
       "                    $(\"#latest_cont ul\").show() ;\n",
       "                }\n",
       "                else\n",
       "                {\n",
       "                    $(this).data('save', 'N') ;\n",
       "                    $(this).html('켜기');\n",
       "                    $.cookie('searchWordSave', 'N', { expires: 365, path: '/', domain: 'donga.com' });\n",
       "                    $(\"#latest_cont ul\").hide() ;\n",
       "                    $(\"#latest_cont .list_cont\").append(\"<p class='no_search'>검색어 저장 기능을<br /> 확인해주세요.</p>\") ;\n",
       "                }\n",
       "                return false;\n",
       "            });\n",
       "            $('#latest_cont .btn_del').on('click', function () {\n",
       "                var word = $(this).data('word') ;\n",
       "                setCookieSearch(word) ;\n",
       "                $(this).parent().remove() ;\n",
       "                return false;\n",
       "            });\n",
       "            function setCookieSearch(word)\n",
       "            {\n",
       "                $.ajax({\n",
       "                    type: \"GET\",\n",
       "                    url: \"https://www.donga.com/news/search?mode=remove&query=\" + word ,\n",
       "                    dataType: \"html\",\n",
       "                    success: function (result) {\n",
       "                    }\n",
       "                });\n",
       "            }\n",
       "            </script>\n",
       "</div> <div class=\"relation_cont\">\n",
       "<div class=\"language_site language_site02\" id=\"language_site\">\n",
       "<span class=\"txt\">language<i class=\"icon_com01 icon_arr\"></i></span>\n",
       "<div id=\"language_cont\">\n",
       "<ul class=\"language_list list_relation\">\n",
       "<li><a href=\"#\">language<i class=\"icon_com01 icon_arr\"></i></a></li>\n",
       "<li class=\"kr\"><a href=\"https://www.donga.com\">한국어</a></li>\n",
       "<li><a href=\"https://www.donga.com/en\">English</a></li>\n",
       "<li><a href=\"https://www.donga.com/cn\">中文(簡体)</a></li>\n",
       "<li><a href=\"https://www.donga.com/jp\">日本語</a></li>\n",
       "</ul>\n",
       "</div>\n",
       "</div>\n",
       "<div class=\"media_group\" id=\"media_group\">\n",
       "<span class=\"txt\">동아미디어그룹<i class=\"icon_com01 icon_arr\"></i></span>\n",
       "<div id=\"media_cont\">\n",
       "<ul class=\"media_list list_relation\">\n",
       "<li><a href=\"#\">동아미디어그룹<i class=\"icon_com01 icon_arr\"></i></a></li>\n",
       "<li><a href=\"https://www.ichannela.com\" target=\"_blank\">채널A</a></li>\n",
       "<li><a href=\"https://sports.donga.com\" target=\"_blank\">스포츠동아</a></li>\n",
       "</ul>\n",
       "</div>\n",
       "</div>\n",
       "<div class=\"login_group group01\" id=\"login_group\"><script src=\"https://www.donga.com/HUB/sports/login2.php?mode=2022_btn\" type=\"text/javascript\"></script></div>\n",
       "</div>\n",
       "<div class=\"nav_cont\" id=\"nav_cont\">\n",
       "<ul class=\"nav_list\">\n",
       "<li><a href=\"https://www.donga.com/news/Health\">헬스동아</a></li>\n",
       "<li><a href=\"https://www.donga.com/news/Opinion\">오피니언</a></li>\n",
       "<li><a href=\"https://www.donga.com/news/Politics\">정치</a></li>\n",
       "<li><a href=\"https://www.donga.com/news/Economy\">경제</a></li>\n",
       "<li><a href=\"https://www.donga.com/news/Inter\">국제</a></li>\n",
       "<li><a href=\"https://www.donga.com/news/Society\">사회</a></li>\n",
       "<li><a href=\"https://www.donga.com/news/Culture\">문화</a></li>\n",
       "<li><a href=\"https://www.donga.com/news/Entertainment\">연예</a></li>\n",
       "<li><a href=\"https://www.donga.com/news/Sports\">스포츠</a></li>\n",
       "<li><a href=\"https://magazine.donga.com\" target=\"_blank\">매거진</a></li>\n",
       "</ul>\n",
       "</div></div></header> <div id=\"all_menu\">\n",
       "<div class=\"sitemap_box\">\n",
       "<dl class=\"left\">\n",
       "<dt class=\"first\"><a href=\"https://www.donga.com/news/Opinion\">오피니언</a></dt>\n",
       "<dd><a href=\"https://www.donga.com/news/Series/70040100000001\">사설</a></dd>\n",
       "<dd><a href=\"https://www.donga.com/news/Series/70040100000009\">오늘과 내일</a></dd>\n",
       "<dd><a href=\"https://www.donga.com/news/Series/70040100000002\">횡설수설</a></dd>\n",
       "<dd><a href=\"https://www.donga.com/news/Series/70040100000019\">동아광장</a></dd>\n",
       "<dd><a href=\"https://www.donga.com/news/Series/70040100000018\">시론</a></dd>\n",
       "<dd><a href=\"https://www.donga.com/news/Series/70040100000034\">광화문에서</a></dd>\n",
       "<dd><a href=\"https://www.donga.com/news/Series/70010000000260\">현장에서</a></dd>\n",
       "</dl>\n",
       "<dl>\n",
       "<dt class=\"first\">뉴스</dt>\n",
       "<dd><a href=\"https://www.donga.com/news/Politics\">정치</a></dd>\n",
       "<dd><a href=\"https://www.donga.com/news/Economy\">경제</a></dd>\n",
       "<dd><a href=\"https://www.donga.com/news/Inter\">국제</a></dd>\n",
       "<dd><a href=\"https://www.donga.com/news/Society\">사회</a></dd>\n",
       "<dd><a href=\"https://www.donga.com/news/Culture\">문화</a></dd>\n",
       "<dd><a href=\"https://www.donga.com/news/Entertainment\">연예</a></dd>\n",
       "<dd><a href=\"https://www.donga.com/news/Sports\">스포츠</a></dd>\n",
       "</dl>\n",
       "<dl>\n",
       "<dt class=\"first\">매거진</dt>\n",
       "<dd><a href=\"https://shindonga.donga.com\" target=\"_blank\">신동아</a></dd>\n",
       "<dd><a href=\"https://weekly.donga.com\" target=\"_blank\">주간동아</a></dd>\n",
       "<dd><a href=\"https://woman.donga.com\" target=\"_blank\">여성동아</a></dd>\n",
       "<dd><a href=\"https://magazine.donga.com\" target=\"_blank\">매거진동아</a></dd>\n",
       "<dd><a href=\"https://dbr.donga.com/?src=image&amp;kw=000011\" target=\"_blank\">동아비즈니스리뷰</a></dd>\n",
       "<dd><a href=\"https://www.hbrkorea.com\" target=\"_blank\">하버드비즈니스<br/>리뷰코리아</a></dd>\n",
       "</dl>\n",
       "<dl>\n",
       "<dd><a href=\"https://kids.donga.com\" target=\"_blank\">어린이동아</a></dd>\n",
       "<dd><a href=\"http://www.scienceboard.co.kr\" target=\"_blank\">과학동아</a></dd>\n",
       "<dd><a href=\"https://kids.dongascience.com\" target=\"_blank\">어린이 과학동아</a></dd>\n",
       "<dd><a href=\"http://www.polymath.co.kr\" target=\"_blank\">수학동아</a></dd>\n",
       "<dd><a href=\"http://edu.donga.com\" target=\"_blank\">에듀동아</a></dd>\n",
       "</dl>\n",
       "<dl>\n",
       "<dt class=\"first\">섹션</dt>\n",
       "<dd><a href=\"https://www.donga.com/news/Section/Books\">책의 향기</a></dd>\n",
       "<dd><a href=\"https://www.donga.com/news/Section/stylemagazineQ\">스타일매거진Q</a></dd>\n",
       "<dd><a href=\"https://www.donga.com/news/Section/Goldengirl\">골든걸</a></dd>\n",
       "<dd><a href=\"https://www.donga.com/news/Section/Funnystudy\">edu+</a></dd>\n",
       "<dt class=\"line\"><a href=\"https://original.donga.com\">디 오리지널</a></dt>\n",
       "<dt><a href=\"https://www.donga.com/news/Health\">헬스동아</a></dt>\n",
       "</dl>\n",
       "<dl>\n",
       "<dd><a href=\"https://www.donga.com/news/List\">실시간 뉴스</a></dd>\n",
       "<dd><a href=\"https://www.donga.com/news/Hotissue\">이슈 포인트</a></dd>\n",
       "<dd><a href=\"https://www.donga.com/news/Hotseries\">연재 포인트</a></dd>\n",
       "<dd><a href=\"https://www.donga.com/news/TrendNews\">트렌드뉴스</a></dd>\n",
       "<dt><a href=\"https://www.donga.com/news/Newsletter\">뉴스레터 신청</a></dt>\n",
       "<dt><a href=\"https://www.donga.com/Journalist\">기자 구독</a></dt>\n",
       "<dt class=\"app line\"><a href=\"https://web.donga.com/lab\">동아APP서비스</a></dt>\n",
       "</dl>\n",
       "<dl>\n",
       "<dd><a href=\"https://www.donga.com/news\">오늘의신문</a></dd>\n",
       "<dd><a href=\"https://www.donga.com/news/Pdf\">신문보기(PDF)</a></dd>\n",
       "<dd><a href=\"https://readers.donga.com\">구독신청</a></dd>\n",
       "<dd><a href=\"https://www.donga.com/news/Economy/List_0120\">보도자료</a></dd>\n",
       "<dd><a href=\"https://voice.donga.com\">보이스뉴스</a></dd>\n",
       "<dd><a href=\"https://rss.donga.com\">RSS</a></dd>\n",
       "<dd><a href=\"http://dbs.donga.com\" target=\"_blank\">동아방송 DBS</a></dd>\n",
       "</dl>\n",
       "<dl>\n",
       "<dd><a href=\"https://www.ichannela.com\" target=\"_blank\">채널A</a></dd>\n",
       "<dd><a href=\"https://sports.donga.com\" target=\"_blank\">스포츠동아</a></dd>\n",
       "<dd class=\"first\"><a href=\"https://bizn.donga.com\">비즈N</a></dd>\n",
       "<dd><a href=\"https://mlbpark.donga.com\" target=\"_blank\">MLB파크</a></dd>\n",
       "<dd><a href=\"https://studio.donga.com\" target=\"_blank\">보스</a></dd>\n",
       "<dd><a href=\"https://voda.donga.com\" target=\"_blank\">VODA</a></dd>\n",
       "<dd><a href=\"https://it.donga.com\" target=\"_blank\">IT동아</a></dd>\n",
       "<dd><a href=\"https://game.donga.com\" target=\"_blank\">게임동아</a></dd>\n",
       "</dl>\n",
       "</div>\n",
       "</div>\n",
       "<div class=\"subPage\" id=\"container\"><div class=\"politics\" id=\"content\"><div class=\"top_submenu\"><h2 class=\"title\">사회</h2><ul class=\"submenu_list\"><li><a href=\"https://www.donga.com/news/Society/List\">최신기사</a></li><li><a href=\"https://www.donga.com/news/Series/70030000000919\">법조 Zoom In</a></li><li><a href=\"https://www.donga.com/news/Series/70030000000923\">사건 Zoom In</a></li><li><a href=\"https://www.donga.com/news/Society/Edu\">교육</a></li><li><a href=\"https://www.donga.com/news/Society/Labor\">노동</a></li><li><a href=\"https://www.donga.com/news/Society/Event\">사건사고</a></li></ul></div> <div class=\"section_top\">\n",
       "<div class=\"edited_article\">\n",
       "<div class=\"article_top\"><div class=\"thumb\"><span><a href=\"https://www.donga.com/news/Politics/article/all/20221024/116128675/2\"><img alt=\"유동규 “진짜 형들인 줄 알았는데사람이 제일 무섭다”\" src=\"https://dimg.donga.com/a/510/286/90/1/wps/NEWS/FEED/Top_Society_2013/116128675.2.thumb.jpg\"/></a></span></div> <div class=\"cont_info\"> <span class=\"title\"> <a href=\"https://www.donga.com/news/Politics/article/all/20221024/116128675/2\">                                    유동규 “진짜 형들인 줄 알았는데<br/>사람이 제일 무섭다”                                </a> </span> <span class=\"txt\"> <span class=\"t_in\"> <a href=\"https://www.donga.com/news/Politics/article/all/20221024/116128675/2\">이재명 더불어민주당 대표와 그 최측근들을 향한 폭로전을 이어가고 있는 유동규 전 성남도시개발공사 사장 직무대리가 24일 “감옥 안에서 세상에 무서운 건 아무것도 없다는 걸 깨달았다. 사람이 제일 무섭다”고 심경을 밝혔다.  유 전 직무대리는 이날 오후 ‘대장동 사건’ 재판이 열린 서울중앙지법 서관 후문에서 기자들과 만나 “1년의 수감생활 동안 생각한 게 참 많았다”며 “아무도 접견하지 않았는데 긴가민가했던 일들이 나와 보니 확신이 됐다”면서 이같이 말했다.  그는 “마음적으로 많이 다쳤다”며 “저는 진짜 형들인 줄 생각했다. ‘의리’하면 또 장비(자신을 지칭) 아니겠나. 그렇게 생각했는데 ‘내가 그럴 아무런 이유가 없었구나’를 깨달았다”고 했다.  여기서 언급된 ‘형들’이 누구인지 특정되진 않았지만, 10여 년간 함께 일한 이 대표와 김용 민주연구원 부원장, 정진상 민주당 대표실 정무조정실장 등을 가리키는 것으로 해석됐다.  유 전 직무대리는 “이제 내 것만 하면 되니까 마음이 되게 평화롭고 홀가분하다”</a> </span> </span> </div> </div>\n",
       "<div class=\"article_sub\">\n",
       "<ul class=\"sub_list\">\n",
       "<li><div class=\"thumb\"><span><a href=\"https://www.donga.com/news/Society/article/all/20221024/116128161/2\"><img alt=\"복지부 고위공무원이 지하철서 불법촬영…잠복경찰에 ‘덜미’\" src=\"https://dimg.donga.com/a/250/152/90/1/wps/NEWS/FEED/Top_Society_2013/116128161.2.thumb.jpg\"/></a></span></div><div class=\"txt\"><span class=\"txt_in\"><a href=\"https://www.donga.com/news/Society/article/all/20221024/116128161/2\">복지부 고위공무원이 지하철서<br/> 불법촬영…잠복경찰에 ‘덜미’</a></span></div></li><li><div class=\"thumb\"><span><a href=\"https://www.donga.com/news/Society/article/all/20221024/116128536/1\"><img alt=\"‘12cm 눈 쌓인’ 설악산, 대설주의보로 탐방로 통제\" src=\"https://dimg.donga.com/a/250/152/90/1/wps/NEWS/FEED/Top_Society_2013/116128536.1.thumb.jpg\"/></a></span></div><div class=\"txt\"><span class=\"tit\"><a href=\"https://www.donga.com/news/Society/article/all/20221024/116128536/1\">청계천 옆 사진관</a></span><span class=\"txt_in\"><a href=\"https://www.donga.com/news/Society/article/all/20221024/116128536/1\">‘12cm 눈 쌓인’ 설악산, <br/>대설주의보로 탐방로 통제</a></span></div></li>\n",
       "</ul>\n",
       "</div>\n",
       "</div>\n",
       "</div>\n",
       "<div class=\"section_mid\">\n",
       "<div class=\"section_con\">\n",
       "<!-- 토픽 -->\n",
       "<div class=\"topic\">\n",
       "<h3 class=\"title\">토픽</h3>\n",
       "<ul class=\"topic_list\" id=\"topic_list\">\n",
       "<li><span class=\"tit\"><a href=\"https://www.donga.com/news/Series/70030000000929\">접종의 책임</a></span><div class=\"thumb_img\"><a href=\"https://www.donga.com/news/Society/article/all/20220706/114308688/1\"><img alt=\"[단독]장례뒤 보건소서 “부검했나” 물어… 유족 “화장했는데 이제 와서”\" src=\"https://dimg.donga.com/a/260/146/90/1/wps/NEWS/IMAGE/2022/07/06/114308629.1.jpg\"/></a></div><div class=\"cont_info\"><a href=\"https://www.donga.com/news/Society/article/all/20220706/114308688/1\"><span class=\"desc\">장례뒤 보건소서 “부검했나” 물어… 유족 “화장했는데 이제 와서”</span></a></div></li><li><span class=\"tit\"><a href=\"https://www.donga.com/news/Series/70000000000667\">민선8기 광역단체장에게 듣는다</a></span><div class=\"thumb_img\"><a href=\"https://www.donga.com/news/Society/article/all/20220920/115531104/1\"><img alt=\"“제주에 반도체 클러스터 조성… 청정자원 활용 ‘워케이션’ 성지로”\" src=\"https://dimg.donga.com/a/260/146/90/1/wps/NEWS/IMAGE/2022/09/20/115531773.1.jpg\"/></a></div><div class=\"cont_info\"><a href=\"https://www.donga.com/news/Society/article/all/20220920/115531104/1\"><span class=\"desc\">“제주에 반도체 클러스터 조성… 청정자원 활용 ‘워케이션’ 성지로”</span></a></div></li><li><span class=\"tit\"><a href=\"https://www.donga.com/news/Series/70080000000358\">담배 이제는 OUT!</a></span><div class=\"thumb_img\"><a href=\"https://www.donga.com/news/It/article/all/20220922/115570721/1\"><img alt=\"“영상 보고 입문했어요”… 전자담배 홍보영상 청소년도 볼 수 있다\" src=\"https://dimg.donga.com/a/260/146/90/1/wps/NEWS/IMAGE/2022/09/22/115570718.2.jpg\"/></a></div><div class=\"cont_info\"><a href=\"https://www.donga.com/news/It/article/all/20220922/115570721/1\"><span class=\"desc\">“영상 보고 입문했어요”… 전자담배 홍보영상 청소년도 볼 수 있다</span></a></div></li><li><span class=\"tit\"><a href=\"https://www.donga.com/news/Issue/03010000000015\">만 5세 취학 논란</a></span><div class=\"thumb_img\"><a href=\"https://www.donga.com/news/Society/article/all/20220818/115013550/1\"><img alt=\"유치원 교사 95% “만5세 입학 대안은 유치원 의무교육”\" src=\"https://dimg.donga.com/a/260/146/90/1/wps/NEWS/IMAGE/2022/08/18/115013205.2.jpg\"/></a></div><div class=\"cont_info\"><a href=\"https://www.donga.com/news/Society/article/all/20220818/115013550/1\"><span class=\"desc\">유치원 교사 95% “만5세 입학 대안은 유치원 의무교육”</span></a></div></li><li><span class=\"tit\"><a href=\"https://www.donga.com/news/Series/70030000000924\">보행자에 진심인 사회로</a></span><div class=\"thumb_img\"><a href=\"https://www.donga.com/news/Society/article/all/20221018/116016565/1\"><img alt=\"차도 폭 좁히는 미니정원… 주민들이 직접 ‘걷고싶은 환경’ 디자인\" src=\"https://dimg.donga.com/a/260/146/90/1/wps/NEWS/IMAGE/2022/10/18/116016555.1.jpg\"/></a></div><div class=\"cont_info\"><a href=\"https://www.donga.com/news/Society/article/all/20221018/116016565/1\"><span class=\"desc\">차도 폭 좁히는 미니정원… 주민들이 직접 ‘걷고싶은 환경’ 디자인</span></a></div></li><li><span class=\"tit\"><a href=\"https://www.donga.com/news/Series/70040100000276\">인사이드&amp;인사이트</a></span><div class=\"thumb_img\"><a href=\"https://www.donga.com/news/Opinion/article/all/20221023/116111986/1\"><img alt=\"“공매도가 주가하락 유발? 실증적 근거-이론 없어”[인사이드＆인사이트/빈기범]\" src=\"https://dimg.donga.com/a/260/146/90/1/wps/NEWS/IMAGE/2022/10/23/116111974.1.jpg\"/></a></div><div class=\"cont_info\"><a href=\"https://www.donga.com/news/Opinion/article/all/20221023/116111986/1\"><span class=\"desc\">“공매도가 주가하락 유발? 실증적 근거-이론 없어”</span></a></div></li>\n",
       "</ul>\n",
       "</div>\n",
       "<div class=\"cntPageBox\">\n",
       "<div class=\"cntPage\"><h3 class=\"title\">최신기사</h3></div>\n",
       "<div class=\"dongaArticle\">\n",
       "<a class=\"\" href=\"javascript:;\"><span>지면기사만 보기</span>지면기사만 보기</a>\n",
       "</div>\n",
       "<script>\n",
       "                $(document).ready(function(){\n",
       "                    $(\".dongaArticle a\").click(function(){\n",
       "                        $(this).toggleClass(\"on\");\n",
       "                        if ( $(\".dongaArticle a\").attr('class') == \"on\") $(location).attr('href', '?ymd=&m=NP');\n",
       "                        else  $(location).attr('href', '?ymd=');\n",
       "                    });\n",
       "                });\n",
       "                function PDFView(vcid)\n",
       "                {\n",
       "                    var pdfWin = window.open('https://web.donga.com/pdf/pdf_viewer.php?vcid='+vcid, 'pdfWin','scrollbars=yes resizable toolbars=no');\n",
       "\n",
       "                    try {\n",
       "                        pdfWin.focus();\n",
       "                    } catch(e) {}\n",
       "                }\n",
       "            </script>\n",
       "</div><div class=\"articleList article_list\"><div class=\"thumb\"><a href=\"https://www.donga.com/news/Society/article/all/20221024/116125714/1\"><img alt=\"서울 대형 쇼핑몰에 ’독도체험관’?[퇴근길 한 컷]\" src=\"https://dimg.donga.com/a/200/113/95/2/wps/NEWS/IMAGE/2022/10/24/116125712.1.jpg\"/><span></span></a></div><div class=\"rightList\"><span class=\"tit\"><a href=\"https://www.donga.com/news/Society/article/all/20221024/116125714/1\">서울 대형 쇼핑몰에 ’독도체험관’?[퇴근길 한 컷] </a></span><span class=\"txt\"><a href=\"https://www.donga.com/news/Society/article/all/20221024/116125714/1\">‘독도의 날’을 하루 앞둔 24일 오전 서울 영등포구 타임스퀘어에서 ‘독도체험관'을 공개했습니다.    독도체험관은 2012년 서대문에 개관했다가 이번에 영등포 타임스퀘어로 확장·이전했습니다. '우리 삶의 터전인 독도'를 주제로 △독도의 현재 △독도의 역사 △독도의 자연 △독도의 미래…</a></span><span class=\"date\">2022-10-24 16:14</span></div></div><div class=\"articleList article_list\"><div class=\"thumb\"><a href=\"https://www.donga.com/news/Society/article/all/20221024/116125645/1\"><img alt=\"한동훈 “尹과 청담동서 술자리? 자괴감 느껴…장관직 걸겠다”\" src=\"https://dimg.donga.com/a/200/113/95/2/wps/NEWS/IMAGE/2022/10/24/116125547.2.jpg\"/><span></span></a></div><div class=\"rightList\"><span class=\"tit\"><a href=\"https://www.donga.com/news/Society/article/all/20221024/116125645/1\">한동훈 “尹과 청담동서 술자리? 자괴감 느껴…장관직 걸겠다” </a></span><span class=\"txt\"><a href=\"https://www.donga.com/news/Society/article/all/20221024/116125645/1\">한동훈 법무부 장관은 윤석열 대통령 등과 술자리를 가진 적이 없으며 “”법무부 장관직을 포함해 앞으로 어떤 공직이라도 다 걸겠다. 의원님은 뭘 걸겠나“고 반박했다. 24일 오후 열린 국회 법제사법위원회에 출석한 한 장관은 윤 대통령, 김앤장 변호사 30여명, 이세창 전 자유총연맹 권한…</a></span><span class=\"date\">2022-10-24 16:13</span></div></div><div class=\"articleList article_list\"><div class=\"thumb\"><a href=\"https://www.donga.com/news/Society/article/all/20221024/116125358/1\"><img alt=\"이상민 ‘카카오 먹통’ 계기 “재난 대응 매뉴얼 연말까지 제작”\" src=\"https://dimg.donga.com/a/200/113/95/2/wps/NEWS/IMAGE/2022/10/24/116125345.2.jpg\"/><span></span></a></div><div class=\"rightList\"><span class=\"tit\"><a href=\"https://www.donga.com/news/Society/article/all/20221024/116125358/1\">이상민 ‘카카오 먹통’ 계기 “재난 대응 매뉴얼 연말까지 제작” </a></span><span class=\"txt\"><a href=\"https://www.donga.com/news/Society/article/all/20221024/116125358/1\">이상민 행정안전부 장관이 판교 SK C&amp;C 데이터센터 화재로 카카오 등 대국민 서비스 장애가 발생한 것과 관련해 “재난대응 매뉴얼을 연말까지 제작하겠다”고 밝혔다.이 장관은 24일 국회 행정안전위원회의 종합 국정감사에서 ‘데이터센터 화재대응 매뉴얼이 없어 검토할 필요가 있다’는…</a></span><span class=\"date\">2022-10-24 16:03</span></div></div><div class=\"articleList article_list\"><div class=\"thumb\"><a href=\"https://www.donga.com/news/Society/article/all/20221024/116125242/1\"><img alt=\"‘故이예람 사건’ 중대장, 부친 증인신청…“유리한 내용만 얘기” 반발\" src=\"https://dimg.donga.com/a/200/113/95/2/wps/NEWS/IMAGE/2022/10/24/116125232.2.jpg\"/><span></span></a></div><div class=\"rightList\"><span class=\"tit\"><a href=\"https://www.donga.com/news/Society/article/all/20221024/116125242/1\">‘故이예람 사건’ 중대장, 부친 증인신청…“유리한 내용만 얘기” 반발 </a></span><span class=\"txt\"><a href=\"https://www.donga.com/news/Society/article/all/20221024/116125242/1\">고(故) 이예람 중사 사건 수사에 불법 개입한 혐의로 불구속 기소된 전익수 공군 법무실장 측이 특별검사팀이 무리한 수사를 통해 자신을 기소했다는 입장을 밝혔다.이 중사에 대한 사자명예훼손 혐의를 받는 당시 중대장은 이 중사 부친 이주완씨를 증인으로 신청하겠다는 의사를 밝혔으나 재판부와…</a></span><span class=\"date\">2022-10-24 15:59</span></div></div><div class=\"articleList article_list\"><div class=\"thumb\"><a href=\"https://www.donga.com/news/Society/article/all/20221024/116125171/1\"><img alt=\"승용차에 고의로 부딪혀 12차례 합의금 뜯은 20대女 입건\" src=\"https://dimg.donga.com/a/200/113/95/2/wps/NEWS/IMAGE/2022/10/24/116125129.2.jpg\"/><span></span></a></div><div class=\"rightList\"><span class=\"tit\"><a href=\"https://www.donga.com/news/Society/article/all/20221024/116125171/1\">승용차에 고의로 부딪혀 12차례 합의금 뜯은 20대女 입건 </a></span><span class=\"txt\"><a href=\"https://www.donga.com/news/Society/article/all/20221024/116125171/1\">경북 포항남부경찰서는 24일 일부러 차에 몸을 부딪혀 금품을 뜯은 혐의(보험사기방지특별법 위반)로 20대 여성 A씨를 불구속 입건했다.   부딪히는 일명(손목치기)수법으로 합의금 명목으로 금품을 뜯은 20대 여성 A씨를 보험사기방지특별법위반 혐의로 불구속했다.  A씨는 2013년 2월…</a></span><span class=\"date\">2022-10-24 15:56</span></div></div><div class=\"articleList article_list\"><div class=\"thumb\"><a href=\"https://www.donga.com/news/Society/article/all/20221024/116125059/1\"><img alt=\"지하철서 불법촬영, 잠복경찰에 딱 걸려…잡고보니 고위공무원\" src=\"https://dimg.donga.com/a/200/113/95/2/wps/NEWS/IMAGE/2022/10/24/116124896.2.jpg\"/><span></span></a></div><div class=\"rightList\"><span class=\"tit\"><a href=\"https://www.donga.com/news/Society/article/all/20221024/116125059/1\">지하철서 불법촬영, 잠복경찰에 딱 걸려…잡고보니 고위공무원 </a></span><span class=\"txt\"><a href=\"https://www.donga.com/news/Society/article/all/20221024/116125059/1\">보건복지부 고위 공무원이 지하철 승강장에서 여성을 불법 촬영한 혐의로 경찰에 체포됐다. 복지부는 해당 공무원을 직위해제한 뒤 징계 절차를 밟고 있다.   24일 경찰과 복지부에 따르면 서울경찰청 지하철경찰대는 지난 12일 성폭력범죄의 처벌 등에 관한 특례법 위반(카메라 등 이용 촬영)…</a></span><span class=\"date\">2022-10-24 15:53</span></div></div><div class=\"articleList article_list\"><div class=\"thumb\"><a href=\"https://www.donga.com/news/It/article/all/20221024/116125031/1\"><img alt=\"강원북부산지 대설주의보 해제…입산통제는 계속\" src=\"https://dimg.donga.com/a/200/113/95/2/wps/NEWS/IMAGE/2022/10/24/116125011.2.jpg\"/><span></span></a></div><div class=\"rightList\"><span class=\"tit\"><a href=\"https://www.donga.com/news/It/article/all/20221024/116125031/1\">강원북부산지 대설주의보 해제…입산통제는 계속 </a></span><span class=\"txt\"><a href=\"https://www.donga.com/news/It/article/all/20221024/116125031/1\">기상청은 24일 오후 3시를 기해 강원북부산지에 발효된 대설주의보를 해제한다고 밝혔다.  대설주의보는 24시간 동안 눈이 5㎝ 이상 쌓일 것으로 예측될 때 내려진다.  이날 내린 적설량은 미시령 1.9㎝, 향로봉 0.5㎝다.  한편 설악산국립공원사무소에 따르면 설악산 대청봉 등 탐방로…</a></span><span class=\"date\">2022-10-24 15:51</span></div></div><div class=\"articleList article_list\"><div class=\"thumb\"><a href=\"https://www.donga.com/news/Politics/article/all/20221024/116124930/2\"><img alt=\"“이재명 천천히 말려 죽일 것”…유동규, 추가 폭로 예고\" src=\"https://dimg.donga.com/a/200/113/95/2/wps/NEWS/IMAGE/2022/10/24/116124786.2.jpg\"/><span></span></a></div><div class=\"rightList\"><span class=\"tit\"><a href=\"https://www.donga.com/news/Politics/article/all/20221024/116124930/2\">“이재명 천천히 말려 죽일 것”…유동규, 추가 폭로 예고 </a></span><span class=\"txt\"><a href=\"https://www.donga.com/news/Politics/article/all/20221024/116124930/2\">검찰이 이재명 더불어민주당 대표의 최측근 김용 민주연구원 부원장의 불법 정치자금 수수 혐의를 수사 중인 가운데, 유동규 전 성남도시개발공사 사장 직무대리가 이 대표와 측근들에 대한 추가 폭로를 예고했다.  유 전 직무대리는 지난 21일 한국일보 인터뷰를 통해 “10년간 쌓인 게 너무 …</a></span><span class=\"date\">2022-10-24 15:42</span></div></div><div class=\"articleList article_list\"><div class=\"thumb\"><a href=\"https://www.donga.com/news/Society/article/all/20221024/116124694/1\"><img alt=\"경찰 “국과수 정밀감정 통해 평택 SPL공장 근로자 사망원인 밝힐 것”\" src=\"https://dimg.donga.com/a/200/113/95/2/wps/NEWS/IMAGE/2022/10/24/116124157.2.jpg\"/><span></span></a></div><div class=\"rightList\"><span class=\"tit\"><a href=\"https://www.donga.com/news/Society/article/all/20221024/116124694/1\">경찰 “국과수 정밀감정 통해 평택 SPL공장 근로자 사망원인 밝힐 것” </a></span><span class=\"txt\"><a href=\"https://www.donga.com/news/Society/article/all/20221024/116124694/1\">‘평택 SPL제빵공장 산재사고’에 대한 경찰의 합동감식이 24일 종료됐다. 경기남부경찰청에 따르면 이날 오전 11시~낮 12시30분 경기 평택시 팽성읍 추팔산업단지 내 SPL제빵공장에 대한 유관기관 합동감식이 이뤄졌다. 감식에는 경찰, 국립과학수사연구원, 고용노동부, 산업안전보건공단 …</a></span><span class=\"date\">2022-10-24 15:39</span></div></div><div class=\"articleList article_list\"><div class=\"thumb\"><a href=\"https://www.donga.com/news/Society/article/all/20221024/116124482/1\"><img alt=\"유동규 측 “김용이 입원 지시…정진상 ‘검사장과 이야기됐다’고 말해”\" src=\"https://dimg.donga.com/a/200/113/95/2/wps/NEWS/IMAGE/2022/10/24/116124444.2.jpg\"/><span></span></a></div><div class=\"rightList\"><span class=\"tit\"><a href=\"https://www.donga.com/news/Society/article/all/20221024/116124482/1\">유동규 측 “김용이 입원 지시…정진상 ‘검사장과 이야기됐다’고 말해” </a></span><span class=\"txt\"><a href=\"https://www.donga.com/news/Society/article/all/20221024/116124482/1\">유동규 전 성남도시개발공사 기획본부장 측이 지난해 9월 검찰의 대장동 개발 비리 의혹 수사가 시작될 무렵 김용 민주연구원 부원장에게 체포를 피해 병원에 입원할 것을 지시했다고 24일 밝혔다. 유 전 본부장 변호인인 이상원 변호사는 이날 오후 김 부원장이 유 전 본부장에게 입원을 지시했…</a></span><span class=\"date\">2022-10-24 15:29</span></div></div><div class=\"page\"><a class=\"left\" href=\"?p=1&amp;prod=news&amp;ymd=&amp;m=\">이전</a><a href=\"?p=1&amp;prod=news&amp;ymd=&amp;m=\">1</a><a href=\"?p=11&amp;prod=news&amp;ymd=&amp;m=\">2</a><strong>3</strong><a href=\"?p=31&amp;prod=news&amp;ymd=&amp;m=\">4</a><a href=\"?p=41&amp;prod=news&amp;ymd=&amp;m=\">5</a><a href=\"?p=51&amp;prod=news&amp;ymd=&amp;m=\">6</a><a href=\"?p=61&amp;prod=news&amp;ymd=&amp;m=\">7</a><a href=\"?p=71&amp;prod=news&amp;ymd=&amp;m=\">8</a><a href=\"?p=81&amp;prod=news&amp;ymd=&amp;m=\">9</a><a href=\"?p=91&amp;prod=news&amp;ymd=&amp;m=\">10</a><a class=\"right on\" href=\"?p=101&amp;prod=news&amp;ymd=&amp;m=\">다음</a></div> <script>\n",
       "                $(document).ready(function(){\n",
       "                    $('html, body').animate({ scrollTop: $('.dongaArticle').offset().top -45}, 'fast');\n",
       "                });\n",
       "            </script> </div>\n",
       "<!-- section_con end -->\n",
       "<!-- aside -->\n",
       "<div class=\"aside_wrap\" id=\"aside\">\n",
       "<!-- 많이 본 뉴스 -->\n",
       "<div class=\"aside_article many_news\">\n",
       "<h3 class=\"title\">사회 많이 본 뉴스</h3>\n",
       "<div class=\"trend_cont\">\n",
       "<div class=\"trend_box\">\n",
       "<ol class=\"trend_list\">\n",
       "<li>\n",
       "<a href=\"https://www.donga.com/news/Society/article/all/20221024/116128675/2\">\n",
       "<span class=\"cont_info\">\n",
       "<span class=\"tit num1\">1</span>\n",
       "<span class=\"desc\"><span class=\"desc_t\"><span class=\"txt\">유동규 “진짜 형들인 줄 알았는데…사람이 제일 무섭다”</span></span></span>\n",
       "</span>\n",
       "</a>\n",
       "</li> <li>\n",
       "<a href=\"https://www.donga.com/news/Society/article/all/20221024/116123653/1\">\n",
       "<span class=\"cont_info\">\n",
       "<span class=\"tit num2\">2</span>\n",
       "<span class=\"desc\"><span class=\"desc_t\"><span class=\"txt\">[단독]대한항공 사고난 세부공항, 계기착륙시설 먹통이었다</span></span></span>\n",
       "</span>\n",
       "</a>\n",
       "</li> <li>\n",
       "<a href=\"https://www.donga.com/news/Society/article/all/20221024/116118802/2\">\n",
       "<span class=\"cont_info\">\n",
       "<span class=\"tit num3\">3</span>\n",
       "<span class=\"desc\"><span class=\"desc_t\"><span class=\"txt\">담배꽁초 버리는 앞차 촬영해 신고했더니 내게 과태료…왜?</span></span></span>\n",
       "</span>\n",
       "</a>\n",
       "</li> <li>\n",
       "<a href=\"https://www.donga.com/news/Society/article/all/20221024/116126445/1\">\n",
       "<span class=\"cont_info\">\n",
       "<span class=\"tit num4\">4</span>\n",
       "<span class=\"desc\"><span class=\"desc_t\"><span class=\"txt\">17년만에 10월 대설주의보…설악산엔 12cm 눈 쌓여</span></span></span>\n",
       "</span>\n",
       "</a>\n",
       "</li> <li>\n",
       "<a href=\"https://www.donga.com/news/Society/article/all/20221024/116121217/1\">\n",
       "<span class=\"cont_info\">\n",
       "<span class=\"tit num5\">5</span>\n",
       "<span class=\"desc\"><span class=\"desc_t\"><span class=\"txt\">‘이재명 최측근’ 정진상 출국금지…檢, 성남FC 의혹 수사</span></span></span>\n",
       "</span>\n",
       "</a>\n",
       "</li>\n",
       "</ol>\n",
       "</div>\n",
       "</div>\n",
       "</div>\n",
       "<!-- //많이 본 뉴스 -->\n",
       "<!-- 광고 -->\n",
       "<div class=\"aside_adzone02\">\n",
       "<div class=\"aside_adzone02\"><script src=\"https://image.donga.com/dac/NEWS/PC/news_view_east_top_250box.js\" type=\"text/javascript\"></script><style>.aside_hotnews {margin-top:10px;}</style></div>\n",
       "</div>\n",
       "<!-- //광고 -->\n",
       "</div>\n",
       "<!-- //aside -->\n",
       "</div></div></div>\n",
       "<!-- footer -->\n",
       "<div id=\"footer_wrap\">\n",
       "<script src=\"https://dimg.donga.com/carriage/NEWS/files/home_notice_dmg/home_notice_dmg.3.js\"></script> <div id=\"sitemap\">\n",
       "<div class=\"sitemap_box\">\n",
       "<dl class=\"left\">\n",
       "<dt class=\"first\"><a href=\"https://www.donga.com/news/Opinion\">오피니언</a></dt>\n",
       "<dd><a href=\"https://www.donga.com/news/Series/70040100000001\">사설</a></dd>\n",
       "<dd><a href=\"https://www.donga.com/news/Series/70040100000009\">오늘과 내일</a></dd>\n",
       "<dd><a href=\"https://www.donga.com/news/Series/70040100000002\">횡설수설</a></dd>\n",
       "<dd><a href=\"https://www.donga.com/news/Series/70040100000019\">동아광장</a></dd>\n",
       "<dd><a href=\"https://www.donga.com/news/Series/70040100000018\">시론</a></dd>\n",
       "<dd><a href=\"https://www.donga.com/news/Series/70040100000034\">광화문에서</a></dd>\n",
       "<dd><a href=\"https://www.donga.com/news/Series/70010000000260\">현장에서</a></dd>\n",
       "</dl>\n",
       "<dl>\n",
       "<dt class=\"first\">뉴스</dt>\n",
       "<dd><a href=\"https://www.donga.com/news/Politics\">정치</a></dd>\n",
       "<dd><a href=\"https://www.donga.com/news/Economy\">경제</a></dd>\n",
       "<dd><a href=\"https://www.donga.com/news/Inter\">국제</a></dd>\n",
       "<dd><a href=\"https://www.donga.com/news/Society\">사회</a></dd>\n",
       "<dd><a href=\"https://www.donga.com/news/Culture\">문화</a></dd>\n",
       "<dd><a href=\"https://www.donga.com/news/Entertainment\">연예</a></dd>\n",
       "<dd><a href=\"https://www.donga.com/news/Sports\">스포츠</a></dd>\n",
       "</dl>\n",
       "<dl>\n",
       "<dt class=\"first\">매거진</dt>\n",
       "<dd><a href=\"https://shindonga.donga.com\" target=\"_blank\">신동아</a></dd>\n",
       "<dd><a href=\"https://weekly.donga.com\" target=\"_blank\">주간동아</a></dd>\n",
       "<dd><a href=\"https://woman.donga.com\" target=\"_blank\">여성동아</a></dd>\n",
       "<dd><a href=\"https://magazine.donga.com\" target=\"_blank\">매거진동아</a></dd>\n",
       "<dd><a href=\"https://dbr.donga.com/?src=image&amp;kw=000011\" target=\"_blank\">동아비즈니스리뷰</a></dd>\n",
       "<dd><a href=\"https://www.hbrkorea.com\" target=\"_blank\">하버드비즈니스<br>리뷰코리아</br></a></dd>\n",
       "</dl>\n",
       "<dl>\n",
       "<dd><a href=\"https://kids.donga.com\" target=\"_blank\">어린이동아</a></dd>\n",
       "<dd><a href=\"http://www.scienceboard.co.kr\" target=\"_blank\">과학동아</a></dd>\n",
       "<dd><a href=\"https://kids.dongascience.com\" target=\"_blank\">어린이 과학동아</a></dd>\n",
       "<dd><a href=\"http://www.polymath.co.kr\" target=\"_blank\">수학동아</a></dd>\n",
       "<dd><a href=\"http://edu.donga.com\" target=\"_blank\">에듀동아</a></dd>\n",
       "</dl>\n",
       "<dl>\n",
       "<dt class=\"first\">섹션</dt>\n",
       "<dd><a href=\"https://www.donga.com/news/Section/Books\">책의 향기</a></dd>\n",
       "<dd><a href=\"https://www.donga.com/news/Section/stylemagazineQ\">스타일매거진Q</a></dd>\n",
       "<dd><a href=\"https://www.donga.com/news/Section/Goldengirl\">골든걸</a></dd>\n",
       "<dd><a href=\"https://www.donga.com/news/Section/Funnystudy\">edu+</a></dd>\n",
       "<dt class=\"line\"><a href=\"https://original.donga.com\">디 오리지널</a></dt>\n",
       "<dt><a href=\"https://www.donga.com/news/Health\">헬스동아</a></dt>\n",
       "</dl>\n",
       "<dl>\n",
       "<dd><a href=\"https://www.donga.com/news/List\">실시간 뉴스</a></dd>\n",
       "<dd><a href=\"https://www.donga.com/news/Hotissue\">이슈 포인트</a></dd>\n",
       "<dd><a href=\"https://www.donga.com/news/Hotseries\">연재 포인트</a></dd>\n",
       "<dd><a href=\"https://www.donga.com/news/TrendNews\">트렌드뉴스</a></dd>\n",
       "<dt><a href=\"https://www.donga.com/news/Newsletter\">뉴스레터 신청</a></dt>\n",
       "<dt><a href=\"https://www.donga.com/Journalist\">기자 구독</a></dt>\n",
       "<dt class=\"app line\"><a href=\"https://web.donga.com/lab\">동아APP서비스</a></dt>\n",
       "</dl>\n",
       "<dl>\n",
       "<dd><a href=\"https://www.donga.com/news\">오늘의신문</a></dd>\n",
       "<dd><a href=\"https://www.donga.com/news/Pdf\">신문보기(PDF)</a></dd>\n",
       "<dd><a href=\"https://readers.donga.com\">구독신청</a></dd>\n",
       "<dd><a href=\"https://www.donga.com/news/Economy/List_0120\">보도자료</a></dd>\n",
       "<dd><a href=\"https://voice.donga.com\">보이스뉴스</a></dd>\n",
       "<dd><a href=\"https://rss.donga.com\">RSS</a></dd>\n",
       "<dd><a href=\"http://dbs.donga.com\" target=\"_blank\">동아방송 DBS</a></dd>\n",
       "</dl>\n",
       "<dl>\n",
       "<dd><a href=\"https://www.ichannela.com\" target=\"_blank\">채널A</a></dd>\n",
       "<dd><a href=\"https://sports.donga.com\" target=\"_blank\">스포츠동아</a></dd>\n",
       "<dd class=\"first\"><a href=\"https://bizn.donga.com\">비즈N</a></dd>\n",
       "<dd><a href=\"https://mlbpark.donga.com\" target=\"_blank\">MLB파크</a></dd>\n",
       "<dd><a href=\"https://studio.donga.com\" target=\"_blank\">보스</a></dd>\n",
       "<dd><a href=\"https://voda.donga.com\" target=\"_blank\">VODA</a></dd>\n",
       "<dd><a href=\"https://it.donga.com\" target=\"_blank\">IT동아</a></dd>\n",
       "<dd><a href=\"https://game.donga.com\" target=\"_blank\">게임동아</a></dd>\n",
       "</dl>\n",
       "</div>\n",
       "</div>\n",
       "<footer id=\"footer\">\n",
       "<div class=\"footerBox\">\n",
       "<div class=\"footerNav\">\n",
       "<p>\n",
       "<strong>동아일보</strong>\n",
       "<a class=\"bgNone\" href=\"https://web.donga.com/damg/\">회사소개</a><span class=\"txt_bar\">|</span>\n",
       "<a href=\"https://www.donga.com/docs/ilbo/event/index.html\">문화스포츠사업</a><span class=\"txt_bar\">|</span>\n",
       "<a href=\"http://www.presseum.or.kr\">신문박물관</a><span class=\"txt_bar\">|</span>\n",
       "<a href=\"http://www.inchonmemorial.co.kr\">인촌기념회</a><span class=\"txt_bar\">|</span>\n",
       "<a href=\"http://www.hjpeace.or.kr\">화정 평화재단</a><span class=\"txt_bar\">|</span>\n",
       "<a href=\"https://www.donga.com/docs/ilbo/advertisement/\">신문광고안내</a><span class=\"txt_bar\">|</span>\n",
       "<a href=\"https://readers.donga.com\">구독신청</a><span class=\"txt_bar\">|</span>\n",
       "<a href=\"https://www.donga.com/docs/ilbo/svc/\">독자서비스</a><span class=\"txt_bar\">|</span>\n",
       "<a href=\"mailto:svc@donga.com\">기사제보</a><span class=\"txt_bar\">|</span>\n",
       "<a href=\"https://www.donga.com/docs/ilbo/html/01_company/company_07.htm\">정정보도 신청</a>\n",
       "</p>\n",
       "<div class=\"address\">주소: 서울특별시 종로구 청계천로 1 <span class=\"txt_bar\">|</span> ☎: 02-2020-0114 </div>\n",
       "<p>\n",
       "<strong>동아닷컴</strong>\n",
       "<a class=\"bgNone\" href=\"https://www.donga.com/docs/intro/company/aboutdonga_01.html\">회사소개</a><span class=\"txt_bar\">|</span>\n",
       "<a href=\"https://www.donga.com/docs/intro/company/ad_01.html\">광고 (인터넷, 전광판)</a><span class=\"txt_bar\">|</span>\n",
       "<a href=\"https://www.donga.com/docs/intro/company/cooperation_01.html\">제휴안내</a><span class=\"txt_bar\">|</span>\n",
       "<a href=\"http://faq.donga.com\">고객센터</a><span class=\"txt_bar\">|</span>\n",
       "<a href=\"https://secure.donga.com/membership/policy/service.php\">이용약관</a><span class=\"txt_bar\">|</span>\n",
       "<a href=\"https://secure.donga.com/membership/policy/privacy.php\"><strong>개인정보처리방침</strong></a><span class=\"txt_bar\">|</span>\n",
       "<a href=\"https://secure.donga.com/membership/policy/teenager.php\">청소년보호정책(책임자: 구민회)</a><span class=\"txt_bar\">|</span>\n",
       "<a href=\"https://www.donga.com/news/sitemap\">사이트맵</a><span class=\"txt_bar\">|</span>\n",
       "<a href=\"https://rss.donga.com/\">RSS <img alt=\"rss\" src=\"https://image.donga.com/home2011/images/footer_icon_rss.gif\"/></a>\n",
       "</p>\n",
       "</div>\n",
       "<div class=\"copyright\">\n",
       "<p class=\"address\">\n",
       "                   주소: 서울특별시 서대문구 충정로 29 <span>|</span>\n",
       "                   Tel: 02-360-0400 <span>|</span>\n",
       "                   등록번호: 서울아00741 <span>|</span>\n",
       "                   발행일자: 1996.06.18 <span>|</span>\n",
       "                   등록일자: 2009.01.16 <span>|</span>\n",
       "                   발행·편집인: 박원재\n",
       "               </p>\n",
       "<p class=\"fLogo\">\n",
       "                   Copyright by <strong>dongA.com</strong> All rights reserved.\n",
       "                   <iframe class=\"footerBanner type01\" frameborder=\"0\" scrolling=\"no\" src=\"https://image.donga.com/donga2013/html/2014_f_banner.html\" title=\"하단 배너\"></iframe>\n",
       "</p>\n",
       "</div>\n",
       "</div>\n",
       "</footer>\n",
       "</div>\n",
       "<!-- //footer -->\n",
       "<!-- 속보 ,  회원가입유도 , 구독유도 -->\n",
       "<div id=\"alarm_msg\">\n",
       "</div>\n",
       "<div id=\"subscribe_toast\">\n",
       "<div class=\"toase_cont\">\n",
       "<p class=\"txt\"></p>\n",
       "</div>\n",
       "</div>\n",
       "<!-- //속보 ,  회원가입유도 , 구독유도 -->\n",
       "<script>\n",
       "$(document).ready(function(){\n",
       "    $('#subscribe_msg').show() ;\n",
       "    $('#join_msg').show() ;\n",
       "\n",
       "    $('.right_box .btn_bookmark').click( function() {\n",
       "        $('#subscribe_toast').fadeIn(300).delay(1000).fadeOut(300);\n",
       "    });\n",
       "\n",
       "    $('.mypage_info .btn_bookmark').click( function() {\n",
       "        $('#subscribe_toast').fadeIn(300).delay(1000).fadeOut(300);\n",
       "    });\n",
       "\n",
       "    $('#popup_type03 .btn_ok').click( function() {\n",
       "        $('#subscribe_toast').fadeIn(300).delay(1000).fadeOut(300);\n",
       "    });\n",
       "});\n",
       "\n",
       "function setCookies(key, value, expire)\n",
       "{\n",
       "    var exdate = new Date();\n",
       "    exdate.setDate(exdate.getDate() + expire);\n",
       "\n",
       "    var cookie_value = escape(value) + ((expire == null) ? '' : '; expires=' + exdate.toUTCString() + \", secure: true\" );\n",
       "    document.cookie = key + '=' + cookie_value + \"; path=/; domain=donga.com;\" ;\n",
       "\n",
       "    return false;\n",
       "}\n",
       "\n",
       "function scrap(m, stype, sid, sname, position='', idx='')\n",
       "{\n",
       "    var addmsg = \"\" ;\n",
       "    var m_arr = m.split('_');\n",
       "    if (m_arr.length > 1)\n",
       "    {\n",
       "        m = m_arr[1] ;\n",
       "        addmsg = \"<br>화면을 새로고침 해주세요\" ;\n",
       "    }\n",
       "\n",
       "    $.ajax({\n",
       "        type: \"GET\",\n",
       "        url: \"https://www.donga.com/news/scrap?m=\" + m + \"&stype=\" + stype + \"&sid=\" + sid + \"&sname=\" + sname + \"&idx=\" + idx,\n",
       "        dataType: \"html\",\n",
       "        success: function (result) {\n",
       "            if (m == 'myinfo')\n",
       "            {\n",
       "                $(\".subscribe_tit\").html(result);\n",
       "                $(\".left_info .btn_more\").show();\n",
       "            }\n",
       "            else\n",
       "            {\n",
       "                if (result == 'NeedLogin')\n",
       "                {\n",
       "                    var targetUrl = \"https://secure.donga.com/membership/login.php?gourl=https%3A%2F%2Fwww.donga.com%2Fnews%2FSociety%3Fp%3D21%26prod%3Dnews%26ymd%3D%26m%3D\" ;\n",
       "                    location.href = targetUrl ;\n",
       "                }\n",
       "                else if (result == 'blockedkeyword' )\n",
       "                {\n",
       "                    $(\"#subscribe_toast .txt\").html(\"<span class='tit'>비속어나 금지어가 사용되었습니다</span>\");\n",
       "                    $(\".subscribe_tit .subscribe_box > div\").last().css( \"display\", \"none\" );\n",
       "                }\n",
       "                else\n",
       "                {\n",
       "                    var my_gudokcnt = parseInt($('#my_gudokcnt').text()) ;\n",
       "\n",
       "                    var reporter_on_chk = \"\" ;\n",
       "                    var ga_sname = \"\" ;\n",
       "                    if (stype == 'reporter')\n",
       "                    {\n",
       "                        ga_sname = sname + \"(\" + sid + \")\" ;\n",
       "                        sname = sname + \" 기자\" ;\n",
       "                        var sidTmp = sid.replace('@', '') ;\n",
       "                        sid = sidTmp.replace('.', '') ;\n",
       "                        reporter_on_chk = $('#btn_'+sid).hasClass(\"on\");\n",
       "                    }\n",
       "                    else if (stype == 'keyword')\n",
       "                    {\n",
       "                        ga_sname = sname ;\n",
       "                        sname = sname + \" 키워드\" ;\n",
       "                    }\n",
       "\n",
       "                    if (result == 'insert' && stype == 'keyword')\n",
       "                    {\n",
       "                        $(\"#subscribe_toast .txt\").html(\"<span class='tit'>\"+sname+\"</span> 구독이 <span class='application'>완료</span> 되었습니다\");\n",
       "                        $('#my_gudokcnt').text(my_gudokcnt+1);\n",
       "\n",
       "                        if (position == '' )\n",
       "                        {\n",
       "                            window.dataLayer = window.dataLayer || [];\n",
       "                            window.dataLayer.push({\n",
       "                            'event' : 'subscription',\n",
       "                            'eventCategory' : 'subscribe',\n",
       "                            'eventAction' : 'complete : subscribe btn',\n",
       "                            'eventLabel' : stype + '_' + ga_sname\n",
       "                            });\n",
       "                        }\n",
       "                    }\n",
       "                    else if (result == 'insert')\n",
       "                    {\n",
       "                        $(\"#subscribe_toast .txt\").html(\"<span class='tit'>\"+sname+\"</span> 구독이 <span class='application'>완료</span> 되었습니다 \" + addmsg);\n",
       "                        $(\"#btn_subscribe .txt\").html(\"<span class='icon_subscribe'>구독중</span>\");\n",
       "                        $('#btn_subscribe').addClass(\"on\");\n",
       "\n",
       "                        if (reporter_on_chk == false) $('#bottom_btn_subscribe').addClass(\"on\");\n",
       "                        $('#my_gudokcnt').text(my_gudokcnt+1);\n",
       "\n",
       "                        if (position == '' )\n",
       "                        {\n",
       "                            if (stype == 'reporter') sname = ga_sname ;\n",
       "                            window.dataLayer = window.dataLayer || [];\n",
       "                            window.dataLayer.push({\n",
       "                            'event' : 'subscription',\n",
       "                            'eventCategory' : 'subscribe',\n",
       "                            'eventAction' : 'complete : subscribe btn',\n",
       "                            'eventLabel' : stype + '_' + sname\n",
       "                            });\n",
       "                        }\n",
       "                    }\n",
       "                    else if (result == 'delete')\n",
       "                    {\n",
       "                        $(\"#subscribe_toast .txt\").html(\"<span class='tit'>\"+sname+\"</span> 구독이 <span class='application'>취소</span> 되었습니다\");\n",
       "                        $(\"#btn_subscribe .txt\").html(\"<span class='icon_subscribe'>구독</span>\");\n",
       "                        $('#btn_subscribe').removeClass(\"on\");\n",
       "                        $('#bottom_btn_subscribe').removeClass(\"on\");\n",
       "                        $('#my_gudokcnt').text(my_gudokcnt-1);\n",
       "                    }\n",
       "                    else if (result == 'update')\n",
       "                    {\n",
       "                        $(\"#subscribe_toast .txt\").html(\"<span class='tit'>수정 되었습니다</span>\");\n",
       "                    }\n",
       "                    else if (result == 'duplicate')\n",
       "                    {\n",
       "                        $(\"#subscribe_toast .txt\").html(\"<span class='tit'>이미 저장 되었습니다</span>\");\n",
       "                        $(\".subscribe_tit .subscribe_box > div\").last().css( \"display\", \"none\" );\n",
       "                    }\n",
       "                    else if (result == 'found')\n",
       "                    {\n",
       "                        $('#btn_'+sid).addClass(\"on\");\n",
       "                    }\n",
       "                    else if (result == 'full')\n",
       "                    {\n",
       "                        $(\"#subscribe_toast .txt\").html(\"<span class='tit'>구독 수를 초과했습니다 <br> 삭제 후 구독 해주세요</span>\");\n",
       "                        $(\".subscribe_tit .subscribe_box > div\").last().css( \"display\", \"none\" );\n",
       "                    }\n",
       "                }\n",
       "            }\n",
       "            if (m != 'select' && m != 'myinfo')\n",
       "            {\n",
       "                $('#subscribe_toast').fadeIn(300).delay(1300).fadeOut(300);\n",
       "            }\n",
       "        }\n",
       "    });\n",
       "\n",
       "    return false;\n",
       "}\n",
       "\n",
       "function bookmark(m, stype, idx)\n",
       "{\n",
       "    $.ajax({\n",
       "        type: \"GET\",\n",
       "        url: \"https://www.donga.com/news/scrap?m=\" + m + \"&stype=\" + stype + \"&idx=\" + idx,\n",
       "        dataType: \"html\",\n",
       "        success: function (result) {\n",
       "\n",
       "            if (result == 'NeedLogin')\n",
       "            {\n",
       "                var targetUrl = \"https://secure.donga.com/membership/login.php?gourl=https%3A%2F%2Fwww.donga.com%2Fnews%2FSociety%3Fp%3D21%26prod%3Dnews%26ymd%3D%26m%3D\" ;\n",
       "                location.href = targetUrl ;\n",
       "            }\n",
       "            else\n",
       "            {\n",
       "                var my_bookmarkcnt = parseInt($('#my_bookmarkcnt').text()) ;\n",
       "\n",
       "                if (result == 'insert')\n",
       "                {\n",
       "                    $(\"#subscribe_toast .txt\").html(\"<span class='tit'>북마크가 등록 되었습니다</span>\");\n",
       "                    $('#btn_bookmark').addClass(\"on\");\n",
       "\n",
       "                    var gidTmp = idx.slice(-11);\n",
       "                    var gid = gidTmp.slice(0, -2);\n",
       "                    $('#bookmark_li_'+gid+' .icon_bookmark').addClass(\"on\");\n",
       "                    $('#my_bookmarkcnt').text(my_bookmarkcnt+1);\n",
       "\n",
       "                    var bookmark_tit = $('#bookmark_li_'+gid+' .cont_info .tit').text() ;\n",
       "                    var ga_tit = \"\" ;\n",
       "                    if (ga_tit == '') ga_tit = bookmark_tit ;\n",
       "\n",
       "                    window.dataLayer = window.dataLayer || [];\n",
       "                    window.dataLayer.push({\n",
       "                    'event' : 'subscription',\n",
       "                    'eventCategory' : 'content interaction',\n",
       "                    'eventAction' : 'click: article bookmark',\n",
       "                    'eventLabel' : ga_tit\n",
       "                    });\n",
       "                }\n",
       "                else if (result == 'delete')\n",
       "                {\n",
       "                    $(\"#subscribe_toast .txt\").html(\"<span class='tit'>북마크가 해제 되었습니다</span>\");\n",
       "                    $('#btn_bookmark').removeClass(\"on\");\n",
       "\n",
       "                    var gidTmp = idx.slice(-11);\n",
       "                    var gid = gidTmp.slice(0, -2);\n",
       "                    $('#bookmark_li_'+gid+' .icon_bookmark').removeClass(\"on\");\n",
       "                    $('#my_bookmarkcnt').text(my_bookmarkcnt-1);\n",
       "                    //$('#bookmark_li_'+gid).remove();\n",
       "                }\n",
       "                else if (result == 'delete_all')\n",
       "                {\n",
       "                    $(\"#popup_type01\").hide();\n",
       "                    $(\"#fullScreenPopupLayer\").hide();\n",
       "                    $(\"#subscribe_toast .txt\").html(\"<span class='tit'>북마크가 모두 삭제 되었습니다</span>\");\n",
       "\n",
       "                    setInterval(function() { location.reload(); }, 1000);\n",
       "                }\n",
       "                else if (result == 'found')\n",
       "                {\n",
       "                    $('#btn_bookmark').addClass(\"on\");\n",
       "                    $('.icon_bookmark').addClass(\"on\");\n",
       "                }\n",
       "                else if (result == 'full')\n",
       "                {\n",
       "                    $(\"#subscribe_toast .txt\").html(\"<span class='tit'>북마크 수를 초과했습니다 <br> 삭제 후 북마크 등록 해주세요</span>\");\n",
       "                }\n",
       "            }\n",
       "        }\n",
       "    });\n",
       "    return false;\n",
       "}\n",
       "</script>\n",
       "<script src=\"https://dimg.donga.com/carriage/NEWS/cron/breakNews/breakNews.pc.js?t=202210242107\" type=\"text/javascript\"></script>\n",
       "</div>\n",
       "<!-- //wrap -->\n",
       "</body>\n",
       "</html>\n",
       "<script>var _GCD = '3'; </script><script src=\"https://dimg.donga.com/acecounter/acecounter_V70.20130719.js\"></script><script>_PL('news.donga.com/Society?p=21&prod=news&ymd=&m=');</script>"
      ]
     },
     "execution_count": 131,
     "metadata": {},
     "output_type": "execute_result"
    }
   ],
   "source": [
    "html"
   ]
  },
  {
   "cell_type": "code",
   "execution_count": 125,
   "metadata": {},
   "outputs": [],
   "source": [
    "news_list=html.findAll(\"span\",attrs={'class': 'tit'})"
   ]
  },
  {
   "cell_type": "code",
   "execution_count": 135,
   "metadata": {},
   "outputs": [],
   "source": [
    "news_link_list=[]\n",
    "for i in news_list:\n",
    "    if i.a:\n",
    "        if \"Society/article\" in str(i.a.attrs['href']):\n",
    "            news_link_list.append(str(i.a.attrs['href']))"
   ]
  },
  {
   "cell_type": "code",
   "execution_count": 136,
   "metadata": {},
   "outputs": [
    {
     "data": {
      "text/plain": [
       "['https://www.donga.com/news/Society/article/all/20221024/116128536/1',\n",
       " 'https://www.donga.com/news/Society/article/all/20221024/116125714/1',\n",
       " 'https://www.donga.com/news/Society/article/all/20221024/116125645/1',\n",
       " 'https://www.donga.com/news/Society/article/all/20221024/116125358/1',\n",
       " 'https://www.donga.com/news/Society/article/all/20221024/116125242/1',\n",
       " 'https://www.donga.com/news/Society/article/all/20221024/116125171/1',\n",
       " 'https://www.donga.com/news/Society/article/all/20221024/116125059/1',\n",
       " 'https://www.donga.com/news/Society/article/all/20221024/116124694/1',\n",
       " 'https://www.donga.com/news/Society/article/all/20221024/116124482/1']"
      ]
     },
     "execution_count": 136,
     "metadata": {},
     "output_type": "execute_result"
    }
   ],
   "source": [
    "news_link_list"
   ]
  },
  {
   "cell_type": "code",
   "execution_count": 139,
   "metadata": {},
   "outputs": [],
   "source": [
    "res = requests.get('https://www.donga.com/news/Society/article/all/20221024/116128536/1',\n",
    "                   headers={'User-Agent':'Mozilla/5.0'})\n",
    "pagehtml = BeautifulSoup(res.text, \"html.parser\")"
   ]
  },
  {
   "cell_type": "code",
   "execution_count": 169,
   "metadata": {
    "scrolled": false
   },
   "outputs": [],
   "source": [
    "pagetitle=pagehtml.title.text"
   ]
  },
  {
   "cell_type": "code",
   "execution_count": 190,
   "metadata": {},
   "outputs": [],
   "source": [
    "pagecontent=pagehtml.find(\"div\",attrs={'class': 'article_txt'})"
   ]
  },
  {
   "cell_type": "code",
   "execution_count": 191,
   "metadata": {},
   "outputs": [],
   "source": [
    "r=pagecontent\n",
    "for i in pagecontent.find_all(\"span\"):\n",
    "    r=str(r).replace(str(i),\"\")"
   ]
  },
  {
   "cell_type": "code",
   "execution_count": 194,
   "metadata": {},
   "outputs": [],
   "source": [
    "rhtml = BeautifulSoup(r, \"html.parser\")"
   ]
  },
  {
   "cell_type": "code",
   "execution_count": 198,
   "metadata": {},
   "outputs": [
    {
     "data": {
      "text/plain": [
       "'\\n24일 강원도 북부산지 일대에 오전부터 눈 이 내리면서 17년 만에 10월 대설특보가 발효됐다. 국립공원공단 설악산국립공원사무소(소장 강동익)는 이날 오전 8시 10분 “설악산 일대에 대설주의보가 발효되어 탐방로 일부를 통제하고 있다”고 밝혔다.중청대피소 인근은 오전 6시경 최저기온은 –3.4℃까지 떨어졌고, 12시경 눈이 12cm 정도 쌓였다.이해일 설악산국립공원사무소 재난안전과장은 “첫 얼음을 시작으로 설악산의 고지대는 기온이 영하권에 머무는 본격적인 겨울 날씨에 접어든 만큼 겨울철 안전 산행을 위한 방한용품과 장비를 반드시 준비해야 하며, 장거리 산행 시 평소보다 체력이 많이 소모되고 낮은 기온으로 안전사고 위험이 큰 만큼 미리 탐방로 구간별 입산 가능 시간을 확인하고 본인 체력과 경험에 맞게 탐방해 주길 바란다”며 겨울 산행 안전을 당부했다.\\n\\n 대설특보는 예상 적설량에 따라 달라지는데 대설주의보는 24시간 동안 적설량이 5㎝ 이상, 대설경보는 20㎝ 이상(산지의 경우 30㎝ 이상)으로 예상될 때다.기상청은 25일 오전 3시까지 해당 지역에 2~7㎝의 눈이 더 내릴 것으로 예보했다. 10월에 첫 대설특보가 발표된 것은 2001년 관측 이후 2005년 10월 22일(강원도 일대) 이후 두 번째다.김재명 기자 base@donga.com \\n구독\\n\\n\\n \\n\\n\\n\\n\\n\\n\\n\\n\\n\\n\\n\\n\\n\\n\\n\\n\\n\\n\\n\\n\\n\\n\\n\\n청계천 옆 사진관은하수를 건너 희망과 감동을…노원구 ‘노원달빛산책’상식의 배신 서욱 전 장관에게 달려든 서해 피살 공무원 유족 Copyright ⓒ 동아일보 & donga.com\\n'"
      ]
     },
     "execution_count": 198,
     "metadata": {},
     "output_type": "execute_result"
    }
   ],
   "source": [
    "rhtml.text"
   ]
  },
  {
   "cell_type": "code",
   "execution_count": 200,
   "metadata": {},
   "outputs": [],
   "source": [
    "split=rhtml.text.split(\"\\n\\n\\n\\n\\n\\n\\n\")"
   ]
  },
  {
   "cell_type": "code",
   "execution_count": 202,
   "metadata": {},
   "outputs": [],
   "source": [
    "pagecontent=split[0]"
   ]
  },
  {
   "cell_type": "code",
   "execution_count": 203,
   "metadata": {
    "scrolled": true
   },
   "outputs": [
    {
     "data": {
      "text/plain": [
       "'\\n24일 강원도 북부산지 일대에 오전부터 눈 이 내리면서 17년 만에 10월 대설특보가 발효됐다. 국립공원공단 설악산국립공원사무소(소장 강동익)는 이날 오전 8시 10분 “설악산 일대에 대설주의보가 발효되어 탐방로 일부를 통제하고 있다”고 밝혔다.중청대피소 인근은 오전 6시경 최저기온은 –3.4℃까지 떨어졌고, 12시경 눈이 12cm 정도 쌓였다.이해일 설악산국립공원사무소 재난안전과장은 “첫 얼음을 시작으로 설악산의 고지대는 기온이 영하권에 머무는 본격적인 겨울 날씨에 접어든 만큼 겨울철 안전 산행을 위한 방한용품과 장비를 반드시 준비해야 하며, 장거리 산행 시 평소보다 체력이 많이 소모되고 낮은 기온으로 안전사고 위험이 큰 만큼 미리 탐방로 구간별 입산 가능 시간을 확인하고 본인 체력과 경험에 맞게 탐방해 주길 바란다”며 겨울 산행 안전을 당부했다.\\n\\n 대설특보는 예상 적설량에 따라 달라지는데 대설주의보는 24시간 동안 적설량이 5㎝ 이상, 대설경보는 20㎝ 이상(산지의 경우 30㎝ 이상)으로 예상될 때다.기상청은 25일 오전 3시까지 해당 지역에 2~7㎝의 눈이 더 내릴 것으로 예보했다. 10월에 첫 대설특보가 발표된 것은 2001년 관측 이후 2005년 10월 22일(강원도 일대) 이후 두 번째다.김재명 기자 base@donga.com \\n구독\\n\\n\\n '"
      ]
     },
     "execution_count": 203,
     "metadata": {},
     "output_type": "execute_result"
    }
   ],
   "source": [
    "pagecontent"
   ]
  },
  {
   "cell_type": "code",
   "execution_count": 214,
   "metadata": {},
   "outputs": [],
   "source": [
    "pagedate=pagehtml.find(\"span\",attrs={'class': 'date01'}).text"
   ]
  },
  {
   "cell_type": "code",
   "execution_count": 215,
   "metadata": {},
   "outputs": [],
   "source": [
    "pagedate=pagedate[3:]"
   ]
  },
  {
   "cell_type": "code",
   "execution_count": 216,
   "metadata": {},
   "outputs": [
    {
     "data": {
      "text/plain": [
       "'2022-10-24 17:57'"
      ]
     },
     "execution_count": 216,
     "metadata": {},
     "output_type": "execute_result"
    }
   ],
   "source": [
    "pagedate"
   ]
  },
  {
   "cell_type": "code",
   "execution_count": 217,
   "metadata": {},
   "outputs": [],
   "source": [
    "import time\n",
    "import random\n",
    "def donga_link_to_df(link_list):\n",
    "    data=[]\n",
    "    for link in link_list:\n",
    "        print(link, \"로 페이지 요청...\")\n",
    "        res = requests.get(link,\n",
    "                   headers={'User-Agent':'Mozilla/5.0'})\n",
    "        \n",
    "        pagehtml = BeautifulSoup(res.text, \"html.parser\")\n",
    "        \n",
    "        pagetitle=pagehtml.title.text\n",
    "        \n",
    "        pagecontent=pagehtml.find(\"div\",attrs={'class': 'article_txt'})\n",
    "        r=pagecontent\n",
    "        for i in pagecontent.find_all(\"span\"):\n",
    "            r=str(r).replace(str(i),\"\")\n",
    "        \n",
    "        rhtml = BeautifulSoup(r, \"html.parser\")\n",
    "        split=rhtml.text.split(\"\\n\\n\\n\\n\\n\\n\\n\")\n",
    "        pagecontent=split[0]\n",
    "        \n",
    "        pagedate=pagehtml.find(\"span\",attrs={'class': 'date01'}).text\n",
    "        pagedate=pagedate[3:]\n",
    "        \n",
    "        data.append([pagetitle,pagecontent,pagedate])\n",
    "        \n",
    "        time.sleep((random.random()*2.5)+1)\n",
    "        \n",
    "    return pd.DataFrame(data, columns=['title','content','date'])"
   ]
  },
  {
   "cell_type": "code",
   "execution_count": 218,
   "metadata": {},
   "outputs": [
    {
     "name": "stdout",
     "output_type": "stream",
     "text": [
      "https://www.donga.com/news/Society/article/all/20221024/116128536/1 로 페이지 요청...\n",
      "https://www.donga.com/news/Society/article/all/20221024/116125714/1 로 페이지 요청...\n",
      "https://www.donga.com/news/Society/article/all/20221024/116125645/1 로 페이지 요청...\n",
      "https://www.donga.com/news/Society/article/all/20221024/116125358/1 로 페이지 요청...\n",
      "https://www.donga.com/news/Society/article/all/20221024/116125242/1 로 페이지 요청...\n",
      "https://www.donga.com/news/Society/article/all/20221024/116125171/1 로 페이지 요청...\n",
      "https://www.donga.com/news/Society/article/all/20221024/116125059/1 로 페이지 요청...\n",
      "https://www.donga.com/news/Society/article/all/20221024/116124694/1 로 페이지 요청...\n",
      "https://www.donga.com/news/Society/article/all/20221024/116124482/1 로 페이지 요청...\n"
     ]
    }
   ],
   "source": [
    "dona_df=donga_link_to_df(news_link_list)"
   ]
  },
  {
   "cell_type": "code",
   "execution_count": 219,
   "metadata": {},
   "outputs": [
    {
     "data": {
      "text/html": [
       "<div>\n",
       "<style scoped>\n",
       "    .dataframe tbody tr th:only-of-type {\n",
       "        vertical-align: middle;\n",
       "    }\n",
       "\n",
       "    .dataframe tbody tr th {\n",
       "        vertical-align: top;\n",
       "    }\n",
       "\n",
       "    .dataframe thead th {\n",
       "        text-align: right;\n",
       "    }\n",
       "</style>\n",
       "<table border=\"1\" class=\"dataframe\">\n",
       "  <thead>\n",
       "    <tr style=\"text-align: right;\">\n",
       "      <th></th>\n",
       "      <th>title</th>\n",
       "      <th>content</th>\n",
       "      <th>date</th>\n",
       "    </tr>\n",
       "  </thead>\n",
       "  <tbody>\n",
       "    <tr>\n",
       "      <th>0</th>\n",
       "      <td>‘12cm 눈 쌓인’ 설악산, 대설주의보로 탐방로 통제[청계천 옆 사진관]</td>\n",
       "      <td>\\n24일 강원도 북부산지 일대에 오전부터 눈 이 내리면서 17년 만에 10월 대설...</td>\n",
       "      <td>2022-10-24 17:57</td>\n",
       "    </tr>\n",
       "    <tr>\n",
       "      <th>1</th>\n",
       "      <td>서울 대형 쇼핑몰에 ’독도체험관’?[퇴근길 한 컷]</td>\n",
       "      <td>\\n‘독도의 날’을 하루 앞둔 24일 오전 서울 영등포구 타임스퀘어에서 ‘독도체험관...</td>\n",
       "      <td>2022-10-24 16:14</td>\n",
       "    </tr>\n",
       "    <tr>\n",
       "      <th>2</th>\n",
       "      <td>한동훈 “尹과 청담동서 술자리? 자괴감 느껴…장관직 걸겠다”</td>\n",
       "      <td>\\n한동훈 법무부 장관은 윤석열 대통령 등과 술자리를 가진 적이 없으며 “”법무부 ...</td>\n",
       "      <td>2022-10-24 16:13</td>\n",
       "    </tr>\n",
       "    <tr>\n",
       "      <th>3</th>\n",
       "      <td>이상민 ‘카카오 먹통’ 계기 “재난 대응 매뉴얼 연말까지 제작”</td>\n",
       "      <td>\\n이상민 행정안전부 장관이 판교 SK C&amp;C 데이터센터 화재로 카카오 등 대국민 ...</td>\n",
       "      <td>2022-10-24 16:03</td>\n",
       "    </tr>\n",
       "    <tr>\n",
       "      <th>4</th>\n",
       "      <td>‘故이예람 사건’ 중대장, 부친 증인신청…“유리한 내용만 얘기” 반발</td>\n",
       "      <td>\\n고(故) 이예람 중사 사건 수사에 불법 개입한 혐의로 불구속 기소된 전익수 공군...</td>\n",
       "      <td>2022-10-24 15:59</td>\n",
       "    </tr>\n",
       "    <tr>\n",
       "      <th>5</th>\n",
       "      <td>승용차에 고의로 부딪혀 12차례 합의금 뜯은 20대女 입건</td>\n",
       "      <td>\\n경북 포항남부경찰서는 24일 일부러 차에 몸을 부딪혀 금품을 뜯은 혐의(보험사기...</td>\n",
       "      <td>2022-10-24 15:56</td>\n",
       "    </tr>\n",
       "    <tr>\n",
       "      <th>6</th>\n",
       "      <td>지하철서 불법촬영, 잠복경찰에 딱 걸려…잡고보니 고위공무원</td>\n",
       "      <td>\\n보건복지부 고위 공무원이 지하철 승강장에서 여성을 불법 촬영한 혐의로 경찰에 체...</td>\n",
       "      <td>2022-10-24 15:53</td>\n",
       "    </tr>\n",
       "    <tr>\n",
       "      <th>7</th>\n",
       "      <td>경찰 “국과수 정밀감정 통해 평택 SPL공장 근로자 사망원인 밝힐 것”</td>\n",
       "      <td>\\n‘평택 SPL제빵공장 산재사고’에 대한 경찰의 합동감식이 24일 종료됐다. 경기...</td>\n",
       "      <td>2022-10-24 15:39</td>\n",
       "    </tr>\n",
       "    <tr>\n",
       "      <th>8</th>\n",
       "      <td>유동규 측 “김용이 입원 지시…정진상 ‘검사장과 이야기됐다’고 말해”</td>\n",
       "      <td>\\n유동규 전 성남도시개발공사 기획본부장 측이 지난해 9월 검찰의 대장동 개발 비리...</td>\n",
       "      <td>2022-10-24 15:29</td>\n",
       "    </tr>\n",
       "  </tbody>\n",
       "</table>\n",
       "</div>"
      ],
      "text/plain": [
       "                                       title  \\\n",
       "0  ‘12cm 눈 쌓인’ 설악산, 대설주의보로 탐방로 통제[청계천 옆 사진관]   \n",
       "1               서울 대형 쇼핑몰에 ’독도체험관’?[퇴근길 한 컷]   \n",
       "2          한동훈 “尹과 청담동서 술자리? 자괴감 느껴…장관직 걸겠다”   \n",
       "3        이상민 ‘카카오 먹통’ 계기 “재난 대응 매뉴얼 연말까지 제작”   \n",
       "4     ‘故이예람 사건’ 중대장, 부친 증인신청…“유리한 내용만 얘기” 반발   \n",
       "5           승용차에 고의로 부딪혀 12차례 합의금 뜯은 20대女 입건   \n",
       "6           지하철서 불법촬영, 잠복경찰에 딱 걸려…잡고보니 고위공무원   \n",
       "7    경찰 “국과수 정밀감정 통해 평택 SPL공장 근로자 사망원인 밝힐 것”   \n",
       "8     유동규 측 “김용이 입원 지시…정진상 ‘검사장과 이야기됐다’고 말해”   \n",
       "\n",
       "                                             content              date  \n",
       "0  \\n24일 강원도 북부산지 일대에 오전부터 눈 이 내리면서 17년 만에 10월 대설...  2022-10-24 17:57  \n",
       "1  \\n‘독도의 날’을 하루 앞둔 24일 오전 서울 영등포구 타임스퀘어에서 ‘독도체험관...  2022-10-24 16:14  \n",
       "2  \\n한동훈 법무부 장관은 윤석열 대통령 등과 술자리를 가진 적이 없으며 “”법무부 ...  2022-10-24 16:13  \n",
       "3  \\n이상민 행정안전부 장관이 판교 SK C&C 데이터센터 화재로 카카오 등 대국민 ...  2022-10-24 16:03  \n",
       "4  \\n고(故) 이예람 중사 사건 수사에 불법 개입한 혐의로 불구속 기소된 전익수 공군...  2022-10-24 15:59  \n",
       "5  \\n경북 포항남부경찰서는 24일 일부러 차에 몸을 부딪혀 금품을 뜯은 혐의(보험사기...  2022-10-24 15:56  \n",
       "6  \\n보건복지부 고위 공무원이 지하철 승강장에서 여성을 불법 촬영한 혐의로 경찰에 체...  2022-10-24 15:53  \n",
       "7  \\n‘평택 SPL제빵공장 산재사고’에 대한 경찰의 합동감식이 24일 종료됐다. 경기...  2022-10-24 15:39  \n",
       "8  \\n유동규 전 성남도시개발공사 기획본부장 측이 지난해 9월 검찰의 대장동 개발 비리...  2022-10-24 15:29  "
      ]
     },
     "execution_count": 219,
     "metadata": {},
     "output_type": "execute_result"
    }
   ],
   "source": [
    "dona_df"
   ]
  },
  {
   "cell_type": "code",
   "execution_count": 221,
   "metadata": {},
   "outputs": [],
   "source": [
    "filesave(dona_df,\"donga_dataframe.csv\")"
   ]
  },
  {
   "cell_type": "code",
   "execution_count": 222,
   "metadata": {},
   "outputs": [],
   "source": [
    "test=fileread(\"donga_dataframe.csv\")"
   ]
  },
  {
   "cell_type": "code",
   "execution_count": 223,
   "metadata": {},
   "outputs": [
    {
     "data": {
      "text/html": [
       "<div>\n",
       "<style scoped>\n",
       "    .dataframe tbody tr th:only-of-type {\n",
       "        vertical-align: middle;\n",
       "    }\n",
       "\n",
       "    .dataframe tbody tr th {\n",
       "        vertical-align: top;\n",
       "    }\n",
       "\n",
       "    .dataframe thead th {\n",
       "        text-align: right;\n",
       "    }\n",
       "</style>\n",
       "<table border=\"1\" class=\"dataframe\">\n",
       "  <thead>\n",
       "    <tr style=\"text-align: right;\">\n",
       "      <th></th>\n",
       "      <th>title</th>\n",
       "      <th>content</th>\n",
       "      <th>date</th>\n",
       "    </tr>\n",
       "  </thead>\n",
       "  <tbody>\n",
       "    <tr>\n",
       "      <th>0</th>\n",
       "      <td>‘12cm 눈 쌓인’ 설악산, 대설주의보로 탐방로 통제[청계천 옆 사진관]</td>\n",
       "      <td>\\n24일 강원도 북부산지 일대에 오전부터 눈 이 내리면서 17년 만에 10월 대설...</td>\n",
       "      <td>2022-10-24 17:57</td>\n",
       "    </tr>\n",
       "    <tr>\n",
       "      <th>1</th>\n",
       "      <td>서울 대형 쇼핑몰에 ’독도체험관’?[퇴근길 한 컷]</td>\n",
       "      <td>\\n‘독도의 날’을 하루 앞둔 24일 오전 서울 영등포구 타임스퀘어에서 ‘독도체험관...</td>\n",
       "      <td>2022-10-24 16:14</td>\n",
       "    </tr>\n",
       "    <tr>\n",
       "      <th>2</th>\n",
       "      <td>한동훈 “尹과 청담동서 술자리? 자괴감 느껴…장관직 걸겠다”</td>\n",
       "      <td>\\n한동훈 법무부 장관은 윤석열 대통령 등과 술자리를 가진 적이 없으며 “”법무부 ...</td>\n",
       "      <td>2022-10-24 16:13</td>\n",
       "    </tr>\n",
       "    <tr>\n",
       "      <th>3</th>\n",
       "      <td>이상민 ‘카카오 먹통’ 계기 “재난 대응 매뉴얼 연말까지 제작”</td>\n",
       "      <td>\\n이상민 행정안전부 장관이 판교 SK C&amp;C 데이터센터 화재로 카카오 등 대국민 ...</td>\n",
       "      <td>2022-10-24 16:03</td>\n",
       "    </tr>\n",
       "    <tr>\n",
       "      <th>4</th>\n",
       "      <td>‘故이예람 사건’ 중대장, 부친 증인신청…“유리한 내용만 얘기” 반발</td>\n",
       "      <td>\\n고(故) 이예람 중사 사건 수사에 불법 개입한 혐의로 불구속 기소된 전익수 공군...</td>\n",
       "      <td>2022-10-24 15:59</td>\n",
       "    </tr>\n",
       "    <tr>\n",
       "      <th>5</th>\n",
       "      <td>승용차에 고의로 부딪혀 12차례 합의금 뜯은 20대女 입건</td>\n",
       "      <td>\\n경북 포항남부경찰서는 24일 일부러 차에 몸을 부딪혀 금품을 뜯은 혐의(보험사기...</td>\n",
       "      <td>2022-10-24 15:56</td>\n",
       "    </tr>\n",
       "    <tr>\n",
       "      <th>6</th>\n",
       "      <td>지하철서 불법촬영, 잠복경찰에 딱 걸려…잡고보니 고위공무원</td>\n",
       "      <td>\\n보건복지부 고위 공무원이 지하철 승강장에서 여성을 불법 촬영한 혐의로 경찰에 체...</td>\n",
       "      <td>2022-10-24 15:53</td>\n",
       "    </tr>\n",
       "    <tr>\n",
       "      <th>7</th>\n",
       "      <td>경찰 “국과수 정밀감정 통해 평택 SPL공장 근로자 사망원인 밝힐 것”</td>\n",
       "      <td>\\n‘평택 SPL제빵공장 산재사고’에 대한 경찰의 합동감식이 24일 종료됐다. 경기...</td>\n",
       "      <td>2022-10-24 15:39</td>\n",
       "    </tr>\n",
       "    <tr>\n",
       "      <th>8</th>\n",
       "      <td>유동규 측 “김용이 입원 지시…정진상 ‘검사장과 이야기됐다’고 말해”</td>\n",
       "      <td>\\n유동규 전 성남도시개발공사 기획본부장 측이 지난해 9월 검찰의 대장동 개발 비리...</td>\n",
       "      <td>2022-10-24 15:29</td>\n",
       "    </tr>\n",
       "  </tbody>\n",
       "</table>\n",
       "</div>"
      ],
      "text/plain": [
       "                                       title  \\\n",
       "0  ‘12cm 눈 쌓인’ 설악산, 대설주의보로 탐방로 통제[청계천 옆 사진관]   \n",
       "1               서울 대형 쇼핑몰에 ’독도체험관’?[퇴근길 한 컷]   \n",
       "2          한동훈 “尹과 청담동서 술자리? 자괴감 느껴…장관직 걸겠다”   \n",
       "3        이상민 ‘카카오 먹통’ 계기 “재난 대응 매뉴얼 연말까지 제작”   \n",
       "4     ‘故이예람 사건’ 중대장, 부친 증인신청…“유리한 내용만 얘기” 반발   \n",
       "5           승용차에 고의로 부딪혀 12차례 합의금 뜯은 20대女 입건   \n",
       "6           지하철서 불법촬영, 잠복경찰에 딱 걸려…잡고보니 고위공무원   \n",
       "7    경찰 “국과수 정밀감정 통해 평택 SPL공장 근로자 사망원인 밝힐 것”   \n",
       "8     유동규 측 “김용이 입원 지시…정진상 ‘검사장과 이야기됐다’고 말해”   \n",
       "\n",
       "                                             content              date  \n",
       "0  \\n24일 강원도 북부산지 일대에 오전부터 눈 이 내리면서 17년 만에 10월 대설...  2022-10-24 17:57  \n",
       "1  \\n‘독도의 날’을 하루 앞둔 24일 오전 서울 영등포구 타임스퀘어에서 ‘독도체험관...  2022-10-24 16:14  \n",
       "2  \\n한동훈 법무부 장관은 윤석열 대통령 등과 술자리를 가진 적이 없으며 “”법무부 ...  2022-10-24 16:13  \n",
       "3  \\n이상민 행정안전부 장관이 판교 SK C&C 데이터센터 화재로 카카오 등 대국민 ...  2022-10-24 16:03  \n",
       "4  \\n고(故) 이예람 중사 사건 수사에 불법 개입한 혐의로 불구속 기소된 전익수 공군...  2022-10-24 15:59  \n",
       "5  \\n경북 포항남부경찰서는 24일 일부러 차에 몸을 부딪혀 금품을 뜯은 혐의(보험사기...  2022-10-24 15:56  \n",
       "6  \\n보건복지부 고위 공무원이 지하철 승강장에서 여성을 불법 촬영한 혐의로 경찰에 체...  2022-10-24 15:53  \n",
       "7  \\n‘평택 SPL제빵공장 산재사고’에 대한 경찰의 합동감식이 24일 종료됐다. 경기...  2022-10-24 15:39  \n",
       "8  \\n유동규 전 성남도시개발공사 기획본부장 측이 지난해 9월 검찰의 대장동 개발 비리...  2022-10-24 15:29  "
      ]
     },
     "execution_count": 223,
     "metadata": {},
     "output_type": "execute_result"
    }
   ],
   "source": [
    "test"
   ]
  },
  {
   "cell_type": "code",
   "execution_count": 230,
   "metadata": {},
   "outputs": [
    {
     "data": {
      "text/plain": [
       "'\\n보건복지부 고위 공무원이 지하철 승강장에서 여성을 불법 촬영한 혐의로 경찰에 체포됐다. 복지부는 해당 공무원을 직위해제한 뒤 징계 절차를 밟고 있다. 24일 경찰과 복지부에 따르면 서울경찰청 지하철경찰대는 지난 12일 성폭력범죄의 처벌 등에 관한 특례법 위반(카메라 등 이용 촬영) 혐의로 복지부 국장급 공무원 A(58)씨를 검찰에 송치했다.A씨는 지난 8월 초 서울 지하철 7호선 한 승강장에서 여성 승객의 신체부위를 몰래 촬영한 혐의를 받고 있다. 당시 잠복근무 중이던 경찰은 그의 행동을 수상하게 보다가 범행 장면을 포착하고 현행범으로 체포했다.\\n\\n 복지부는 관련 사건을 인지한 즉시 A씨를 대기발령 조치했으며 경찰로부터 혐의사실 수사 결과를 받고 지난 17일 그를 직위해제했다. 앞으로 중앙징계위원회에 징계 의결을 요구하는 등 엄중한 조치를 취하겠다는 방침이다.복지부는 “고위 공무원으로서 일어나서는 안될 일이 벌어진 것에 대해 국민께 송구하다는 말씀을 드린다”며 “재발방지 노력에 최선을 다하겠다”고 밝혔다.(서울=뉴스1)  '"
      ]
     },
     "execution_count": 230,
     "metadata": {},
     "output_type": "execute_result"
    }
   ],
   "source": [
    "test[\"content\"][6]"
   ]
  },
  {
   "cell_type": "code",
   "execution_count": 231,
   "metadata": {},
   "outputs": [],
   "source": [
    "######### 여기부터 JTBC\n",
    "\n",
    "url=\"https://news.jtbc.co.kr/section/list.aspx?pdate=20221023&scode=30&copyright=&pgi=1\"\n",
    "raw = requests.get(url,\n",
    "                   headers={'User-Agent':'Mozilla/5.0'})\n",
    "html = BeautifulSoup(raw.text, \"html.parser\")"
   ]
  },
  {
   "cell_type": "code",
   "execution_count": 233,
   "metadata": {},
   "outputs": [],
   "source": [
    "news_list=html.findAll(\"dt\",attrs={'class': 'title_cr'})"
   ]
  },
  {
   "cell_type": "code",
   "execution_count": 234,
   "metadata": {
    "scrolled": false
   },
   "outputs": [
    {
     "data": {
      "text/plain": [
       "[<dt class=\"title_cr\">\n",
       " <a href=\"/article/article.aspx?news_id=NB12087481\">거제 모노레일 시설 큰불…포로수용소 유적공원 임시휴관</a>\n",
       " </dt>,\n",
       " <dt class=\"title_cr\">\n",
       " <a href=\"/article/article.aspx?news_id=NB12087471\">한 달간 56억 베팅…주택가 침투한 불법 게임장 덜미</a>\n",
       " </dt>,\n",
       " <dt class=\"title_cr\">\n",
       " <a href=\"/article/article.aspx?news_id=NB12087479\">안성 공사장 사고 사망자 3명으로…시공사 사과했지만</a>\n",
       " </dt>,\n",
       " <dt class=\"title_cr\">\n",
       " <a href=\"/article/article.aspx?news_id=NB12087475\">SPC 계열사 공장서 또…40대 노동자 손가락 절단 사고</a>\n",
       " </dt>,\n",
       " <dt class=\"title_cr\">\n",
       " <a href=\"/article/article.aspx?news_id=NB12087473\">\"검사장과 얘기됐다\" 진술에…당사자 \"일면식도 없어\"</a>\n",
       " </dt>,\n",
       " <dt class=\"title_cr\">\n",
       " <a href=\"/article/article.aspx?news_id=NB12087483\">안성 공사장 추락사고 사망자 3명으로…외국인 근로자 숨져</a>\n",
       " </dt>,\n",
       " <dt class=\"title_cr\">\n",
       " <a href=\"/article/article.aspx?news_id=NB12087446\">SPC 브랜드 '샤니' 제빵 공장에서 손가락 절단 사고</a>\n",
       " </dt>]"
      ]
     },
     "execution_count": 234,
     "metadata": {},
     "output_type": "execute_result"
    }
   ],
   "source": [
    "news_list"
   ]
  },
  {
   "cell_type": "code",
   "execution_count": 236,
   "metadata": {},
   "outputs": [],
   "source": [
    "news_link_list = []\n",
    "for i in news_list:\n",
    "    news_link_list.append(str(i.a.attrs['href']))"
   ]
  },
  {
   "cell_type": "code",
   "execution_count": 237,
   "metadata": {},
   "outputs": [
    {
     "data": {
      "text/plain": [
       "['/article/article.aspx?news_id=NB12087481',\n",
       " '/article/article.aspx?news_id=NB12087471',\n",
       " '/article/article.aspx?news_id=NB12087479',\n",
       " '/article/article.aspx?news_id=NB12087475',\n",
       " '/article/article.aspx?news_id=NB12087473',\n",
       " '/article/article.aspx?news_id=NB12087483',\n",
       " '/article/article.aspx?news_id=NB12087446']"
      ]
     },
     "execution_count": 237,
     "metadata": {},
     "output_type": "execute_result"
    }
   ],
   "source": [
    "news_link_list"
   ]
  },
  {
   "cell_type": "code",
   "execution_count": 238,
   "metadata": {},
   "outputs": [],
   "source": [
    "root_url = \"https://news.jtbc.co.kr\"\n",
    "url = root_url+news_link_list[0]\n",
    "res = requests.get(url,\n",
    "                   headers={'User-Agent':'Mozilla/5.0'})\n",
    "pagehtml = BeautifulSoup(res.text, \"html.parser\")"
   ]
  },
  {
   "cell_type": "code",
   "execution_count": 248,
   "metadata": {},
   "outputs": [],
   "source": [
    "pagetitle=pagehtml.find(\"div\",attrs={'class': 'title'}).h3.text"
   ]
  },
  {
   "cell_type": "code",
   "execution_count": 246,
   "metadata": {},
   "outputs": [],
   "source": [
    "pagecontent=pagehtml.find(\"div\",attrs={'class': 'article_content'}).text"
   ]
  },
  {
   "cell_type": "code",
   "execution_count": 250,
   "metadata": {},
   "outputs": [],
   "source": [
    "pagedate=pagehtml.find(\"span\",attrs={'class': 'i_date'}).text"
   ]
  },
  {
   "cell_type": "code",
   "execution_count": 252,
   "metadata": {},
   "outputs": [],
   "source": [
    "pagedate=pagedate[3:]"
   ]
  },
  {
   "cell_type": "code",
   "execution_count": 253,
   "metadata": {},
   "outputs": [
    {
     "data": {
      "text/plain": [
       "'2022-10-23 18:29'"
      ]
     },
     "execution_count": 253,
     "metadata": {},
     "output_type": "execute_result"
    }
   ],
   "source": [
    "pagedate"
   ]
  },
  {
   "cell_type": "code",
   "execution_count": 258,
   "metadata": {},
   "outputs": [],
   "source": [
    "import time\n",
    "import random\n",
    "def jtbc_link_to_df(link_list):\n",
    "    root_url = \"https://news.jtbc.co.kr\"\n",
    "    data=[]\n",
    "    for link in link_list:\n",
    "        url = root_url+link\n",
    "        print(url, \"로 페이지 요청...\")\n",
    "        res = requests.get(url,\n",
    "                   headers={'User-Agent':'Mozilla/5.0'})\n",
    "        \n",
    "        pagehtml = BeautifulSoup(res.text, \"html.parser\")\n",
    "        \n",
    "        pagetitle=pagehtml.find(\"div\",attrs={'class': 'title'}).h3.text\n",
    "        pagecontent=pagehtml.find(\"div\",attrs={'class': 'article_content'}).text\n",
    "        pagedate=pagehtml.find(\"span\",attrs={'class': 'i_date'}).text\n",
    "        pagedate=pagedate[3:]\n",
    "        \n",
    "        data.append([pagetitle,pagecontent,pagedate])\n",
    "        \n",
    "        time.sleep((random.random()*2.5)+1)\n",
    "        \n",
    "    return pd.DataFrame(data, columns=['title','content','date'])"
   ]
  },
  {
   "cell_type": "code",
   "execution_count": 259,
   "metadata": {},
   "outputs": [
    {
     "name": "stdout",
     "output_type": "stream",
     "text": [
      "https://news.jtbc.co.kr/article/article.aspx?news_id=NB12087481 로 페이지 요청...\n",
      "https://news.jtbc.co.kr/article/article.aspx?news_id=NB12087471 로 페이지 요청...\n",
      "https://news.jtbc.co.kr/article/article.aspx?news_id=NB12087479 로 페이지 요청...\n",
      "https://news.jtbc.co.kr/article/article.aspx?news_id=NB12087475 로 페이지 요청...\n",
      "https://news.jtbc.co.kr/article/article.aspx?news_id=NB12087473 로 페이지 요청...\n",
      "https://news.jtbc.co.kr/article/article.aspx?news_id=NB12087483 로 페이지 요청...\n",
      "https://news.jtbc.co.kr/article/article.aspx?news_id=NB12087446 로 페이지 요청...\n"
     ]
    }
   ],
   "source": [
    "jtbc_df=jtbc_link_to_df(news_link_list)"
   ]
  },
  {
   "cell_type": "code",
   "execution_count": 260,
   "metadata": {},
   "outputs": [
    {
     "data": {
      "text/html": [
       "<div>\n",
       "<style scoped>\n",
       "    .dataframe tbody tr th:only-of-type {\n",
       "        vertical-align: middle;\n",
       "    }\n",
       "\n",
       "    .dataframe tbody tr th {\n",
       "        vertical-align: top;\n",
       "    }\n",
       "\n",
       "    .dataframe thead th {\n",
       "        text-align: right;\n",
       "    }\n",
       "</style>\n",
       "<table border=\"1\" class=\"dataframe\">\n",
       "  <thead>\n",
       "    <tr style=\"text-align: right;\">\n",
       "      <th></th>\n",
       "      <th>title</th>\n",
       "      <th>content</th>\n",
       "      <th>date</th>\n",
       "    </tr>\n",
       "  </thead>\n",
       "  <tbody>\n",
       "    <tr>\n",
       "      <th>0</th>\n",
       "      <td>거제 모노레일 시설 큰불…포로수용소 유적공원 임시휴관</td>\n",
       "      <td>\\n[앵커]밤 사이 거제 포로수용소 유적공원 모노레일 시설에서 큰 불이 났습니다. ...</td>\n",
       "      <td>2022-10-23 18:29</td>\n",
       "    </tr>\n",
       "    <tr>\n",
       "      <th>1</th>\n",
       "      <td>한 달간 56억 베팅…주택가 침투한 불법 게임장 덜미</td>\n",
       "      <td>\\n[앵커]로또와 비슷한 방식으로 당첨금을 주는 불법 파워볼 게임장을 운영한 일당이...</td>\n",
       "      <td>2022-10-23 18:25</td>\n",
       "    </tr>\n",
       "    <tr>\n",
       "      <th>2</th>\n",
       "      <td>안성 공사장 사고 사망자 3명으로…시공사 사과했지만</td>\n",
       "      <td>\\n[앵커]경기 안성 공사장 사고로 다쳤던 노동자 중 한 명이 오늘(23일) 끝내 ...</td>\n",
       "      <td>2022-10-23 18:22</td>\n",
       "    </tr>\n",
       "    <tr>\n",
       "      <th>3</th>\n",
       "      <td>SPC 계열사 공장서 또…40대 노동자 손가락 절단 사고</td>\n",
       "      <td>\\n[앵커]제빵기업 SPC 계열사 공장에서 또 사고가 났습니다. 20대 노동자가 소...</td>\n",
       "      <td>2022-10-23 18:21</td>\n",
       "    </tr>\n",
       "    <tr>\n",
       "      <th>4</th>\n",
       "      <td>\"검사장과 얘기됐다\" 진술에…당사자 \"일면식도 없어\"</td>\n",
       "      <td>\\n[앵커]\"검찰에 다 이야기하겠다\"는 유동규 전 본부장이 조사에서 이재명 대표 측...</td>\n",
       "      <td>2022-10-23 18:10</td>\n",
       "    </tr>\n",
       "    <tr>\n",
       "      <th>5</th>\n",
       "      <td>안성 공사장 추락사고 사망자 3명으로…외국인 근로자 숨져</td>\n",
       "      <td>\\n지난 21일 오후 시멘트 타설 작업 중 근로자들이 추락하는 사고가 발생한 경기도...</td>\n",
       "      <td>2022-10-23 17:34</td>\n",
       "    </tr>\n",
       "    <tr>\n",
       "      <th>6</th>\n",
       "      <td>SPC 브랜드 '샤니' 제빵 공장에서 손가락 절단 사고</td>\n",
       "      <td>\\n〈사진=JTBC 캡처〉        SPC 그룹 브랜드인 샤니의 제빵 공장에서 ...</td>\n",
       "      <td>2022-10-23 11:12</td>\n",
       "    </tr>\n",
       "  </tbody>\n",
       "</table>\n",
       "</div>"
      ],
      "text/plain": [
       "                             title  \\\n",
       "0    거제 모노레일 시설 큰불…포로수용소 유적공원 임시휴관   \n",
       "1    한 달간 56억 베팅…주택가 침투한 불법 게임장 덜미   \n",
       "2     안성 공사장 사고 사망자 3명으로…시공사 사과했지만   \n",
       "3  SPC 계열사 공장서 또…40대 노동자 손가락 절단 사고   \n",
       "4    \"검사장과 얘기됐다\" 진술에…당사자 \"일면식도 없어\"   \n",
       "5  안성 공사장 추락사고 사망자 3명으로…외국인 근로자 숨져   \n",
       "6   SPC 브랜드 '샤니' 제빵 공장에서 손가락 절단 사고   \n",
       "\n",
       "                                             content              date  \n",
       "0  \\n[앵커]밤 사이 거제 포로수용소 유적공원 모노레일 시설에서 큰 불이 났습니다. ...  2022-10-23 18:29  \n",
       "1  \\n[앵커]로또와 비슷한 방식으로 당첨금을 주는 불법 파워볼 게임장을 운영한 일당이...  2022-10-23 18:25  \n",
       "2  \\n[앵커]경기 안성 공사장 사고로 다쳤던 노동자 중 한 명이 오늘(23일) 끝내 ...  2022-10-23 18:22  \n",
       "3  \\n[앵커]제빵기업 SPC 계열사 공장에서 또 사고가 났습니다. 20대 노동자가 소...  2022-10-23 18:21  \n",
       "4  \\n[앵커]\"검찰에 다 이야기하겠다\"는 유동규 전 본부장이 조사에서 이재명 대표 측...  2022-10-23 18:10  \n",
       "5  \\n지난 21일 오후 시멘트 타설 작업 중 근로자들이 추락하는 사고가 발생한 경기도...  2022-10-23 17:34  \n",
       "6  \\n〈사진=JTBC 캡처〉        SPC 그룹 브랜드인 샤니의 제빵 공장에서 ...  2022-10-23 11:12  "
      ]
     },
     "execution_count": 260,
     "metadata": {},
     "output_type": "execute_result"
    }
   ],
   "source": [
    "jtbc_df"
   ]
  },
  {
   "cell_type": "code",
   "execution_count": 261,
   "metadata": {},
   "outputs": [],
   "source": [
    "filesave(jtbc_df,\"jtbc_dataframe.csv\")"
   ]
  },
  {
   "cell_type": "code",
   "execution_count": 262,
   "metadata": {},
   "outputs": [],
   "source": [
    "test=fileread(\"jtbc_dataframe.csv\")"
   ]
  },
  {
   "cell_type": "code",
   "execution_count": 263,
   "metadata": {
    "scrolled": true
   },
   "outputs": [
    {
     "data": {
      "text/html": [
       "<div>\n",
       "<style scoped>\n",
       "    .dataframe tbody tr th:only-of-type {\n",
       "        vertical-align: middle;\n",
       "    }\n",
       "\n",
       "    .dataframe tbody tr th {\n",
       "        vertical-align: top;\n",
       "    }\n",
       "\n",
       "    .dataframe thead th {\n",
       "        text-align: right;\n",
       "    }\n",
       "</style>\n",
       "<table border=\"1\" class=\"dataframe\">\n",
       "  <thead>\n",
       "    <tr style=\"text-align: right;\">\n",
       "      <th></th>\n",
       "      <th>title</th>\n",
       "      <th>content</th>\n",
       "      <th>date</th>\n",
       "    </tr>\n",
       "  </thead>\n",
       "  <tbody>\n",
       "    <tr>\n",
       "      <th>0</th>\n",
       "      <td>거제 모노레일 시설 큰불…포로수용소 유적공원 임시휴관</td>\n",
       "      <td>\\n[앵커]밤 사이 거제 포로수용소 유적공원 모노레일 시설에서 큰 불이 났습니다. ...</td>\n",
       "      <td>2022-10-23 18:29</td>\n",
       "    </tr>\n",
       "    <tr>\n",
       "      <th>1</th>\n",
       "      <td>한 달간 56억 베팅…주택가 침투한 불법 게임장 덜미</td>\n",
       "      <td>\\n[앵커]로또와 비슷한 방식으로 당첨금을 주는 불법 파워볼 게임장을 운영한 일당이...</td>\n",
       "      <td>2022-10-23 18:25</td>\n",
       "    </tr>\n",
       "    <tr>\n",
       "      <th>2</th>\n",
       "      <td>안성 공사장 사고 사망자 3명으로…시공사 사과했지만</td>\n",
       "      <td>\\n[앵커]경기 안성 공사장 사고로 다쳤던 노동자 중 한 명이 오늘(23일) 끝내 ...</td>\n",
       "      <td>2022-10-23 18:22</td>\n",
       "    </tr>\n",
       "    <tr>\n",
       "      <th>3</th>\n",
       "      <td>SPC 계열사 공장서 또…40대 노동자 손가락 절단 사고</td>\n",
       "      <td>\\n[앵커]제빵기업 SPC 계열사 공장에서 또 사고가 났습니다. 20대 노동자가 소...</td>\n",
       "      <td>2022-10-23 18:21</td>\n",
       "    </tr>\n",
       "    <tr>\n",
       "      <th>4</th>\n",
       "      <td>\"검사장과 얘기됐다\" 진술에…당사자 \"일면식도 없어\"</td>\n",
       "      <td>\\n[앵커]\"검찰에 다 이야기하겠다\"는 유동규 전 본부장이 조사에서 이재명 대표 측...</td>\n",
       "      <td>2022-10-23 18:10</td>\n",
       "    </tr>\n",
       "    <tr>\n",
       "      <th>5</th>\n",
       "      <td>안성 공사장 추락사고 사망자 3명으로…외국인 근로자 숨져</td>\n",
       "      <td>\\n지난 21일 오후 시멘트 타설 작업 중 근로자들이 추락하는 사고가 발생한 경기도...</td>\n",
       "      <td>2022-10-23 17:34</td>\n",
       "    </tr>\n",
       "    <tr>\n",
       "      <th>6</th>\n",
       "      <td>SPC 브랜드 '샤니' 제빵 공장에서 손가락 절단 사고</td>\n",
       "      <td>\\n〈사진=JTBC 캡처〉        SPC 그룹 브랜드인 샤니의 제빵 공장에서 ...</td>\n",
       "      <td>2022-10-23 11:12</td>\n",
       "    </tr>\n",
       "  </tbody>\n",
       "</table>\n",
       "</div>"
      ],
      "text/plain": [
       "                             title  \\\n",
       "0    거제 모노레일 시설 큰불…포로수용소 유적공원 임시휴관   \n",
       "1    한 달간 56억 베팅…주택가 침투한 불법 게임장 덜미   \n",
       "2     안성 공사장 사고 사망자 3명으로…시공사 사과했지만   \n",
       "3  SPC 계열사 공장서 또…40대 노동자 손가락 절단 사고   \n",
       "4    \"검사장과 얘기됐다\" 진술에…당사자 \"일면식도 없어\"   \n",
       "5  안성 공사장 추락사고 사망자 3명으로…외국인 근로자 숨져   \n",
       "6   SPC 브랜드 '샤니' 제빵 공장에서 손가락 절단 사고   \n",
       "\n",
       "                                             content              date  \n",
       "0  \\n[앵커]밤 사이 거제 포로수용소 유적공원 모노레일 시설에서 큰 불이 났습니다. ...  2022-10-23 18:29  \n",
       "1  \\n[앵커]로또와 비슷한 방식으로 당첨금을 주는 불법 파워볼 게임장을 운영한 일당이...  2022-10-23 18:25  \n",
       "2  \\n[앵커]경기 안성 공사장 사고로 다쳤던 노동자 중 한 명이 오늘(23일) 끝내 ...  2022-10-23 18:22  \n",
       "3  \\n[앵커]제빵기업 SPC 계열사 공장에서 또 사고가 났습니다. 20대 노동자가 소...  2022-10-23 18:21  \n",
       "4  \\n[앵커]\"검찰에 다 이야기하겠다\"는 유동규 전 본부장이 조사에서 이재명 대표 측...  2022-10-23 18:10  \n",
       "5  \\n지난 21일 오후 시멘트 타설 작업 중 근로자들이 추락하는 사고가 발생한 경기도...  2022-10-23 17:34  \n",
       "6  \\n〈사진=JTBC 캡처〉        SPC 그룹 브랜드인 샤니의 제빵 공장에서 ...  2022-10-23 11:12  "
      ]
     },
     "execution_count": 263,
     "metadata": {},
     "output_type": "execute_result"
    }
   ],
   "source": [
    "test"
   ]
  },
  {
   "cell_type": "code",
   "execution_count": 274,
   "metadata": {},
   "outputs": [],
   "source": [
    "#### 중앙일보\n",
    "#### 페이지 단위로 넘기는 게 아니라 메인에서 기사 링크를 찾기 힘들음\n",
    "#### 대신 기사 링크를 그냥 가져와서 나중에 section을 붙여주기\n",
    "\n",
    "url = \"https://www.joongang.co.kr/article/25110484\"\n",
    "raw = requests.get(url,\n",
    "                   headers={'User-Agent':'Mozilla/5.0'})\n",
    "html = BeautifulSoup(raw.text, \"html.parser\")"
   ]
  },
  {
   "cell_type": "code",
   "execution_count": 296,
   "metadata": {
    "scrolled": false
   },
   "outputs": [],
   "source": [
    "pagesection = html.find(\"strong\",attrs={'class': 'section_title'}).text.replace(\"\\n\",\"\")"
   ]
  },
  {
   "cell_type": "code",
   "execution_count": 292,
   "metadata": {},
   "outputs": [],
   "source": [
    "pagetitle = html.find(\"h1\",attrs={'class': 'headline'}).text.replace(\"\\n\",\"\")"
   ]
  },
  {
   "cell_type": "code",
   "execution_count": 293,
   "metadata": {},
   "outputs": [],
   "source": [
    "pagecontent = html.find(\"div\",attrs={'class': 'article_body'}).text"
   ]
  },
  {
   "cell_type": "code",
   "execution_count": 295,
   "metadata": {},
   "outputs": [],
   "source": [
    "pagedate = html.find(\"p\",attrs={'class': 'date'}).text"
   ]
  },
  {
   "cell_type": "code",
   "execution_count": 312,
   "metadata": {},
   "outputs": [
    {
     "data": {
      "text/plain": [
       "'2022-10-24 22:02'"
      ]
     },
     "execution_count": 312,
     "metadata": {},
     "output_type": "execute_result"
    }
   ],
   "source": [
    "pagedate[:-3]"
   ]
  },
  {
   "cell_type": "code",
   "execution_count": 462,
   "metadata": {},
   "outputs": [],
   "source": [
    "import time\n",
    "import numpy as np\n",
    "def joongang_link_to_df(link_list):\n",
    "    data=[]\n",
    "    for link in link_list:\n",
    "        res = requests.get(link,\n",
    "                   headers={'User-Agent':'Mozilla/5.0'})\n",
    "        \n",
    "        pagehtml = BeautifulSoup(res.text, \"html.parser\")\n",
    "        \n",
    "        pagetitle = pagehtml.find(\"h1\",attrs={'class': 'headline'})\n",
    "        pagecontent = pagehtml.find(\"div\",attrs={'class': 'article_body'})\n",
    "        pagedate = pagehtml.find(\"p\",attrs={'class': 'date'})\n",
    "        pagesection = pagehtml.find(\"strong\",attrs={'class': 'section_title'})\n",
    "        \n",
    "        if pagetitle and pagecontent and pagedate and pagesection:\n",
    "            pagetitle = pagetitle.text.replace(\"\\n\",\"\")\n",
    "            pagecontent = pagecontent.text\n",
    "            pagedate = pagedate.text.replace(\"입력\",\"\")\n",
    "            pagesection = pagesection.text.replace(\"\\n\",\"\")\n",
    "        \n",
    "        data.append([pagetitle,pagecontent,pagedate,pagesection,link])\n",
    "        \n",
    "        time.sleep(abs((np.random.randn())*0.05))\n",
    "        \n",
    "    return pd.DataFrame(data, columns=['title','content','date','section','url'])"
   ]
  },
  {
   "cell_type": "code",
   "execution_count": 370,
   "metadata": {},
   "outputs": [],
   "source": [
    "root_url=\"https://www.joongang.co.kr/article/\"\n",
    "news_link_list = [root_url+str(i) for i in range(25110474,25110484)]"
   ]
  },
  {
   "cell_type": "code",
   "execution_count": 315,
   "metadata": {
    "scrolled": true
   },
   "outputs": [
    {
     "data": {
      "text/plain": [
       "['https://www.joongang.co.kr/article/25110474',\n",
       " 'https://www.joongang.co.kr/article/25110475',\n",
       " 'https://www.joongang.co.kr/article/25110476',\n",
       " 'https://www.joongang.co.kr/article/25110477',\n",
       " 'https://www.joongang.co.kr/article/25110478',\n",
       " 'https://www.joongang.co.kr/article/25110479',\n",
       " 'https://www.joongang.co.kr/article/25110480',\n",
       " 'https://www.joongang.co.kr/article/25110481',\n",
       " 'https://www.joongang.co.kr/article/25110482',\n",
       " 'https://www.joongang.co.kr/article/25110483']"
      ]
     },
     "execution_count": 315,
     "metadata": {},
     "output_type": "execute_result"
    }
   ],
   "source": [
    "news_link_list"
   ]
  },
  {
   "cell_type": "code",
   "execution_count": 316,
   "metadata": {},
   "outputs": [
    {
     "name": "stdout",
     "output_type": "stream",
     "text": [
      "https://www.joongang.co.kr/article/25110474 로 페이지 요청...\n",
      "https://www.joongang.co.kr/article/25110475 로 페이지 요청...\n",
      "https://www.joongang.co.kr/article/25110476 로 페이지 요청...\n",
      "https://www.joongang.co.kr/article/25110477 로 페이지 요청...\n",
      "https://www.joongang.co.kr/article/25110478 로 페이지 요청...\n",
      "https://www.joongang.co.kr/article/25110479 로 페이지 요청...\n",
      "https://www.joongang.co.kr/article/25110480 로 페이지 요청...\n",
      "https://www.joongang.co.kr/article/25110481 로 페이지 요청...\n",
      "https://www.joongang.co.kr/article/25110482 로 페이지 요청...\n",
      "https://www.joongang.co.kr/article/25110483 로 페이지 요청...\n"
     ]
    }
   ],
   "source": [
    "joongang_df = joongang_link_to_df(news_link_list)"
   ]
  },
  {
   "cell_type": "code",
   "execution_count": 317,
   "metadata": {},
   "outputs": [
    {
     "data": {
      "text/html": [
       "<div>\n",
       "<style scoped>\n",
       "    .dataframe tbody tr th:only-of-type {\n",
       "        vertical-align: middle;\n",
       "    }\n",
       "\n",
       "    .dataframe tbody tr th {\n",
       "        vertical-align: top;\n",
       "    }\n",
       "\n",
       "    .dataframe thead th {\n",
       "        text-align: right;\n",
       "    }\n",
       "</style>\n",
       "<table border=\"1\" class=\"dataframe\">\n",
       "  <thead>\n",
       "    <tr style=\"text-align: right;\">\n",
       "      <th></th>\n",
       "      <th>title</th>\n",
       "      <th>content</th>\n",
       "      <th>date</th>\n",
       "      <th>section</th>\n",
       "    </tr>\n",
       "  </thead>\n",
       "  <tbody>\n",
       "    <tr>\n",
       "      <th>0</th>\n",
       "      <td>영국 9월 물가상승률 10.1%…식품값 42년만에 최고폭 뛰어</td>\n",
       "      <td>\\n영국에서 9월 소비자 물가 상승률이 10.1%를 기록했다. 식품 가격이 급등하며...</td>\n",
       "      <td>2022-10-24 22:02</td>\n",
       "      <td>국제</td>\n",
       "    </tr>\n",
       "    <tr>\n",
       "      <th>1</th>\n",
       "      <td>이번에는 달항아리 보며 '불멍'…文 부부 평산마을 일상 공개</td>\n",
       "      <td>\\n문재인 전 대통령과 부인 김정숙 여사가 경남 양산 평산마을 주민들과 함께 도자기...</td>\n",
       "      <td>2022-10-24 22:02</td>\n",
       "      <td>정치</td>\n",
       "    </tr>\n",
       "    <tr>\n",
       "      <th>2</th>\n",
       "      <td>'히잡 벗은뒤 실종설' 이란 女선수, 환호 속에 나타난 곳</td>\n",
       "      <td>\\n지난 10일~16일 국내에서 열린 2022 국제스포츠클라이밍연맹(IFSC) 아시...</td>\n",
       "      <td>2022-10-24 22:02</td>\n",
       "      <td>국제</td>\n",
       "    </tr>\n",
       "    <tr>\n",
       "      <th>3</th>\n",
       "      <td>오후 9시까지 전국서 2만4754명 확진…1주일 전보다 744명 감소</td>\n",
       "      <td>\\n19일 오전 서울 마포구보건소 선별진료소에서 관계자가 코로나19 검사를 위해 선...</td>\n",
       "      <td>2022-10-24 22:02</td>\n",
       "      <td>사회</td>\n",
       "    </tr>\n",
       "    <tr>\n",
       "      <th>4</th>\n",
       "      <td>\"SK 데이터센터, 3년 전 화재안전점검서 누전차단기 미설치 발견돼 시정 조치\"</td>\n",
       "      <td>\\n경기도 성남시 SK C&amp;C 판교데이터센터 A동 현재현장에서 16일 오전 경찰과 ...</td>\n",
       "      <td>2022-10-24 22:02</td>\n",
       "      <td>정치</td>\n",
       "    </tr>\n",
       "    <tr>\n",
       "      <th>5</th>\n",
       "      <td>\"내가 정인이 아빠\" 절규한 유튜버…\"후원금으로 게장 사먹어\"</td>\n",
       "      <td>\\n양부모 학대로 숨진 정인양을 위한다는 명목으로 후원금을 받은 유튜버가 횡령 혐의...</td>\n",
       "      <td>2022-10-24 22:02</td>\n",
       "      <td>사회</td>\n",
       "    </tr>\n",
       "    <tr>\n",
       "      <th>6</th>\n",
       "      <td>당사 압수수색 반발하는 野에…與 \"당당하게 집행 받아들여야\"</td>\n",
       "      <td>\\n더불어민주당 의원들이 19일 서울 여의도 중앙당사 앞에서 민주연구원 압수수색에 ...</td>\n",
       "      <td>2022-10-24 22:02</td>\n",
       "      <td>정치</td>\n",
       "    </tr>\n",
       "    <tr>\n",
       "      <th>7</th>\n",
       "      <td>제42회 전국장애인체전 울산에서 개막</td>\n",
       "      <td>\\n10월 19일 울산종합운동장에서 열린 제42회 전국장애인체육대회 개회식에서 마지...</td>\n",
       "      <td>2022-10-24 22:02</td>\n",
       "      <td>스포츠</td>\n",
       "    </tr>\n",
       "    <tr>\n",
       "      <th>8</th>\n",
       "      <td>야생마 푸이그의 가을 질주…키움, PO행 100% 확률 잡았다</td>\n",
       "      <td>\\n키움 야시엘 푸이그가 19일 KT 위즈와의 준PO 3차전에서 1회 선제 3점 홈...</td>\n",
       "      <td>2022-10-24 22:02</td>\n",
       "      <td>스포츠</td>\n",
       "    </tr>\n",
       "    <tr>\n",
       "      <th>9</th>\n",
       "      <td>주호영 \"野 국감 보이콧, 민생 포기 정당임을 천명한 것\"</td>\n",
       "      <td>\\n더불어민주당 의원들이 19일 서울 여의도 중앙당사 앞에서 민주연구원 압수수색에 ...</td>\n",
       "      <td>2022-10-24 22:02</td>\n",
       "      <td>정치</td>\n",
       "    </tr>\n",
       "  </tbody>\n",
       "</table>\n",
       "</div>"
      ],
      "text/plain": [
       "                                          title  \\\n",
       "0            영국 9월 물가상승률 10.1%…식품값 42년만에 최고폭 뛰어   \n",
       "1             이번에는 달항아리 보며 '불멍'…文 부부 평산마을 일상 공개   \n",
       "2              '히잡 벗은뒤 실종설' 이란 女선수, 환호 속에 나타난 곳   \n",
       "3        오후 9시까지 전국서 2만4754명 확진…1주일 전보다 744명 감소   \n",
       "4  \"SK 데이터센터, 3년 전 화재안전점검서 누전차단기 미설치 발견돼 시정 조치\"   \n",
       "5            \"내가 정인이 아빠\" 절규한 유튜버…\"후원금으로 게장 사먹어\"   \n",
       "6             당사 압수수색 반발하는 野에…與 \"당당하게 집행 받아들여야\"   \n",
       "7                          제42회 전국장애인체전 울산에서 개막   \n",
       "8            야생마 푸이그의 가을 질주…키움, PO행 100% 확률 잡았다   \n",
       "9              주호영 \"野 국감 보이콧, 민생 포기 정당임을 천명한 것\"   \n",
       "\n",
       "                                             content              date section  \n",
       "0  \\n영국에서 9월 소비자 물가 상승률이 10.1%를 기록했다. 식품 가격이 급등하며...  2022-10-24 22:02      국제  \n",
       "1  \\n문재인 전 대통령과 부인 김정숙 여사가 경남 양산 평산마을 주민들과 함께 도자기...  2022-10-24 22:02      정치  \n",
       "2  \\n지난 10일~16일 국내에서 열린 2022 국제스포츠클라이밍연맹(IFSC) 아시...  2022-10-24 22:02      국제  \n",
       "3  \\n19일 오전 서울 마포구보건소 선별진료소에서 관계자가 코로나19 검사를 위해 선...  2022-10-24 22:02      사회  \n",
       "4  \\n경기도 성남시 SK C&C 판교데이터센터 A동 현재현장에서 16일 오전 경찰과 ...  2022-10-24 22:02      정치  \n",
       "5  \\n양부모 학대로 숨진 정인양을 위한다는 명목으로 후원금을 받은 유튜버가 횡령 혐의...  2022-10-24 22:02      사회  \n",
       "6  \\n더불어민주당 의원들이 19일 서울 여의도 중앙당사 앞에서 민주연구원 압수수색에 ...  2022-10-24 22:02      정치  \n",
       "7  \\n10월 19일 울산종합운동장에서 열린 제42회 전국장애인체육대회 개회식에서 마지...  2022-10-24 22:02     스포츠  \n",
       "8  \\n키움 야시엘 푸이그가 19일 KT 위즈와의 준PO 3차전에서 1회 선제 3점 홈...  2022-10-24 22:02     스포츠  \n",
       "9  \\n더불어민주당 의원들이 19일 서울 여의도 중앙당사 앞에서 민주연구원 압수수색에 ...  2022-10-24 22:02      정치  "
      ]
     },
     "execution_count": 317,
     "metadata": {},
     "output_type": "execute_result"
    }
   ],
   "source": [
    "joongang_df"
   ]
  },
  {
   "cell_type": "code",
   "execution_count": 318,
   "metadata": {},
   "outputs": [],
   "source": [
    "filesave(joongang_df,\"joongang_dataframe.csv\")"
   ]
  },
  {
   "cell_type": "code",
   "execution_count": 319,
   "metadata": {},
   "outputs": [],
   "source": [
    "test=fileread(\"joongang_dataframe.csv\")"
   ]
  },
  {
   "cell_type": "code",
   "execution_count": 320,
   "metadata": {},
   "outputs": [
    {
     "data": {
      "text/html": [
       "<div>\n",
       "<style scoped>\n",
       "    .dataframe tbody tr th:only-of-type {\n",
       "        vertical-align: middle;\n",
       "    }\n",
       "\n",
       "    .dataframe tbody tr th {\n",
       "        vertical-align: top;\n",
       "    }\n",
       "\n",
       "    .dataframe thead th {\n",
       "        text-align: right;\n",
       "    }\n",
       "</style>\n",
       "<table border=\"1\" class=\"dataframe\">\n",
       "  <thead>\n",
       "    <tr style=\"text-align: right;\">\n",
       "      <th></th>\n",
       "      <th>title</th>\n",
       "      <th>content</th>\n",
       "      <th>date</th>\n",
       "      <th>section</th>\n",
       "    </tr>\n",
       "  </thead>\n",
       "  <tbody>\n",
       "    <tr>\n",
       "      <th>0</th>\n",
       "      <td>영국 9월 물가상승률 10.1%…식품값 42년만에 최고폭 뛰어</td>\n",
       "      <td>\\n영국에서 9월 소비자 물가 상승률이 10.1%를 기록했다. 식품 가격이 급등하며...</td>\n",
       "      <td>2022-10-24 22:02</td>\n",
       "      <td>국제</td>\n",
       "    </tr>\n",
       "    <tr>\n",
       "      <th>1</th>\n",
       "      <td>이번에는 달항아리 보며 '불멍'…文 부부 평산마을 일상 공개</td>\n",
       "      <td>\\n문재인 전 대통령과 부인 김정숙 여사가 경남 양산 평산마을 주민들과 함께 도자기...</td>\n",
       "      <td>2022-10-24 22:02</td>\n",
       "      <td>정치</td>\n",
       "    </tr>\n",
       "    <tr>\n",
       "      <th>2</th>\n",
       "      <td>'히잡 벗은뒤 실종설' 이란 女선수, 환호 속에 나타난 곳</td>\n",
       "      <td>\\n지난 10일~16일 국내에서 열린 2022 국제스포츠클라이밍연맹(IFSC) 아시...</td>\n",
       "      <td>2022-10-24 22:02</td>\n",
       "      <td>국제</td>\n",
       "    </tr>\n",
       "    <tr>\n",
       "      <th>3</th>\n",
       "      <td>오후 9시까지 전국서 2만4754명 확진…1주일 전보다 744명 감소</td>\n",
       "      <td>\\n19일 오전 서울 마포구보건소 선별진료소에서 관계자가 코로나19 검사를 위해 선...</td>\n",
       "      <td>2022-10-24 22:02</td>\n",
       "      <td>사회</td>\n",
       "    </tr>\n",
       "    <tr>\n",
       "      <th>4</th>\n",
       "      <td>\"SK 데이터센터, 3년 전 화재안전점검서 누전차단기 미설치 발견돼 시정 조치\"</td>\n",
       "      <td>\\n경기도 성남시 SK C&amp;C 판교데이터센터 A동 현재현장에서 16일 오전 경찰과 ...</td>\n",
       "      <td>2022-10-24 22:02</td>\n",
       "      <td>정치</td>\n",
       "    </tr>\n",
       "    <tr>\n",
       "      <th>5</th>\n",
       "      <td>\"내가 정인이 아빠\" 절규한 유튜버…\"후원금으로 게장 사먹어\"</td>\n",
       "      <td>\\n양부모 학대로 숨진 정인양을 위한다는 명목으로 후원금을 받은 유튜버가 횡령 혐의...</td>\n",
       "      <td>2022-10-24 22:02</td>\n",
       "      <td>사회</td>\n",
       "    </tr>\n",
       "    <tr>\n",
       "      <th>6</th>\n",
       "      <td>당사 압수수색 반발하는 野에…與 \"당당하게 집행 받아들여야\"</td>\n",
       "      <td>\\n더불어민주당 의원들이 19일 서울 여의도 중앙당사 앞에서 민주연구원 압수수색에 ...</td>\n",
       "      <td>2022-10-24 22:02</td>\n",
       "      <td>정치</td>\n",
       "    </tr>\n",
       "    <tr>\n",
       "      <th>7</th>\n",
       "      <td>제42회 전국장애인체전 울산에서 개막</td>\n",
       "      <td>\\n10월 19일 울산종합운동장에서 열린 제42회 전국장애인체육대회 개회식에서 마지...</td>\n",
       "      <td>2022-10-24 22:02</td>\n",
       "      <td>스포츠</td>\n",
       "    </tr>\n",
       "    <tr>\n",
       "      <th>8</th>\n",
       "      <td>야생마 푸이그의 가을 질주…키움, PO행 100% 확률 잡았다</td>\n",
       "      <td>\\n키움 야시엘 푸이그가 19일 KT 위즈와의 준PO 3차전에서 1회 선제 3점 홈...</td>\n",
       "      <td>2022-10-24 22:02</td>\n",
       "      <td>스포츠</td>\n",
       "    </tr>\n",
       "    <tr>\n",
       "      <th>9</th>\n",
       "      <td>주호영 \"野 국감 보이콧, 민생 포기 정당임을 천명한 것\"</td>\n",
       "      <td>\\n더불어민주당 의원들이 19일 서울 여의도 중앙당사 앞에서 민주연구원 압수수색에 ...</td>\n",
       "      <td>2022-10-24 22:02</td>\n",
       "      <td>정치</td>\n",
       "    </tr>\n",
       "  </tbody>\n",
       "</table>\n",
       "</div>"
      ],
      "text/plain": [
       "                                          title  \\\n",
       "0            영국 9월 물가상승률 10.1%…식품값 42년만에 최고폭 뛰어   \n",
       "1             이번에는 달항아리 보며 '불멍'…文 부부 평산마을 일상 공개   \n",
       "2              '히잡 벗은뒤 실종설' 이란 女선수, 환호 속에 나타난 곳   \n",
       "3        오후 9시까지 전국서 2만4754명 확진…1주일 전보다 744명 감소   \n",
       "4  \"SK 데이터센터, 3년 전 화재안전점검서 누전차단기 미설치 발견돼 시정 조치\"   \n",
       "5            \"내가 정인이 아빠\" 절규한 유튜버…\"후원금으로 게장 사먹어\"   \n",
       "6             당사 압수수색 반발하는 野에…與 \"당당하게 집행 받아들여야\"   \n",
       "7                          제42회 전국장애인체전 울산에서 개막   \n",
       "8            야생마 푸이그의 가을 질주…키움, PO행 100% 확률 잡았다   \n",
       "9              주호영 \"野 국감 보이콧, 민생 포기 정당임을 천명한 것\"   \n",
       "\n",
       "                                             content              date section  \n",
       "0  \\n영국에서 9월 소비자 물가 상승률이 10.1%를 기록했다. 식품 가격이 급등하며...  2022-10-24 22:02      국제  \n",
       "1  \\n문재인 전 대통령과 부인 김정숙 여사가 경남 양산 평산마을 주민들과 함께 도자기...  2022-10-24 22:02      정치  \n",
       "2  \\n지난 10일~16일 국내에서 열린 2022 국제스포츠클라이밍연맹(IFSC) 아시...  2022-10-24 22:02      국제  \n",
       "3  \\n19일 오전 서울 마포구보건소 선별진료소에서 관계자가 코로나19 검사를 위해 선...  2022-10-24 22:02      사회  \n",
       "4  \\n경기도 성남시 SK C&C 판교데이터센터 A동 현재현장에서 16일 오전 경찰과 ...  2022-10-24 22:02      정치  \n",
       "5  \\n양부모 학대로 숨진 정인양을 위한다는 명목으로 후원금을 받은 유튜버가 횡령 혐의...  2022-10-24 22:02      사회  \n",
       "6  \\n더불어민주당 의원들이 19일 서울 여의도 중앙당사 앞에서 민주연구원 압수수색에 ...  2022-10-24 22:02      정치  \n",
       "7  \\n10월 19일 울산종합운동장에서 열린 제42회 전국장애인체육대회 개회식에서 마지...  2022-10-24 22:02     스포츠  \n",
       "8  \\n키움 야시엘 푸이그가 19일 KT 위즈와의 준PO 3차전에서 1회 선제 3점 홈...  2022-10-24 22:02     스포츠  \n",
       "9  \\n더불어민주당 의원들이 19일 서울 여의도 중앙당사 앞에서 민주연구원 압수수색에 ...  2022-10-24 22:02      정치  "
      ]
     },
     "execution_count": 320,
     "metadata": {},
     "output_type": "execute_result"
    }
   ],
   "source": [
    "test"
   ]
  },
  {
   "cell_type": "code",
   "execution_count": 395,
   "metadata": {},
   "outputs": [],
   "source": [
    "root_url=\"https://www.joongang.co.kr/article/\"\n",
    "news_link_list = [root_url+str(i) for i in range(25000002,25110484)]"
   ]
  },
  {
   "cell_type": "code",
   "execution_count": 396,
   "metadata": {},
   "outputs": [
    {
     "data": {
      "text/plain": [
       "110482"
      ]
     },
     "execution_count": 396,
     "metadata": {},
     "output_type": "execute_result"
    }
   ],
   "source": [
    "len(news_link_list)"
   ]
  },
  {
   "cell_type": "code",
   "execution_count": 397,
   "metadata": {},
   "outputs": [],
   "source": [
    "splitedlist=[news_link_list[i*100:i*100+100] for i in range(0,1105)]"
   ]
  },
  {
   "cell_type": "code",
   "execution_count": 399,
   "metadata": {},
   "outputs": [
    {
     "data": {
      "text/plain": [
       "['https://www.joongang.co.kr/article/25000002',\n",
       " 'https://www.joongang.co.kr/article/25000003',\n",
       " 'https://www.joongang.co.kr/article/25000004']"
      ]
     },
     "execution_count": 399,
     "metadata": {},
     "output_type": "execute_result"
    }
   ],
   "source": [
    "splitedlist[0][:3]"
   ]
  },
  {
   "cell_type": "code",
   "execution_count": 400,
   "metadata": {},
   "outputs": [
    {
     "data": {
      "text/plain": [
       "['https://www.joongang.co.kr/article/25000102',\n",
       " 'https://www.joongang.co.kr/article/25000103',\n",
       " 'https://www.joongang.co.kr/article/25000104']"
      ]
     },
     "execution_count": 400,
     "metadata": {},
     "output_type": "execute_result"
    }
   ],
   "source": [
    "splitedlist[1][:3]"
   ]
  },
  {
   "cell_type": "code",
   "execution_count": 401,
   "metadata": {
    "scrolled": true
   },
   "outputs": [
    {
     "data": {
      "text/plain": [
       "1105"
      ]
     },
     "execution_count": 401,
     "metadata": {},
     "output_type": "execute_result"
    }
   ],
   "source": [
    "len(splitedlist)"
   ]
  },
  {
   "cell_type": "code",
   "execution_count": 402,
   "metadata": {
    "scrolled": true
   },
   "outputs": [
    {
     "name": "stdout",
     "output_type": "stream",
     "text": [
      "https://www.joongang.co.kr/article/25000006 로 페이지 요청...\n",
      "https://www.joongang.co.kr/article/25000007 로 페이지 요청...\n",
      "https://www.joongang.co.kr/article/25000008 로 페이지 요청...\n"
     ]
    }
   ],
   "source": [
    "joongang_df_temp = joongang_link_to_df(splitedlist[0][4:7])"
   ]
  },
  {
   "cell_type": "code",
   "execution_count": 403,
   "metadata": {},
   "outputs": [],
   "source": [
    "joongang_df = pd.DataFrame(columns=['title','content','date','section'])"
   ]
  },
  {
   "cell_type": "code",
   "execution_count": 404,
   "metadata": {},
   "outputs": [],
   "source": [
    "joongang_df = pd.concat([joongang_df,joongang_df_temp])"
   ]
  },
  {
   "cell_type": "code",
   "execution_count": 405,
   "metadata": {},
   "outputs": [
    {
     "data": {
      "text/html": [
       "<div>\n",
       "<style scoped>\n",
       "    .dataframe tbody tr th:only-of-type {\n",
       "        vertical-align: middle;\n",
       "    }\n",
       "\n",
       "    .dataframe tbody tr th {\n",
       "        vertical-align: top;\n",
       "    }\n",
       "\n",
       "    .dataframe thead th {\n",
       "        text-align: right;\n",
       "    }\n",
       "</style>\n",
       "<table border=\"1\" class=\"dataframe\">\n",
       "  <thead>\n",
       "    <tr style=\"text-align: right;\">\n",
       "      <th></th>\n",
       "      <th>title</th>\n",
       "      <th>content</th>\n",
       "      <th>date</th>\n",
       "      <th>section</th>\n",
       "    </tr>\n",
       "  </thead>\n",
       "  <tbody>\n",
       "    <tr>\n",
       "      <th>0</th>\n",
       "      <td>김의겸 선배 행복하십니까…외신이 묻네요 \"이게 무슨 법이냐\" [뉴스원샷]</td>\n",
       "      <td>\\n18일 서울 여의도 국회에서 열린 '언론중재 및 피해구제 등에 관한 법률 일부 ...</td>\n",
       "      <td>2021.08.21 05:56</td>\n",
       "      <td>국제</td>\n",
       "    </tr>\n",
       "    <tr>\n",
       "      <th>1</th>\n",
       "      <td>'골목식당' 방영 후 반년…성남시 모란역 뒷골목 근황 보니</td>\n",
       "      <td>\\n지난 1~2월 방송된 SBS '백종원의 골목식당' 성남시 모란역 뒷골목 편. 사...</td>\n",
       "      <td>2021.08.21 05:57</td>\n",
       "      <td>경제</td>\n",
       "    </tr>\n",
       "    <tr>\n",
       "      <th>2</th>\n",
       "      <td>'영원한 증언자' 위안부 할머니들 되살린 할리우드 출신 교수</td>\n",
       "      <td>\\n1991년 고 김학순 할머니가 위안부 피해를 처음으로 증언한 지 30년. 정부에...</td>\n",
       "      <td>2021.08.21 05:57</td>\n",
       "      <td>경제</td>\n",
       "    </tr>\n",
       "  </tbody>\n",
       "</table>\n",
       "</div>"
      ],
      "text/plain": [
       "                                      title  \\\n",
       "0  김의겸 선배 행복하십니까…외신이 묻네요 \"이게 무슨 법이냐\" [뉴스원샷]   \n",
       "1          '골목식당' 방영 후 반년…성남시 모란역 뒷골목 근황 보니   \n",
       "2         '영원한 증언자' 위안부 할머니들 되살린 할리우드 출신 교수   \n",
       "\n",
       "                                             content               date  \\\n",
       "0  \\n18일 서울 여의도 국회에서 열린 '언론중재 및 피해구제 등에 관한 법률 일부 ...   2021.08.21 05:56   \n",
       "1  \\n지난 1~2월 방송된 SBS '백종원의 골목식당' 성남시 모란역 뒷골목 편. 사...   2021.08.21 05:57   \n",
       "2  \\n1991년 고 김학순 할머니가 위안부 피해를 처음으로 증언한 지 30년. 정부에...   2021.08.21 05:57   \n",
       "\n",
       "  section  \n",
       "0      국제  \n",
       "1      경제  \n",
       "2      경제  "
      ]
     },
     "execution_count": 405,
     "metadata": {},
     "output_type": "execute_result"
    }
   ],
   "source": [
    "joongang_df"
   ]
  },
  {
   "cell_type": "code",
   "execution_count": null,
   "metadata": {
    "scrolled": false
   },
   "outputs": [
    {
     "name": "stdout",
     "output_type": "stream",
     "text": [
      "소요시간 : 86.3951666355133\n",
      "81100 번째까지 저장\n",
      "소요시간 : 142.06898856163025\n",
      "81200 번째까지 저장\n",
      "소요시간 : 150.47826409339905\n",
      "81300 번째까지 저장\n",
      "소요시간 : 148.7030758857727\n",
      "81400 번째까지 저장\n",
      "소요시간 : 151.04887986183167\n",
      "81500 번째까지 저장\n",
      "소요시간 : 146.67758774757385\n",
      "81600 번째까지 저장\n",
      "소요시간 : 135.7304196357727\n",
      "81700 번째까지 저장\n",
      "소요시간 : 166.5676395893097\n",
      "81800 번째까지 저장\n",
      "소요시간 : 128.56752181053162\n",
      "81900 번째까지 저장\n",
      "소요시간 : 156.65767312049866\n",
      "82000 번째까지 저장\n",
      "소요시간 : 167.8165683746338\n",
      "82100 번째까지 저장\n",
      "소요시간 : 161.48517179489136\n",
      "82200 번째까지 저장\n",
      "소요시간 : 148.50219869613647\n",
      "82300 번째까지 저장\n",
      "소요시간 : 152.97380542755127\n",
      "82400 번째까지 저장\n",
      "소요시간 : 143.11016058921814\n",
      "82500 번째까지 저장\n",
      "소요시간 : 156.64016819000244\n",
      "82600 번째까지 저장\n",
      "소요시간 : 157.33573842048645\n",
      "82700 번째까지 저장\n",
      "소요시간 : 146.71192336082458\n",
      "82800 번째까지 저장\n",
      "소요시간 : 151.79200053215027\n",
      "82900 번째까지 저장\n",
      "소요시간 : 189.277352809906\n",
      "83000 번째까지 저장\n",
      "830 에서 에러 발생\n",
      "소요시간 : 66.37728190422058\n",
      "83100 번째까지 저장\n",
      "소요시간 : 65.0768678188324\n",
      "83200 번째까지 저장\n",
      "소요시간 : 85.8813579082489\n",
      "83300 번째까지 저장\n",
      "소요시간 : 122.96780514717102\n",
      "83400 번째까지 저장\n",
      "소요시간 : 105.66268134117126\n",
      "83500 번째까지 저장\n",
      "소요시간 : 110.98139500617981\n",
      "83600 번째까지 저장\n",
      "소요시간 : 112.13368082046509\n",
      "83700 번째까지 저장\n",
      "소요시간 : 99.91723561286926\n",
      "83800 번째까지 저장\n",
      "소요시간 : 61.99267768859863\n",
      "83900 번째까지 저장\n",
      "소요시간 : 62.29449248313904\n",
      "84000 번째까지 저장\n",
      "소요시간 : 64.97883105278015\n",
      "84100 번째까지 저장\n",
      "소요시간 : 63.41510367393494\n",
      "84200 번째까지 저장\n",
      "소요시간 : 64.61805462837219\n",
      "84300 번째까지 저장\n",
      "소요시간 : 64.82792401313782\n",
      "84400 번째까지 저장\n",
      "소요시간 : 68.19584321975708\n",
      "84500 번째까지 저장\n",
      "소요시간 : 65.0248031616211\n",
      "84600 번째까지 저장\n",
      "소요시간 : 58.63874936103821\n",
      "84700 번째까지 저장\n",
      "소요시간 : 60.295727014541626\n",
      "84800 번째까지 저장\n",
      "소요시간 : 57.867918968200684\n",
      "84900 번째까지 저장\n",
      "소요시간 : 56.465365409851074\n",
      "85000 번째까지 저장\n",
      "소요시간 : 58.42688059806824\n",
      "85100 번째까지 저장\n",
      "소요시간 : 83.50945568084717\n",
      "85200 번째까지 저장\n",
      "소요시간 : 84.80757451057434\n",
      "85300 번째까지 저장\n",
      "소요시간 : 63.617499113082886\n",
      "85400 번째까지 저장\n",
      "소요시간 : 104.25806164741516\n",
      "85500 번째까지 저장\n",
      "소요시간 : 63.78756761550903\n",
      "85600 번째까지 저장\n"
     ]
    }
   ],
   "source": [
    "count=810\n",
    "for _ in range(5):\n",
    "    try:\n",
    "        for linklist in splitedlist[count:]:\n",
    "            start = time.time()\n",
    "\n",
    "            joongang_df_temp = joongang_link_to_df(linklist)\n",
    "            joongang_df = pd.concat([joongang_df,joongang_df_temp])\n",
    "            filesave(joongang_df,\"joongang_dataframe.csv\")\n",
    "            count+=1\n",
    "\n",
    "            print(\"소요시간 :\", time.time() - start)\n",
    "            print(count*100,\"번째까지 저장\")\n",
    "\n",
    "            time.sleep((random.random()*0.2))\n",
    "        \n",
    "    except:\n",
    "        print(count,\"에서 에러 발생\")\n",
    "        time.sleep(30)"
   ]
  },
  {
   "cell_type": "code",
   "execution_count": null,
   "metadata": {},
   "outputs": [],
   "source": [
    "joongang_df = fileread(\"joongang_dataframe.csv\")"
   ]
  },
  {
   "cell_type": "code",
   "execution_count": null,
   "metadata": {},
   "outputs": [],
   "source": [
    "joongang_df['title'].isnull().sum()"
   ]
  },
  {
   "cell_type": "code",
   "execution_count": null,
   "metadata": {},
   "outputs": [],
   "source": [
    "joongang_df['title'].nunique()"
   ]
  },
  {
   "cell_type": "code",
   "execution_count": null,
   "metadata": {},
   "outputs": [],
   "source": [
    "joongang_df['title'].value_counts()"
   ]
  },
  {
   "cell_type": "code",
   "execution_count": null,
   "metadata": {},
   "outputs": [],
   "source": [
    "len(joongang_df)"
   ]
  },
  {
   "cell_type": "code",
   "execution_count": null,
   "metadata": {},
   "outputs": [],
   "source": []
  }
 ],
 "metadata": {
  "kernelspec": {
   "display_name": "Python 3",
   "language": "python",
   "name": "python3"
  },
  "language_info": {
   "codemirror_mode": {
    "name": "ipython",
    "version": 3
   },
   "file_extension": ".py",
   "mimetype": "text/x-python",
   "name": "python",
   "nbconvert_exporter": "python",
   "pygments_lexer": "ipython3",
   "version": "3.8.5"
  }
 },
 "nbformat": 4,
 "nbformat_minor": 4
}
