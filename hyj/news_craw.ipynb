{
 "cells": [
  {
   "cell_type": "code",
   "execution_count": 1,
   "metadata": {},
   "outputs": [],
   "source": [
    "import requests\n",
    "from bs4 import BeautifulSoup"
   ]
  },
  {
   "cell_type": "code",
   "execution_count": 6,
   "metadata": {},
   "outputs": [],
   "source": [
    "# 일단 sbs의 한 페이지만\n",
    "raw = requests.get(\"https://news.sbs.co.kr/news/newsSection.do?sectionType=02&pageDate=20221021\",\n",
    "                   headers={'User-Agent':'Mozilla/5.0'})\n",
    "html = BeautifulSoup(raw.text, \"html.parser\")"
   ]
  },
  {
   "cell_type": "code",
   "execution_count": 18,
   "metadata": {
    "scrolled": false
   },
   "outputs": [],
   "source": [
    "news_list=html.findAll(\"a\",attrs={'class': 'news'})"
   ]
  },
  {
   "cell_type": "code",
   "execution_count": 19,
   "metadata": {},
   "outputs": [
    {
     "data": {
      "text/plain": [
       "10"
      ]
     },
     "execution_count": 19,
     "metadata": {},
     "output_type": "execute_result"
    }
   ],
   "source": [
    "len(news_list)"
   ]
  },
  {
   "cell_type": "code",
   "execution_count": 26,
   "metadata": {
    "scrolled": false
   },
   "outputs": [],
   "source": [
    "news_link_list = []\n",
    "for i in news_list:\n",
    "    news_link_list.append(str(i.attrs['href']))"
   ]
  },
  {
   "cell_type": "code",
   "execution_count": 83,
   "metadata": {},
   "outputs": [
    {
     "data": {
      "text/plain": [
       "['/news/endPage.do?news_id=N1006941646',\n",
       " '/news/endPage.do?news_id=N1006941450',\n",
       " '/news/endPage.do?news_id=N1006941440',\n",
       " '/news/endPage.do?news_id=N1006941035',\n",
       " '/news/endPage.do?news_id=N1006941092',\n",
       " '/news/endPage.do?news_id=N1006941144',\n",
       " '/news/endPage.do?news_id=N1006941138',\n",
       " '/news/endPage.do?news_id=N1006940979',\n",
       " '/news/endPage.do?news_id=N1006940747',\n",
       " '/news/endPage.do?news_id=N1006940713']"
      ]
     },
     "execution_count": 83,
     "metadata": {},
     "output_type": "execute_result"
    }
   ],
   "source": [
    "# https://news.sbs.co.kr/news/endPage.do?news_id=N1006941138 식의 링크가 sbs 기사.\n",
    "news_link_list"
   ]
  },
  {
   "cell_type": "code",
   "execution_count": 28,
   "metadata": {},
   "outputs": [],
   "source": [
    "root_url=\"https://news.sbs.co.kr\""
   ]
  },
  {
   "cell_type": "code",
   "execution_count": 29,
   "metadata": {},
   "outputs": [],
   "source": [
    "url = root_url+news_link_list[0]"
   ]
  },
  {
   "cell_type": "code",
   "execution_count": 30,
   "metadata": {},
   "outputs": [],
   "source": [
    "res = requests.get(url,\n",
    "                   headers={'User-Agent':'Mozilla/5.0'})\n",
    "pagehtml = BeautifulSoup(res.text, \"html.parser\")"
   ]
  },
  {
   "cell_type": "code",
   "execution_count": 56,
   "metadata": {},
   "outputs": [],
   "source": [
    "pagetitle=pagehtml.find(\"h3\",attrs={'id': 'vmNewsTitle'}).text"
   ]
  },
  {
   "cell_type": "code",
   "execution_count": 57,
   "metadata": {
    "scrolled": false
   },
   "outputs": [],
   "source": [
    "pagecontent=pagehtml.find(\"div\",attrs={'class': 'text_area'}).text"
   ]
  },
  {
   "cell_type": "code",
   "execution_count": 63,
   "metadata": {},
   "outputs": [],
   "source": [
    "pagedate=pagehtml.find(\"span\",attrs={'class': 'date'}).span.text"
   ]
  },
  {
   "cell_type": "code",
   "execution_count": 64,
   "metadata": {},
   "outputs": [
    {
     "data": {
      "text/plain": [
       "\"여행엔 좋다지만…'엔저 현상' 속 숨겨진 위험성\""
      ]
     },
     "execution_count": 64,
     "metadata": {},
     "output_type": "execute_result"
    }
   ],
   "source": [
    "pagetitle"
   ]
  },
  {
   "cell_type": "code",
   "execution_count": 65,
   "metadata": {
    "scrolled": true
   },
   "outputs": [
    {
     "data": {
      "text/plain": [
       "'\\n  <앵커>\\n  \\n 요즘 달러 값이 계속 올라서 우리도 고민이 많은데, 옆 나라 일본은 상황이 더 어렵습니다. 일본 돈 엔화 가치가 32년 만에 가장 낮은 수준으로 떨어진 겁니다'"
      ]
     },
     "execution_count": 65,
     "metadata": {},
     "output_type": "execute_result"
    }
   ],
   "source": [
    "pagecontent[:100]"
   ]
  },
  {
   "cell_type": "code",
   "execution_count": 66,
   "metadata": {},
   "outputs": [
    {
     "data": {
      "text/plain": [
       "'2022.10.21 20:50'"
      ]
     },
     "execution_count": 66,
     "metadata": {},
     "output_type": "execute_result"
    }
   ],
   "source": [
    "pagedate"
   ]
  },
  {
   "cell_type": "code",
   "execution_count": 60,
   "metadata": {},
   "outputs": [],
   "source": [
    "import pandas as pd"
   ]
  },
  {
   "cell_type": "code",
   "execution_count": 77,
   "metadata": {},
   "outputs": [],
   "source": [
    "data=[[pagetitle,pagecontent,pagedate]]*3"
   ]
  },
  {
   "cell_type": "code",
   "execution_count": 78,
   "metadata": {},
   "outputs": [],
   "source": [
    "my_df = pd.DataFrame(data, columns=['title','content','date'])\n"
   ]
  },
  {
   "cell_type": "code",
   "execution_count": 79,
   "metadata": {},
   "outputs": [
    {
     "data": {
      "text/html": [
       "<div>\n",
       "<style scoped>\n",
       "    .dataframe tbody tr th:only-of-type {\n",
       "        vertical-align: middle;\n",
       "    }\n",
       "\n",
       "    .dataframe tbody tr th {\n",
       "        vertical-align: top;\n",
       "    }\n",
       "\n",
       "    .dataframe thead th {\n",
       "        text-align: right;\n",
       "    }\n",
       "</style>\n",
       "<table border=\"1\" class=\"dataframe\">\n",
       "  <thead>\n",
       "    <tr style=\"text-align: right;\">\n",
       "      <th></th>\n",
       "      <th>title</th>\n",
       "      <th>content</th>\n",
       "      <th>date</th>\n",
       "    </tr>\n",
       "  </thead>\n",
       "  <tbody>\n",
       "    <tr>\n",
       "      <th>0</th>\n",
       "      <td>여행엔 좋다지만…'엔저 현상' 속 숨겨진 위험성</td>\n",
       "      <td>\\n  &lt;앵커&gt;\\n  \\n 요즘 달러 값이 계속 올라서 우리도 고민이 많은데, 옆 ...</td>\n",
       "      <td>2022.10.21 20:50</td>\n",
       "    </tr>\n",
       "    <tr>\n",
       "      <th>1</th>\n",
       "      <td>여행엔 좋다지만…'엔저 현상' 속 숨겨진 위험성</td>\n",
       "      <td>\\n  &lt;앵커&gt;\\n  \\n 요즘 달러 값이 계속 올라서 우리도 고민이 많은데, 옆 ...</td>\n",
       "      <td>2022.10.21 20:50</td>\n",
       "    </tr>\n",
       "    <tr>\n",
       "      <th>2</th>\n",
       "      <td>여행엔 좋다지만…'엔저 현상' 속 숨겨진 위험성</td>\n",
       "      <td>\\n  &lt;앵커&gt;\\n  \\n 요즘 달러 값이 계속 올라서 우리도 고민이 많은데, 옆 ...</td>\n",
       "      <td>2022.10.21 20:50</td>\n",
       "    </tr>\n",
       "  </tbody>\n",
       "</table>\n",
       "</div>"
      ],
      "text/plain": [
       "                        title  \\\n",
       "0  여행엔 좋다지만…'엔저 현상' 속 숨겨진 위험성   \n",
       "1  여행엔 좋다지만…'엔저 현상' 속 숨겨진 위험성   \n",
       "2  여행엔 좋다지만…'엔저 현상' 속 숨겨진 위험성   \n",
       "\n",
       "                                             content              date  \n",
       "0  \\n  <앵커>\\n  \\n 요즘 달러 값이 계속 올라서 우리도 고민이 많은데, 옆 ...  2022.10.21 20:50  \n",
       "1  \\n  <앵커>\\n  \\n 요즘 달러 값이 계속 올라서 우리도 고민이 많은데, 옆 ...  2022.10.21 20:50  \n",
       "2  \\n  <앵커>\\n  \\n 요즘 달러 값이 계속 올라서 우리도 고민이 많은데, 옆 ...  2022.10.21 20:50  "
      ]
     },
     "execution_count": 79,
     "metadata": {},
     "output_type": "execute_result"
    }
   ],
   "source": [
    "my_df"
   ]
  },
  {
   "cell_type": "code",
   "execution_count": 86,
   "metadata": {},
   "outputs": [],
   "source": [
    "import time\n",
    "import random\n",
    "def link_to_df(link_list):\n",
    "    root_url=\"https://news.sbs.co.kr\"\n",
    "    data=[]\n",
    "    for link in link_list:\n",
    "        url = root_url+link\n",
    "        print(url, \"로 페이지 요청...\")\n",
    "        res = requests.get(url,\n",
    "                   headers={'User-Agent':'Mozilla/5.0'})\n",
    "        \n",
    "        pagehtml = BeautifulSoup(res.text, \"html.parser\")\n",
    "        \n",
    "        pagetitle=pagehtml.find(\"h3\",attrs={'id': 'vmNewsTitle'}).text\n",
    "        pagecontent=pagehtml.find(\"div\",attrs={'class': 'text_area'}).text\n",
    "        pagedate=pagehtml.find(\"span\",attrs={'class': 'date'}).span.text\n",
    "        \n",
    "        data.append([pagetitle,pagecontent,pagedate])\n",
    "        \n",
    "        time.sleep((random.random()*2.5)+1)\n",
    "        \n",
    "    return pd.DataFrame(data, columns=['title','content','date'])"
   ]
  },
  {
   "cell_type": "code",
   "execution_count": 87,
   "metadata": {},
   "outputs": [
    {
     "name": "stdout",
     "output_type": "stream",
     "text": [
      "https://news.sbs.co.kr/news/endPage.do?news_id=N1006941646 로 페이지 요청...\n",
      "https://news.sbs.co.kr/news/endPage.do?news_id=N1006941450 로 페이지 요청...\n",
      "https://news.sbs.co.kr/news/endPage.do?news_id=N1006941440 로 페이지 요청...\n",
      "https://news.sbs.co.kr/news/endPage.do?news_id=N1006941035 로 페이지 요청...\n",
      "https://news.sbs.co.kr/news/endPage.do?news_id=N1006941092 로 페이지 요청...\n",
      "https://news.sbs.co.kr/news/endPage.do?news_id=N1006941144 로 페이지 요청...\n",
      "https://news.sbs.co.kr/news/endPage.do?news_id=N1006941138 로 페이지 요청...\n",
      "https://news.sbs.co.kr/news/endPage.do?news_id=N1006940979 로 페이지 요청...\n",
      "https://news.sbs.co.kr/news/endPage.do?news_id=N1006940747 로 페이지 요청...\n",
      "https://news.sbs.co.kr/news/endPage.do?news_id=N1006940713 로 페이지 요청...\n"
     ]
    }
   ],
   "source": [
    "df=link_to_df(news_link_list)"
   ]
  },
  {
   "cell_type": "code",
   "execution_count": 92,
   "metadata": {
    "scrolled": true
   },
   "outputs": [
    {
     "data": {
      "text/html": [
       "<div>\n",
       "<style scoped>\n",
       "    .dataframe tbody tr th:only-of-type {\n",
       "        vertical-align: middle;\n",
       "    }\n",
       "\n",
       "    .dataframe tbody tr th {\n",
       "        vertical-align: top;\n",
       "    }\n",
       "\n",
       "    .dataframe thead th {\n",
       "        text-align: right;\n",
       "    }\n",
       "</style>\n",
       "<table border=\"1\" class=\"dataframe\">\n",
       "  <thead>\n",
       "    <tr style=\"text-align: right;\">\n",
       "      <th></th>\n",
       "      <th>title</th>\n",
       "      <th>content</th>\n",
       "      <th>date</th>\n",
       "    </tr>\n",
       "  </thead>\n",
       "  <tbody>\n",
       "    <tr>\n",
       "      <th>0</th>\n",
       "      <td>여행엔 좋다지만…'엔저 현상' 속 숨겨진 위험성</td>\n",
       "      <td>\\n  &lt;앵커&gt;\\n  \\n 요즘 달러 값이 계속 올라서 우리도 고민이 많은데, 옆 ...</td>\n",
       "      <td>2022.10.21 20:50</td>\n",
       "    </tr>\n",
       "    <tr>\n",
       "      <th>1</th>\n",
       "      <td>[오뉴스 출연] '은마' 재건축 첫발 (SBS 한지연 기자)</td>\n",
       "      <td>\\n  오늘(21일)의 이슈를 SBS 한지연 기자와 오뉴스에서 함께 자세하게 알아봅...</td>\n",
       "      <td>2022.10.21 17:28</td>\n",
       "    </tr>\n",
       "    <tr>\n",
       "      <th>2</th>\n",
       "      <td>SPC 회장 \"사고 책임 통감\"…사망사고 대국민 사과</td>\n",
       "      <td>\\n  &lt;앵커&gt;\\n  \\n SPC그룹이 계열사 제빵 공장에서 일어난 사망 사고와 관...</td>\n",
       "      <td>2022.10.21 17:12</td>\n",
       "    </tr>\n",
       "    <tr>\n",
       "      <th>3</th>\n",
       "      <td>삼성전자는 왜 TSMC에 반도체 '세계 1위' 내줬을까 (feat. 최리노) [뭘스...</td>\n",
       "      <td>\\n\\n\\n\\n\\n[골룸] 뭘스트리트 : 삼성전자는 왜 TSMC에 반도체 '세계 1...</td>\n",
       "      <td>2022.10.21 12:59</td>\n",
       "    </tr>\n",
       "    <tr>\n",
       "      <th>4</th>\n",
       "      <td>금감원, 루머 합동단속반 가동…'기업 위기설' 유포 잡는다</td>\n",
       "      <td>\\n[경제 365]\\n\\n 최근 일부 기업들이 자금 조달에 어려움을 겪고 있다는 등...</td>\n",
       "      <td>2022.10.21 12:33</td>\n",
       "    </tr>\n",
       "    <tr>\n",
       "      <th>5</th>\n",
       "      <td>SPC, 제빵공장 사고 대국민 사과…\"안전강화 1천억 원 투자\"</td>\n",
       "      <td>\\n  경기 평택 제빵공장에서 발생한 20대 노동자 사망사고와 관련해 허영인 SPC...</td>\n",
       "      <td>2022.10.21 12:28</td>\n",
       "    </tr>\n",
       "    <tr>\n",
       "      <th>6</th>\n",
       "      <td>원희룡 \"아파트값 50% 올랐다가 6% 하락…폭락 단정은 일러\"</td>\n",
       "      <td>\\n  원희룡 국토교통부 장관이 현재 부동산시장 상황에 대해, 폭락 국면으로 단정 ...</td>\n",
       "      <td>2022.10.21 12:25</td>\n",
       "    </tr>\n",
       "    <tr>\n",
       "      <th>7</th>\n",
       "      <td>SPC 회장 \"책임 통감 · 엄중 질책 수용\"…안전 강화 1천억 투자</td>\n",
       "      <td>\\n  허영인 SPC 회장이 오늘(21일) 계열사 평택 제빵공장 직원의 사망사고에 ...</td>\n",
       "      <td>2022.10.21 11:04</td>\n",
       "    </tr>\n",
       "    <tr>\n",
       "      <th>8</th>\n",
       "      <td>[친절한 경제] 전국 아파트값 0.28%↓…'깡통 전세' 걱정까지</td>\n",
       "      <td>\\n  &lt;앵커&gt;\\n  \\n 친절한 경제 시간입니다. 한지연 기자 나와 있습니다. 아...</td>\n",
       "      <td>2022.10.21 09:55</td>\n",
       "    </tr>\n",
       "    <tr>\n",
       "      <th>9</th>\n",
       "      <td>SPC, 오전 11시 제빵공장 사망 사고 대국민 사과</td>\n",
       "      <td>\\n  경기 평택 제빵공장에서 발생한 20대 노동자 사망 사고와 관련해 SPC그룹이...</td>\n",
       "      <td>2022.10.21 08:58</td>\n",
       "    </tr>\n",
       "  </tbody>\n",
       "</table>\n",
       "</div>"
      ],
      "text/plain": [
       "                                               title  \\\n",
       "0                         여행엔 좋다지만…'엔저 현상' 속 숨겨진 위험성   \n",
       "1                  [오뉴스 출연] '은마' 재건축 첫발 (SBS 한지연 기자)   \n",
       "2                      SPC 회장 \"사고 책임 통감\"…사망사고 대국민 사과   \n",
       "3  삼성전자는 왜 TSMC에 반도체 '세계 1위' 내줬을까 (feat. 최리노) [뭘스...   \n",
       "4                   금감원, 루머 합동단속반 가동…'기업 위기설' 유포 잡는다   \n",
       "5                SPC, 제빵공장 사고 대국민 사과…\"안전강화 1천억 원 투자\"   \n",
       "6                원희룡 \"아파트값 50% 올랐다가 6% 하락…폭락 단정은 일러\"   \n",
       "7             SPC 회장 \"책임 통감 · 엄중 질책 수용\"…안전 강화 1천억 투자   \n",
       "8               [친절한 경제] 전국 아파트값 0.28%↓…'깡통 전세' 걱정까지   \n",
       "9                      SPC, 오전 11시 제빵공장 사망 사고 대국민 사과   \n",
       "\n",
       "                                             content              date  \n",
       "0  \\n  <앵커>\\n  \\n 요즘 달러 값이 계속 올라서 우리도 고민이 많은데, 옆 ...  2022.10.21 20:50  \n",
       "1  \\n  오늘(21일)의 이슈를 SBS 한지연 기자와 오뉴스에서 함께 자세하게 알아봅...  2022.10.21 17:28  \n",
       "2  \\n  <앵커>\\n  \\n SPC그룹이 계열사 제빵 공장에서 일어난 사망 사고와 관...  2022.10.21 17:12  \n",
       "3  \\n\\n\\n\\n\\n[골룸] 뭘스트리트 : 삼성전자는 왜 TSMC에 반도체 '세계 1...  2022.10.21 12:59  \n",
       "4  \\n[경제 365]\\n\\n 최근 일부 기업들이 자금 조달에 어려움을 겪고 있다는 등...  2022.10.21 12:33  \n",
       "5  \\n  경기 평택 제빵공장에서 발생한 20대 노동자 사망사고와 관련해 허영인 SPC...  2022.10.21 12:28  \n",
       "6  \\n  원희룡 국토교통부 장관이 현재 부동산시장 상황에 대해, 폭락 국면으로 단정 ...  2022.10.21 12:25  \n",
       "7  \\n  허영인 SPC 회장이 오늘(21일) 계열사 평택 제빵공장 직원의 사망사고에 ...  2022.10.21 11:04  \n",
       "8  \\n  <앵커>\\n  \\n 친절한 경제 시간입니다. 한지연 기자 나와 있습니다. 아...  2022.10.21 09:55  \n",
       "9  \\n  경기 평택 제빵공장에서 발생한 20대 노동자 사망 사고와 관련해 SPC그룹이...  2022.10.21 08:58  "
      ]
     },
     "execution_count": 92,
     "metadata": {},
     "output_type": "execute_result"
    }
   ],
   "source": [
    "df"
   ]
  },
  {
   "cell_type": "code",
   "execution_count": 97,
   "metadata": {},
   "outputs": [],
   "source": [
    "def filesave(dataframe,name):\n",
    "    dataframe.to_csv(name,sep=\"\\t\", encoding=\"utf-8\",index=False)"
   ]
  },
  {
   "cell_type": "code",
   "execution_count": null,
   "metadata": {},
   "outputs": [],
   "source": [
    "def fileread(name)\n",
    "    return "
   ]
  },
  {
   "cell_type": "code",
   "execution_count": 98,
   "metadata": {},
   "outputs": [],
   "source": [
    "filesave(df,\"dfsavetest.csv\")"
   ]
  },
  {
   "cell_type": "code",
   "execution_count": 99,
   "metadata": {},
   "outputs": [],
   "source": [
    "df2=pd.read_csv(\"dfsavetest.csv\",sep=\"\\t\",encoding=\"utf-8\")"
   ]
  },
  {
   "cell_type": "code",
   "execution_count": 100,
   "metadata": {},
   "outputs": [
    {
     "data": {
      "text/html": [
       "<div>\n",
       "<style scoped>\n",
       "    .dataframe tbody tr th:only-of-type {\n",
       "        vertical-align: middle;\n",
       "    }\n",
       "\n",
       "    .dataframe tbody tr th {\n",
       "        vertical-align: top;\n",
       "    }\n",
       "\n",
       "    .dataframe thead th {\n",
       "        text-align: right;\n",
       "    }\n",
       "</style>\n",
       "<table border=\"1\" class=\"dataframe\">\n",
       "  <thead>\n",
       "    <tr style=\"text-align: right;\">\n",
       "      <th></th>\n",
       "      <th>title</th>\n",
       "      <th>content</th>\n",
       "      <th>date</th>\n",
       "    </tr>\n",
       "  </thead>\n",
       "  <tbody>\n",
       "    <tr>\n",
       "      <th>0</th>\n",
       "      <td>여행엔 좋다지만…'엔저 현상' 속 숨겨진 위험성</td>\n",
       "      <td>\\n  &lt;앵커&gt;\\n  \\n 요즘 달러 값이 계속 올라서 우리도 고민이 많은데, 옆 ...</td>\n",
       "      <td>2022.10.21 20:50</td>\n",
       "    </tr>\n",
       "    <tr>\n",
       "      <th>1</th>\n",
       "      <td>[오뉴스 출연] '은마' 재건축 첫발 (SBS 한지연 기자)</td>\n",
       "      <td>\\n  오늘(21일)의 이슈를 SBS 한지연 기자와 오뉴스에서 함께 자세하게 알아봅...</td>\n",
       "      <td>2022.10.21 17:28</td>\n",
       "    </tr>\n",
       "    <tr>\n",
       "      <th>2</th>\n",
       "      <td>SPC 회장 \"사고 책임 통감\"…사망사고 대국민 사과</td>\n",
       "      <td>\\n  &lt;앵커&gt;\\n  \\n SPC그룹이 계열사 제빵 공장에서 일어난 사망 사고와 관...</td>\n",
       "      <td>2022.10.21 17:12</td>\n",
       "    </tr>\n",
       "    <tr>\n",
       "      <th>3</th>\n",
       "      <td>삼성전자는 왜 TSMC에 반도체 '세계 1위' 내줬을까 (feat. 최리노) [뭘스...</td>\n",
       "      <td>\\n\\n\\n\\n\\n[골룸] 뭘스트리트 : 삼성전자는 왜 TSMC에 반도체 '세계 1...</td>\n",
       "      <td>2022.10.21 12:59</td>\n",
       "    </tr>\n",
       "    <tr>\n",
       "      <th>4</th>\n",
       "      <td>금감원, 루머 합동단속반 가동…'기업 위기설' 유포 잡는다</td>\n",
       "      <td>\\n[경제 365]\\n\\n 최근 일부 기업들이 자금 조달에 어려움을 겪고 있다는 등...</td>\n",
       "      <td>2022.10.21 12:33</td>\n",
       "    </tr>\n",
       "    <tr>\n",
       "      <th>5</th>\n",
       "      <td>SPC, 제빵공장 사고 대국민 사과…\"안전강화 1천억 원 투자\"</td>\n",
       "      <td>\\n  경기 평택 제빵공장에서 발생한 20대 노동자 사망사고와 관련해 허영인 SPC...</td>\n",
       "      <td>2022.10.21 12:28</td>\n",
       "    </tr>\n",
       "    <tr>\n",
       "      <th>6</th>\n",
       "      <td>원희룡 \"아파트값 50% 올랐다가 6% 하락…폭락 단정은 일러\"</td>\n",
       "      <td>\\n  원희룡 국토교통부 장관이 현재 부동산시장 상황에 대해, 폭락 국면으로 단정 ...</td>\n",
       "      <td>2022.10.21 12:25</td>\n",
       "    </tr>\n",
       "    <tr>\n",
       "      <th>7</th>\n",
       "      <td>SPC 회장 \"책임 통감 · 엄중 질책 수용\"…안전 강화 1천억 투자</td>\n",
       "      <td>\\n  허영인 SPC 회장이 오늘(21일) 계열사 평택 제빵공장 직원의 사망사고에 ...</td>\n",
       "      <td>2022.10.21 11:04</td>\n",
       "    </tr>\n",
       "    <tr>\n",
       "      <th>8</th>\n",
       "      <td>[친절한 경제] 전국 아파트값 0.28%↓…'깡통 전세' 걱정까지</td>\n",
       "      <td>\\n  &lt;앵커&gt;\\n  \\n 친절한 경제 시간입니다. 한지연 기자 나와 있습니다. 아...</td>\n",
       "      <td>2022.10.21 09:55</td>\n",
       "    </tr>\n",
       "    <tr>\n",
       "      <th>9</th>\n",
       "      <td>SPC, 오전 11시 제빵공장 사망 사고 대국민 사과</td>\n",
       "      <td>\\n  경기 평택 제빵공장에서 발생한 20대 노동자 사망 사고와 관련해 SPC그룹이...</td>\n",
       "      <td>2022.10.21 08:58</td>\n",
       "    </tr>\n",
       "  </tbody>\n",
       "</table>\n",
       "</div>"
      ],
      "text/plain": [
       "                                               title  \\\n",
       "0                         여행엔 좋다지만…'엔저 현상' 속 숨겨진 위험성   \n",
       "1                  [오뉴스 출연] '은마' 재건축 첫발 (SBS 한지연 기자)   \n",
       "2                      SPC 회장 \"사고 책임 통감\"…사망사고 대국민 사과   \n",
       "3  삼성전자는 왜 TSMC에 반도체 '세계 1위' 내줬을까 (feat. 최리노) [뭘스...   \n",
       "4                   금감원, 루머 합동단속반 가동…'기업 위기설' 유포 잡는다   \n",
       "5                SPC, 제빵공장 사고 대국민 사과…\"안전강화 1천억 원 투자\"   \n",
       "6                원희룡 \"아파트값 50% 올랐다가 6% 하락…폭락 단정은 일러\"   \n",
       "7             SPC 회장 \"책임 통감 · 엄중 질책 수용\"…안전 강화 1천억 투자   \n",
       "8               [친절한 경제] 전국 아파트값 0.28%↓…'깡통 전세' 걱정까지   \n",
       "9                      SPC, 오전 11시 제빵공장 사망 사고 대국민 사과   \n",
       "\n",
       "                                             content              date  \n",
       "0  \\n  <앵커>\\n  \\n 요즘 달러 값이 계속 올라서 우리도 고민이 많은데, 옆 ...  2022.10.21 20:50  \n",
       "1  \\n  오늘(21일)의 이슈를 SBS 한지연 기자와 오뉴스에서 함께 자세하게 알아봅...  2022.10.21 17:28  \n",
       "2  \\n  <앵커>\\n  \\n SPC그룹이 계열사 제빵 공장에서 일어난 사망 사고와 관...  2022.10.21 17:12  \n",
       "3  \\n\\n\\n\\n\\n[골룸] 뭘스트리트 : 삼성전자는 왜 TSMC에 반도체 '세계 1...  2022.10.21 12:59  \n",
       "4  \\n[경제 365]\\n\\n 최근 일부 기업들이 자금 조달에 어려움을 겪고 있다는 등...  2022.10.21 12:33  \n",
       "5  \\n  경기 평택 제빵공장에서 발생한 20대 노동자 사망사고와 관련해 허영인 SPC...  2022.10.21 12:28  \n",
       "6  \\n  원희룡 국토교통부 장관이 현재 부동산시장 상황에 대해, 폭락 국면으로 단정 ...  2022.10.21 12:25  \n",
       "7  \\n  허영인 SPC 회장이 오늘(21일) 계열사 평택 제빵공장 직원의 사망사고에 ...  2022.10.21 11:04  \n",
       "8  \\n  <앵커>\\n  \\n 친절한 경제 시간입니다. 한지연 기자 나와 있습니다. 아...  2022.10.21 09:55  \n",
       "9  \\n  경기 평택 제빵공장에서 발생한 20대 노동자 사망 사고와 관련해 SPC그룹이...  2022.10.21 08:58  "
      ]
     },
     "execution_count": 100,
     "metadata": {},
     "output_type": "execute_result"
    }
   ],
   "source": [
    "df2"
   ]
  },
  {
   "cell_type": "code",
   "execution_count": null,
   "metadata": {},
   "outputs": [],
   "source": []
  }
 ],
 "metadata": {
  "kernelspec": {
   "display_name": "Python 3",
   "language": "python",
   "name": "python3"
  },
  "language_info": {
   "codemirror_mode": {
    "name": "ipython",
    "version": 3
   },
   "file_extension": ".py",
   "mimetype": "text/x-python",
   "name": "python",
   "nbconvert_exporter": "python",
   "pygments_lexer": "ipython3",
   "version": "3.8.5"
  }
 },
 "nbformat": 4,
 "nbformat_minor": 4
}
