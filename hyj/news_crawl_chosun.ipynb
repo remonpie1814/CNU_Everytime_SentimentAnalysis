{
 "cells": [
  {
   "cell_type": "code",
   "execution_count": 1,
   "metadata": {},
   "outputs": [],
   "source": [
    "# https://www.chosun.com/culture-life/culture_general/?page=2 식\n",
    "\n",
    "section_dict={\"economy/economy_general\":\"경제\",\"politics/politics_general\":\"정치\",\"national/national_general\":\"사회\",\"international/international_general\":\"국제\",\"sports/sports_general\":\"스포츠\",\"entertainments/enter_general\":\"연예\",\"culture-life/culture_general\":\"문화\"}"
   ]
  },
  {
   "cell_type": "code",
   "execution_count": 4,
   "metadata": {},
   "outputs": [],
   "source": [
    "sections = list(section_dict.keys())"
   ]
  },
  {
   "cell_type": "code",
   "execution_count": 5,
   "metadata": {},
   "outputs": [
    {
     "data": {
      "text/plain": [
       "['economy/economy_general',\n",
       " 'politics/politics_general',\n",
       " 'national/national_general',\n",
       " 'international/international_general',\n",
       " 'sports/sports_general',\n",
       " 'entertainments/enter_general',\n",
       " 'culture-life/culture_general']"
      ]
     },
     "execution_count": 5,
     "metadata": {},
     "output_type": "execute_result"
    }
   ],
   "source": [
    "sections"
   ]
  },
  {
   "cell_type": "code",
   "execution_count": 80,
   "metadata": {},
   "outputs": [],
   "source": [
    "import requests\n",
    "from bs4 import BeautifulSoup\n",
    "import time\n",
    "import random\n",
    "import datetime\n",
    "import numpy as np\n",
    "import pandas as pd"
   ]
  },
  {
   "cell_type": "code",
   "execution_count": 81,
   "metadata": {},
   "outputs": [],
   "source": [
    "def filesave(dataframe,name):\n",
    "    dataframe.to_csv(name,sep=\"\\t\", encoding=\"utf-8\",index=False)\n",
    "def fileread(name):\n",
    "    return pd.read_csv(name,sep=\"\\t\",encoding=\"utf-8\")"
   ]
  },
  {
   "cell_type": "code",
   "execution_count": 130,
   "metadata": {},
   "outputs": [],
   "source": [
    "def chosun_make_link_list(section_name,pageidx):\n",
    "    url = \"https://www.chosun.com/{}/?page={}\".format(section_name,pageidx)\n",
    "    \n",
    "    driver.implicitly_wait(1)\n",
    "    driver.get(url)\n",
    "    html = driver.page_source\n",
    "    html = BeautifulSoup(html, 'html.parser')\n",
    "    news_list=html.findAll(\"a\",attrs={'class': 'text__link'})\n",
    "    news_link_list=[]\n",
    "    cnt=0\n",
    "    for i in news_list:\n",
    "        news_link_list.append(str(i.attrs['href']))\n",
    "        if cnt>=18:\n",
    "            break\n",
    "        cnt+=1\n",
    "    return news_link_list"
   ]
  },
  {
   "cell_type": "code",
   "execution_count": 131,
   "metadata": {},
   "outputs": [],
   "source": [
    "def chosun_select_section_auto(sectionlist,startpage,stoppage):\n",
    "    autolinklist=[]\n",
    "    for section in sectionlist:\n",
    "        for i in range(startpage,stoppage):\n",
    "            temp=chosun_make_link_list(section,i)\n",
    "            if not temp:\n",
    "                continue\n",
    "            autolinklist+=temp\n",
    "        time.sleep(abs((np.random.randn())*0.1))\n",
    "\n",
    "    return autolinklist"
   ]
  },
  {
   "cell_type": "code",
   "execution_count": 143,
   "metadata": {},
   "outputs": [],
   "source": [
    "def chosun_link_to_df(link_list):\n",
    "    root_url=\"https://www.chosun.com\"\n",
    "    data=[]\n",
    "    \n",
    "\n",
    "    for link in link_list:\n",
    "        url = root_url+link\n",
    "        driver.implicitly_wait(0.5)\n",
    "        driver.get(url)\n",
    "        html = driver.page_source\n",
    "\n",
    "        pagehtml = BeautifulSoup(html, 'html.parser')\n",
    "        \n",
    "        \n",
    "        \n",
    "        pagetitle=pagehtml.h1\n",
    "        pagecontent=pagehtml.find(\"section\",attrs={'class': 'article-body'})\n",
    "        pagedate=pagehtml.find(\"div\",attrs={'class': 'article-dateline'})\n",
    "        \n",
    "        temp=url.split(\".chosun.com/\")\n",
    "        temp=temp[-1].split(\"/2\")\n",
    "        pagesection = temp[0]\n",
    "        \n",
    "        if temp[0] in sections:\n",
    "            pagesection = section_dict[temp[0]]\n",
    "        \n",
    "        if pagetitle and pagecontent and pagedate and pagesection:\n",
    "            pagetitle=pagetitle.text\n",
    "            pagecontent=pagecontent.text\n",
    "            pagedate=pagedate.text.replace(\"입력\",\"\")\n",
    "            \n",
    "        data.append([pagetitle,pagecontent,pagedate,pagesection,url])\n",
    "        \n",
    "        time.sleep(abs((np.random.randn())*0.05))\n",
    "        \n",
    "    return pd.DataFrame(data, columns=['title','content','date','section','url'])"
   ]
  },
  {
   "cell_type": "code",
   "execution_count": 133,
   "metadata": {},
   "outputs": [],
   "source": [
    "#startdate를 읽어온 csv 파일에서 가장 최신 날짜로 자동으로 잡도록...하고 싶었지만 생각해보니 애초에 날짜 저장을 안 했다\n",
    "def auto_save(startpage,pages=3):\n",
    "    url_df = fileread(\"chosun_news_url.csv\")\n",
    "    c=chosun_select_section_auto(sections,startpage,startpage+pages)\n",
    "    url_df_temp = pd.DataFrame(c,columns=['news_url'])\n",
    "    url_df = pd.concat([url_df,url_df_temp])\n",
    "    filesave(url_df,\"chosun_news_url.csv\")\n",
    "    print(startpage+pages,\"까지 저장\")"
   ]
  },
  {
   "cell_type": "code",
   "execution_count": 103,
   "metadata": {},
   "outputs": [
    {
     "name": "stderr",
     "output_type": "stream",
     "text": [
      "<ipython-input-103-4957f6b60c99>:1: DeprecationWarning: executable_path has been deprecated, please pass in a Service object\n",
      "  driver = webdriver.Chrome('C:/Users/user/cnu_crawling/chromedriver_win32/chromedriver')\n"
     ]
    }
   ],
   "source": [
    "driver = webdriver.Chrome('C:/Users/user/cnu_crawling/chromedriver_win32/chromedriver')\n",
    "url_df=pd.DataFrame(columns=['news_url'])"
   ]
  },
  {
   "cell_type": "code",
   "execution_count": 104,
   "metadata": {},
   "outputs": [],
   "source": [
    "filesave(url_df,\"chosun_news_url.csv\")"
   ]
  },
  {
   "cell_type": "code",
   "execution_count": 107,
   "metadata": {
    "collapsed": true
   },
   "outputs": [
    {
     "name": "stdout",
     "output_type": "stream",
     "text": [
      "184 까지 저장\n",
      "187 까지 저장\n",
      "190 까지 저장\n",
      "193 까지 저장\n",
      "196 까지 저장\n",
      "199 까지 저장\n",
      "202 까지 저장\n",
      "205 까지 저장\n",
      "208 까지 저장\n"
     ]
    },
    {
     "ename": "KeyboardInterrupt",
     "evalue": "",
     "output_type": "error",
     "traceback": [
      "\u001b[1;31m---------------------------------------------------------------------------\u001b[0m",
      "\u001b[1;31mKeyboardInterrupt\u001b[0m                         Traceback (most recent call last)",
      "\u001b[1;32m<ipython-input-107-3276703c9dae>\u001b[0m in \u001b[0;36m<module>\u001b[1;34m\u001b[0m\n\u001b[0;32m      2\u001b[0m \u001b[1;33m\u001b[0m\u001b[0m\n\u001b[0;32m      3\u001b[0m \u001b[1;32mfor\u001b[0m \u001b[0mi\u001b[0m \u001b[1;32min\u001b[0m \u001b[0mrange\u001b[0m\u001b[1;33m(\u001b[0m\u001b[1;36m60\u001b[0m\u001b[1;33m)\u001b[0m\u001b[1;33m:\u001b[0m\u001b[1;33m\u001b[0m\u001b[1;33m\u001b[0m\u001b[0m\n\u001b[1;32m----> 4\u001b[1;33m     \u001b[0mauto_save\u001b[0m\u001b[1;33m(\u001b[0m\u001b[0mcount\u001b[0m\u001b[1;33m)\u001b[0m\u001b[1;33m\u001b[0m\u001b[1;33m\u001b[0m\u001b[0m\n\u001b[0m\u001b[0;32m      5\u001b[0m     \u001b[0mcount\u001b[0m\u001b[1;33m+=\u001b[0m\u001b[1;36m3\u001b[0m\u001b[1;33m\u001b[0m\u001b[1;33m\u001b[0m\u001b[0m\n",
      "\u001b[1;32m<ipython-input-102-359a1d9b51d4>\u001b[0m in \u001b[0;36mauto_save\u001b[1;34m(startpage, pages)\u001b[0m\n\u001b[0;32m      2\u001b[0m \u001b[1;32mdef\u001b[0m \u001b[0mauto_save\u001b[0m\u001b[1;33m(\u001b[0m\u001b[0mstartpage\u001b[0m\u001b[1;33m,\u001b[0m\u001b[0mpages\u001b[0m\u001b[1;33m=\u001b[0m\u001b[1;36m3\u001b[0m\u001b[1;33m)\u001b[0m\u001b[1;33m:\u001b[0m\u001b[1;33m\u001b[0m\u001b[1;33m\u001b[0m\u001b[0m\n\u001b[0;32m      3\u001b[0m     \u001b[0murl_df\u001b[0m \u001b[1;33m=\u001b[0m \u001b[0mfileread\u001b[0m\u001b[1;33m(\u001b[0m\u001b[1;34m\"chosun_news_url.csv\"\u001b[0m\u001b[1;33m)\u001b[0m\u001b[1;33m\u001b[0m\u001b[1;33m\u001b[0m\u001b[0m\n\u001b[1;32m----> 4\u001b[1;33m     \u001b[0mc\u001b[0m\u001b[1;33m=\u001b[0m\u001b[0mchosun_select_section_auto\u001b[0m\u001b[1;33m(\u001b[0m\u001b[0msections\u001b[0m\u001b[1;33m,\u001b[0m\u001b[0mstartpage\u001b[0m\u001b[1;33m,\u001b[0m\u001b[0mstartpage\u001b[0m\u001b[1;33m+\u001b[0m\u001b[0mpages\u001b[0m\u001b[1;33m)\u001b[0m\u001b[1;33m\u001b[0m\u001b[1;33m\u001b[0m\u001b[0m\n\u001b[0m\u001b[0;32m      5\u001b[0m     \u001b[0murl_df_temp\u001b[0m \u001b[1;33m=\u001b[0m \u001b[0mpd\u001b[0m\u001b[1;33m.\u001b[0m\u001b[0mDataFrame\u001b[0m\u001b[1;33m(\u001b[0m\u001b[0mc\u001b[0m\u001b[1;33m,\u001b[0m\u001b[0mcolumns\u001b[0m\u001b[1;33m=\u001b[0m\u001b[1;33m[\u001b[0m\u001b[1;34m'news_url'\u001b[0m\u001b[1;33m]\u001b[0m\u001b[1;33m)\u001b[0m\u001b[1;33m\u001b[0m\u001b[1;33m\u001b[0m\u001b[0m\n\u001b[0;32m      6\u001b[0m     \u001b[0murl_df\u001b[0m \u001b[1;33m=\u001b[0m \u001b[0mpd\u001b[0m\u001b[1;33m.\u001b[0m\u001b[0mconcat\u001b[0m\u001b[1;33m(\u001b[0m\u001b[1;33m[\u001b[0m\u001b[0murl_df\u001b[0m\u001b[1;33m,\u001b[0m\u001b[0murl_df_temp\u001b[0m\u001b[1;33m]\u001b[0m\u001b[1;33m)\u001b[0m\u001b[1;33m\u001b[0m\u001b[1;33m\u001b[0m\u001b[0m\n",
      "\u001b[1;32m<ipython-input-88-0f93c52390b2>\u001b[0m in \u001b[0;36mchosun_select_section_auto\u001b[1;34m(sectionlist, startpage, stoppage)\u001b[0m\n\u001b[0;32m      3\u001b[0m     \u001b[1;32mfor\u001b[0m \u001b[0msection\u001b[0m \u001b[1;32min\u001b[0m \u001b[0msectionlist\u001b[0m\u001b[1;33m:\u001b[0m\u001b[1;33m\u001b[0m\u001b[1;33m\u001b[0m\u001b[0m\n\u001b[0;32m      4\u001b[0m         \u001b[1;32mfor\u001b[0m \u001b[0mi\u001b[0m \u001b[1;32min\u001b[0m \u001b[0mrange\u001b[0m\u001b[1;33m(\u001b[0m\u001b[0mstartpage\u001b[0m\u001b[1;33m,\u001b[0m\u001b[0mstoppage\u001b[0m\u001b[1;33m)\u001b[0m\u001b[1;33m:\u001b[0m\u001b[1;33m\u001b[0m\u001b[1;33m\u001b[0m\u001b[0m\n\u001b[1;32m----> 5\u001b[1;33m             \u001b[0mtemp\u001b[0m\u001b[1;33m=\u001b[0m\u001b[0mchosun_make_link_list\u001b[0m\u001b[1;33m(\u001b[0m\u001b[0msection\u001b[0m\u001b[1;33m,\u001b[0m\u001b[0mi\u001b[0m\u001b[1;33m)\u001b[0m\u001b[1;33m\u001b[0m\u001b[1;33m\u001b[0m\u001b[0m\n\u001b[0m\u001b[0;32m      6\u001b[0m             \u001b[1;32mif\u001b[0m \u001b[1;32mnot\u001b[0m \u001b[0mtemp\u001b[0m\u001b[1;33m:\u001b[0m\u001b[1;33m\u001b[0m\u001b[1;33m\u001b[0m\u001b[0m\n\u001b[0;32m      7\u001b[0m                 \u001b[1;32mcontinue\u001b[0m\u001b[1;33m\u001b[0m\u001b[1;33m\u001b[0m\u001b[0m\n",
      "\u001b[1;32m<ipython-input-87-a6f13b9a9412>\u001b[0m in \u001b[0;36mchosun_make_link_list\u001b[1;34m(section_name, pageidx)\u001b[0m\n\u001b[0;32m      5\u001b[0m     \u001b[0mdriver\u001b[0m\u001b[1;33m.\u001b[0m\u001b[0mget\u001b[0m\u001b[1;33m(\u001b[0m\u001b[0murl\u001b[0m\u001b[1;33m)\u001b[0m\u001b[1;33m\u001b[0m\u001b[1;33m\u001b[0m\u001b[0m\n\u001b[0;32m      6\u001b[0m     \u001b[0mhtml\u001b[0m \u001b[1;33m=\u001b[0m \u001b[0mdriver\u001b[0m\u001b[1;33m.\u001b[0m\u001b[0mpage_source\u001b[0m\u001b[1;33m\u001b[0m\u001b[1;33m\u001b[0m\u001b[0m\n\u001b[1;32m----> 7\u001b[1;33m     \u001b[0mhtml\u001b[0m \u001b[1;33m=\u001b[0m \u001b[0mBeautifulSoup\u001b[0m\u001b[1;33m(\u001b[0m\u001b[0mhtml\u001b[0m\u001b[1;33m,\u001b[0m \u001b[1;34m'html.parser'\u001b[0m\u001b[1;33m)\u001b[0m\u001b[1;33m\u001b[0m\u001b[1;33m\u001b[0m\u001b[0m\n\u001b[0m\u001b[0;32m      8\u001b[0m     \u001b[0mnews_list\u001b[0m\u001b[1;33m=\u001b[0m\u001b[0mhtml\u001b[0m\u001b[1;33m.\u001b[0m\u001b[0mfindAll\u001b[0m\u001b[1;33m(\u001b[0m\u001b[1;34m\"a\"\u001b[0m\u001b[1;33m,\u001b[0m\u001b[0mattrs\u001b[0m\u001b[1;33m=\u001b[0m\u001b[1;33m{\u001b[0m\u001b[1;34m'class'\u001b[0m\u001b[1;33m:\u001b[0m \u001b[1;34m'text__link'\u001b[0m\u001b[1;33m}\u001b[0m\u001b[1;33m)\u001b[0m\u001b[1;33m\u001b[0m\u001b[1;33m\u001b[0m\u001b[0m\n\u001b[0;32m      9\u001b[0m     \u001b[0mnews_link_list\u001b[0m\u001b[1;33m=\u001b[0m\u001b[1;33m[\u001b[0m\u001b[1;33m]\u001b[0m\u001b[1;33m\u001b[0m\u001b[1;33m\u001b[0m\u001b[0m\n",
      "\u001b[1;32mC:\\Anaconda\\lib\\site-packages\\bs4\\__init__.py\u001b[0m in \u001b[0;36m__init__\u001b[1;34m(self, markup, features, builder, parse_only, from_encoding, exclude_encodings, element_classes, **kwargs)\u001b[0m\n\u001b[0;32m    346\u001b[0m             \u001b[0mself\u001b[0m\u001b[1;33m.\u001b[0m\u001b[0mreset\u001b[0m\u001b[1;33m(\u001b[0m\u001b[1;33m)\u001b[0m\u001b[1;33m\u001b[0m\u001b[1;33m\u001b[0m\u001b[0m\n\u001b[0;32m    347\u001b[0m             \u001b[1;32mtry\u001b[0m\u001b[1;33m:\u001b[0m\u001b[1;33m\u001b[0m\u001b[1;33m\u001b[0m\u001b[0m\n\u001b[1;32m--> 348\u001b[1;33m                 \u001b[0mself\u001b[0m\u001b[1;33m.\u001b[0m\u001b[0m_feed\u001b[0m\u001b[1;33m(\u001b[0m\u001b[1;33m)\u001b[0m\u001b[1;33m\u001b[0m\u001b[1;33m\u001b[0m\u001b[0m\n\u001b[0m\u001b[0;32m    349\u001b[0m                 \u001b[0msuccess\u001b[0m \u001b[1;33m=\u001b[0m \u001b[1;32mTrue\u001b[0m\u001b[1;33m\u001b[0m\u001b[1;33m\u001b[0m\u001b[0m\n\u001b[0;32m    350\u001b[0m                 \u001b[1;32mbreak\u001b[0m\u001b[1;33m\u001b[0m\u001b[1;33m\u001b[0m\u001b[0m\n",
      "\u001b[1;32mC:\\Anaconda\\lib\\site-packages\\bs4\\__init__.py\u001b[0m in \u001b[0;36m_feed\u001b[1;34m(self)\u001b[0m\n\u001b[0;32m    432\u001b[0m         \u001b[0mself\u001b[0m\u001b[1;33m.\u001b[0m\u001b[0mbuilder\u001b[0m\u001b[1;33m.\u001b[0m\u001b[0mreset\u001b[0m\u001b[1;33m(\u001b[0m\u001b[1;33m)\u001b[0m\u001b[1;33m\u001b[0m\u001b[1;33m\u001b[0m\u001b[0m\n\u001b[0;32m    433\u001b[0m \u001b[1;33m\u001b[0m\u001b[0m\n\u001b[1;32m--> 434\u001b[1;33m         \u001b[0mself\u001b[0m\u001b[1;33m.\u001b[0m\u001b[0mbuilder\u001b[0m\u001b[1;33m.\u001b[0m\u001b[0mfeed\u001b[0m\u001b[1;33m(\u001b[0m\u001b[0mself\u001b[0m\u001b[1;33m.\u001b[0m\u001b[0mmarkup\u001b[0m\u001b[1;33m)\u001b[0m\u001b[1;33m\u001b[0m\u001b[1;33m\u001b[0m\u001b[0m\n\u001b[0m\u001b[0;32m    435\u001b[0m         \u001b[1;31m# Close out any unfinished strings and close all the open tags.\u001b[0m\u001b[1;33m\u001b[0m\u001b[1;33m\u001b[0m\u001b[1;33m\u001b[0m\u001b[0m\n\u001b[0;32m    436\u001b[0m         \u001b[0mself\u001b[0m\u001b[1;33m.\u001b[0m\u001b[0mendData\u001b[0m\u001b[1;33m(\u001b[0m\u001b[1;33m)\u001b[0m\u001b[1;33m\u001b[0m\u001b[1;33m\u001b[0m\u001b[0m\n",
      "\u001b[1;32mC:\\Anaconda\\lib\\site-packages\\bs4\\builder\\_htmlparser.py\u001b[0m in \u001b[0;36mfeed\u001b[1;34m(self, markup)\u001b[0m\n\u001b[0;32m    375\u001b[0m         \u001b[0mparser\u001b[0m\u001b[1;33m.\u001b[0m\u001b[0msoup\u001b[0m \u001b[1;33m=\u001b[0m \u001b[0mself\u001b[0m\u001b[1;33m.\u001b[0m\u001b[0msoup\u001b[0m\u001b[1;33m\u001b[0m\u001b[1;33m\u001b[0m\u001b[0m\n\u001b[0;32m    376\u001b[0m         \u001b[1;32mtry\u001b[0m\u001b[1;33m:\u001b[0m\u001b[1;33m\u001b[0m\u001b[1;33m\u001b[0m\u001b[0m\n\u001b[1;32m--> 377\u001b[1;33m             \u001b[0mparser\u001b[0m\u001b[1;33m.\u001b[0m\u001b[0mfeed\u001b[0m\u001b[1;33m(\u001b[0m\u001b[0mmarkup\u001b[0m\u001b[1;33m)\u001b[0m\u001b[1;33m\u001b[0m\u001b[1;33m\u001b[0m\u001b[0m\n\u001b[0m\u001b[0;32m    378\u001b[0m             \u001b[0mparser\u001b[0m\u001b[1;33m.\u001b[0m\u001b[0mclose\u001b[0m\u001b[1;33m(\u001b[0m\u001b[1;33m)\u001b[0m\u001b[1;33m\u001b[0m\u001b[1;33m\u001b[0m\u001b[0m\n\u001b[0;32m    379\u001b[0m         \u001b[1;32mexcept\u001b[0m \u001b[0mHTMLParseError\u001b[0m \u001b[1;32mas\u001b[0m \u001b[0me\u001b[0m\u001b[1;33m:\u001b[0m\u001b[1;33m\u001b[0m\u001b[1;33m\u001b[0m\u001b[0m\n",
      "\u001b[1;32mC:\\Anaconda\\lib\\html\\parser.py\u001b[0m in \u001b[0;36mfeed\u001b[1;34m(self, data)\u001b[0m\n\u001b[0;32m    109\u001b[0m         \"\"\"\n\u001b[0;32m    110\u001b[0m         \u001b[0mself\u001b[0m\u001b[1;33m.\u001b[0m\u001b[0mrawdata\u001b[0m \u001b[1;33m=\u001b[0m \u001b[0mself\u001b[0m\u001b[1;33m.\u001b[0m\u001b[0mrawdata\u001b[0m \u001b[1;33m+\u001b[0m \u001b[0mdata\u001b[0m\u001b[1;33m\u001b[0m\u001b[1;33m\u001b[0m\u001b[0m\n\u001b[1;32m--> 111\u001b[1;33m         \u001b[0mself\u001b[0m\u001b[1;33m.\u001b[0m\u001b[0mgoahead\u001b[0m\u001b[1;33m(\u001b[0m\u001b[1;36m0\u001b[0m\u001b[1;33m)\u001b[0m\u001b[1;33m\u001b[0m\u001b[1;33m\u001b[0m\u001b[0m\n\u001b[0m\u001b[0;32m    112\u001b[0m \u001b[1;33m\u001b[0m\u001b[0m\n\u001b[0;32m    113\u001b[0m     \u001b[1;32mdef\u001b[0m \u001b[0mclose\u001b[0m\u001b[1;33m(\u001b[0m\u001b[0mself\u001b[0m\u001b[1;33m)\u001b[0m\u001b[1;33m:\u001b[0m\u001b[1;33m\u001b[0m\u001b[1;33m\u001b[0m\u001b[0m\n",
      "\u001b[1;32mC:\\Anaconda\\lib\\html\\parser.py\u001b[0m in \u001b[0;36mgoahead\u001b[1;34m(self, end)\u001b[0m\n\u001b[0;32m    169\u001b[0m             \u001b[1;32mif\u001b[0m \u001b[0mstartswith\u001b[0m\u001b[1;33m(\u001b[0m\u001b[1;34m'<'\u001b[0m\u001b[1;33m,\u001b[0m \u001b[0mi\u001b[0m\u001b[1;33m)\u001b[0m\u001b[1;33m:\u001b[0m\u001b[1;33m\u001b[0m\u001b[1;33m\u001b[0m\u001b[0m\n\u001b[0;32m    170\u001b[0m                 \u001b[1;32mif\u001b[0m \u001b[0mstarttagopen\u001b[0m\u001b[1;33m.\u001b[0m\u001b[0mmatch\u001b[0m\u001b[1;33m(\u001b[0m\u001b[0mrawdata\u001b[0m\u001b[1;33m,\u001b[0m \u001b[0mi\u001b[0m\u001b[1;33m)\u001b[0m\u001b[1;33m:\u001b[0m \u001b[1;31m# < + letter\u001b[0m\u001b[1;33m\u001b[0m\u001b[1;33m\u001b[0m\u001b[0m\n\u001b[1;32m--> 171\u001b[1;33m                     \u001b[0mk\u001b[0m \u001b[1;33m=\u001b[0m \u001b[0mself\u001b[0m\u001b[1;33m.\u001b[0m\u001b[0mparse_starttag\u001b[0m\u001b[1;33m(\u001b[0m\u001b[0mi\u001b[0m\u001b[1;33m)\u001b[0m\u001b[1;33m\u001b[0m\u001b[1;33m\u001b[0m\u001b[0m\n\u001b[0m\u001b[0;32m    172\u001b[0m                 \u001b[1;32melif\u001b[0m \u001b[0mstartswith\u001b[0m\u001b[1;33m(\u001b[0m\u001b[1;34m\"</\"\u001b[0m\u001b[1;33m,\u001b[0m \u001b[0mi\u001b[0m\u001b[1;33m)\u001b[0m\u001b[1;33m:\u001b[0m\u001b[1;33m\u001b[0m\u001b[1;33m\u001b[0m\u001b[0m\n\u001b[0;32m    173\u001b[0m                     \u001b[0mk\u001b[0m \u001b[1;33m=\u001b[0m \u001b[0mself\u001b[0m\u001b[1;33m.\u001b[0m\u001b[0mparse_endtag\u001b[0m\u001b[1;33m(\u001b[0m\u001b[0mi\u001b[0m\u001b[1;33m)\u001b[0m\u001b[1;33m\u001b[0m\u001b[1;33m\u001b[0m\u001b[0m\n",
      "\u001b[1;32mC:\\Anaconda\\lib\\html\\parser.py\u001b[0m in \u001b[0;36mparse_starttag\u001b[1;34m(self, i)\u001b[0m\n\u001b[0;32m    301\u001b[0m     \u001b[1;32mdef\u001b[0m \u001b[0mparse_starttag\u001b[0m\u001b[1;33m(\u001b[0m\u001b[0mself\u001b[0m\u001b[1;33m,\u001b[0m \u001b[0mi\u001b[0m\u001b[1;33m)\u001b[0m\u001b[1;33m:\u001b[0m\u001b[1;33m\u001b[0m\u001b[1;33m\u001b[0m\u001b[0m\n\u001b[0;32m    302\u001b[0m         \u001b[0mself\u001b[0m\u001b[1;33m.\u001b[0m\u001b[0m__starttag_text\u001b[0m \u001b[1;33m=\u001b[0m \u001b[1;32mNone\u001b[0m\u001b[1;33m\u001b[0m\u001b[1;33m\u001b[0m\u001b[0m\n\u001b[1;32m--> 303\u001b[1;33m         \u001b[0mendpos\u001b[0m \u001b[1;33m=\u001b[0m \u001b[0mself\u001b[0m\u001b[1;33m.\u001b[0m\u001b[0mcheck_for_whole_start_tag\u001b[0m\u001b[1;33m(\u001b[0m\u001b[0mi\u001b[0m\u001b[1;33m)\u001b[0m\u001b[1;33m\u001b[0m\u001b[1;33m\u001b[0m\u001b[0m\n\u001b[0m\u001b[0;32m    304\u001b[0m         \u001b[1;32mif\u001b[0m \u001b[0mendpos\u001b[0m \u001b[1;33m<\u001b[0m \u001b[1;36m0\u001b[0m\u001b[1;33m:\u001b[0m\u001b[1;33m\u001b[0m\u001b[1;33m\u001b[0m\u001b[0m\n\u001b[0;32m    305\u001b[0m             \u001b[1;32mreturn\u001b[0m \u001b[0mendpos\u001b[0m\u001b[1;33m\u001b[0m\u001b[1;33m\u001b[0m\u001b[0m\n",
      "\u001b[1;31mKeyboardInterrupt\u001b[0m: "
     ]
    }
   ],
   "source": [
    "count=181\n",
    "\n",
    "for i in range(60):\n",
    "    auto_save(count)\n",
    "    count+=3"
   ]
  },
  {
   "cell_type": "code",
   "execution_count": 108,
   "metadata": {},
   "outputs": [],
   "source": [
    "test=fileread(\"chosun_news_url.csv\")"
   ]
  },
  {
   "cell_type": "code",
   "execution_count": 109,
   "metadata": {
    "scrolled": false
   },
   "outputs": [
    {
     "data": {
      "text/html": [
       "<div>\n",
       "<style scoped>\n",
       "    .dataframe tbody tr th:only-of-type {\n",
       "        vertical-align: middle;\n",
       "    }\n",
       "\n",
       "    .dataframe tbody tr th {\n",
       "        vertical-align: top;\n",
       "    }\n",
       "\n",
       "    .dataframe thead th {\n",
       "        text-align: right;\n",
       "    }\n",
       "</style>\n",
       "<table border=\"1\" class=\"dataframe\">\n",
       "  <thead>\n",
       "    <tr style=\"text-align: right;\">\n",
       "      <th></th>\n",
       "      <th>news_url</th>\n",
       "    </tr>\n",
       "  </thead>\n",
       "  <tbody>\n",
       "    <tr>\n",
       "      <th>0</th>\n",
       "      <td>/economy/economy_general/2022/10/25/L6LM4QPAZF...</td>\n",
       "    </tr>\n",
       "    <tr>\n",
       "      <th>1</th>\n",
       "      <td>/economy/economy_general/2022/10/25/HH3S6YI6CN...</td>\n",
       "    </tr>\n",
       "    <tr>\n",
       "      <th>2</th>\n",
       "      <td>/economy/economy_general/2022/10/25/IIDTJWYION...</td>\n",
       "    </tr>\n",
       "    <tr>\n",
       "      <th>3</th>\n",
       "      <td>/economy/economy_general/2022/10/25/RREKVAFDBJ...</td>\n",
       "    </tr>\n",
       "    <tr>\n",
       "      <th>4</th>\n",
       "      <td>/economy/economy_general/2022/10/25/HGFE3YHQYZ...</td>\n",
       "    </tr>\n",
       "    <tr>\n",
       "      <th>...</th>\n",
       "      <td>...</td>\n",
       "    </tr>\n",
       "    <tr>\n",
       "      <th>24825</th>\n",
       "      <td>/culture-life/culture_general/2021/04/05/CSH6G...</td>\n",
       "    </tr>\n",
       "    <tr>\n",
       "      <th>24826</th>\n",
       "      <td>/culture-life/2021/04/05/PHANEHPXYVAQJOZUK5KBO...</td>\n",
       "    </tr>\n",
       "    <tr>\n",
       "      <th>24827</th>\n",
       "      <td>/culture-life/culture_general/2021/04/04/OC7Q4...</td>\n",
       "    </tr>\n",
       "    <tr>\n",
       "      <th>24828</th>\n",
       "      <td>/culture-life/2021/04/03/BFLHKQCUGNF7PKUQRBSU7...</td>\n",
       "    </tr>\n",
       "    <tr>\n",
       "      <th>24829</th>\n",
       "      <td>/culture-life/culture_general/2021/04/03/E4TOS...</td>\n",
       "    </tr>\n",
       "  </tbody>\n",
       "</table>\n",
       "<p>24830 rows × 1 columns</p>\n",
       "</div>"
      ],
      "text/plain": [
       "                                                news_url\n",
       "0      /economy/economy_general/2022/10/25/L6LM4QPAZF...\n",
       "1      /economy/economy_general/2022/10/25/HH3S6YI6CN...\n",
       "2      /economy/economy_general/2022/10/25/IIDTJWYION...\n",
       "3      /economy/economy_general/2022/10/25/RREKVAFDBJ...\n",
       "4      /economy/economy_general/2022/10/25/HGFE3YHQYZ...\n",
       "...                                                  ...\n",
       "24825  /culture-life/culture_general/2021/04/05/CSH6G...\n",
       "24826  /culture-life/2021/04/05/PHANEHPXYVAQJOZUK5KBO...\n",
       "24827  /culture-life/culture_general/2021/04/04/OC7Q4...\n",
       "24828  /culture-life/2021/04/03/BFLHKQCUGNF7PKUQRBSU7...\n",
       "24829  /culture-life/culture_general/2021/04/03/E4TOS...\n",
       "\n",
       "[24830 rows x 1 columns]"
      ]
     },
     "execution_count": 109,
     "metadata": {},
     "output_type": "execute_result"
    }
   ],
   "source": [
    "test"
   ]
  },
  {
   "cell_type": "code",
   "execution_count": 124,
   "metadata": {
    "scrolled": true
   },
   "outputs": [
    {
     "name": "stdout",
     "output_type": "stream",
     "text": [
      "length of for :  2484\n"
     ]
    }
   ],
   "source": [
    "test=fileread(\"chosun_news_url.csv\")\n",
    "splitedlist=[test[i*10:i*10+10] for i in range(0,(len(test)//10)+1)]\n",
    "print(\"length of for : \",len(splitedlist))"
   ]
  },
  {
   "cell_type": "code",
   "execution_count": 134,
   "metadata": {},
   "outputs": [],
   "source": [
    "chosun_df = fileread(\"chosun_dataframe.csv\")"
   ]
  },
  {
   "cell_type": "code",
   "execution_count": null,
   "metadata": {
    "scrolled": false
   },
   "outputs": [
    {
     "name": "stderr",
     "output_type": "stream",
     "text": [
      "<ipython-input-144-8d7ae6259a02>:1: DeprecationWarning: executable_path has been deprecated, please pass in a Service object\n",
      "  driver = webdriver.Chrome('C:/Users/user/cnu_crawling/chromedriver_win32/chromedriver')\n"
     ]
    }
   ],
   "source": [
    "driver = webdriver.Chrome('C:/Users/user/cnu_crawling/chromedriver_win32/chromedriver')\n",
    "count=36\n",
    "for _ in range(5):\n",
    "    try:\n",
    "        for linklist in splitedlist[count:]:\n",
    "            start = time.time()\n",
    "            print(\"start\")\n",
    "            chosun_df_temp = chosun_link_to_df(list(linklist['news_url']))\n",
    "            chosun_df = pd.concat([chosun_df,chosun_df_temp])\n",
    "            filesave(chosun_df,\"chosun_dataframe.csv\")\n",
    "            print(\"saved\")\n",
    "            count+=1\n",
    "\n",
    "            print(\"소요시간 :\", time.time() - start)\n",
    "            print(count*10,\"번째까지 저장\")\n",
    "\n",
    "            time.sleep((random.random()*0.2))\n",
    "    except:\n",
    "        print(count,\"에서 에러 발생\")\n",
    "        time.sleep(3)"
   ]
  },
  {
   "cell_type": "code",
   "execution_count": 142,
   "metadata": {},
   "outputs": [
    {
     "name": "stderr",
     "output_type": "stream",
     "text": [
      "<ipython-input-142-a60af6c08eb1>:1: DeprecationWarning: executable_path has been deprecated, please pass in a Service object\n",
      "  driver = webdriver.Chrome('C:/Users/user/cnu_crawling/chromedriver_win32/chromedriver')\n"
     ]
    },
    {
     "name": "stdout",
     "output_type": "stream",
     "text": [
      "start\n"
     ]
    },
    {
     "ename": "UnboundLocalError",
     "evalue": "local variable 'pagesection' referenced before assignment",
     "output_type": "error",
     "traceback": [
      "\u001b[1;31m---------------------------------------------------------------------------\u001b[0m",
      "\u001b[1;31mUnboundLocalError\u001b[0m                         Traceback (most recent call last)",
      "\u001b[1;32m<ipython-input-142-a60af6c08eb1>\u001b[0m in \u001b[0;36m<module>\u001b[1;34m\u001b[0m\n\u001b[0;32m      5\u001b[0m     \u001b[0mstart\u001b[0m \u001b[1;33m=\u001b[0m \u001b[0mtime\u001b[0m\u001b[1;33m.\u001b[0m\u001b[0mtime\u001b[0m\u001b[1;33m(\u001b[0m\u001b[1;33m)\u001b[0m\u001b[1;33m\u001b[0m\u001b[1;33m\u001b[0m\u001b[0m\n\u001b[0;32m      6\u001b[0m     \u001b[0mprint\u001b[0m\u001b[1;33m(\u001b[0m\u001b[1;34m\"start\"\u001b[0m\u001b[1;33m)\u001b[0m\u001b[1;33m\u001b[0m\u001b[1;33m\u001b[0m\u001b[0m\n\u001b[1;32m----> 7\u001b[1;33m     \u001b[0mchosun_df_temp\u001b[0m \u001b[1;33m=\u001b[0m \u001b[0mchosun_link_to_df\u001b[0m\u001b[1;33m(\u001b[0m\u001b[0mlist\u001b[0m\u001b[1;33m(\u001b[0m\u001b[0mlinklist\u001b[0m\u001b[1;33m[\u001b[0m\u001b[1;34m'news_url'\u001b[0m\u001b[1;33m]\u001b[0m\u001b[1;33m)\u001b[0m\u001b[1;33m)\u001b[0m\u001b[1;33m\u001b[0m\u001b[1;33m\u001b[0m\u001b[0m\n\u001b[0m\u001b[0;32m      8\u001b[0m     \u001b[0mchosun_df\u001b[0m \u001b[1;33m=\u001b[0m \u001b[0mpd\u001b[0m\u001b[1;33m.\u001b[0m\u001b[0mconcat\u001b[0m\u001b[1;33m(\u001b[0m\u001b[1;33m[\u001b[0m\u001b[0mchosun_df\u001b[0m\u001b[1;33m,\u001b[0m\u001b[0mchosun_df_temp\u001b[0m\u001b[1;33m]\u001b[0m\u001b[1;33m)\u001b[0m\u001b[1;33m\u001b[0m\u001b[1;33m\u001b[0m\u001b[0m\n\u001b[0;32m      9\u001b[0m     \u001b[0mfilesave\u001b[0m\u001b[1;33m(\u001b[0m\u001b[0mchosun_df\u001b[0m\u001b[1;33m,\u001b[0m\u001b[1;34m\"chosun_dataframe.csv\"\u001b[0m\u001b[1;33m)\u001b[0m\u001b[1;33m\u001b[0m\u001b[1;33m\u001b[0m\u001b[0m\n",
      "\u001b[1;32m<ipython-input-132-454cdc644e2a>\u001b[0m in \u001b[0;36mchosun_link_to_df\u001b[1;34m(link_list)\u001b[0m\n\u001b[0;32m     23\u001b[0m             \u001b[0mpagesection\u001b[0m \u001b[1;33m=\u001b[0m \u001b[0msection_dict\u001b[0m\u001b[1;33m[\u001b[0m\u001b[0mtemp\u001b[0m\u001b[1;33m[\u001b[0m\u001b[1;36m0\u001b[0m\u001b[1;33m]\u001b[0m\u001b[1;33m]\u001b[0m\u001b[1;33m\u001b[0m\u001b[1;33m\u001b[0m\u001b[0m\n\u001b[0;32m     24\u001b[0m \u001b[1;33m\u001b[0m\u001b[0m\n\u001b[1;32m---> 25\u001b[1;33m         \u001b[1;32mif\u001b[0m \u001b[0mpagetitle\u001b[0m \u001b[1;32mand\u001b[0m \u001b[0mpagecontent\u001b[0m \u001b[1;32mand\u001b[0m \u001b[0mpagedate\u001b[0m \u001b[1;32mand\u001b[0m \u001b[0mpagesection\u001b[0m\u001b[1;33m:\u001b[0m\u001b[1;33m\u001b[0m\u001b[1;33m\u001b[0m\u001b[0m\n\u001b[0m\u001b[0;32m     26\u001b[0m             \u001b[0mpagetitle\u001b[0m\u001b[1;33m=\u001b[0m\u001b[0mpagetitle\u001b[0m\u001b[1;33m.\u001b[0m\u001b[0mtext\u001b[0m\u001b[1;33m\u001b[0m\u001b[1;33m\u001b[0m\u001b[0m\n\u001b[0;32m     27\u001b[0m             \u001b[0mpagecontent\u001b[0m\u001b[1;33m=\u001b[0m\u001b[0mpagecontent\u001b[0m\u001b[1;33m.\u001b[0m\u001b[0mtext\u001b[0m\u001b[1;33m\u001b[0m\u001b[1;33m\u001b[0m\u001b[0m\n",
      "\u001b[1;31mUnboundLocalError\u001b[0m: local variable 'pagesection' referenced before assignment"
     ]
    }
   ],
   "source": [
    "driver = webdriver.Chrome('C:/Users/user/cnu_crawling/chromedriver_win32/chromedriver')\n",
    "count=36\n",
    "\n",
    "for linklist in splitedlist[count:]:\n",
    "    start = time.time()\n",
    "    print(\"start\")\n",
    "    chosun_df_temp = chosun_link_to_df(list(linklist['news_url']))\n",
    "    chosun_df = pd.concat([chosun_df,chosun_df_temp])\n",
    "    filesave(chosun_df,\"chosun_dataframe.csv\")\n",
    "    print(\"saved\")\n",
    "    count+=1\n",
    "\n",
    "    print(\"소요시간 :\", time.time() - start)\n",
    "    print(count*10,\"번째까지 저장\")\n",
    "\n",
    "    time.sleep((random.random()*0.2))"
   ]
  },
  {
   "cell_type": "code",
   "execution_count": 135,
   "metadata": {
    "scrolled": false
   },
   "outputs": [
    {
     "data": {
      "text/html": [
       "<div>\n",
       "<style scoped>\n",
       "    .dataframe tbody tr th:only-of-type {\n",
       "        vertical-align: middle;\n",
       "    }\n",
       "\n",
       "    .dataframe tbody tr th {\n",
       "        vertical-align: top;\n",
       "    }\n",
       "\n",
       "    .dataframe thead th {\n",
       "        text-align: right;\n",
       "    }\n",
       "</style>\n",
       "<table border=\"1\" class=\"dataframe\">\n",
       "  <thead>\n",
       "    <tr style=\"text-align: right;\">\n",
       "      <th></th>\n",
       "      <th>title</th>\n",
       "      <th>content</th>\n",
       "      <th>date</th>\n",
       "      <th>section</th>\n",
       "      <th>url</th>\n",
       "    </tr>\n",
       "  </thead>\n",
       "  <tbody>\n",
       "    <tr>\n",
       "      <th>0</th>\n",
       "      <td>신한금융, 3분기 순익 1.6조… 역대 최대 실적</td>\n",
       "      <td>조용병 신한금융지주 회장이 고객 중심 경영을 강조하고 있다.신한금융이 올해 3분기(...</td>\n",
       "      <td>2022.10.25 13:52</td>\n",
       "      <td>경제</td>\n",
       "      <td>https://www.chosun.com/economy/economy_general...</td>\n",
       "    </tr>\n",
       "    <tr>\n",
       "      <th>1</th>\n",
       "      <td>자금시장 경색에… 한은 ‘베이비스텝’ 전망 나와</td>\n",
       "      <td>‘레고랜드 사태’가 뇌관이 된 자금 시장 경색이 쉽게 풀릴 기미를 보이지 않으면서 ...</td>\n",
       "      <td>2022.10.25 04:16</td>\n",
       "      <td>경제</td>\n",
       "      <td>https://www.chosun.com/economy/economy_general...</td>\n",
       "    </tr>\n",
       "    <tr>\n",
       "      <th>2</th>\n",
       "      <td>일본은행 두번째 복면개입?  엔·달러 환율 149엔대에서 갑자기 4엔 하락</td>\n",
       "      <td>지난 20일 스즈키 슌이치 일본 재무상이 취재진과 만나는 모습. /로이터 연합뉴스달...</td>\n",
       "      <td>2022.10.25 03:00</td>\n",
       "      <td>경제</td>\n",
       "      <td>https://www.chosun.com/economy/economy_general...</td>\n",
       "    </tr>\n",
       "    <tr>\n",
       "      <th>3</th>\n",
       "      <td>매달 10만원씩 6년 부었는데 이자 12만원? 낮아도 너무 낮은 금리에 ‘저축보험’...</td>\n",
       "      <td>은행 수신금리가 나날이 오르자 오래 전 저축보험을 가입했다가 중도해지에 나서는 사람...</td>\n",
       "      <td>2022.10.25 03:00</td>\n",
       "      <td>경제</td>\n",
       "      <td>https://www.chosun.com/economy/economy_general...</td>\n",
       "    </tr>\n",
       "    <tr>\n",
       "      <th>4</th>\n",
       "      <td>작년 종부세 수정 요구 1481건, 1년새 80% 폭증… 절반이 받아들여졌다</td>\n",
       "      <td>지난해 납세자들이 종합부동산세(종부세)를 과도하게 냈다며 수정을 요구한 경정 청구가...</td>\n",
       "      <td>2022.10.25 03:00</td>\n",
       "      <td>경제</td>\n",
       "      <td>https://www.chosun.com/economy/economy_general...</td>\n",
       "    </tr>\n",
       "    <tr>\n",
       "      <th>...</th>\n",
       "      <td>...</td>\n",
       "      <td>...</td>\n",
       "      <td>...</td>\n",
       "      <td>...</td>\n",
       "      <td>...</td>\n",
       "    </tr>\n",
       "    <tr>\n",
       "      <th>75</th>\n",
       "      <td>환노위 “제빵공장 잇단 사고...정말 참담한 심정”</td>\n",
       "      <td>강동석 SPL 대표이사가 24일 국회에서 열린 환경노동위원회 고용노동부 등에 관한 ...</td>\n",
       "      <td>2022.10.24 22:14</td>\n",
       "      <td>정치</td>\n",
       "      <td>https://www.chosun.com/politics/politics_gener...</td>\n",
       "    </tr>\n",
       "    <tr>\n",
       "      <th>76</th>\n",
       "      <td>10대부터 50대 노병까지... 6·25 참전 美영웅들 책 나온다</td>\n",
       "      <td>6·25전쟁에 참전한 미국 영웅들의 이야기가 책으로 나온다. 1953년 6월 백병전...</td>\n",
       "      <td>2022.10.24 20:20</td>\n",
       "      <td>정치</td>\n",
       "      <td>https://www.chosun.com/politics/politics_gener...</td>\n",
       "    </tr>\n",
       "    <tr>\n",
       "      <th>77</th>\n",
       "      <td>“눈물에 약한 국민 심성 악용”...이재명 눈물에 과거 발언 소환</td>\n",
       "      <td>이재명 더불어민주당 대표가 검찰이 민주연구원을 압수수색한 24일 오전 민주당 중앙당...</td>\n",
       "      <td>2022.10.24 17:17</td>\n",
       "      <td>정치</td>\n",
       "      <td>https://www.chosun.com/politics/politics_gener...</td>\n",
       "    </tr>\n",
       "    <tr>\n",
       "      <th>78</th>\n",
       "      <td>김의겸 “尹과 청담동 술집 갔죠?”… 한동훈 “다 걸고 안 갔다, 의원님 뭐 걸겠냐”</td>\n",
       "      <td>한동훈 법무부 장관이 국정감사장에서 김의겸 더불어민주당 의원의 의혹 제기에 강한 분...</td>\n",
       "      <td>2022.10.24 17:09</td>\n",
       "      <td>정치</td>\n",
       "      <td>https://www.chosun.com/politics/politics_gener...</td>\n",
       "    </tr>\n",
       "    <tr>\n",
       "      <th>79</th>\n",
       "      <td>권성동 “이재명 존재 자체가 민주주의의 퇴행”</td>\n",
       "      <td>권성동 국민의힘 의원. /뉴스1권성동 국민의힘 의원은 24일 이재명 더불어민주당 대...</td>\n",
       "      <td>2022.10.24 16:38</td>\n",
       "      <td>정치</td>\n",
       "      <td>https://www.chosun.com/politics/politics_gener...</td>\n",
       "    </tr>\n",
       "  </tbody>\n",
       "</table>\n",
       "<p>80 rows × 5 columns</p>\n",
       "</div>"
      ],
      "text/plain": [
       "                                                title  \\\n",
       "0                         신한금융, 3분기 순익 1.6조… 역대 최대 실적   \n",
       "1                          자금시장 경색에… 한은 ‘베이비스텝’ 전망 나와   \n",
       "2           일본은행 두번째 복면개입?  엔·달러 환율 149엔대에서 갑자기 4엔 하락   \n",
       "3   매달 10만원씩 6년 부었는데 이자 12만원? 낮아도 너무 낮은 금리에 ‘저축보험’...   \n",
       "4          작년 종부세 수정 요구 1481건, 1년새 80% 폭증… 절반이 받아들여졌다   \n",
       "..                                                ...   \n",
       "75                       환노위 “제빵공장 잇단 사고...정말 참담한 심정”   \n",
       "76               10대부터 50대 노병까지... 6·25 참전 美영웅들 책 나온다   \n",
       "77               “눈물에 약한 국민 심성 악용”...이재명 눈물에 과거 발언 소환   \n",
       "78    김의겸 “尹과 청담동 술집 갔죠?”… 한동훈 “다 걸고 안 갔다, 의원님 뭐 걸겠냐”   \n",
       "79                          권성동 “이재명 존재 자체가 민주주의의 퇴행”   \n",
       "\n",
       "                                              content               date  \\\n",
       "0   조용병 신한금융지주 회장이 고객 중심 경영을 강조하고 있다.신한금융이 올해 3분기(...   2022.10.25 13:52   \n",
       "1   ‘레고랜드 사태’가 뇌관이 된 자금 시장 경색이 쉽게 풀릴 기미를 보이지 않으면서 ...   2022.10.25 04:16   \n",
       "2   지난 20일 스즈키 슌이치 일본 재무상이 취재진과 만나는 모습. /로이터 연합뉴스달...   2022.10.25 03:00   \n",
       "3   은행 수신금리가 나날이 오르자 오래 전 저축보험을 가입했다가 중도해지에 나서는 사람...   2022.10.25 03:00   \n",
       "4   지난해 납세자들이 종합부동산세(종부세)를 과도하게 냈다며 수정을 요구한 경정 청구가...   2022.10.25 03:00   \n",
       "..                                                ...                ...   \n",
       "75  강동석 SPL 대표이사가 24일 국회에서 열린 환경노동위원회 고용노동부 등에 관한 ...   2022.10.24 22:14   \n",
       "76  6·25전쟁에 참전한 미국 영웅들의 이야기가 책으로 나온다. 1953년 6월 백병전...   2022.10.24 20:20   \n",
       "77  이재명 더불어민주당 대표가 검찰이 민주연구원을 압수수색한 24일 오전 민주당 중앙당...   2022.10.24 17:17   \n",
       "78  한동훈 법무부 장관이 국정감사장에서 김의겸 더불어민주당 의원의 의혹 제기에 강한 분...   2022.10.24 17:09   \n",
       "79  권성동 국민의힘 의원. /뉴스1권성동 국민의힘 의원은 24일 이재명 더불어민주당 대...   2022.10.24 16:38   \n",
       "\n",
       "   section                                                url  \n",
       "0       경제  https://www.chosun.com/economy/economy_general...  \n",
       "1       경제  https://www.chosun.com/economy/economy_general...  \n",
       "2       경제  https://www.chosun.com/economy/economy_general...  \n",
       "3       경제  https://www.chosun.com/economy/economy_general...  \n",
       "4       경제  https://www.chosun.com/economy/economy_general...  \n",
       "..     ...                                                ...  \n",
       "75      정치  https://www.chosun.com/politics/politics_gener...  \n",
       "76      정치  https://www.chosun.com/politics/politics_gener...  \n",
       "77      정치  https://www.chosun.com/politics/politics_gener...  \n",
       "78      정치  https://www.chosun.com/politics/politics_gener...  \n",
       "79      정치  https://www.chosun.com/politics/politics_gener...  \n",
       "\n",
       "[80 rows x 5 columns]"
      ]
     },
     "execution_count": 135,
     "metadata": {},
     "output_type": "execute_result"
    }
   ],
   "source": [
    "chosun_df"
   ]
  },
  {
   "cell_type": "code",
   "execution_count": null,
   "metadata": {},
   "outputs": [],
   "source": []
  }
 ],
 "metadata": {
  "kernelspec": {
   "display_name": "Python 3",
   "language": "python",
   "name": "python3"
  },
  "language_info": {
   "codemirror_mode": {
    "name": "ipython",
    "version": 3
   },
   "file_extension": ".py",
   "mimetype": "text/x-python",
   "name": "python",
   "nbconvert_exporter": "python",
   "pygments_lexer": "ipython3",
   "version": "3.8.5"
  }
 },
 "nbformat": 4,
 "nbformat_minor": 4
}
